{
 "cells": [
  {
   "cell_type": "markdown",
   "metadata": {},
   "source": [
    "# Dictionary"
   ]
  },
  {
   "cell_type": "markdown",
   "metadata": {},
   "source": [
    "Dictionary in python is an unordered collection of data values, used to store data values like a map, which unlike other data types that holds single value as an element, dictionary holds key:value pair.\n",
    "- key will be single element\n",
    "- values can be a list or list within a list, number etc."
   ]
  },
  {
   "cell_type": "markdown",
   "metadata": {},
   "source": [
    "**Properties of dictionary key**\n",
    "- More than one entry per key is not allowed (no duplicate)\n",
    "- The value in dict can be of any type while the keys must be immutable like numbers, tuples aur strings.\n",
    "- Dict keys are case sensative - same key name but with the different case trated as different keys."
   ]
  },
  {
   "cell_type": "code",
   "execution_count": null,
   "metadata": {},
   "outputs": [],
   "source": [
    "empty_dict = {}\n",
    "print(type(empty_dict))\n",
    "\n",
    "dict1 = {1: 'net', 2: 'set', 3: 'os'} #dict of integers\n",
    "print(dict1)\n",
    "\n",
    "dict2 = {'name' : 'Rahul', 1 : [1,2,3,4]} #dict mixed values\n",
    "print(dict2)\n",
    "\n",
    "dict3 = dict([(1,'python'), (2, 'java')]) #dict list of tuples\n",
    "print(dict3)"
   ]
  },
  {
   "cell_type": "markdown",
   "metadata": {},
   "source": [
    "# update, delete and copy()"
   ]
  },
  {
   "cell_type": "code",
   "execution_count": null,
   "metadata": {},
   "outputs": [],
   "source": [
    "a = {1:'Jan', 2:'Feb', 3:'Mar',4:'Apr',5:'May'}\n",
    "b = a.copy()\n",
    "#print(b)\n",
    "\n",
    "dict1 = {'Name': 'Rahul', 'class':5, 'Roll No': 11}\n",
    "dict1['Name'] = 'Rohit' #update\n",
    "#print(dict1)\n",
    "\n",
    "dict1['Address'] = 'Rishra' #add new key\n",
    "#print(dict1)\n",
    "\n",
    "del dict1['Address'] #del method\n",
    "c = dict1.pop('Roll No') #pop method returns the value\n",
    "d = dict1.popitem() # random delete\n",
    "dict1.clear() #clear method\n",
    "del dict1 #empty dict\n",
    "print(c)"
   ]
  },
  {
   "cell_type": "markdown",
   "metadata": {},
   "source": [
    "- **fromkeys() method**\n",
    "dict.fromkeys(iterable,values)"
   ]
  },
  {
   "cell_type": "code",
   "execution_count": null,
   "metadata": {},
   "outputs": [],
   "source": [
    "list1 = [10,20,30,40,50]\n",
    "dict1 = {}.fromkeys(list1) #list is iterable\n",
    "print(dict1)\n",
    "\n",
    "inte = 4\n",
    "dict2 = {}.fromkeys(inte,0) #integer is not iterable\n",
    "#print(dict2)\n",
    "\n",
    "\n",
    "tup1 = (4,3)\n",
    "dict4 = {}.fromkeys(tup1,0) # tuple is iterable\n",
    "print(dict4)\n",
    "\n",
    "dict7 = (1:'name',2:'age')\n",
    "dict8 = {}.fromkeys(dict7,0) # dict is iterable\n",
    "print(dict8)\n",
    "\n",
    "a = range(0,5)\n",
    "dict9 = {}.fromkeys(a,0) #range itself iterable\n",
    "print(dict9)\n",
    "\n",
    "list5 = [1,2,3,4,[5,6,7]]\n",
    "dict10 = {}.fromkeys(list5,0) #throw error because nested list is mutable inside key\n",
    "\n",
    "tup2 = [1,2,3,(5,6,7)]\n",
    "dict63 = {}.fromkeys(tup2) # run successfully because tuple is immutable inside key\n",
    "print(dict63)\n",
    "\n"
   ]
  },
  {
   "cell_type": "markdown",
   "metadata": {},
   "source": [
    "- **setdefault() method** - dict.setdefault(key,value)"
   ]
  },
  {
   "cell_type": "code",
   "execution_count": null,
   "metadata": {},
   "outputs": [],
   "source": [
    "dict1 = {'a':1,'b':2,'c':3}\n",
    "print(dict1.setdefault('d',4))\n",
    "print(dict1)"
   ]
  },
  {
   "cell_type": "markdown",
   "metadata": {},
   "source": [
    "- len,items(),keys(),values() ,Membership Operator,Method"
   ]
  },
  {
   "cell_type": "code",
   "execution_count": null,
   "metadata": {},
   "outputs": [],
   "source": [
    "dict1 = {'a':1,'b':2,'c':3}\n",
    "print(len(dict1)) #len of dictionary\n",
    "print( 'a' in dict1) #membership operation only for keys not for values\n",
    "print(dict1.items()) # printing all elements inside the dict\n",
    "print(dict1.keys()) # for printing keys only\n",
    "print(dict1.values()) #for printing values only\n",
    "for i in dict1.items(): #iteration inside the dict\n",
    "    print(i)"
   ]
  },
  {
   "cell_type": "markdown",
   "metadata": {},
   "source": [
    "- dict.update(dictionary/iterable object)"
   ]
  },
  {
   "cell_type": "code",
   "execution_count": 29,
   "metadata": {},
   "outputs": [
    {
     "name": "stdout",
     "output_type": "stream",
     "text": [
      "{1: 'one', 2: 'two', 3: 'three', 4: 'four'}\n",
      "{1: 'one', 2: 'two', 3: 'three', 4: 'four', 5: 'five'}\n",
      "{'a': 'four', 'b': 'two', 'c': 'three', 'e': 'five'}\n"
     ]
    }
   ],
   "source": [
    "d1 = {1:'one',2:'two',3:'three'}\n",
    "l1 = [4,'four']\n",
    "d1.update([l1]) #update list\n",
    "print(d1)\n",
    "\n",
    "d2 = {1:'one',2:'two',3:'three'}\n",
    "t2 = ((4,'four'),(5,'five')) #update in tuple\n",
    "d2.update(t2)\n",
    "print(d2)\n",
    "\n",
    "d10 = {'a':'one','b':'two','c':'three'}\n",
    "d10.update(a='four',e='five') #update in different method\n",
    "print(d10)"
   ]
  }
 ],
 "metadata": {
  "kernelspec": {
   "display_name": "Python 3",
   "language": "python",
   "name": "python3"
  },
  "language_info": {
   "codemirror_mode": {
    "name": "ipython",
    "version": 3
   },
   "file_extension": ".py",
   "mimetype": "text/x-python",
   "name": "python",
   "nbconvert_exporter": "python",
   "pygments_lexer": "ipython3",
   "version": "3.11.3"
  }
 },
 "nbformat": 4,
 "nbformat_minor": 2
}
