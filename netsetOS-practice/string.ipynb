{
 "cells": [
  {
   "cell_type": "markdown",
   "metadata": {},
   "source": [
    "# STRING BUILT-IN METHODS"
   ]
  },
  {
   "cell_type": "markdown",
   "metadata": {},
   "source": [
    "**string.strip(characters)**\n",
    "by defualt, whitespace\n"
   ]
  },
  {
   "cell_type": "code",
   "execution_count": 2,
   "metadata": {},
   "outputs": [
    {
     "name": "stdout",
     "output_type": "stream",
     "text": [
      "pencil\n",
      "pencil\n"
     ]
    }
   ],
   "source": [
    "str1 = '  pencil  '\n",
    "x = str1.strip()\n",
    "print(x)\n",
    "\n",
    "str2 = ',,,rrttgg....pencil....rrrr'\n",
    "x1 = str2.strip(',.grt') #lstrip(),#rstrip()\n",
    "print(x1)"
   ]
  },
  {
   "cell_type": "code",
   "execution_count": 4,
   "metadata": {},
   "outputs": [
    {
     "name": "stdout",
     "output_type": "stream",
     "text": [
      "rahul\n",
      "DADADA\n"
     ]
    }
   ],
   "source": [
    "#lower\n",
    "low='RAhuL'.lower()\n",
    "up = 'dadada'.upper()\n",
    "print(low)\n",
    "print(up)"
   ]
  }
 ],
 "metadata": {
  "kernelspec": {
   "display_name": "Python 3",
   "language": "python",
   "name": "python3"
  },
  "language_info": {
   "codemirror_mode": {
    "name": "ipython",
    "version": 3
   },
   "file_extension": ".py",
   "mimetype": "text/x-python",
   "name": "python",
   "nbconvert_exporter": "python",
   "pygments_lexer": "ipython3",
   "version": "3.11.3"
  }
 },
 "nbformat": 4,
 "nbformat_minor": 2
}
