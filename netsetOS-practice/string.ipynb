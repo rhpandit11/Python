{
 "cells": [
  {
   "cell_type": "markdown",
   "metadata": {},
   "source": [
    "Armstrong"
   ]
  },
  {
   "cell_type": "code",
   "execution_count": null,
   "metadata": {},
   "outputs": [],
   "source": [
    "num = int(input('Enter a number'))\n",
    "x = num\n",
    "n = len(str(num))\n",
    "sum = 0\n",
    "while(num>0):\n",
    "    r=num%10\n",
    "    sum = sum+r**n\n",
    "    num=num//10\n",
    "if (x==sum):\n",
    "    print('Armstrong Number')\n",
    "else:\n",
    "    print('Not a Armstrong')"
   ]
  },
  {
   "cell_type": "markdown",
   "metadata": {},
   "source": [
    "swaping using third variable"
   ]
  },
  {
   "cell_type": "code",
   "execution_count": null,
   "metadata": {},
   "outputs": [],
   "source": [
    "a = int(input('Enter a number: '))\n",
    "b = int(input('Enter a number'))\n",
    "c = a\n",
    "a=b\n",
    "b=c\n",
    "print('value of a after swaping is',a)\n",
    "print('value of a after swaping is',b)"
   ]
  },
  {
   "cell_type": "markdown",
   "metadata": {},
   "source": [
    "swaping without using third variable"
   ]
  },
  {
   "cell_type": "code",
   "execution_count": null,
   "metadata": {},
   "outputs": [],
   "source": [
    "a = int(input('Enter a number: '))\n",
    "b = int(input('Enter a number'))\n",
    "a = a+b\n",
    "b = a-b\n",
    "a = a-b\n",
    "print('value of a after swaping is',a)\n",
    "print('value of a after swaping is',b)"
   ]
  },
  {
   "cell_type": "markdown",
   "metadata": {},
   "source": [
    "factorial using builtin function"
   ]
  },
  {
   "cell_type": "code",
   "execution_count": null,
   "metadata": {},
   "outputs": [],
   "source": [
    "import math\n",
    "n = int(input('enter a number: '))\n",
    "fact  = math.factorial(n)\n",
    "print('Factorial of', n, 'is:',fact)"
   ]
  },
  {
   "cell_type": "markdown",
   "metadata": {},
   "source": [
    "factorial using iterative(for loop)"
   ]
  },
  {
   "cell_type": "code",
   "execution_count": null,
   "metadata": {},
   "outputs": [],
   "source": [
    "num = int(input('Enter a number: '))\n",
    "fact = 1\n",
    "for i in range(num,0,-1):\n",
    "    fact = fact*i\n",
    "print('Factorial of', num, 'is',fact)"
   ]
  },
  {
   "cell_type": "markdown",
   "metadata": {},
   "source": [
    "Factorial using Recursion (Recursion work top to bottom and left to right)"
   ]
  },
  {
   "cell_type": "code",
   "execution_count": null,
   "metadata": {},
   "outputs": [],
   "source": [
    "def fact(num):\n",
    "    if num ==0:\n",
    "        return 1\n",
    "    else:\n",
    "        return num*fact(num-1)\n",
    "\n",
    "num = 5\n",
    "value = fact(num)\n",
    "print('The factorial of',num,'is',value)"
   ]
  },
  {
   "cell_type": "markdown",
   "metadata": {},
   "source": [
    "Printing Stars '*' in Square Shape"
   ]
  },
  {
   "cell_type": "code",
   "execution_count": null,
   "metadata": {},
   "outputs": [],
   "source": [
    "for row in range(1,6): #for row\n",
    "    print() #for second line\n",
    "    for col in range(1,6): #for column\n",
    "        print('*',end='') #print star in same line"
   ]
  },
  {
   "cell_type": "markdown",
   "metadata": {},
   "source": [
    "Printing Stars '*' in Triangle Shape (Here column dependent on row)"
   ]
  },
  {
   "cell_type": "code",
   "execution_count": null,
   "metadata": {},
   "outputs": [],
   "source": [
    "num = int(input('Enter a number: '))\n",
    "for row in range(1,num+1): #for row\n",
    "    print() #for second line\n",
    "    for col in range(1,row+1): #for column that dependent on row\n",
    "        print('*',end='') #print star in same line"
   ]
  },
  {
   "cell_type": "markdown",
   "metadata": {},
   "source": [
    "Printing Stars '*' in Inverted Triangle Shape"
   ]
  },
  {
   "cell_type": "code",
   "execution_count": null,
   "metadata": {},
   "outputs": [],
   "source": [
    "num = int(input('Enter a number: '))\n",
    "for row in range(num,0,-1): #for row\n",
    "    print() #for second line\n",
    "    for col in range(1,row+1): #for column that dependent on row\n",
    "        print('*',end='') #print star in same line"
   ]
  },
  {
   "cell_type": "markdown",
   "metadata": {},
   "source": [
    "Printing Stars '*' in Right angled Triangle Shape"
   ]
  },
  {
   "cell_type": "code",
   "execution_count": null,
   "metadata": {},
   "outputs": [],
   "source": [
    "num = int(input('Enter a number: '))\n",
    "for row in range(1,num+1,2): #for row\n",
    "    print() #for second line\n",
    "    for col in range(1,row+1): #for column that dependent on row\n",
    "        print('*',end='') #print star in same line"
   ]
  },
  {
   "cell_type": "markdown",
   "metadata": {},
   "source": [
    "Printing Stars '*' in Pyramid"
   ]
  },
  {
   "cell_type": "code",
   "execution_count": null,
   "metadata": {},
   "outputs": [],
   "source": [
    "num = int(input('Enter a number: '))\n",
    "for row in range(1,num+1): #for row\n",
    "     #for second line\n",
    "    for col in range(1,num-row+1):\n",
    "        print(end=' ')\n",
    "    for col in range(1,row+1): #for column that dependent on row\n",
    "        print('*',end='') #print star in same line\n",
    "    print()"
   ]
  }
 ],
 "metadata": {
  "kernelspec": {
   "display_name": "Python 3",
   "language": "python",
   "name": "python3"
  },
  "language_info": {
   "codemirror_mode": {
    "name": "ipython",
    "version": 3
   },
   "file_extension": ".py",
   "mimetype": "text/x-python",
   "name": "python",
   "nbconvert_exporter": "python",
   "pygments_lexer": "ipython3",
   "version": "3.11.3"
  }
 },
 "nbformat": 4,
 "nbformat_minor": 2
}
