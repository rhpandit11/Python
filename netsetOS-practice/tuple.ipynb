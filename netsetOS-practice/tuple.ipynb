{
 "cells": [
  {
   "cell_type": "markdown",
   "metadata": {},
   "source": [
    "# Tuple\n",
    "- Immutable\n",
    "- Not Dynamic\n",
    "- Fast\n",
    "- No Functions are applied"
   ]
  },
  {
   "cell_type": "code",
   "execution_count": 1,
   "metadata": {},
   "outputs": [
    {
     "name": "stdout",
     "output_type": "stream",
     "text": [
      "<class 'int'>\n",
      "<class 'tuple'>\n"
     ]
    }
   ],
   "source": [
    "emptytuple = ()\n",
    "tup1 = (10)\n",
    "print(type(tup1))\n",
    "tup2 = 10,\n",
    "print(type(tup2))\n",
    "tup3 = (10,20,30,40) #tuple of integers\n",
    "tup4 = ('sdad','dada','dadda') #tuple of strings\n",
    "tup5 = (10,78.9,'dada') #tuple of mixed values\n",
    "tup6 = (10,(20.5,30),[44,50]) #tuple of list integers,tuples-nested tuples\n"
   ]
  },
  {
   "cell_type": "markdown",
   "metadata": {},
   "source": [
    "# Indexing\n",
    "Tuples uses indexing to extract values\n",
    "> zerobased indexing\n"
   ]
  },
  {
   "cell_type": "code",
   "execution_count": 2,
   "metadata": {},
   "outputs": [
    {
     "name": "stdout",
     "output_type": "stream",
     "text": [
      "10\n",
      "40\n",
      "3\n",
      "40\n",
      "<class 'str'>\n"
     ]
    }
   ],
   "source": [
    "x = (10,20,[40,50,60])\n",
    "print(x[0])\n",
    "print(x[2][0])\n",
    "print(len(x))\n",
    "\n",
    "y = (10,40.9,['cloud','python'],(60,40))\n",
    "print(y[-1][1]) #tuple support forward and backward indexing\n",
    "print(type(y[-2][1]))"
   ]
  },
  {
   "cell_type": "markdown",
   "metadata": {},
   "source": [
    "SLICING"
   ]
  },
  {
   "cell_type": "code",
   "execution_count": 3,
   "metadata": {},
   "outputs": [
    {
     "name": "stdout",
     "output_type": "stream",
     "text": [
      "(10, 40.9, ['cloud', 'python'])\n",
      "(10, 40.9)\n",
      "(40.9, ['cloud', 'python'])\n",
      "(10, ['cloud', 'python'])\n"
     ]
    }
   ],
   "source": [
    "y = (10,40.9,['cloud','python'],(60,40))\n",
    "print(y[:3])\n",
    "print(y[:-2]) #(10, 40.9)\n",
    "print(y[1:3])\n",
    "print(y[::2])"
   ]
  },
  {
   "cell_type": "markdown",
   "metadata": {},
   "source": [
    "- concatination"
   ]
  },
  {
   "cell_type": "code",
   "execution_count": 4,
   "metadata": {},
   "outputs": [
    {
     "name": "stdout",
     "output_type": "stream",
     "text": [
      "('Rahul', 'Vaidya', 'sujata', 'Puja')\n",
      "reenareenareenareena\n"
     ]
    }
   ],
   "source": [
    "tup = ('Rahul','Vaidya')+('sujata','Puja') #concatination\n",
    "print(tup)\n",
    "tup1 = (('reena')*4)\n",
    "print(tup1)"
   ]
  },
  {
   "cell_type": "markdown",
   "metadata": {},
   "source": [
    "- frequency of elements"
   ]
  },
  {
   "cell_type": "code",
   "execution_count": 5,
   "metadata": {},
   "outputs": [
    {
     "name": "stdout",
     "output_type": "stream",
     "text": [
      "2\n"
     ]
    }
   ],
   "source": [
    "tup2 = (1,2,3,4,5,6,8,5,1,2,3,)\n",
    "print(tup2.count(1))"
   ]
  },
  {
   "cell_type": "markdown",
   "metadata": {},
   "source": [
    "- gives the firstmost index of element"
   ]
  },
  {
   "cell_type": "code",
   "execution_count": 6,
   "metadata": {},
   "outputs": [
    {
     "name": "stdout",
     "output_type": "stream",
     "text": [
      "2\n"
     ]
    }
   ],
   "source": [
    "tup3 = (1,2,3,4,5,6,8,5,1,2,3,)\n",
    "print(tup3.index(3))"
   ]
  },
  {
   "cell_type": "markdown",
   "metadata": {},
   "source": [
    "- membership checks the element"
   ]
  },
  {
   "cell_type": "code",
   "execution_count": 7,
   "metadata": {},
   "outputs": [
    {
     "name": "stdout",
     "output_type": "stream",
     "text": [
      "True\n"
     ]
    }
   ],
   "source": [
    "tup3 = (1,2,3,4,5,6,8,5,1,2,3,)\n",
    "print(1 in tup3)"
   ]
  },
  {
   "cell_type": "markdown",
   "metadata": {},
   "source": [
    "- sorted"
   ]
  },
  {
   "cell_type": "code",
   "execution_count": 8,
   "metadata": {},
   "outputs": [
    {
     "name": "stdout",
     "output_type": "stream",
     "text": [
      "[10, 40, 60, 70, 90, 190]\n",
      "190\n",
      "10\n",
      "460\n"
     ]
    }
   ],
   "source": [
    "tup3 = (40,60,10,90,190,70)\n",
    "a = sorted(tup3)\n",
    "print(a)\n",
    "print(max(tup3))\n",
    "print(min(tup3))\n",
    "print(sum(tup3))"
   ]
  }
 ],
 "metadata": {
  "kernelspec": {
   "display_name": "Python 3",
   "language": "python",
   "name": "python3"
  },
  "language_info": {
   "codemirror_mode": {
    "name": "ipython",
    "version": 3
   },
   "file_extension": ".py",
   "mimetype": "text/x-python",
   "name": "python",
   "nbconvert_exporter": "python",
   "pygments_lexer": "ipython3",
   "version": "3.11.3"
  }
 },
 "nbformat": 4,
 "nbformat_minor": 2
}
