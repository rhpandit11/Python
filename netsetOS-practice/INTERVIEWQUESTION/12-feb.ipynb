{
 "cells": [
  {
   "cell_type": "markdown",
   "metadata": {},
   "source": [
    "Remove Duplicates from Sorted Array (With Algorithm & Python Code)\n"
   ]
  },
  {
   "cell_type": "code",
   "execution_count": 2,
   "metadata": {},
   "outputs": [
    {
     "name": "stdout",
     "output_type": "stream",
     "text": [
      "[1, 2, 3, 4, 5]\n"
     ]
    }
   ],
   "source": [
    "def remove_duplicates_space(arr):\n",
    "    n = len(arr)\n",
    "    if (n==0 or n == 1):\n",
    "        return arr\n",
    "    temp = [0]*n\n",
    "    piviot = 0\n",
    "    for last_o in range(0,n-1):\n",
    "        if (arr[last_o]!=arr[last_o+1]):\n",
    "            temp[piviot] = arr[last_o]\n",
    "            piviot += 1\n",
    "    temp[piviot] = arr[n-1]\n",
    "    return temp[0:piviot+1]\n",
    "arr = [1,1,2,2,2,3,4,4,4,4,5,5]\n",
    "print(remove_duplicates_space(arr))"
   ]
  },
  {
   "cell_type": "code",
   "execution_count": 3,
   "metadata": {},
   "outputs": [
    {
     "name": "stdout",
     "output_type": "stream",
     "text": [
      "[1, 2, 3, 4, 5]\n"
     ]
    }
   ],
   "source": [
    "def remove_duplicates_space(arr):\n",
    "    n = len(arr)\n",
    "    if (n==0 or n == 1):\n",
    "        return arr\n",
    "    piviot = 0\n",
    "    for last_o in range(0,n-1):\n",
    "        if (arr[last_o]!=arr[last_o+1]):\n",
    "            arr[piviot] = arr[last_o]\n",
    "            piviot += 1\n",
    "    arr[piviot] = arr[n-1]\n",
    "    return arr[0:piviot+1]\n",
    "arr = [1,1,2,2,2,3,4,4,4,4,5,5]\n",
    "print(remove_duplicates_space(arr))"
   ]
  }
 ],
 "metadata": {
  "kernelspec": {
   "display_name": "Python 3",
   "language": "python",
   "name": "python3"
  },
  "language_info": {
   "codemirror_mode": {
    "name": "ipython",
    "version": 3
   },
   "file_extension": ".py",
   "mimetype": "text/x-python",
   "name": "python",
   "nbconvert_exporter": "python",
   "pygments_lexer": "ipython3",
   "version": "3.11.3"
  }
 },
 "nbformat": 4,
 "nbformat_minor": 2
}
