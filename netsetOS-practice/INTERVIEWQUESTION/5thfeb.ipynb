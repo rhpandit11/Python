{
 "cells": [
  {
   "cell_type": "markdown",
   "metadata": {},
   "source": [
    "**Find out common letters between two strings Using Python**"
   ]
  },
  {
   "cell_type": "code",
   "execution_count": 1,
   "metadata": {},
   "outputs": [
    {
     "name": "stdout",
     "output_type": "stream",
     "text": [
      "{'e', 'n', 'a'}\n"
     ]
    }
   ],
   "source": [
    "def common_letter():\n",
    "    str1 = input('Enter first string: ')\n",
    "    str2 = input('Enter second string: ')\n",
    "    s1 = set(str1)\n",
    "    s2 = set(str2)\n",
    "    lst = s1 & s2\n",
    "    print(lst)\n",
    "common_letter()"
   ]
  },
  {
   "cell_type": "markdown",
   "metadata": {},
   "source": [
    "**Count the frequency of words appearing in a string Using Python**<br>\n",
    "Sheena loves eating apple and mango. Her sister also loves eating apple and mango."
   ]
  },
  {
   "cell_type": "code",
   "execution_count": 4,
   "metadata": {},
   "outputs": [
    {
     "name": "stdout",
     "output_type": "stream",
     "text": [
      "{'Sheena': 1, 'loves': 2, 'eating': 2, 'apple': 2, 'and': 2, 'mango.': 2, 'Her': 1, 'sister': 1, 'also': 1}\n"
     ]
    }
   ],
   "source": [
    "def freq_words():\n",
    "    str = input('Enter first string: ')\n",
    "    li=str.split()\n",
    "    d = {}\n",
    "\n",
    "    for i in li:\n",
    "        if i not in d.keys():\n",
    "            d[i]=0\n",
    "        d[i] = d[i]+1\n",
    "    print(d)\n",
    "freq_words()"
   ]
  },
  {
   "cell_type": "markdown",
   "metadata": {},
   "source": [
    "**Conversion of two list into Dictionary Using Python**"
   ]
  },
  {
   "cell_type": "code",
   "execution_count": 8,
   "metadata": {},
   "outputs": [
    {
     "name": "stdout",
     "output_type": "stream",
     "text": [
      "{1: 'One', 2: 'Two', 3: 'Three'}\n",
      "(1, 'one')\n",
      "(2, 'two')\n",
      "(3, 'three')\n"
     ]
    }
   ],
   "source": [
    "def list_to_dict():\n",
    "    keys = [1,2,3]\n",
    "    values = ['One','Two','Three']\n",
    "    result = dict(zip(keys,values))\n",
    "    print(result)\n",
    "list_to_dict()\n",
    "\n",
    "def dict_to_tuple():\n",
    "    x={1:'one',2:'two',3:'three'}\n",
    "    for i in x.items():\n",
    "        print(i)\n",
    "dict_to_tuple()"
   ]
  },
  {
   "cell_type": "markdown",
   "metadata": {},
   "source": [
    "**FIND MISSING NUMBER IN AN ARRAY IN PYTHON**"
   ]
  },
  {
   "cell_type": "markdown",
   "metadata": {},
   "source": []
  }
 ],
 "metadata": {
  "kernelspec": {
   "display_name": "Python 3",
   "language": "python",
   "name": "python3"
  },
  "language_info": {
   "codemirror_mode": {
    "name": "ipython",
    "version": 3
   },
   "file_extension": ".py",
   "mimetype": "text/x-python",
   "name": "python",
   "nbconvert_exporter": "python",
   "pygments_lexer": "ipython3",
   "version": "3.11.3"
  }
 },
 "nbformat": 4,
 "nbformat_minor": 2
}
