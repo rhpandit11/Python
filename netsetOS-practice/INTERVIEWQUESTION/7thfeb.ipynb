{
 "cells": [
  {
   "cell_type": "markdown",
   "metadata": {},
   "source": [
    "**Find minimum difference between two elements of Binary Tree**"
   ]
  },
  {
   "cell_type": "markdown",
   "metadata": {},
   "source": [
    "* first hum array ko sort karenge\n",
    "* len of array nikalenege\n",
    "* min_diff denge\n",
    "* inside for loop hum range size-1 lenge jisse ki loop jo hai array ke last element ke pahle tak hi chale\n",
    "* fir hum condition check krenge ki arr ke dusra element se agr hum phle ko minus karte hai toh kya wo min diff se chota hai ki nahi\n",
    "* agra chota hai toh min diff ke andar wo value insert kar denge"
   ]
  },
  {
   "cell_type": "code",
   "execution_count": 1,
   "metadata": {},
   "outputs": [
    {
     "name": "stdout",
     "output_type": "stream",
     "text": [
      "1\n"
     ]
    }
   ],
   "source": [
    "def minimum_diff_ele(arr):\n",
    "    arr = sorted(arr)\n",
    "    size = len(arr)\n",
    "    min_diff = 9999*9999\n",
    "\n",
    "    for i in range(size-1):\n",
    "        if (arr[i+1]-arr[i] < min_diff):\n",
    "            min_diff = arr[i+1]-arr[i]\n",
    "    return min_diff\n",
    "\n",
    "arr = [5,32,45,4,12,18,25]\n",
    "print(minimum_diff_ele(arr)) "
   ]
  },
  {
   "cell_type": "markdown",
   "metadata": {},
   "source": [
    "**Maximum Difference of Binary Tree**"
   ]
  },
  {
   "cell_type": "code",
   "execution_count": 2,
   "metadata": {},
   "outputs": [
    {
     "name": "stdout",
     "output_type": "stream",
     "text": [
      "13\n"
     ]
    }
   ],
   "source": [
    "def minimum_diff_ele(arr):\n",
    "    arr = sorted(arr)\n",
    "    size = len(arr)\n",
    "    min_diff = -9999*9999\n",
    "\n",
    "    for i in range(size-1):\n",
    "        if (arr[i+1]-arr[i] > min_diff):\n",
    "            min_diff = arr[i+1]-arr[i]\n",
    "    return min_diff\n",
    "\n",
    "arr = [5,32,45,4,12,18,25]\n",
    "print(minimum_diff_ele(arr)) "
   ]
  },
  {
   "cell_type": "markdown",
   "metadata": {},
   "source": [
    "**Evaluate Postfix Expression using Stack**"
   ]
  },
  {
   "cell_type": "code",
   "execution_count": 4,
   "metadata": {},
   "outputs": [
    {
     "name": "stdout",
     "output_type": "stream",
     "text": [
      "9\n"
     ]
    }
   ],
   "source": [
    "def eval_expression(arr):\n",
    "    stack = []\n",
    "    operator = ['+','-','*','/','%']\n",
    "\n",
    "    for item in arr:\n",
    "        if item not in operator:\n",
    "            stack.append((item))\n",
    "        else:\n",
    "            first = int(stack.pop())\n",
    "            second = int(stack.pop())\n",
    "\n",
    "            if(item == '+'):\n",
    "                stack.append(second + first)\n",
    "            if(item == '-'):\n",
    "                stack.append(second - first)\n",
    "            if(item == '*'):\n",
    "                stack.append(second * first)\n",
    "            if(item == '/'):\n",
    "                stack.append(second / first)\n",
    "            if(item == '%'):\n",
    "                stack.append(second % first)\n",
    "    return stack[-1]\n",
    "\n",
    "A = ['2', '1', '+', '3', '*']\n",
    "print(eval_expression(A))\n"
   ]
  }
 ],
 "metadata": {
  "kernelspec": {
   "display_name": "Python 3",
   "language": "python",
   "name": "python3"
  },
  "language_info": {
   "codemirror_mode": {
    "name": "ipython",
    "version": 3
   },
   "file_extension": ".py",
   "mimetype": "text/x-python",
   "name": "python",
   "nbconvert_exporter": "python",
   "pygments_lexer": "ipython3",
   "version": "3.11.3"
  }
 },
 "nbformat": 4,
 "nbformat_minor": 2
}
