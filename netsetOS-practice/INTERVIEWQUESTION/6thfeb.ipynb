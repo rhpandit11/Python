{
 "cells": [
  {
   "cell_type": "markdown",
   "metadata": {},
   "source": [
    "**FIND MISSING NUMBER IN AN ARRAY IN PYTHON**"
   ]
  },
  {
   "cell_type": "code",
   "execution_count": 3,
   "metadata": {},
   "outputs": [
    {
     "name": "stdout",
     "output_type": "stream",
     "text": [
      "7\n",
      "3\n"
     ]
    }
   ],
   "source": [
    "def get_missing_summation(a):\n",
    "    n = a[-1]\n",
    "    sum1 = 0\n",
    "    total = n*(n+1)//2\n",
    "    sum1 = sum(a)\n",
    "    print(total-sum1)\n",
    "\n",
    "a = [1,2,4,5,6,7]\n",
    "get_missing_summation(a)"
   ]
  },
  {
   "cell_type": "code",
   "execution_count": 4,
   "metadata": {},
   "outputs": [
    {
     "name": "stdout",
     "output_type": "stream",
     "text": [
      "3\n"
     ]
    }
   ],
   "source": [
    "def get_missing_xor(a):\n",
    "    n = len(a)\n",
    "    xor_a=a[0]\n",
    "    for index in range(1,n):\n",
    "        xor_a=xor_a^a[index]\n",
    "    x2=0\n",
    "    for index in range(1,n+2):\n",
    "        x2=x2^index\n",
    "    print(xor_a^x2)\n",
    "\n",
    "a=[1,2,4,5,6,7]\n",
    "get_missing_xor(a)"
   ]
  },
  {
   "cell_type": "markdown",
   "metadata": {},
   "source": [
    "**Find Out Pairs with given sum in an array in python of time complexity O(n log n)**"
   ]
  },
  {
   "cell_type": "code",
   "execution_count": 6,
   "metadata": {},
   "outputs": [
    {
     "name": "stdout",
     "output_type": "stream",
     "text": [
      "values of pair are 8 & 9\n"
     ]
    }
   ],
   "source": [
    "def twosum(arr,sum):\n",
    "    arr.sort()\n",
    "    left = 0\n",
    "    right  = len(arr)-1\n",
    "    while (left<=right):\n",
    "        if(arr[left]+arr[right]>sum):\n",
    "            right = right - 1\n",
    "        elif(arr[left]+arr[right]<sum):\n",
    "            left = left + 1\n",
    "        elif(arr[left]+arr[right]==sum):\n",
    "            print('values of pair are',arr[left],'&',arr[right])\n",
    "            right = right - 1\n",
    "            left = left + 1\n",
    "arr = [5,7,4,3,9,8,19,21]\n",
    "sum = 17\n",
    "twosum(arr,sum)"
   ]
  }
 ],
 "metadata": {
  "kernelspec": {
   "display_name": "Python 3",
   "language": "python",
   "name": "python3"
  },
  "language_info": {
   "codemirror_mode": {
    "name": "ipython",
    "version": 3
   },
   "file_extension": ".py",
   "mimetype": "text/x-python",
   "name": "python",
   "nbconvert_exporter": "python",
   "pygments_lexer": "ipython3",
   "version": "3.11.3"
  }
 },
 "nbformat": 4,
 "nbformat_minor": 2
}
