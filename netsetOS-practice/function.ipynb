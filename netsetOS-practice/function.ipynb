{
 "cells": [
  {
   "cell_type": "markdown",
   "metadata": {},
   "source": [
    "# Function\n",
    "Function is a group of statements that perform specific task.\n",
    "Function help break our program into smaller and modular chunks. as our program grows larger and larger function make it more organized and manageable.\n",
    "it avoids repetition.\n",
    "\n",
    "- **docstring:** the  first string after the function header is called  the docstring and is short for document string.it is used to explain in brief, what a function does. we generally use triple quotes so that it can expand upto multiple lines."
   ]
  },
  {
   "cell_type": "code",
   "execution_count": null,
   "metadata": {},
   "outputs": [],
   "source": [
    "def evenOdd(x):\n",
    "    '''To check whether x is even or odd'''\n",
    "    if (x%2 == 0):\n",
    "        print('even')\n",
    "    else:\n",
    "        print('odd')\n",
    "evenOdd(56)\n",
    "\n",
    "#for printing doc string\n",
    "print(evenOdd.__doc__)\n"
   ]
  },
  {
   "cell_type": "markdown",
   "metadata": {},
   "source": [
    "# return statement\n",
    "The return statement is used to exit a function and go back to the place from where it is called.\n",
    "- syntax return[expression_list]\n",
    "this statement can contain expression which gets evaluated and the value is returned. If there is no return statement then the function will return none object."
   ]
  },
  {
   "cell_type": "code",
   "execution_count": null,
   "metadata": {},
   "outputs": [],
   "source": [
    "def absolute_value(num):\n",
    "    '''This function returns the absolute value of the entered number'''\n",
    "    if (num >= 0):\n",
    "        return num\n",
    "    else:\n",
    "        return -num\n",
    "print('Enter the number to know positive or negative')\n",
    "result1 = absolute_value(2)\n",
    "result2 = absolute_value(-4)\n",
    "\n",
    "print(result1)\n",
    "print(result2)"
   ]
  },
  {
   "cell_type": "markdown",
   "metadata": {},
   "source": [
    "# variable Scope in Python\n",
    "**Global Variable:** variables which are declared outside of the functions.It can be accessed inside as well as outside of the function.<br>\n",
    "**Local Variable:** variables which are declared inside  the functions.It can be accessed only inside of the function.\n"
   ]
  },
  {
   "cell_type": "code",
   "execution_count": null,
   "metadata": {},
   "outputs": [],
   "source": [
    "x = 20\n",
    "\n",
    "def var1():\n",
    "    x = 10\n",
    "    print('Local variable is: ', x)\n",
    "\n",
    "def var2():\n",
    "    var1()\n",
    "    print('Global Variable is: ',x)\n",
    "    var1()\n",
    "\n",
    "var2()"
   ]
  },
  {
   "cell_type": "code",
   "execution_count": 10,
   "metadata": {},
   "outputs": [
    {
     "name": "stdout",
     "output_type": "stream",
     "text": [
      "Driver bonus is:  1.2\n",
      "Total amount paid by customer 21.2\n",
      "Total amount paid by customer 3\n"
     ]
    }
   ],
   "source": [
    "total_no_seats = 4 # a constant\n",
    "fixed_rate_km = 4 # another constant\n",
    "fixed_rate_hour = 1.2 # another constant\n",
    "\n",
    "def share_trip(person_id,distance,hours):\n",
    "    #share trip\n",
    "    distance = distance\n",
    "    hours = hours\n",
    "    amt = (distance*fixed_rate_km)+(hours*fixed_rate_hour)\n",
    "    global total_no_seats\n",
    "    total_no_seats -= 1\n",
    "    bon = bonus_cal(distance)\n",
    "    print('Driver bonus is: ',bon)\n",
    "    return amt\n",
    "\n",
    "def bonus_cal(distance):\n",
    "    bonus = distance*fixed_rate_hour/5\n",
    "    return bonus\n",
    "\n",
    "amt  = share_trip(777753538,5,1)\n",
    "print('Total amount paid by customer',amt)\n",
    "print('Total amount paid by customer',total_no_seats)\n",
    "\n"
   ]
  },
  {
   "cell_type": "markdown",
   "metadata": {},
   "source": [
    "# Function Type\n",
    "* User Defined Functions: Functions written by developers to meet certain requirements in python.\n",
    "* Built in Functions: Functions which are built in python"
   ]
  },
  {
   "cell_type": "markdown",
   "metadata": {},
   "source": [
    "* **User Defined Functions** are useful from writing common utilities to specific business logic.Can be modified as per rquirement.\n",
    "* Programmers working on large project can divide the workload by making different functions.\n",
    "* User Defined Function can be written independently, the task of project can be distributed for rapid application development."
   ]
  },
  {
   "cell_type": "markdown",
   "metadata": {},
   "source": [
    "dir() -> This function will returns all the properties and methods, even built-in properties which are default fo all objects.\n",
    "Syntax -> dir(object)"
   ]
  },
  {
   "cell_type": "code",
   "execution_count": 1,
   "metadata": {},
   "outputs": [
    {
     "name": "stdout",
     "output_type": "stream",
     "text": [
      "['__add__', '__class__', '__class_getitem__', '__contains__', '__delattr__', '__delitem__', '__dir__', '__doc__', '__eq__', '__format__', '__ge__', '__getattribute__', '__getitem__', '__getstate__', '__gt__', '__hash__', '__iadd__', '__imul__', '__init__', '__init_subclass__', '__iter__', '__le__', '__len__', '__lt__', '__mul__', '__ne__', '__new__', '__reduce__', '__reduce_ex__', '__repr__', '__reversed__', '__rmul__', '__setattr__', '__setitem__', '__sizeof__', '__str__', '__subclasshook__', 'append', 'clear', 'copy', 'count', 'extend', 'index', 'insert', 'pop', 'remove', 'reverse', 'sort']\n",
      "['__add__', '__class__', '__contains__', '__delattr__', '__dir__', '__doc__', '__eq__', '__format__', '__ge__', '__getattribute__', '__getitem__', '__getnewargs__', '__getstate__', '__gt__', '__hash__', '__init__', '__init_subclass__', '__iter__', '__le__', '__len__', '__lt__', '__mod__', '__mul__', '__ne__', '__new__', '__reduce__', '__reduce_ex__', '__repr__', '__rmod__', '__rmul__', '__setattr__', '__sizeof__', '__str__', '__subclasshook__', 'capitalize', 'casefold', 'center', 'count', 'encode', 'endswith', 'expandtabs', 'find', 'format', 'format_map', 'index', 'isalnum', 'isalpha', 'isascii', 'isdecimal', 'isdigit', 'isidentifier', 'islower', 'isnumeric', 'isprintable', 'isspace', 'istitle', 'isupper', 'join', 'ljust', 'lower', 'lstrip', 'maketrans', 'partition', 'removeprefix', 'removesuffix', 'replace', 'rfind', 'rindex', 'rjust', 'rpartition', 'rsplit', 'rstrip', 'split', 'splitlines', 'startswith', 'strip', 'swapcase', 'title', 'translate', 'upper', 'zfill']\n",
      "['__class__', '__class_getitem__', '__contains__', '__delattr__', '__delitem__', '__dir__', '__doc__', '__eq__', '__format__', '__ge__', '__getattribute__', '__getitem__', '__getstate__', '__gt__', '__hash__', '__init__', '__init_subclass__', '__ior__', '__iter__', '__le__', '__len__', '__lt__', '__ne__', '__new__', '__or__', '__reduce__', '__reduce_ex__', '__repr__', '__reversed__', '__ror__', '__setattr__', '__setitem__', '__sizeof__', '__str__', '__subclasshook__', 'clear', 'copy', 'fromkeys', 'get', 'items', 'keys', 'pop', 'popitem', 'setdefault', 'update', 'values']\n"
     ]
    }
   ],
   "source": [
    "num1 = [1,2,3,4,5]\n",
    "print(dir(num1))\n",
    "\n",
    "str1 = 'Rahul Vaidya'\n",
    "print(dir(str1))\n",
    "\n",
    "dict1 = {1:'a',2:'b',3:'c'}\n",
    "print(dir(dict1))"
   ]
  },
  {
   "cell_type": "markdown",
   "metadata": {},
   "source": [
    "The divmod() method in python takes two numbers and returns a pair of numbers consisting of their quotient and reminder.\n",
    "if x and y are integers the return value is (x/y,x%y)\n",
    "syntax -> divmod(x,y) -> always return result in tuple"
   ]
  },
  {
   "cell_type": "code",
   "execution_count": 2,
   "metadata": {},
   "outputs": [
    {
     "name": "stdout",
     "output_type": "stream",
     "text": [
      "(4, 1)\n"
     ]
    }
   ],
   "source": [
    "print(divmod(17,4))"
   ]
  },
  {
   "cell_type": "markdown",
   "metadata": {},
   "source": [
    "Enumerate() method ads a counter to an iterable and returns it in a form of enumerate object. This enumerate object can be used directly in for loops or be converted into a list of tuples using list() method.\n",
    "styntax -> enumerate(iterable,start=0)"
   ]
  },
  {
   "cell_type": "code",
   "execution_count": 3,
   "metadata": {},
   "outputs": [
    {
     "name": "stdout",
     "output_type": "stream",
     "text": [
      "index 4 has value 1\n",
      "index 5 has value 2\n",
      "index 6 has value 3\n",
      "index 7 has value 4\n",
      "index 8 has value 5\n",
      "index 9 has value 6\n"
     ]
    }
   ],
   "source": [
    "number = [1,2,3,4,5,6]\n",
    "for index, num in enumerate(number,4):\n",
    "    print('index',index,'has value',num)"
   ]
  },
  {
   "cell_type": "markdown",
   "metadata": {},
   "source": [
    "filter() -> method constructs an iterator from elements of an iterable for which a function returns true.filter() method filters the given iterable with the help of a function that test each element in the iterable to be tru or not.\n",
    "syntax -> filter(fun_name,iterable)"
   ]
  },
  {
   "cell_type": "code",
   "execution_count": 4,
   "metadata": {},
   "outputs": [
    {
     "name": "stdout",
     "output_type": "stream",
     "text": [
      "[2, 4, 6, 8]\n"
     ]
    }
   ],
   "source": [
    "num = [1,2,3,4,5,6,7,8,9]\n",
    "\n",
    "def even_n(val):\n",
    "    if(val%2==0):\n",
    "        return val\n",
    "\n",
    "even_list = list(filter(even_n,num))\n",
    "print(even_list)"
   ]
  },
  {
   "cell_type": "markdown",
   "metadata": {},
   "source": [
    "map() -> function applies to each element of an iterable & returns a list of the output\n",
    "syntax -> map(fun_name,iterable)"
   ]
  },
  {
   "cell_type": "code",
   "execution_count": 12,
   "metadata": {},
   "outputs": [
    {
     "name": "stdout",
     "output_type": "stream",
     "text": [
      "[1, 8, 27, 64, 125, 216]\n",
      "[1, 8, 27, 64, 125, 216]\n"
     ]
    }
   ],
   "source": [
    "num = [1,2,3,4,5,6]\n",
    "cube = []\n",
    "\n",
    "for i in num:\n",
    "    cube.append(pow(i,3))\n",
    "print(cube)\n",
    "\n",
    "def cube_n(value):\n",
    "    return pow(value,3)\n",
    "cube_value = list(map(cube_n,num))\n",
    "print(cube_value)"
   ]
  },
  {
   "cell_type": "markdown",
   "metadata": {},
   "source": [
    "reduce() function is used for performing some computation on a list and returns a single result.\n",
    "it applies a rolling computation to sequential pairs of values in a list.\n",
    "syntax -> reduce(fun_name,iterable)"
   ]
  },
  {
   "cell_type": "code",
   "execution_count": 14,
   "metadata": {},
   "outputs": [
    {
     "name": "stdout",
     "output_type": "stream",
     "text": [
      "The prod is 120\n",
      "The prod is 120\n"
     ]
    }
   ],
   "source": [
    "num = [1,2,3,4,5]\n",
    "prod = 1\n",
    "for i in num:\n",
    "    prod = prod*i\n",
    "print('The prod is', prod)\n",
    "\n",
    "def prod_fun(a,b):\n",
    "    return a*b\n",
    "\n",
    "from functools import reduce\n",
    "prod=reduce(prod_fun,num)\n",
    "print('The prod is', prod)"
   ]
  },
  {
   "cell_type": "markdown",
   "metadata": {},
   "source": [
    " Default argument, Keyword arguments, Arbitrary Arguments\n",
    " * **arg** -> tuple | * | indexing\n",
    "  * **kwarg** -> dict | ** |"
   ]
  },
  {
   "cell_type": "markdown",
   "metadata": {},
   "source": [
    "syntax -> fun_name = lamda argument:outpu"
   ]
  },
  {
   "cell_type": "code",
   "execution_count": 17,
   "metadata": {},
   "outputs": [
    {
     "name": "stdout",
     "output_type": "stream",
     "text": [
      "9\n",
      "10\n"
     ]
    }
   ],
   "source": [
    "def add(a,b):\n",
    "    return a+b #multi line code\n",
    "\n",
    "add = lambda a,b:a+b #one line code\n",
    "print(add(4,5))\n",
    "\n",
    "twice = lambda x:x*2\n",
    "print(twice(5))"
   ]
  },
  {
   "cell_type": "markdown",
   "metadata": {},
   "source": [
    "**Lambda work with filter**"
   ]
  },
  {
   "cell_type": "code",
   "execution_count": 18,
   "metadata": {},
   "outputs": [
    {
     "name": "stdout",
     "output_type": "stream",
     "text": [
      "[2, 4, 6, 8]\n"
     ]
    }
   ],
   "source": [
    "num = [1,2,3,4,5,6,7,8,9]\n",
    "\n",
    "# def even_n(val):\n",
    "#     if(val%2==0):\n",
    "#         return val\n",
    "\n",
    "even_list = list(filter(lambda val:val%2==0,num))\n",
    "print(even_list)"
   ]
  },
  {
   "cell_type": "markdown",
   "metadata": {},
   "source": [
    "**Lamdba work with map**"
   ]
  },
  {
   "cell_type": "code",
   "execution_count": 23,
   "metadata": {},
   "outputs": [
    {
     "name": "stdout",
     "output_type": "stream",
     "text": [
      "[0, 0]\n",
      "[1, 1]\n",
      "[8, 4]\n",
      "[27, 9]\n",
      "[64, 16]\n",
      "[125, 25]\n",
      "[216, 36]\n",
      "[343, 49]\n",
      "[512, 64]\n",
      "[729, 81]\n"
     ]
    }
   ],
   "source": [
    "num = [1,2,3,4,5,6]\n",
    "\n",
    "def cub(value):\n",
    "    return pow(value,3)\n",
    "\n",
    "def sq(value):\n",
    "    return pow(value,2)\n",
    "\n",
    "\n",
    "# cube = list(map(lambda value:value*value*value,num))\n",
    "# squ = list(map(lambda value:value*value,num))\n",
    "# print(cube)\n",
    "# print(squ)\n",
    "\n",
    "methods = [cub,sq]\n",
    "for i in range(10):\n",
    "    value = list(map(lambda x:x(i),methods))\n",
    "    print(value)"
   ]
  },
  {
   "cell_type": "markdown",
   "metadata": {},
   "source": [
    "**Lambda work with reduce**"
   ]
  },
  {
   "cell_type": "code",
   "execution_count": 24,
   "metadata": {},
   "outputs": [
    {
     "name": "stdout",
     "output_type": "stream",
     "text": [
      "The prod is 362880\n"
     ]
    }
   ],
   "source": [
    "num = [1,2,3,4,5,6,7,8,9]\n",
    "# def prod_fun(a,b):\n",
    "#     return a*b\n",
    "\n",
    "from functools import reduce\n",
    "prod=reduce(lambda a,b:a*b,num)\n",
    "print('The prod is', prod)"
   ]
  },
  {
   "cell_type": "markdown",
   "metadata": {},
   "source": [
    "# Recursive Function"
   ]
  },
  {
   "cell_type": "code",
   "execution_count": 25,
   "metadata": {},
   "outputs": [
    {
     "name": "stdout",
     "output_type": "stream",
     "text": [
      "1\n",
      "2\n",
      "3\n"
     ]
    }
   ],
   "source": [
    "def func(num):\n",
    "    if (num >= 1):\n",
    "        func(num-1)\n",
    "        print(num)\n",
    "func(3)"
   ]
  }
 ],
 "metadata": {
  "kernelspec": {
   "display_name": "Python 3",
   "language": "python",
   "name": "python3"
  },
  "language_info": {
   "codemirror_mode": {
    "name": "ipython",
    "version": 3
   },
   "file_extension": ".py",
   "mimetype": "text/x-python",
   "name": "python",
   "nbconvert_exporter": "python",
   "pygments_lexer": "ipython3",
   "version": "3.11.3"
  }
 },
 "nbformat": 4,
 "nbformat_minor": 2
}
