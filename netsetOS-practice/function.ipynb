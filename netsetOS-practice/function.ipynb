{
 "cells": [
  {
   "cell_type": "markdown",
   "metadata": {},
   "source": [
    "# Function\n",
    "Function is a group of statements that perform specific task.\n",
    "Function help break our program into smaller and modular chunks. as our program grows larger and larger function make it more organized and manageable.\n",
    "it avoids repetition.\n",
    "\n",
    "- **docstring:** the  first string after the function header is called  the docstring and is short for document string.it is used to explain in brief, what a function does. we generally use triple quotes so that it can expand upto multiple lines."
   ]
  },
  {
   "cell_type": "code",
   "execution_count": null,
   "metadata": {},
   "outputs": [],
   "source": [
    "def evenOdd(x):\n",
    "    '''To check whether x is even or odd'''\n",
    "    if (x%2 == 0):\n",
    "        print('even')\n",
    "    else:\n",
    "        print('odd')\n",
    "evenOdd(56)\n",
    "\n",
    "#for printing doc string\n",
    "print(evenOdd.__doc__)\n"
   ]
  },
  {
   "cell_type": "markdown",
   "metadata": {},
   "source": [
    "# return statement\n",
    "The return statement is used to exit a function and go back to the place from where it is called.\n",
    "- syntax return[expression_list]\n",
    "this statement can contain expression which gets evaluated and the value is returned. If there is no return statement then the function will return none object."
   ]
  },
  {
   "cell_type": "code",
   "execution_count": null,
   "metadata": {},
   "outputs": [],
   "source": [
    "def absolute_value(num):\n",
    "    '''This function returns the absolute value of the entered number'''\n",
    "    if (num >= 0):\n",
    "        return num\n",
    "    else:\n",
    "        return -num\n",
    "print('Enter the number to know positive or negative')\n",
    "result1 = absolute_value(2)\n",
    "result2 = absolute_value(-4)\n",
    "\n",
    "print(result1)\n",
    "print(result2)"
   ]
  },
  {
   "cell_type": "markdown",
   "metadata": {},
   "source": [
    "# variable Scope in Python\n",
    "**Global Variable:** variables which are declared outside of the functions.It can be accessed inside as well as outside of the function.<br>\n",
    "**Local Variable:** variables which are declared inside  the functions.It can be accessed only inside of the function.\n"
   ]
  },
  {
   "cell_type": "code",
   "execution_count": null,
   "metadata": {},
   "outputs": [],
   "source": [
    "x = 20\n",
    "\n",
    "def var1():\n",
    "    x = 10\n",
    "    print('Local variable is: ', x)\n",
    "\n",
    "def var2():\n",
    "    var1()\n",
    "    print('Global Variable is: ',x)\n",
    "    var1()\n",
    "\n",
    "var2()"
   ]
  },
  {
   "cell_type": "code",
   "execution_count": 10,
   "metadata": {},
   "outputs": [
    {
     "name": "stdout",
     "output_type": "stream",
     "text": [
      "Driver bonus is:  1.2\n",
      "Total amount paid by customer 21.2\n",
      "Total amount paid by customer 3\n"
     ]
    }
   ],
   "source": [
    "total_no_seats = 4 # a constant\n",
    "fixed_rate_km = 4 # another constant\n",
    "fixed_rate_hour = 1.2 # another constant\n",
    "\n",
    "def share_trip(person_id,distance,hours):\n",
    "    #share trip\n",
    "    distance = distance\n",
    "    hours = hours\n",
    "    amt = (distance*fixed_rate_km)+(hours*fixed_rate_hour)\n",
    "    global total_no_seats\n",
    "    total_no_seats -= 1\n",
    "    bon = bonus_cal(distance)\n",
    "    print('Driver bonus is: ',bon)\n",
    "    return amt\n",
    "\n",
    "def bonus_cal(distance):\n",
    "    bonus = distance*fixed_rate_hour/5\n",
    "    return bonus\n",
    "\n",
    "amt  = share_trip(777753538,5,1)\n",
    "print('Total amount paid by customer',amt)\n",
    "print('Total amount paid by customer',total_no_seats)\n",
    "\n"
   ]
  },
  {
   "cell_type": "code",
   "execution_count": null,
   "metadata": {},
   "outputs": [],
   "source": []
  }
 ],
 "metadata": {
  "kernelspec": {
   "display_name": "Python 3",
   "language": "python",
   "name": "python3"
  },
  "language_info": {
   "codemirror_mode": {
    "name": "ipython",
    "version": 3
   },
   "file_extension": ".py",
   "mimetype": "text/x-python",
   "name": "python",
   "nbconvert_exporter": "python",
   "pygments_lexer": "ipython3",
   "version": "3.11.3"
  }
 },
 "nbformat": 4,
 "nbformat_minor": 2
}
