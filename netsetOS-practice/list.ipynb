{
 "cells": [
  {
   "cell_type": "markdown",
   "metadata": {},
   "source": [
    "Collection is used to represent group of object as single identity.\n",
    "collection is of four types:\n",
    "- list\n",
    "- tuple\n",
    "- dictionary\n",
    "- set"
   ]
  },
  {
   "cell_type": "markdown",
   "metadata": {},
   "source": [
    "# List\n",
    "- Heterogenous Elements\n",
    "- Zero based indexing\n",
    "- duplicates allowed\n",
    "- mutable (add,delete,update)\n",
    "- Variable lenght"
   ]
  },
  {
   "cell_type": "markdown",
   "metadata": {},
   "source": [
    "# List Methods"
   ]
  },
  {
   "cell_type": "markdown",
   "metadata": {},
   "source": [
    "- Append() -> adding the element to the end of the list"
   ]
  },
  {
   "cell_type": "code",
   "execution_count": null,
   "metadata": {},
   "outputs": [],
   "source": [
    "a1 = [1,2,4,9]\n",
    "a1.append([19,3,'fsg'])\n",
    "print(a1)\n",
    "print(type(a1))\n",
    "print(type(a1[0]))\n",
    "print(type(a1[4][2]))"
   ]
  },
  {
   "cell_type": "markdown",
   "metadata": {},
   "source": [
    "- indexing -> Accessing element from list"
   ]
  },
  {
   "cell_type": "code",
   "execution_count": null,
   "metadata": {},
   "outputs": [],
   "source": [
    "a1 = [1,2,4,9,[19,3,'fsg']]\n",
    "print(a1[-2])\n",
    "print(len(a1)) #length of list"
   ]
  },
  {
   "cell_type": "markdown",
   "metadata": {},
   "source": [
    "- extend() -> The extend() method adds the specified list elements (or any iterable) to the end of the current list."
   ]
  },
  {
   "cell_type": "code",
   "execution_count": null,
   "metadata": {},
   "outputs": [],
   "source": [
    "a2 = [5,6,9,3]\n",
    "a2.extend([19,3,'fsg'])\n",
    "# print(a2)\n",
    "\n",
    "a3 = ['a','b','new','miligrim','z','example','new',['new',2]]\n",
    "a3.extend(['two','elements'])\n",
    "print(a3)\n",
    "print(type(a3[0]))\n",
    "print(type(a3[7]))\n",
    "print(type(a3[7][1]))"
   ]
  },
  {
   "cell_type": "markdown",
   "metadata": {},
   "source": [
    "- insert() -> adds element at given location"
   ]
  },
  {
   "cell_type": "code",
   "execution_count": null,
   "metadata": {},
   "outputs": [],
   "source": [
    "digit = ['a','b','milpigram', 'z','example']\n",
    "digit.insert(2,'new')\n",
    "print(digit)"
   ]
  },
  {
   "cell_type": "markdown",
   "metadata": {},
   "source": [
    "- del() -> removes the item at a specific index"
   ]
  },
  {
   "cell_type": "code",
   "execution_count": null,
   "metadata": {},
   "outputs": [],
   "source": [
    "b = [3,2,2,1]\n",
    "del b[1]\n",
    "print(b)"
   ]
  },
  {
   "cell_type": "markdown",
   "metadata": {},
   "source": [
    "- pop() removes the item at a specific index and returns it.\n"
   ]
  },
  {
   "cell_type": "code",
   "execution_count": null,
   "metadata": {},
   "outputs": [],
   "source": [
    "a = [4,3,5]\n",
    "c = a.pop(1)\n",
    "print(c)\n",
    "print(a)"
   ]
  },
  {
   "cell_type": "markdown",
   "metadata": {},
   "source": [
    "- removes() the first matching value in given list"
   ]
  },
  {
   "cell_type": "code",
   "execution_count": null,
   "metadata": {},
   "outputs": [],
   "source": [
    "a = [0,2,3,2]\n",
    "a.remove(2)\n",
    "print(a)"
   ]
  },
  {
   "cell_type": "markdown",
   "metadata": {},
   "source": [
    "- reverse() -> reverse the order of elements inside a list"
   ]
  },
  {
   "cell_type": "code",
   "execution_count": null,
   "metadata": {},
   "outputs": [],
   "source": [
    "inputList = [10,11,12,13,14,15]\n",
    "inputList.reverse()\n",
    "print(inputList)"
   ]
  },
  {
   "cell_type": "markdown",
   "metadata": {},
   "source": [
    "- sort() -> sort the number and store in itself"
   ]
  },
  {
   "cell_type": "code",
   "execution_count": null,
   "metadata": {},
   "outputs": [],
   "source": [
    "d = [1,7,6,5,4]\n",
    "d.sort()\n",
    "# print(d)\n",
    "\n",
    "d = [1,7,6,5,4]\n",
    "d.sort(reverse=True) #print in decrementing order\n",
    "print(d)"
   ]
  },
  {
   "cell_type": "markdown",
   "metadata": {},
   "source": [
    "- sorted() -> return a new list containing all items from the iterable in asc order"
   ]
  },
  {
   "cell_type": "code",
   "execution_count": null,
   "metadata": {},
   "outputs": [],
   "source": [
    "d = [1,7,6,5,4]\n",
    "a = sorted(d)\n",
    "print(a)"
   ]
  },
  {
   "cell_type": "markdown",
   "metadata": {},
   "source": [
    "- string sorted by length"
   ]
  },
  {
   "cell_type": "code",
   "execution_count": null,
   "metadata": {},
   "outputs": [],
   "source": [
    "d = ['sss','cc','j']\n",
    "a = sorted(d,key=len)\n",
    "print(a)"
   ]
  },
  {
   "cell_type": "markdown",
   "metadata": {},
   "source": [
    "- The split() method splits a string into a list."
   ]
  },
  {
   "cell_type": "code",
   "execution_count": null,
   "metadata": {},
   "outputs": [],
   "source": [
    "txt = \"welcome,to,the,jungle\"\n",
    "\n",
    "x = txt.split(',')\n",
    "\n",
    "print(x)"
   ]
  },
  {
   "cell_type": "markdown",
   "metadata": {},
   "source": [
    "- slicing -> Accessing part of segments [start:end:stepIndex]"
   ]
  },
  {
   "cell_type": "code",
   "execution_count": null,
   "metadata": {},
   "outputs": [],
   "source": [
    "name = ['Reena','Sheena','Meena','Teena','Neena','Leena']\n",
    "print(name[:])\n",
    "print(name[:3])\n",
    "print(name[::2])#alternate numbers\n",
    "print(name[2::2])#from 2 instead of 0"
   ]
  },
  {
   "cell_type": "markdown",
   "metadata": {},
   "source": [
    "- count() "
   ]
  },
  {
   "cell_type": "code",
   "execution_count": 30,
   "metadata": {},
   "outputs": [
    {
     "name": "stdout",
     "output_type": "stream",
     "text": [
      "2\n"
     ]
    }
   ],
   "source": [
    "num = [1,5,6,7,9,2,4,6,4,8,9]\n",
    "print(num.count(9)) #output 2"
   ]
  }
 ],
 "metadata": {
  "kernelspec": {
   "display_name": "Python 3",
   "language": "python",
   "name": "python3"
  },
  "language_info": {
   "codemirror_mode": {
    "name": "ipython",
    "version": 3
   },
   "file_extension": ".py",
   "mimetype": "text/x-python",
   "name": "python",
   "nbconvert_exporter": "python",
   "pygments_lexer": "ipython3",
   "version": "3.11.3"
  }
 },
 "nbformat": 4,
 "nbformat_minor": 2
}
