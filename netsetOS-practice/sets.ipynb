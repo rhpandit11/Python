{
 "cells": [
  {
   "cell_type": "markdown",
   "metadata": {},
   "source": [
    "A set is an unordered collection of items. Every element is unique (no duplicates). Sets can be used to perform mathematical set operations like union, intersection, symmetric difference etc.\n",
    "- **mutable**\n",
    "- **unordered**\n",
    "- **duplicates are not allowed**"
   ]
  },
  {
   "cell_type": "code",
   "execution_count": null,
   "metadata": {},
   "outputs": [],
   "source": [
    "emptyset = set()\n",
    "print(type(emptyset))"
   ]
  },
  {
   "cell_type": "markdown",
   "metadata": {},
   "source": [
    "- mutable"
   ]
  },
  {
   "cell_type": "code",
   "execution_count": null,
   "metadata": {},
   "outputs": [],
   "source": [
    "set1 = {'python', 'java','c'}\n",
    "set1.add('c++') #add only add one element\n",
    "print(set1)\n",
    "set2 = {1,2,3}\n",
    "set2.update({5,6,7}) #update add more than one element\n",
    "print(set2)"
   ]
  },
  {
   "cell_type": "markdown",
   "metadata": {},
   "source": [
    "- add set to a set\n",
    "- add list to a set\n"
   ]
  },
  {
   "cell_type": "code",
   "execution_count": null,
   "metadata": {},
   "outputs": [],
   "source": [
    "list1 = [1,2,3]\n",
    "list2 = [5,6,7]\n",
    "list3 = [10,11,12]\n",
    "\n",
    "set1 = set(list2)\n",
    "set2 = set(list1)\n",
    "\n",
    "set1.update(set2) #add a set\n",
    "print(set1)\n",
    "\n",
    "set1.update(list3) #add list to a set\n",
    "print(set1)"
   ]
  },
  {
   "cell_type": "code",
   "execution_count": null,
   "metadata": {},
   "outputs": [],
   "source": [
    "a = {1,3,5,6,7}\n",
    "a.remove(1) #give key error\n",
    "a.discard(7) #won't be affected\n",
    "c= a.pop() #removes random element\n",
    "print(a)\n",
    "print(c)\n",
    "a.clear() #clear all the element from set\n",
    "print(a)\n"
   ]
  },
  {
   "cell_type": "markdown",
   "metadata": {},
   "source": [
    "# SET METHODS"
   ]
  },
  {
   "cell_type": "code",
   "execution_count": null,
   "metadata": {},
   "outputs": [],
   "source": [
    "set1 = {2,4,5,6}\n",
    "set2 = {4,6,7,8}\n",
    "print(set1.union(set2)) #union operation |\n",
    "print(set1.intersection(set2))  #intersetion operation &"
   ]
  },
  {
   "cell_type": "code",
   "execution_count": null,
   "metadata": {},
   "outputs": [],
   "source": [
    "set1 = {10,20,30,40,80}\n",
    "set2 = {100,30,80,40,60}\n",
    "print(set1-set2)\n",
    "print(set1.difference(set2)) #set difference\n",
    "print(set1.symmetric_difference(set2)) #set symmetric difference\n",
    "print(set1^set2)"
   ]
  },
  {
   "cell_type": "markdown",
   "metadata": {},
   "source": [
    "- issubset() method returns in boolean\n",
    "- if all items in the set exists in the specific list"
   ]
  },
  {
   "cell_type": "code",
   "execution_count": null,
   "metadata": {},
   "outputs": [],
   "source": [
    "x = {'a','b','c'}\n",
    "y = {'f','e','d','c','b'}\n",
    "z = x.issubset(y)\n",
    "print(z)"
   ]
  },
  {
   "cell_type": "markdown",
   "metadata": {},
   "source": [
    "## forzen set\n",
    "- Immutable-once the value is assigned, it can't be changed\n",
    "- can be created uning frozenset()\n",
    "- Does not support Indexing\n",
    "- set cannot be used as a key in dictionary but frozen set can"
   ]
  },
  {
   "cell_type": "code",
   "execution_count": 13,
   "metadata": {},
   "outputs": [
    {
     "name": "stdout",
     "output_type": "stream",
     "text": [
      "frozenset({1, 2, 3, 4, 5, 6, 7, 8, 9})\n",
      "frozenset({'sex', 'name', 'age'})\n"
     ]
    }
   ],
   "source": [
    "nu = (1,2,3,4,5,6,7,8,9)\n",
    "fnum = frozenset(nu) #converting tuple to frozenset\n",
    "print(fnum)\n",
    "\n",
    "se = frozenset([10,30,50,70])\n",
    "# se.add(90) #Immutable\n",
    "\n",
    "student = {'name': 'Ankit', 'age':'21', 'sex':'mail'}\n",
    "key = frozenset(student) #frozen set can be used as key in dict\n",
    "print(key)"
   ]
  }
 ],
 "metadata": {
  "kernelspec": {
   "display_name": "Python 3",
   "language": "python",
   "name": "python3"
  },
  "language_info": {
   "codemirror_mode": {
    "name": "ipython",
    "version": 3
   },
   "file_extension": ".py",
   "mimetype": "text/x-python",
   "name": "python",
   "nbconvert_exporter": "python",
   "pygments_lexer": "ipython3",
   "version": "3.11.3"
  }
 },
 "nbformat": 4,
 "nbformat_minor": 2
}
