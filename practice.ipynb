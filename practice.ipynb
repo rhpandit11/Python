{
 "cells": [
  {
   "cell_type": "code",
   "execution_count": 1,
   "metadata": {},
   "outputs": [
    {
     "name": "stdout",
     "output_type": "stream",
     "text": [
      "RAHUL\n"
     ]
    }
   ],
   "source": [
    "class InputOutstring(object):\n",
    "    def __init__(self) -> None:\n",
    "        self.s = ''\n",
    "    def getString(self):\n",
    "        self.s = input()\n",
    "    def printString(self):\n",
    "        print(self.s.upper())\n",
    "x = InputOutstring()\n",
    "x.getString()\n",
    "x.printString()"
   ]
  },
  {
   "cell_type": "code",
   "execution_count": 2,
   "metadata": {},
   "outputs": [
    {
     "name": "stdout",
     "output_type": "stream",
     "text": [
      "HELLO WORLD PRACTICE MAKES PERFECT\n"
     ]
    }
   ],
   "source": [
    "lst = []\n",
    "while True:\n",
    "    s = input()\n",
    "    if s:\n",
    "        lst.append(s.upper())\n",
    "    else:\n",
    "        break\n",
    "for i in lst:\n",
    "    print(i)\n",
    "    "
   ]
  },
  {
   "cell_type": "code",
   "execution_count": 3,
   "metadata": {},
   "outputs": [
    {
     "name": "stdout",
     "output_type": "stream",
     "text": [
      " and hello makes perfect practice world\n"
     ]
    }
   ],
   "source": [
    "x = input()\n",
    "lst = [a for a in x.split(' ')]\n",
    "print(' '.join(sorted(list(set(lst)))))\n",
    "\n"
   ]
  },
  {
   "cell_type": "code",
   "execution_count": 4,
   "metadata": {},
   "outputs": [
    {
     "name": "stdout",
     "output_type": "stream",
     "text": [
      "1010\n"
     ]
    }
   ],
   "source": [
    "lst = []\n",
    "item = [x for x in input().split(',')]\n",
    "for p in item:\n",
    "    intp = int(p,2)\n",
    "    if not intp%5:\n",
    "        lst.append(p)\n",
    "print(','.join(lst))"
   ]
  },
  {
   "cell_type": "code",
   "execution_count": 6,
   "metadata": {},
   "outputs": [
    {
     "name": "stdout",
     "output_type": "stream",
     "text": [
      "300\n"
     ]
    }
   ],
   "source": [
    "netAmount = 0\n",
    "while True:\n",
    "    s = input()\n",
    "    if not s:\n",
    "        break\n",
    "    value = s.split(' ')\n",
    "    operation = value[0]\n",
    "    amount = int(value[1])\n",
    "    if operation == 'D':\n",
    "        netAmount += amount\n",
    "    elif operation == 'W':\n",
    "        netAmount -= amount\n",
    "    else:\n",
    "        pass\n",
    "print(netAmount)"
   ]
  },
  {
   "cell_type": "code",
   "execution_count": 14,
   "metadata": {},
   "outputs": [
    {
     "name": "stdout",
     "output_type": "stream",
     "text": [
      "{1: 1, 2: 4, 3: 9}\n"
     ]
    }
   ],
   "source": [
    "def dict1():\n",
    "    d = dict()\n",
    "    d[1] = 1**2\n",
    "    d[2] = 2**2\n",
    "    d[3] = 3**2\n",
    "    print(d)\n",
    "\n",
    "dict1()"
   ]
  },
  {
   "cell_type": "code",
   "execution_count": 23,
   "metadata": {},
   "outputs": [
    {
     "name": "stdout",
     "output_type": "stream",
     "text": [
      "1\n",
      "2\n",
      "3\n",
      "4\n",
      "5\n",
      "6\n",
      "7\n",
      "8\n",
      "9\n",
      "10\n",
      "11\n",
      "12\n",
      "13\n",
      "14\n",
      "15\n",
      "16\n",
      "17\n",
      "18\n",
      "19\n",
      "20\n"
     ]
    }
   ],
   "source": [
    "def fun():\n",
    "    d = {}\n",
    "    for i in range(1,21):\n",
    "        d[i] = i*i\n",
    "    for (key,value) in d.items():\n",
    "        print(key)\n",
    "fun()"
   ]
  },
  {
   "cell_type": "code",
   "execution_count": 27,
   "metadata": {},
   "outputs": [
    {
     "name": "stdout",
     "output_type": "stream",
     "text": [
      "(1, 4, 9, 16, 25, 36, 49, 64, 81, 100, 121, 144, 169, 196, 225, 256, 289, 324, 361, 400)\n"
     ]
    }
   ],
   "source": [
    "def fun():\n",
    "    lst = []\n",
    "    for i in range(1,21):\n",
    "        lst.append(i*i)\n",
    "    print(tuple(lst))\n",
    "fun()"
   ]
  },
  {
   "cell_type": "code",
   "execution_count": 30,
   "metadata": {},
   "outputs": [
    {
     "name": "stdout",
     "output_type": "stream",
     "text": [
      "[1, 4, 9, 16, 25, 36, 49, 64, 81, 100]\n"
     ]
    }
   ],
   "source": [
    "def fun():\n",
    "    lst = [1,2,3,4,5,6,7,8,9,10]\n",
    "    x = list(map(lambda x: x**2,lst))\n",
    "    print(x)\n",
    "fun()"
   ]
  },
  {
   "cell_type": "code",
   "execution_count": 34,
   "metadata": {},
   "outputs": [
    {
     "name": "stdout",
     "output_type": "stream",
     "text": [
      "[2, 4, 6, 8, 10, 12, 14, 16, 18, 20]\n"
     ]
    }
   ],
   "source": [
    "def fun():\n",
    "    lst = [1,2,3,4,5,6,7,8,9,10]\n",
    "    x = list(filter(lambda x:x%2==0,range(1,21)))\n",
    "    print(x)\n",
    "fun()"
   ]
  }
 ],
 "metadata": {
  "kernelspec": {
   "display_name": "Python 3",
   "language": "python",
   "name": "python3"
  },
  "language_info": {
   "codemirror_mode": {
    "name": "ipython",
    "version": 3
   },
   "file_extension": ".py",
   "mimetype": "text/x-python",
   "name": "python",
   "nbconvert_exporter": "python",
   "pygments_lexer": "ipython3",
   "version": "3.11.3"
  }
 },
 "nbformat": 4,
 "nbformat_minor": 2
}
