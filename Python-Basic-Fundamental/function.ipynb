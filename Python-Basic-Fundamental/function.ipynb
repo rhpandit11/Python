{
 "cells": [
  {
   "cell_type": "code",
   "execution_count": 1,
   "metadata": {},
   "outputs": [
    {
     "name": "stdout",
     "output_type": "stream",
     "text": [
      "Hello\n"
     ]
    }
   ],
   "source": [
    "#Single Underscore (_)\n",
    "class test:\n",
    "    def __init__(self,num):\n",
    "        self._num= num\n",
    "\n",
    "    def _numfunc(self):\n",
    "        print(\"Hello\")\n",
    "\n",
    "obj=test(156)\n",
    "obj._numfunc()#_ attributes can be accessed as normal variables"
   ]
  },
  {
   "cell_type": "code",
   "execution_count": 2,
   "metadata": {},
   "outputs": [
    {
     "name": "stdout",
     "output_type": "stream",
     "text": [
      "__num = 156\n"
     ]
    }
   ],
   "source": [
    "#Double Underscore (__)\n",
    "class test:\n",
    "    def __init__(self,num):\n",
    "        self.__num= num\n",
    "    def display(self):\n",
    "        print(\"__num = {}\".format(self.__num))\n",
    "\n",
    "obj=test(156)\n",
    "obj.display()"
   ]
  },
  {
   "cell_type": "code",
   "execution_count": 3,
   "metadata": {},
   "outputs": [],
   "source": [
    "#Trailing Underscore(n_)\n",
    "class Test:\n",
    "    def __init__(self,num):\n",
    "        #To avoid clash with python keyword \n",
    "        self.num_= num"
   ]
  },
  {
   "cell_type": "markdown",
   "metadata": {},
   "source": [
    "**Global, Local, and Non-Local Variables in Python**"
   ]
  },
  {
   "cell_type": "code",
   "execution_count": 4,
   "metadata": {},
   "outputs": [
    {
     "name": "stdout",
     "output_type": "stream",
     "text": [
      "local_variable\n"
     ]
    }
   ],
   "source": [
    "#Local Variable\n",
    "def test():\n",
    "    l = \"local_variable\"\n",
    "    return l\n",
    "\n",
    "var=test()\n",
    "print(var)"
   ]
  },
  {
   "cell_type": "code",
   "execution_count": 5,
   "metadata": {},
   "outputs": [
    {
     "name": "stdout",
     "output_type": "stream",
     "text": [
      "local variable x: 20\n",
      "global variable x: 10\n"
     ]
    }
   ],
   "source": [
    "#Global Variable\n",
    "var = 10\n",
    "def test():\n",
    "    var = 20\n",
    "    print(\"local variable x:\", var)\n",
    "\n",
    "val=test()\n",
    "print(\"global variable x:\", var)"
   ]
  },
  {
   "cell_type": "code",
   "execution_count": 6,
   "metadata": {},
   "outputs": [
    {
     "name": "stdout",
     "output_type": "stream",
     "text": [
      "Non Local value: non_local_variable\n",
      "Outer value: non_local_variable\n"
     ]
    }
   ],
   "source": [
    "#Non Local Variable\n",
    "def test():\n",
    "    var = \"local_variable\"\n",
    "    def test_one():\n",
    "        nonlocal var\n",
    "        var = \"non_local_variable\"\n",
    "        print(\"Non Local value:\", var)\n",
    "    test_one()\n",
    "    print(\"Outer value:\", var)\n",
    "test()"
   ]
  },
  {
   "cell_type": "markdown",
   "metadata": {},
   "source": [
    "**First Class functions in Python**"
   ]
  },
  {
   "cell_type": "code",
   "execution_count": 9,
   "metadata": {},
   "outputs": [
    {
     "name": "stdout",
     "output_type": "stream",
     "text": [
      "20\n"
     ]
    }
   ],
   "source": [
    "# Implementation 2\n",
    "def outer(a):   # Outer function\n",
    "    def inner(b):   # Inner function\n",
    "        return b + 10\n",
    "    return inner(a)\n",
    "\n",
    "a = 10\n",
    "var = outer(a) \n",
    "print(var)"
   ]
  },
  {
   "cell_type": "markdown",
   "metadata": {},
   "source": [
    "**__import__() function**"
   ]
  },
  {
   "cell_type": "code",
   "execution_count": 10,
   "metadata": {},
   "outputs": [
    {
     "name": "stdout",
     "output_type": "stream",
     "text": [
      "17.4\n"
     ]
    }
   ],
   "source": [
    "#implementation\n",
    "#fabs() method is defined in the math module which returns the absolute value of a number\n",
    "math_score = __import__('math', globals(), locals(), [], 0)\n",
    "print(math_score.fabs(-17.4))"
   ]
  },
  {
   "cell_type": "markdown",
   "metadata": {},
   "source": [
    "**Tuple Unpacking with Python Functions**"
   ]
  },
  {
   "cell_type": "code",
   "execution_count": 11,
   "metadata": {},
   "outputs": [
    {
     "name": "stdout",
     "output_type": "stream",
     "text": [
      "300\n",
      "400\n"
     ]
    }
   ],
   "source": [
    "def result(a, b):\n",
    "    return a + b\n",
    "\n",
    "# function with normal variables\n",
    "print(result(100, 200))\n",
    " \n",
    "# A tuple is created\n",
    "c = (100, 300)\n",
    " \n",
    "# Tuple is passed\n",
    "# function unpacked them\n",
    " \n",
    "print (result(*c))"
   ]
  },
  {
   "cell_type": "markdown",
   "metadata": {},
   "source": [
    "**Static Variables and Methods in Python**"
   ]
  },
  {
   "cell_type": "code",
   "execution_count": 12,
   "metadata": {},
   "outputs": [
    {
     "name": "stdout",
     "output_type": "stream",
     "text": [
      "25\n",
      "25\n",
      "14\n",
      "25\n"
     ]
    }
   ],
   "source": [
    "class test:\n",
    "    static_variable = 25 \n",
    "\n",
    "# Access through class\n",
    "print(test.static_variable) \n",
    "\n",
    "# Access through an instance\n",
    "ins = test()\n",
    "print(ins.static_variable) \n",
    "\n",
    "# Change within an instance\n",
    "ins.static_variable = 14\n",
    "print(ins.static_variable)\n",
    "print(test.static_variable)"
   ]
  },
  {
   "cell_type": "code",
   "execution_count": 13,
   "metadata": {},
   "outputs": [
    {
     "name": "stdout",
     "output_type": "stream",
     "text": [
      "Welcome to sample shape class\n",
      "Triangles\n"
     ]
    }
   ],
   "source": [
    "# Static Method : Use @staticmethod\n",
    "class sample_shape:\n",
    "\n",
    "    @staticmethod\n",
    "    def msgg(msg):\n",
    "        print(msg)\n",
    "        print(\"Triangles\")\n",
    "        \n",
    "sample_shape.msgg(\"Welcome to sample shape class\")"
   ]
  },
  {
   "cell_type": "markdown",
   "metadata": {},
   "source": [
    "**lambda function**"
   ]
  },
  {
   "cell_type": "code",
   "execution_count": 14,
   "metadata": {},
   "outputs": [
    {
     "name": "stdout",
     "output_type": "stream",
     "text": [
      "38\n"
     ]
    }
   ],
   "source": [
    "#A lambda function that adds 10 to the number passed in as an argument, and print the result\n",
    "x = lambda a, b, c : a * b + c\n",
    "print(x(5, 6, 8))"
   ]
  },
  {
   "cell_type": "markdown",
   "metadata": {},
   "source": [
    "**Map and Filter Functions in Python**"
   ]
  },
  {
   "cell_type": "code",
   "execution_count": 15,
   "metadata": {},
   "outputs": [
    {
     "name": "stdout",
     "output_type": "stream",
     "text": [
      "[('s', 1), ('t', 2), ('x', 3), ('y', 4), ('z', 5)]\n"
     ]
    }
   ],
   "source": [
    "#map() implementation\n",
    "numbers = [1,2,3,4,5]\n",
    "strings = ['s', 't', 'x', 'y', 'z']\n",
    "mapped_list = list(map(lambda x, y: (x, y), strings, numbers))\n",
    "print(mapped_list)"
   ]
  },
  {
   "cell_type": "code",
   "execution_count": 16,
   "metadata": {},
   "outputs": [
    {
     "name": "stdout",
     "output_type": "stream",
     "text": [
      "['sUNDAY', 'mONDAY', 'tUESDAY', 'wEDNESDAY']\n"
     ]
    }
   ],
   "source": [
    "#map() implementation\n",
    "days = ['Sunday', 'Monday', 'Tuesday', 'Wednesday']\n",
    "mod_days = list(map(str.swapcase, days))\n",
    "print(mod_days)"
   ]
  },
  {
   "cell_type": "code",
   "execution_count": 19,
   "metadata": {},
   "outputs": [
    {
     "name": "stdout",
     "output_type": "stream",
     "text": [
      "[23]\n"
     ]
    }
   ],
   "source": [
    "# filter() implementation\n",
    "marks = [95, 40, 68, 95, 67, 61, 88, 23, 38, 92]\n",
    "\n",
    "def stud(score):\n",
    "    return score < 33\n",
    "\n",
    "fail_list = list(filter(stud, marks))\n",
    "print(fail_list)"
   ]
  }
 ],
 "metadata": {
  "kernelspec": {
   "display_name": "Python 3",
   "language": "python",
   "name": "python3"
  },
  "language_info": {
   "codemirror_mode": {
    "name": "ipython",
    "version": 3
   },
   "file_extension": ".py",
   "mimetype": "text/x-python",
   "name": "python",
   "nbconvert_exporter": "python",
   "pygments_lexer": "ipython3",
   "version": "3.11.3"
  }
 },
 "nbformat": 4,
 "nbformat_minor": 2
}
