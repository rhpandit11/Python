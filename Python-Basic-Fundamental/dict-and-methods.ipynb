{
 "cells": [
  {
   "cell_type": "code",
   "execution_count": 1,
   "metadata": {},
   "outputs": [
    {
     "name": "stdout",
     "output_type": "stream",
     "text": [
      "{0: 'sunday', 1: 'monday', 2: 'tuesday', 3: 'wednesday', 4: 'thursday'}\n"
     ]
    }
   ],
   "source": [
    "#Create a Dictionary\n",
    "#empty dictionary\n",
    "dict_emp = {}\n",
    "\n",
    "#dict with items\n",
    "dict_one = {0:'sunday', 1: 'monday', 2: 'tuesday', 3: 'wednesday', 4: 'thursday'}\n",
    "print(dict_one)"
   ]
  },
  {
   "cell_type": "code",
   "execution_count": 2,
   "metadata": {},
   "outputs": [
    {
     "name": "stdout",
     "output_type": "stream",
     "text": [
      "monday\n",
      "tuesday\n"
     ]
    }
   ],
   "source": [
    "#Accessing Elements from Dictionary : Using keys or get() method\n",
    "dict_one = {0:'sunday', 1: 'monday', 2: 'tuesday', 3: 'wednesday', 4: 'thursday'}\n",
    "print(dict_one[1])\n",
    "\n",
    "#get() method\n",
    "print(dict_one.get(2))"
   ]
  },
  {
   "cell_type": "code",
   "execution_count": 3,
   "metadata": {},
   "outputs": [
    {
     "name": "stdout",
     "output_type": "stream",
     "text": [
      "5\n"
     ]
    }
   ],
   "source": [
    "# Length of Dictionary\n",
    "dict_one = {0:'sunday', 1: 'monday', 2: 'tuesday', 3: 'wednesday', 4: 'thursday'}\n",
    "print(len(dict_one))"
   ]
  },
  {
   "cell_type": "code",
   "execution_count": 4,
   "metadata": {},
   "outputs": [
    {
     "name": "stdout",
     "output_type": "stream",
     "text": [
      "After changing the element {0: 'sunday', 1: 'monday', 2: 'friday', 3: 'wednesday', 4: 'thursday'}\n",
      "After adding the element : {0: 'sunday', 1: 'monday', 2: 'friday', 3: 'wednesday', 4: 'thursday', 5: 'saturday'}\n"
     ]
    }
   ],
   "source": [
    "#Changing and Adding Dictionary elements: add new items or change the value of existing items using an '=' operator\n",
    "dict_one = {0:'sunday', 1: 'monday', 2: 'tuesday', 3: 'wednesday', 4: 'thursday'}\n",
    "\n",
    "#change element\n",
    "dict_one[2] = 'friday'\n",
    "print(\"After changing the element\", dict_one)\n",
    "\n",
    "#Add element\n",
    "dict_one[5] = 'saturday'\n",
    "print(\"After adding the element :\", dict_one)"
   ]
  },
  {
   "cell_type": "code",
   "execution_count": 5,
   "metadata": {},
   "outputs": [
    {
     "name": "stdout",
     "output_type": "stream",
     "text": [
      "tuesday\n",
      "(4, 'thursday')\n"
     ]
    }
   ],
   "source": [
    "#Removing elements from Dictionary : Use the pop() or popitem() method\n",
    "dict_one = {0:'sunday', 1: 'monday', 2: 'tuesday', 3: 'wednesday', 4: 'thursday'}\n",
    "print(dict_one.pop(2))\n",
    "\n",
    "#popitem : remove an arbitrary item and return (key,value)\n",
    "print(dict_one.popitem())"
   ]
  },
  {
   "cell_type": "code",
   "execution_count": 6,
   "metadata": {},
   "outputs": [
    {
     "name": "stdout",
     "output_type": "stream",
     "text": [
      "{}\n"
     ]
    }
   ],
   "source": [
    "# remove all items : using clear method\n",
    "dict_one.clear()\n",
    "print(dict_one)"
   ]
  },
  {
   "cell_type": "code",
   "execution_count": 7,
   "metadata": {},
   "outputs": [
    {
     "name": "stdout",
     "output_type": "stream",
     "text": [
      "{'Computer Science': None, 'Space Science': None, 'Math': None, 'English': None}\n"
     ]
    }
   ],
   "source": [
    "#fromkeys(seq[, t]): Returns a new dictionary with keys from seq and value equal to t\n",
    "subjects = {}.fromkeys(['Computer Science','Space Science','Math','English'])\n",
    "print(subjects)"
   ]
  },
  {
   "cell_type": "code",
   "execution_count": 8,
   "metadata": {},
   "outputs": [
    {
     "name": "stdout",
     "output_type": "stream",
     "text": [
      "dict_items([(0, 'sunday'), (1, 'monday'), (2, 'tuesday'), (3, 'wednesday'), (4, 'thursday')])\n"
     ]
    }
   ],
   "source": [
    "#items() method : displays a list of dictionary's (key, value) tuple pairs\n",
    "dict_one = {0:'sunday', 1: 'monday', 2: 'tuesday', 3: 'wednesday', 4: 'thursday'}\n",
    "print(dict_one.items())"
   ]
  },
  {
   "cell_type": "code",
   "execution_count": 9,
   "metadata": {},
   "outputs": [
    {
     "name": "stdout",
     "output_type": "stream",
     "text": [
      "dict_keys([0, 1, 2, 3, 4])\n"
     ]
    }
   ],
   "source": [
    "#keys() method : displays a list of all the keys in the dictionary\n",
    "dict_one = {0:'sunday', 1: 'monday', 2: 'tuesday', 3: 'wednesday', 4: 'thursday'}\n",
    "print(dict_one.keys())"
   ]
  },
  {
   "cell_type": "code",
   "execution_count": 10,
   "metadata": {},
   "outputs": [
    {
     "name": "stdout",
     "output_type": "stream",
     "text": [
      "dict_values(['sunday', 'monday', 'tuesday', 'wednesday', 'thursday'])\n"
     ]
    }
   ],
   "source": [
    "#values() method : displays a list of all the values in the dictionary\n",
    "dict_one = {0:'sunday', 1: 'monday', 2: 'tuesday', 3: 'wednesday', 4: 'thursday'}\n",
    "print(dict_one.values())"
   ]
  },
  {
   "cell_type": "code",
   "execution_count": 11,
   "metadata": {},
   "outputs": [
    {
     "name": "stdout",
     "output_type": "stream",
     "text": [
      "wednesday\n",
      "If key is not present: dict_items([(0, 'sunday'), (1, 'monday'), (2, 'tuesday'), (3, 'wednesday'), (4, 'thursday'), (6, None)])\n"
     ]
    }
   ],
   "source": [
    "#setdefault() method : returns the value of a key. If not there, it inserts key with a value to the dictionary\n",
    "dict_one = {0:'sunday', 1: 'monday', 2: 'tuesday', 3: 'wednesday', 4: 'thursday'}\n",
    "element = dict_one.setdefault(3)\n",
    "print(element)\n",
    "\n",
    "#If key not present \n",
    "element = dict_one.setdefault(6)\n",
    "print(\"If key is not present:\", dict_one.items())"
   ]
  },
  {
   "cell_type": "code",
   "execution_count": 12,
   "metadata": {},
   "outputs": [
    {
     "name": "stdout",
     "output_type": "stream",
     "text": [
      "42\n",
      "19\n"
     ]
    }
   ],
   "source": [
    "#Nested Dictionaries\n",
    "people = {\n",
    "              \"subject\": {0:\"Maths\",1:\"English\",3:\"Science\"},\n",
    "              \"marks\": {0:42,1:36,2: 78},\n",
    "              \"Age\": {0:12,1:34,2:19}\n",
    "         }\n",
    "\n",
    "print(people[\"marks\"][0])\n",
    "print(people[\"Age\"][2])"
   ]
  },
  {
   "cell_type": "code",
   "execution_count": 13,
   "metadata": {},
   "outputs": [
    {
     "name": "stdout",
     "output_type": "stream",
     "text": [
      "[0, 1, 2, 3, 4]\n"
     ]
    }
   ],
   "source": [
    "#sorted(): Return a new sorted list of keys in the dictionary\n",
    "dict_one = {0:'sunday', 1: 'monday', 2: 'tuesday', 3: 'wednesday', 4: 'thursday'}\n",
    "print(sorted(dict_one))"
   ]
  },
  {
   "cell_type": "code",
   "execution_count": 14,
   "metadata": {},
   "outputs": [
    {
     "name": "stdout",
     "output_type": "stream",
     "text": [
      "(0, 'sunday')\n",
      "(1, 'monday')\n",
      "(2, 'tuesday')\n",
      "(3, 'wednesday')\n",
      "(4, 'thursday')\n"
     ]
    }
   ],
   "source": [
    "#Iterate through dictionay\n",
    "dict_one = {0:'sunday', 1: 'monday', 2: 'tuesday', 3: 'wednesday', 4: 'thursday'}\n",
    "for i in dict_one.items():\n",
    "    print(i)"
   ]
  },
  {
   "cell_type": "code",
   "execution_count": 15,
   "metadata": {},
   "outputs": [
    {
     "name": "stdout",
     "output_type": "stream",
     "text": [
      "{0: 0, 1: 1, 2: 8, 3: 27, 4: 64, 5: 125, 6: 216, 7: 343, 8: 512, 9: 729}\n"
     ]
    }
   ],
   "source": [
    "# Dictionary Comprehension\n",
    "cubes = {x: x*x*x for x in range(10)}\n",
    "print(cubes)"
   ]
  },
  {
   "cell_type": "code",
   "execution_count": 16,
   "metadata": {},
   "outputs": [
    {
     "name": "stdout",
     "output_type": "stream",
     "text": [
      "{0: 'zero', 4: 'four', 5: 'five', 2: 'two'}\n"
     ]
    }
   ],
   "source": [
    "# update() method : updates the dictionary with the elements from another dictionary object or from any other key/value pairs\n",
    "dict1 ={0:\"zero\",4:\"four\",5:\"five\"}\n",
    "dict2={2:\"two\"}\n",
    "\n",
    "# updates the value of key 2\n",
    "dict1.update(dict2)\n",
    "print(dict1)"
   ]
  },
  {
   "cell_type": "code",
   "execution_count": 17,
   "metadata": {},
   "outputs": [
    {
     "name": "stdout",
     "output_type": "stream",
     "text": [
      "True\n"
     ]
    }
   ],
   "source": [
    "# Membership Test : check if a key is in a dictionary or not using the keyword 'in'\n",
    "dict_one = {0:'sunday', 1: 'monday', 2: 'tuesday', 3: 'wednesday', 4: 'thursday'}\n",
    "print(0 in dict_one.keys())"
   ]
  }
 ],
 "metadata": {
  "kernelspec": {
   "display_name": "Python 3",
   "language": "python",
   "name": "python3"
  },
  "language_info": {
   "codemirror_mode": {
    "name": "ipython",
    "version": 3
   },
   "file_extension": ".py",
   "mimetype": "text/x-python",
   "name": "python",
   "nbconvert_exporter": "python",
   "pygments_lexer": "ipython3",
   "version": "3.11.3"
  }
 },
 "nbformat": 4,
 "nbformat_minor": 2
}
