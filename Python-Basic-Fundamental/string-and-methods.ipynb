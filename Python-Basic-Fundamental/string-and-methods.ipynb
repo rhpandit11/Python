{
 "cells": [
  {
   "cell_type": "code",
   "execution_count": 2,
   "metadata": {},
   "outputs": [
    {
     "name": "stdout",
     "output_type": "stream",
     "text": [
      "Welcome to complete Python Course\n",
      "Welcome to the complete Python Course\n",
      "This is a\n",
      "       multiline \n",
      "       String\n"
     ]
    }
   ],
   "source": [
    "#String\n",
    "str1 = \"Welcome to complete Python Course\"\n",
    "str2 = 'Welcome to the complete Python Course'\n",
    "str3 = \"\"\"This is a\n",
    "       multiline \n",
    "       String\"\"\"\n",
    "print(str1)\n",
    "print(str2)\n",
    "print(str3)"
   ]
  },
  {
   "cell_type": "code",
   "execution_count": 3,
   "metadata": {},
   "outputs": [
    {
     "name": "stdout",
     "output_type": "stream",
     "text": [
      "a\n"
     ]
    }
   ],
   "source": [
    "# Indexing : String starts with 0th Index\n",
    "s= \"Captain America\"\n",
    "print(s[4])"
   ]
  },
  {
   "cell_type": "code",
   "execution_count": 4,
   "metadata": {},
   "outputs": [
    {
     "name": "stdout",
     "output_type": "stream",
     "text": [
      "at\n"
     ]
    }
   ],
   "source": [
    "#Slicing : slice(start, stop, step), it returns a sliced object containing elements in the given range\n",
    "s= \"Captain America\"\n",
    "print(s[1:5:2])"
   ]
  },
  {
   "cell_type": "code",
   "execution_count": 5,
   "metadata": {},
   "outputs": [
    {
     "name": "stdout",
     "output_type": "stream",
     "text": [
      "aciremA niatpaC\n"
     ]
    }
   ],
   "source": [
    "#Reverse\n",
    "print(s[::-1])"
   ]
  },
  {
   "cell_type": "markdown",
   "metadata": {},
   "source": [
    "**METHODS**"
   ]
  },
  {
   "cell_type": "code",
   "execution_count": 6,
   "metadata": {},
   "outputs": [
    {
     "name": "stdout",
     "output_type": "stream",
     "text": [
      "Complete python course\n"
     ]
    }
   ],
   "source": [
    "#capitalize() method : Returns a copy of the string with its first #character capitalized and the rest lowercased\n",
    "a = \"complete python course\" \n",
    "print(a.capitalize())"
   ]
  },
  {
   "cell_type": "code",
   "execution_count": 7,
   "metadata": {},
   "outputs": [
    {
     "name": "stdout",
     "output_type": "stream",
     "text": [
      "**Python**\n"
     ]
    }
   ],
   "source": [
    "#centre(width[, fillchar])   : Returns the string centered in a string of length width\n",
    "a = \"Python\" \n",
    "b = a.center(10, \"*\")\n",
    "print(b)"
   ]
  },
  {
   "cell_type": "code",
   "execution_count": 8,
   "metadata": {},
   "outputs": [
    {
     "name": "stdout",
     "output_type": "stream",
     "text": [
      "python\n"
     ]
    }
   ],
   "source": [
    "# casefold() method : Returns a casefolded copy of the string. Casefolded strings may be used for caseless matching\n",
    "a = \"PYTHON\"\n",
    "print(a.casefold())"
   ]
  },
  {
   "cell_type": "code",
   "execution_count": 9,
   "metadata": {},
   "outputs": [
    {
     "name": "stdout",
     "output_type": "stream",
     "text": [
      "2\n",
      "5\n",
      "1\n"
     ]
    }
   ],
   "source": [
    "# count(sub[, start[, end]]) : Returns the number of non-overlapping occurrences of substring (sub) in the range [start, end]\n",
    "a = \"Welcome to complete Python Course\"\n",
    "print(a.count(\"c\"))\n",
    "print(a.count(\"o\"))\n",
    "print(a.count(\"Python\"))"
   ]
  },
  {
   "cell_type": "code",
   "execution_count": 10,
   "metadata": {},
   "outputs": [
    {
     "name": "stdout",
     "output_type": "stream",
     "text": [
      "False\n",
      "True\n"
     ]
    }
   ],
   "source": [
    "# endswith(suffix[, start[, end]]) : Returns True if the string ends with the specified suffix, otherwise it returns False\n",
    "a = \"Watermelon\"\n",
    "print(a.endswith(\"s\"))\n",
    "print(a.endswith(\"melon\"))"
   ]
  },
  {
   "cell_type": "code",
   "execution_count": 11,
   "metadata": {},
   "outputs": [
    {
     "name": "stdout",
     "output_type": "stream",
     "text": [
      "3\n",
      "2\n"
     ]
    }
   ],
   "source": [
    "# find(sub[, start[, end]]) : Returns the lowest index in the string where substring sub is found within the slice s[start:end]\n",
    "a = \"Exercise\"\n",
    "print(a.find(\"r\"))\n",
    "print(a.find(\"e\"))"
   ]
  },
  {
   "cell_type": "code",
   "execution_count": 12,
   "metadata": {},
   "outputs": [
    {
     "name": "stdout",
     "output_type": "stream",
     "text": [
      "4\n",
      "0\n",
      "5\n"
     ]
    }
   ],
   "source": [
    "# index(sub[, start[, end]]) : Similar to find function, except that it raises a ValueError when the substring is not found\n",
    "a = \"Continent\"\n",
    "print(a.index(\"i\"))\n",
    "print(a.index(\"C\"))\n",
    "print(a.index(\"nent\"))"
   ]
  },
  {
   "cell_type": "code",
   "execution_count": 22,
   "metadata": {},
   "outputs": [
    {
     "name": "stdout",
     "output_type": "stream",
     "text": [
      "True\n",
      "False\n"
     ]
    }
   ],
   "source": [
    "# isalnum() : Returns True if all characters in the string are alphanumeric, else returns False\n",
    "c = \"456aB\"\n",
    "d = \"$*%!!**\"\n",
    "print(c.isalnum())\n",
    "print(d.isalnum())"
   ]
  },
  {
   "cell_type": "code",
   "execution_count": 23,
   "metadata": {},
   "outputs": [
    {
     "name": "stdout",
     "output_type": "stream",
     "text": [
      "False\n",
      "True\n"
     ]
    }
   ],
   "source": [
    "# isalpha() : Returns True if all characters in the string are alphabetic, else returns False\n",
    "c = \"456\"\n",
    "d = \"Python\"\n",
    "print(c.isalpha())\n",
    "print(d.isalpha())"
   ]
  },
  {
   "cell_type": "code",
   "execution_count": 24,
   "metadata": {},
   "outputs": [
    {
     "name": "stdout",
     "output_type": "stream",
     "text": [
      "False\n",
      "True\n"
     ]
    }
   ],
   "source": [
    "# isdecimal() : Returns True if all characters in the string are decimal characters, else returns False\n",
    "c = u\"\\u00B10\"\n",
    "x = \"10\"\n",
    "print(c.isdecimal())\n",
    "print(x.isdecimal())"
   ]
  },
  {
   "cell_type": "code",
   "execution_count": 25,
   "metadata": {},
   "outputs": [
    {
     "name": "stdout",
     "output_type": "stream",
     "text": [
      "True\n",
      "False\n"
     ]
    }
   ],
   "source": [
    "# isdigit() : Returns True if all characters in the string are digits, else returns False\n",
    "c = \"4567\"\n",
    "d = \"1.65\"\n",
    "print(c.isdigit())\n",
    "print(d.isdigit())"
   ]
  },
  {
   "cell_type": "code",
   "execution_count": 28,
   "metadata": {},
   "outputs": [
    {
     "name": "stdout",
     "output_type": "stream",
     "text": [
      "C,D\n"
     ]
    }
   ],
   "source": [
    "# join(iterable) : Returns a string which is the concatenation of the strings in iterable. \n",
    "# A TypeError will be raised if there are any non-string values in iterable\n",
    "a = \",\"\n",
    "print(a.join(\"CD\"))"
   ]
  },
  {
   "cell_type": "code",
   "execution_count": 29,
   "metadata": {},
   "outputs": [
    {
     "name": "stdout",
     "output_type": "stream",
     "text": [
      "('Complete.Python', '-', 'course')\n",
      "('Complete', '.', 'Python-course')\n"
     ]
    }
   ],
   "source": [
    "# partition(sep) : Splits the string at the first occurrence of sep, and returns a 3-tuple containing the part before the separator, the separator itself, and the part after the separator\n",
    "a = \"Complete.Python-course\"\n",
    "print(a.partition(\"-\"))\n",
    "print(a.partition(\".\"))"
   ]
  },
  {
   "cell_type": "code",
   "execution_count": 30,
   "metadata": {},
   "outputs": [
    {
     "name": "stdout",
     "output_type": "stream",
     "text": [
      "['Welcome', '', 'Friends', '']\n"
     ]
    }
   ],
   "source": [
    "# split(sep=None, maxsplit=-1) : Returns a list of the words in the string, using sep as the delimiter strip. \n",
    "# If maxsplit is given,at most maxsplit splits are done.If maxsplit is not specified or -1, then there is no limit on the number of splits.\n",
    "a = \"Welcome,,Friends,\"\n",
    "print(a.split(\",\"))"
   ]
  },
  {
   "cell_type": "code",
   "execution_count": 31,
   "metadata": {},
   "outputs": [
    {
     "name": "stdout",
     "output_type": "stream",
     "text": [
      "Python\n"
     ]
    }
   ],
   "source": [
    "# strip([chars]) : Returns a copy of the string with leading and trailing characters removed. The chars argument is a string specifying the set of characters to be removed\n",
    "a = \"***Python***\"\n",
    "print(a.strip(\"*\"))"
   ]
  },
  {
   "cell_type": "code",
   "execution_count": 32,
   "metadata": {},
   "outputs": [
    {
     "name": "stdout",
     "output_type": "stream",
     "text": [
      "hI hOMIES\n"
     ]
    }
   ],
   "source": [
    "# swapcase() : Returns a copy of the string with uppercase characters converted to lowercase and vice versa\n",
    "a = \"Hi Homies\"\n",
    "print(a.swapcase())"
   ]
  },
  {
   "cell_type": "code",
   "execution_count": 33,
   "metadata": {},
   "outputs": [
    {
     "name": "stdout",
     "output_type": "stream",
     "text": [
      "-00124\n"
     ]
    }
   ],
   "source": [
    "# zfill(width) : Returns a copy of the string left filled with ASCII 0 digits to make a string of length width\n",
    "a = \"-124\"\n",
    "print(a.zfill(6))"
   ]
  },
  {
   "cell_type": "code",
   "execution_count": 34,
   "metadata": {},
   "outputs": [
    {
     "name": "stdout",
     "output_type": "stream",
     "text": [
      "Python-----\n"
     ]
    }
   ],
   "source": [
    "# lstrip([chars]) : Return a copy of the string with leading characters removed. The chars argument is a string specifying the set of characters to be removed.\n",
    "a = \"*****Python-----\"\n",
    "print(a.lstrip(\"*\"))"
   ]
  },
  {
   "cell_type": "code",
   "execution_count": 35,
   "metadata": {},
   "outputs": [
    {
     "name": "stdout",
     "output_type": "stream",
     "text": [
      "7\n",
      "3\n"
     ]
    }
   ],
   "source": [
    "# rindex(sub[, start[, end]]) : Just like rfind() but raises ValueError when the substring sub is not found\n",
    "a = \"Hi World\"\n",
    "print(a.rindex(\"d\"))\n",
    "print(a.rindex(\"W\"))"
   ]
  },
  {
   "cell_type": "code",
   "execution_count": 36,
   "metadata": {},
   "outputs": [
    {
     "name": "stdout",
     "output_type": "stream",
     "text": [
      "Max of 12 and 25 is 25\n"
     ]
    }
   ],
   "source": [
    "def max_no(x,y):\n",
    "    return x if x>y else y\n",
    "\n",
    "f_no= 12\n",
    "s_no =25\n",
    "print(f'Max of {f_no} and {s_no} is {max(f_no,s_no)}')"
   ]
  },
  {
   "cell_type": "code",
   "execution_count": 37,
   "metadata": {},
   "outputs": [
    {
     "name": "stdout",
     "output_type": "stream",
     "text": [
      "result:  12\n"
     ]
    }
   ],
   "source": [
    "from decimal import Decimal\n",
    "width = 4\n",
    "round_point = 2\n",
    "value = Decimal('12.39065')\n",
    "print(f'result:{value:{width}.{round_point}}')"
   ]
  }
 ],
 "metadata": {
  "kernelspec": {
   "display_name": "Python 3",
   "language": "python",
   "name": "python3"
  },
  "language_info": {
   "codemirror_mode": {
    "name": "ipython",
    "version": 3
   },
   "file_extension": ".py",
   "mimetype": "text/x-python",
   "name": "python",
   "nbconvert_exporter": "python",
   "pygments_lexer": "ipython3",
   "version": "3.11.3"
  }
 },
 "nbformat": 4,
 "nbformat_minor": 2
}
