{
 "cells": [
  {
   "cell_type": "code",
   "execution_count": 1,
   "metadata": {},
   "outputs": [
    {
     "name": "stdout",
     "output_type": "stream",
     "text": [
      "(10, 'Hello', 3.14, 'a')\n",
      "<class 'tuple'>\n"
     ]
    }
   ],
   "source": [
    "# Tuple with items\n",
    "tup= (10,\"Hello\",3.14,\"a\")\n",
    "print(tup)\n",
    "print(type(tup))"
   ]
  },
  {
   "cell_type": "code",
   "execution_count": 2,
   "metadata": {},
   "outputs": [
    {
     "name": "stdout",
     "output_type": "stream",
     "text": [
      "3.14\n",
      "('a', 3.14, 'Hello', 10)\n"
     ]
    }
   ],
   "source": [
    "# Negative Indexing : index of -1 refers to the last item, -2 to the second last item and so on\n",
    "tup = (10,\"Hello\",3.14,\"a\")\n",
    "print(tup[-2])\n",
    "\n",
    "#Reverse the tuple\n",
    "print(tup[::-1])"
   ]
  },
  {
   "cell_type": "code",
   "execution_count": 3,
   "metadata": {},
   "outputs": [
    {
     "name": "stdout",
     "output_type": "stream",
     "text": [
      "(10, 'Hello', 3.14, 'a', 50, 60)\n",
      "(10, 'Hello', 3.14, 'a', 10, 'Hello', 3.14, 'a')\n"
     ]
    }
   ],
   "source": [
    "#concatenation and repeat in Tuples concatenation using + operator\n",
    "tup = (10,\"Hello\",3.14,\"a\")\n",
    "print(tup + (50,60))\n",
    "\n",
    "#repeat using * operator\n",
    "print(tup * 2)"
   ]
  },
  {
   "cell_type": "code",
   "execution_count": 4,
   "metadata": {},
   "outputs": [
    {
     "name": "stdout",
     "output_type": "stream",
     "text": [
      "True\n",
      "False\n"
     ]
    }
   ],
   "source": [
    "#membership : check if an item exists in a tuple or not, using the keyword in\n",
    "tup = (10,\"Hello\",3.14,\"a\")\n",
    "print(10 in tup)\n",
    "print(\"World\" in tup)"
   ]
  },
  {
   "cell_type": "code",
   "execution_count": 5,
   "metadata": {},
   "outputs": [
    {
     "name": "stdout",
     "output_type": "stream",
     "text": [
      "10\n",
      "Hello\n",
      "3.14\n",
      "a\n"
     ]
    }
   ],
   "source": [
    "#Iterate through Tuple : use for loop to iterate through each item in a tuple\n",
    "tup = (10,\"Hello\",3.14,\"a\")\n",
    "for i in tup:\n",
    "    print(i)"
   ]
  },
  {
   "cell_type": "code",
   "execution_count": 9,
   "metadata": {},
   "outputs": [
    {
     "name": "stdout",
     "output_type": "stream",
     "text": [
      "((10, 'Hello', 3.14, 'a'), (70, (8, 'Mike')))\n",
      "(10, 'Hello', 3.14, 'a')\n",
      "(70, (8, 'Mike'))\n"
     ]
    }
   ],
   "source": [
    "#Nested Tuple\n",
    "nest_tup = ((10,\"Hello\",3.14,\"a\"), (70,(8,\"Mike\")))\n",
    "print(nest_tup)\n",
    "a,b = nest_tup\n",
    "print(a)\n",
    "print(b)"
   ]
  },
  {
   "cell_type": "code",
   "execution_count": 10,
   "metadata": {},
   "outputs": [
    {
     "name": "stdout",
     "output_type": "stream",
     "text": [
      "(0, 10)\n",
      "(1, 'Hello')\n",
      "(2, 3.14)\n",
      "(3, 'a')\n"
     ]
    }
   ],
   "source": [
    "#Enumerate : use enumerate function\n",
    "tup = (10,\"Hello\",3.14,\"a\")\n",
    "for i in enumerate(tup):\n",
    "    print(i)"
   ]
  }
 ],
 "metadata": {
  "kernelspec": {
   "display_name": "Python 3",
   "language": "python",
   "name": "python3"
  },
  "language_info": {
   "codemirror_mode": {
    "name": "ipython",
    "version": 3
   },
   "file_extension": ".py",
   "mimetype": "text/x-python",
   "name": "python",
   "nbconvert_exporter": "python",
   "pygments_lexer": "ipython3",
   "version": "3.11.3"
  }
 },
 "nbformat": 4,
 "nbformat_minor": 2
}
