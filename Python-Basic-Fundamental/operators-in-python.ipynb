{
 "cells": [
  {
   "cell_type": "code",
   "execution_count": 1,
   "metadata": {},
   "outputs": [
    {
     "name": "stdout",
     "output_type": "stream",
     "text": [
      "Addition: 14\n",
      "Subtraction: 6\n",
      "Multiply:  40\n",
      "Division: 2.5\n",
      "Modulus: 2\n",
      "Floor Division: 2\n",
      "Exponent: 10000\n"
     ]
    }
   ],
   "source": [
    "#Arithmetic Operators\n",
    "x=10\n",
    "y=4\n",
    "\n",
    "#Addition\n",
    "print(\"Addition:\",x+y)#Subtraction\n",
    "print(\"Subtraction:\",x-y)#Multiply\n",
    "print(\"Multiply: \",x*y)#Division\n",
    "print(\"Division:\",x/y)#Modulus\n",
    "print(\"Modulus:\",x%y)#Floor Division\n",
    "print(\"Floor Division:\",x//y)#Exponent\n",
    "print(\"Exponent:\",x**y)"
   ]
  },
  {
   "cell_type": "code",
   "execution_count": 2,
   "metadata": {},
   "outputs": [
    {
     "name": "stdout",
     "output_type": "stream",
     "text": [
      "Greater than: True\n",
      "Greater than: False\n",
      "Greater than equal to: True\n",
      "Less than: False\n",
      "Not equal to: True\n",
      "Equal to: False\n"
     ]
    }
   ],
   "source": [
    "#Comparison Operator  : Result is either True or False\n",
    "x=5\n",
    "y=3\n",
    "\n",
    "#Greater than\n",
    "print(\"Greater than:\",x>y)#Less than\n",
    "print(\"Greater than:\",x<y)#Greater than equal to \n",
    "print(\"Greater than equal to:\",x>=y)#less than equal to\n",
    "print(\"Less than:\",x<=y)#Not equal to \n",
    "print(\"Not equal to:\",x!=y)#Equal to\n",
    "print(\"Equal to:\",x==y)"
   ]
  },
  {
   "cell_type": "code",
   "execution_count": 3,
   "metadata": {},
   "outputs": [
    {
     "name": "stdout",
     "output_type": "stream",
     "text": [
      "And result: False\n",
      "Or result: True\n",
      "Not result: True\n"
     ]
    }
   ],
   "source": [
    "#Logical Operators : and, or, not [Result is either True or False]\n",
    "x= True\n",
    "y= False\n",
    "\n",
    "#And\n",
    "print(\"And result:\",(x and y))#Or\n",
    "print(\"Or result:\",(x or y))#Not\n",
    "print(\"Not result:\",(not y))"
   ]
  },
  {
   "cell_type": "code",
   "execution_count": 4,
   "metadata": {},
   "outputs": [
    {
     "name": "stdout",
     "output_type": "stream",
     "text": [
      "And result: 992\n",
      "Or result: 1019\n",
      "Not result: -1011\n",
      "XOR result: 27\n",
      "Bitwise right shift result: 250\n",
      "Bitwise left shift result: 4004\n"
     ]
    }
   ],
   "source": [
    "# Bitwise operators\n",
    "x = 1001\n",
    "y = 1010\n",
    "\n",
    "#And\n",
    "print(\"And result:\",(x & y))#Or\n",
    "print(\"Or result:\",(x | y))#Not\n",
    "print(\"Not result:\",(~y))#Xor\n",
    "print(\"XOR result:\",(x^y))#Bitwise right shift\n",
    "print(\"Bitwise right shift result:\",(x>>2))#Bitwise left shift\n",
    "print(\"Bitwise left shift result:\",(x<<2))"
   ]
  },
  {
   "cell_type": "code",
   "execution_count": 6,
   "metadata": {},
   "outputs": [
    {
     "name": "stdout",
     "output_type": "stream",
     "text": [
      "256\n"
     ]
    }
   ],
   "source": [
    "# Assignment operators : used in Python to assign values to variables\n",
    "x=5\n",
    "x+=5\n",
    "x-=2\n",
    "x*=2\n",
    "x**=2\n",
    "print(x)"
   ]
  },
  {
   "cell_type": "code",
   "execution_count": 7,
   "metadata": {},
   "outputs": [
    {
     "name": "stdout",
     "output_type": "stream",
     "text": [
      "Is operator result: True\n",
      "Not is operator result: True\n"
     ]
    }
   ],
   "source": [
    "# Identity Operator : is and is not are the identity operators in Python\n",
    "x=5\n",
    "y=5\n",
    "z='a'\n",
    "print(\"Is operator result:\", (x is y))\n",
    "print(\"Not is operator result:\", (y is not z))"
   ]
  },
  {
   "cell_type": "code",
   "execution_count": 8,
   "metadata": {},
   "outputs": [
    {
     "name": "stdout",
     "output_type": "stream",
     "text": [
      "True\n",
      "False\n"
     ]
    }
   ],
   "source": [
    "#Membership operator : in operator\n",
    "x = 'Python Course'\n",
    "print('y' in x)\n",
    "print('a' in x)"
   ]
  },
  {
   "cell_type": "markdown",
   "metadata": {},
   "source": [
    "**Chaining Comparison Operators with Logical Operators**"
   ]
  },
  {
   "cell_type": "code",
   "execution_count": 9,
   "metadata": {},
   "outputs": [
    {
     "name": "stdout",
     "output_type": "stream",
     "text": [
      "False\n",
      "False\n"
     ]
    }
   ],
   "source": [
    "#Chaining Comparison operators with Logical operators\n",
    "a, b, c, d, e, f, g = 10, 15, 2, 1, 45, 25, 19\n",
    "e1 = a <= b < c > d < e is not f is g\n",
    "e2 = a is d < f is c\n",
    "print(e1)\n",
    "print(e2)"
   ]
  }
 ],
 "metadata": {
  "kernelspec": {
   "display_name": "Python 3",
   "language": "python",
   "name": "python3"
  },
  "language_info": {
   "codemirror_mode": {
    "name": "ipython",
    "version": 3
   },
   "file_extension": ".py",
   "mimetype": "text/x-python",
   "name": "python",
   "nbconvert_exporter": "python",
   "pygments_lexer": "ipython3",
   "version": "3.11.3"
  }
 },
 "nbformat": 4,
 "nbformat_minor": 2
}
