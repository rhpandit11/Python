{
 "cells": [
  {
   "cell_type": "code",
   "execution_count": 1,
   "metadata": {},
   "outputs": [
    {
     "name": "stdout",
     "output_type": "stream",
     "text": [
      "{40, 10, 20, 30}\n",
      "{40, 10, 20, 30}\n"
     ]
    }
   ],
   "source": [
    "#Create Set\n",
    "set_one = {10, 20, 30, 40}\n",
    "print(set_one)\n",
    "\n",
    "#Create set from list using set() \n",
    "set_two = set([10, 20, 30, 40, 30, 20])\n",
    "print(set_two)"
   ]
  },
  {
   "cell_type": "code",
   "execution_count": 2,
   "metadata": {},
   "outputs": [
    {
     "name": "stdout",
     "output_type": "stream",
     "text": [
      "After discard: {70, 40, 10, 80, 20, 60, 30}\n",
      "After removing element: {70, 10, 80, 20, 60, 30}\n",
      "After removing element: {10, 80, 20, 60, 30}\n"
     ]
    }
   ],
   "source": [
    "# Removing elements : Use the methods discard(), pop() and remove()\n",
    "set_one = {100, 70, 40, 10, 80, 20, 60, 30}\n",
    "\n",
    "#discard() method\n",
    "set_one.discard(100)\n",
    "print(\"After discard:\",set_one)\n",
    "\n",
    "#remove() method\n",
    "set_one.remove(40)\n",
    "print(\"After removing element:\", set_one)\n",
    "\n",
    "#pop() method\n",
    "set_one.pop()\n",
    "print(\"After removing element:\", set_one)"
   ]
  },
  {
   "cell_type": "code",
   "execution_count": 3,
   "metadata": {},
   "outputs": [
    {
     "name": "stdout",
     "output_type": "stream",
     "text": [
      "Set Union: {100, 70, 40, 10, 80, 50, 20, 60, 30}\n",
      "Set Intersection: {50}\n",
      "Set Difference: {10, 20, 30}\n",
      "Set Symmetric Difference: {80, 50, 100, 70, 60}\n"
     ]
    }
   ],
   "source": [
    "#Set operations \n",
    "X = {10, 20, 30, 40, 50}\n",
    "Y = {40, 50, 60, 70, 80}\n",
    "Z = {20, 30, 100, 50, 10}\n",
    "\n",
    "#Union : Union of X, Y, Z is a set of all elements from all three #sets using | operator or union() method\n",
    "print(\"Set Union:\", X|Y|Z)\n",
    "\n",
    "#Intersection :Intersection of X, Y, Z is a set of all elements from #all three sets using & operator or intersection()\n",
    "print(\"Set Intersection:\", X&Y&Z)\n",
    "\n",
    "#Difference : Difference of X, Y is a set of all elements from both #sets using - operator or difference()\n",
    "print(\"Set Difference:\", X-Y)\n",
    "\n",
    "# Symmetric Difference : Symmetric Difference of X, Y, Z is a set of #all elements from all three sets using ^ operator or #symmetric_difference()            \n",
    "print(\"Set Symmetric Difference:\", X^Y^Z)"
   ]
  },
  {
   "cell_type": "code",
   "execution_count": 4,
   "metadata": {},
   "outputs": [
    {
     "name": "stdout",
     "output_type": "stream",
     "text": [
      "(0, 50)\n",
      "(1, 20)\n",
      "(2, 40)\n",
      "(3, 10)\n",
      "(4, 30)\n"
     ]
    }
   ],
   "source": [
    "#enumerate : Returns an enumerate object which contains the index #and value for all the items of the set as a pair\n",
    "set_one = {10, 20, 30, 40, 50, 30}\n",
    "for i in enumerate(set_one):\n",
    "    print(i)"
   ]
  },
  {
   "cell_type": "code",
   "execution_count": 5,
   "metadata": {},
   "outputs": [
    {
     "name": "stdout",
     "output_type": "stream",
     "text": [
      "frozenset({70, 40, 10, 80, 50, 20, 60, 30})\n"
     ]
    }
   ],
   "source": [
    "#Frozenset : set which has the characteristics of a set, but its elements cannot be changed once assigned\n",
    "X = frozenset([10, 20, 30, 40, 50])\n",
    "Y = frozenset([40, 50, 60, 70, 80])\n",
    "print(X.union(Y))"
   ]
  }
 ],
 "metadata": {
  "kernelspec": {
   "display_name": "Python 3",
   "language": "python",
   "name": "python3"
  },
  "language_info": {
   "codemirror_mode": {
    "name": "ipython",
    "version": 3
   },
   "file_extension": ".py",
   "mimetype": "text/x-python",
   "name": "python",
   "nbconvert_exporter": "python",
   "pygments_lexer": "ipython3",
   "version": "3.11.3"
  }
 },
 "nbformat": 4,
 "nbformat_minor": 2
}
