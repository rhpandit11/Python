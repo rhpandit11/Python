{
 "cells": [
  {
   "cell_type": "code",
   "execution_count": 5,
   "metadata": {},
   "outputs": [
    {
     "name": "stdout",
     "output_type": "stream",
     "text": [
      "5\n"
     ]
    }
   ],
   "source": [
    "#1. Question: Given a list of numbers, write a Python function to find the second highest number.\n",
    "def second_highest(list1):\n",
    "    l1 = list(set(list1))\n",
    "    l1.sort()\n",
    "    return l1[-2]\n",
    "list1 = [1, 3, 2, 4, 4, 5, 6, 6]\n",
    "print(second_highest(list1))"
   ]
  },
  {
   "cell_type": "code",
   "execution_count": 2,
   "metadata": {},
   "outputs": [
    {
     "name": "stdout",
     "output_type": "stream",
     "text": [
      "120\n"
     ]
    }
   ],
   "source": [
    "#2. Question: Write a function to compute the factorial of a number using recursion.\n",
    "\n",
    "def fact(x):\n",
    "    if x == 0:\n",
    "        return 1\n",
    "    return fact(x-1)*x\n",
    "print(fact(5))"
   ]
  },
  {
   "cell_type": "code",
   "execution_count": 5,
   "metadata": {},
   "outputs": [
    {
     "name": "stdout",
     "output_type": "stream",
     "text": [
      "['radar', 'level']\n"
     ]
    }
   ],
   "source": [
    "#3. Question: You are given a list of strings. Write a function to filter out all strings that are palindromes.\n",
    "def is_palindrome(s):\n",
    "    s = ''.join(e for e in s if e.isalnum())\n",
    "    return s.lower() == s.lower()[::-1]\n",
    "\n",
    "def filter_palindrome(strings):\n",
    "    return [s for s in strings if is_palindrome(s)]\n",
    "\n",
    "words = [\"radar\", \"python\", \"level\", \"world\"]\n",
    "print(filter_palindrome(words))"
   ]
  },
  {
   "cell_type": "code",
   "execution_count": 7,
   "metadata": {},
   "outputs": [
    {
     "name": "stdout",
     "output_type": "stream",
     "text": [
      "True\n"
     ]
    }
   ],
   "source": [
    "#4. Question: Given a string, write a function to check if it is an anagram of another string.\n",
    "def are_anagram(str1,str2):\n",
    "    return sorted(str1) == sorted(str2)\n",
    "\n",
    "str1 = \"listen\"\n",
    "str2 = \"silent\"\n",
    "print(are_anagram(str1,str2))"
   ]
  },
  {
   "cell_type": "code",
   "execution_count": 24,
   "metadata": {},
   "outputs": [
    {
     "name": "stdout",
     "output_type": "stream",
     "text": [
      "[1, 2, 3, 4, 5, 6]\n"
     ]
    }
   ],
   "source": [
    "#5. Question: Write a function to flatten a nested list.\n",
    "def sorted_list(nested_list):\n",
    "    l1 = []\n",
    "    for i in nested_list:\n",
    "        if type(i) is list:\n",
    "            l1.extend(sorted_list(i))\n",
    "        else:\n",
    "            l1.append(i)\n",
    "    return l1\n",
    "nested_list = [1, [2, 3, [4, 5]], 6]\n",
    "print(sorted_list(nested_list))"
   ]
  },
  {
   "cell_type": "code",
   "execution_count": 25,
   "metadata": {},
   "outputs": [
    {
     "name": "stdout",
     "output_type": "stream",
     "text": [
      "[1, 2, 3, 4, 5, 6]\n"
     ]
    }
   ],
   "source": [
    "def flatten(lst):\n",
    "    result = []\n",
    "    for i in lst:\n",
    "        if isinstance(i, list):\n",
    "            result.extend(flatten(i))\n",
    "        else:\n",
    "            result.append(i)\n",
    "    return result\n",
    "\n",
    "nested_list = [1, [2, 3, [4, 5]], 6]\n",
    "print(flatten(nested_list))  # Output: [1, 2, 3, 4, 5, 6]\n"
   ]
  },
  {
   "cell_type": "code",
   "execution_count": 1,
   "metadata": {},
   "outputs": [
    {
     "name": "stdout",
     "output_type": "stream",
     "text": [
      "[4, 5]\n"
     ]
    }
   ],
   "source": [
    "#6. Question: Given two lists, write a function that returns the elements that are common to both lists.\n",
    "\n",
    "def common_lst(lst1,lst2):\n",
    "    lst = []\n",
    "    for i in lst1:\n",
    "        if i in lst2:\n",
    "            lst.append(i)\n",
    "    return lst\n",
    "list1 = [1, 2, 3, 4, 5]\n",
    "list2 = [4, 5, 6, 7, 8]\n",
    "print(common_lst(list1,list2))"
   ]
  },
  {
   "cell_type": "code",
   "execution_count": 3,
   "metadata": {},
   "outputs": [
    {
     "name": "stdout",
     "output_type": "stream",
     "text": [
      "[4, 5]\n"
     ]
    }
   ],
   "source": [
    "def common_elements(list1, list2):\n",
    "    return list(set(list1) & set(list2))\n",
    "\n",
    "list1 = [1, 2, 3, 4, 5]\n",
    "list2 = [4, 5, 6, 7, 8]\n",
    "print(common_elements(list1, list2))  # Output: [4, 5]"
   ]
  },
  {
   "cell_type": "code",
   "execution_count": 2,
   "metadata": {},
   "outputs": [
    {
     "name": "stdout",
     "output_type": "stream",
     "text": [
      "4\n"
     ]
    }
   ],
   "source": [
    "#7. Question: Write a function that returns the number of words in a string.\n",
    "def word_count(sentence):\n",
    "    return len(sentence.split())\n",
    "sentence = \"The quick brown fox\"\n",
    "print(word_count(sentence))"
   ]
  }
 ],
 "metadata": {
  "kernelspec": {
   "display_name": "Python 3",
   "language": "python",
   "name": "python3"
  },
  "language_info": {
   "codemirror_mode": {
    "name": "ipython",
    "version": 3
   },
   "file_extension": ".py",
   "mimetype": "text/x-python",
   "name": "python",
   "nbconvert_exporter": "python",
   "pygments_lexer": "ipython3",
   "version": "3.11.3"
  }
 },
 "nbformat": 4,
 "nbformat_minor": 2
}
