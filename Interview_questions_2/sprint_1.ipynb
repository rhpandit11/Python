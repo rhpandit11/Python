{
 "cells": [
  {
   "cell_type": "code",
   "execution_count": 5,
   "metadata": {},
   "outputs": [
    {
     "name": "stdout",
     "output_type": "stream",
     "text": [
      "5\n"
     ]
    }
   ],
   "source": [
    "#1. Question: Given a list of numbers, write a Python function to find the second highest number.\n",
    "def second_highest(list1):\n",
    "    l1 = list(set(list1))\n",
    "    l1.sort()\n",
    "    return l1[-2]\n",
    "list1 = [1, 3, 2, 4, 4, 5, 6, 6]\n",
    "print(second_highest(list1))"
   ]
  },
  {
   "cell_type": "code",
   "execution_count": 2,
   "metadata": {},
   "outputs": [
    {
     "name": "stdout",
     "output_type": "stream",
     "text": [
      "120\n"
     ]
    }
   ],
   "source": [
    "#2. Question: Write a function to compute the factorial of a number using recursion.\n",
    "\n",
    "def fact(x):\n",
    "    if x == 0:\n",
    "        return 1\n",
    "    return fact(x-1)*x\n",
    "print(fact(5))"
   ]
  },
  {
   "cell_type": "code",
   "execution_count": 5,
   "metadata": {},
   "outputs": [
    {
     "name": "stdout",
     "output_type": "stream",
     "text": [
      "['radar', 'level']\n"
     ]
    }
   ],
   "source": [
    "#3. Question: You are given a list of strings. Write a function to filter out all strings that are palindromes.\n",
    "def is_palindrome(s):\n",
    "    s = ''.join(e for e in s if e.isalnum())\n",
    "    return s.lower() == s.lower()[::-1]\n",
    "\n",
    "def filter_palindrome(strings):\n",
    "    return [s for s in strings if is_palindrome(s)]\n",
    "\n",
    "words = [\"radar\", \"python\", \"level\", \"world\"]\n",
    "print(filter_palindrome(words))"
   ]
  },
  {
   "cell_type": "code",
   "execution_count": 7,
   "metadata": {},
   "outputs": [
    {
     "name": "stdout",
     "output_type": "stream",
     "text": [
      "True\n"
     ]
    }
   ],
   "source": [
    "#4. Question: Given a string, write a function to check if it is an anagram of another string.\n",
    "def are_anagram(str1,str2):\n",
    "    return sorted(str1) == sorted(str2)\n",
    "\n",
    "str1 = \"listen\"\n",
    "str2 = \"silent\"\n",
    "print(are_anagram(str1,str2))"
   ]
  },
  {
   "cell_type": "code",
   "execution_count": 24,
   "metadata": {},
   "outputs": [
    {
     "name": "stdout",
     "output_type": "stream",
     "text": [
      "[1, 2, 3, 4, 5, 6]\n"
     ]
    }
   ],
   "source": [
    "#5. Question: Write a function to flatten a nested list.\n",
    "def sorted_list(nested_list):\n",
    "    l1 = []\n",
    "    for i in nested_list:\n",
    "        if type(i) is list:\n",
    "            l1.extend(sorted_list(i))\n",
    "        else:\n",
    "            l1.append(i)\n",
    "    return l1\n",
    "nested_list = [1, [2, 3, [4, 5]], 6]\n",
    "print(sorted_list(nested_list))"
   ]
  },
  {
   "cell_type": "code",
   "execution_count": 25,
   "metadata": {},
   "outputs": [
    {
     "name": "stdout",
     "output_type": "stream",
     "text": [
      "[1, 2, 3, 4, 5, 6]\n"
     ]
    }
   ],
   "source": [
    "def flatten(lst):\n",
    "    result = []\n",
    "    for i in lst:\n",
    "        if isinstance(i, list):\n",
    "            result.extend(flatten(i))\n",
    "        else:\n",
    "            result.append(i)\n",
    "    return result\n",
    "\n",
    "nested_list = [1, [2, 3, [4, 5]], 6]\n",
    "print(flatten(nested_list))  # Output: [1, 2, 3, 4, 5, 6]\n"
   ]
  },
  {
   "cell_type": "code",
   "execution_count": 1,
   "metadata": {},
   "outputs": [
    {
     "name": "stdout",
     "output_type": "stream",
     "text": [
      "[4, 5]\n"
     ]
    }
   ],
   "source": [
    "#6. Question: Given two lists, write a function that returns the elements that are common to both lists.\n",
    "\n",
    "def common_lst(lst1,lst2):\n",
    "    lst = []\n",
    "    for i in lst1:\n",
    "        if i in lst2:\n",
    "            lst.append(i)\n",
    "    return lst\n",
    "list1 = [1, 2, 3, 4, 5]\n",
    "list2 = [4, 5, 6, 7, 8]\n",
    "print(common_lst(list1,list2))"
   ]
  },
  {
   "cell_type": "code",
   "execution_count": 3,
   "metadata": {},
   "outputs": [
    {
     "name": "stdout",
     "output_type": "stream",
     "text": [
      "[4, 5]\n"
     ]
    }
   ],
   "source": [
    "def common_elements(list1, list2):\n",
    "    return list(set(list1) & set(list2))\n",
    "\n",
    "list1 = [1, 2, 3, 4, 5]\n",
    "list2 = [4, 5, 6, 7, 8]\n",
    "print(common_elements(list1, list2))  # Output: [4, 5]"
   ]
  },
  {
   "cell_type": "code",
   "execution_count": 2,
   "metadata": {},
   "outputs": [
    {
     "name": "stdout",
     "output_type": "stream",
     "text": [
      "4\n"
     ]
    }
   ],
   "source": [
    "#7. Question: Write a function that returns the number of words in a string.\n",
    "def word_count(sentence):\n",
    "    return len(sentence.split())\n",
    "sentence = \"The quick brown fox\"\n",
    "print(word_count(sentence))"
   ]
  },
  {
   "cell_type": "code",
   "execution_count": 1,
   "metadata": {},
   "outputs": [
    {
     "name": "stdout",
     "output_type": "stream",
     "text": [
      "{'a': 1, 'b': 3, 'c': 4}\n"
     ]
    }
   ],
   "source": [
    "#8. Question: Write a Python function to merge two dictionaries. If both dictionaries have the same key, prefer the second \n",
    "# dictionary's value.\n",
    "\n",
    "def merge_dicts(dict1,dict2):\n",
    "    merged = dict1.copy()\n",
    "    merged.update(dict2)\n",
    "    return merged\n",
    "dict1 = {'a': 1, 'b': 2}\n",
    "dict2 = {'b': 3, 'c': 4}\n",
    "print(merge_dicts(dict1, dict2))"
   ]
  },
  {
   "cell_type": "code",
   "execution_count": 4,
   "metadata": {},
   "outputs": [
    {
     "name": "stdout",
     "output_type": "stream",
     "text": [
      "{'a': 2, 'b': 3, 'c': 1, 'd': 4, 'e': 1}\n",
      "d\n"
     ]
    }
   ],
   "source": [
    "#9. Question: Write a function that finds the most repeated character in a string.\n",
    "\n",
    "def most_repeated(s):\n",
    "    char_count = {}\n",
    "    for char in s:\n",
    "        if char in char_count:\n",
    "            char_count[char] += 1\n",
    "        else:\n",
    "            char_count[char] = 1\n",
    "    print(char_count)\n",
    "    max_char = max(char_count, key=char_count.get)\n",
    "    return max_char\n",
    "string = \"aabbbcdddde\"\n",
    "print(most_repeated(string))"
   ]
  },
  {
   "cell_type": "code",
   "execution_count": 6,
   "metadata": {},
   "outputs": [
    {
     "name": "stdout",
     "output_type": "stream",
     "text": [
      "True\n"
     ]
    }
   ],
   "source": [
    "#10. Question: Write a function that checks if a string contains all letters of the alphabet at least once.\n",
    "import string\n",
    "def contains_all_alphabets(s):\n",
    "    alphabet = set(string.ascii_lowercase)\n",
    "    return set(s.lower()) >= alphabet\n",
    "\n",
    "test_string = \"The quick brown fox jumps over the lazy dog\"\n",
    "print(contains_all_alphabets(test_string))  # Output: True"
   ]
  },
  {
   "cell_type": "code",
   "execution_count": 1,
   "metadata": {},
   "outputs": [
    {
     "name": "stdout",
     "output_type": "stream",
     "text": [
      "True\n"
     ]
    }
   ],
   "source": [
    "#11. Question: Write a function that checks if a given string is a valid IPv4 address.\n",
    "\n",
    "def is_valid_ipv4(ip):\n",
    "    parts = ip.split(\".\")\n",
    "    if len(parts) != 4:\n",
    "        return False\n",
    "    for item in parts:\n",
    "        if not item.isdigit():\n",
    "            return False\n",
    "        num = int(item)\n",
    "        if num < 0 or num > 255:\n",
    "            return False\n",
    "    return True\n",
    "\n",
    "address = \"192.168.1.1\"\n",
    "print(is_valid_ipv4(address))  # Output: True\n"
   ]
  },
  {
   "cell_type": "code",
   "execution_count": 2,
   "metadata": {},
   "outputs": [
    {
     "name": "stdout",
     "output_type": "stream",
     "text": [
      "{'mean': 3.888888888888889, 'median': 4, 'mode': 5}\n"
     ]
    }
   ],
   "source": [
    "#12. Question: Given a list of numbers, write a function to compute the mean, median, and mode.\n",
    "from statistics import mean, median, mode\n",
    "\n",
    "def compute_stats(numbers):\n",
    "    return {\n",
    "        \"mean\": mean(numbers),\n",
    "        \"median\": median(numbers),\n",
    "        \"mode\": mode(numbers)\n",
    "    }\n",
    "\n",
    "numbers = [1, 2, 3, 4, 4, 5, 5, 5, 6]\n",
    "print(compute_stats(numbers))  # Output: {'mean': 3.89, 'median': 4, 'mode': 5}\n"
   ]
  },
  {
   "cell_type": "code",
   "execution_count": 3,
   "metadata": {},
   "outputs": [
    {
     "name": "stdout",
     "output_type": "stream",
     "text": [
      "[0, 1, 1, 2, 3, 5, 8, 13, 21, 34]\n"
     ]
    }
   ],
   "source": [
    "#13. Question: Write a function to compute the Fibonacci series up to n.\n",
    "def fibonacci(n):\n",
    "    series = [0, 1]\n",
    "    while len(series) < n:\n",
    "        series.append(series[-1] + series[-2])\n",
    "    return series\n",
    "\n",
    "number = 10\n",
    "print(fibonacci(number))  # Output: [0, 1, 1, 2, 3, 5, 8, 13, 21, 34]\n"
   ]
  },
  {
   "cell_type": "code",
   "execution_count": 4,
   "metadata": {},
   "outputs": [
    {
     "name": "stdout",
     "output_type": "stream",
     "text": [
      "w\n"
     ]
    }
   ],
   "source": [
    "#14. Question: Given a string, write a function that returns the first non-repeated character.\n",
    "\n",
    "def first_non_repeated(s):\n",
    "    char_count = {}\n",
    "    for char in s:\n",
    "        if char in char_count:\n",
    "            char_count[char] += 1\n",
    "        else:\n",
    "            char_count[char] = 1\n",
    "    for char in s:\n",
    "        if char_count[char] == 1:\n",
    "            return char\n",
    "    return None\n",
    "\n",
    "string = \"swiss\"\n",
    "print(first_non_repeated(string))  # Output: 'w'\n"
   ]
  },
  {
   "cell_type": "code",
   "execution_count": 5,
   "metadata": {},
   "outputs": [
    {
     "name": "stdout",
     "output_type": "stream",
     "text": [
      "True\n"
     ]
    }
   ],
   "source": [
    "#15. Question: Write a function to check if two strings are a rotation of each other (e.g., \"abcde\" and \"cdeab\" are rotations \n",
    "# of each other).\n",
    "\n",
    "def are_rotations(str1, str2):\n",
    "    if len(str1) != len(str2):\n",
    "        return False\n",
    "    return str1 in str2 + str2\n",
    "\n",
    "s1 = \"abcde\"\n",
    "s2 = \"cdeab\"\n",
    "print(are_rotations(s1, s2))  # Output: True\n"
   ]
  },
  {
   "cell_type": "code",
   "execution_count": 15,
   "metadata": {},
   "outputs": [
    {
     "data": {
      "text/plain": [
       "True"
      ]
     },
     "execution_count": 15,
     "metadata": {},
     "output_type": "execute_result"
    }
   ],
   "source": [
    "#16. Question: Write a function to determine if a string has all unique characters (i.e., no character is repeated).\n",
    "def unique_str(s):\n",
    "    if len(s) == len(set(s)):\n",
    "        return True\n",
    "    return False\n",
    "s = 'abcdef'\n",
    "unique_str(s)"
   ]
  },
  {
   "cell_type": "code",
   "execution_count": 5,
   "metadata": {},
   "outputs": [
    {
     "name": "stdout",
     "output_type": "stream",
     "text": [
      "3\n",
      "[1, 2, 4, 5, 6, 0, 0, 0]\n"
     ]
    }
   ],
   "source": [
    "#19. Question: Given a list of integers, write a function to move all zeros to the end of the list while maintaining the order \n",
    "# of the other elements.    \n",
    "\n",
    "\n",
    "def zero_list(l):\n",
    "    count = l.count(0)    \n",
    "    print(count)\n",
    "    lst = [x for x in l if x != 0]\n",
    "    lst.extend([0]*count)\n",
    "    return lst\n",
    "numbers = [1, 2, 0, 4, 0, 5, 6, 0]\n",
    "print(zero_list(numbers))"
   ]
  },
  {
   "cell_type": "code",
   "execution_count": 6,
   "metadata": {},
   "outputs": [
    {
     "name": "stdout",
     "output_type": "stream",
     "text": [
      "fl\n"
     ]
    }
   ],
   "source": [
    "#20. 22. Question: Write a function to find the longest common prefix of a list of strings.\n",
    "\n",
    "def longest_common_prefix(strings):\n",
    "    if not strings:\n",
    "        return \"\"\n",
    "    prefix = strings[0]\n",
    "    for s in strings[1:]:\n",
    "        while not s.startswith(prefix):\n",
    "            prefix = prefix[:-1]\n",
    "    return prefix\n",
    "\n",
    "strings = [\"flower\", \"flow\", \"flight\"]\n",
    "print(longest_common_prefix(strings))  # Output: \"fl\"\n",
    "\n",
    "\n"
   ]
  },
  {
   "cell_type": "code",
   "execution_count": null,
   "metadata": {},
   "outputs": [],
   "source": []
  }
 ],
 "metadata": {
  "kernelspec": {
   "display_name": "Python 3",
   "language": "python",
   "name": "python3"
  },
  "language_info": {
   "codemirror_mode": {
    "name": "ipython",
    "version": 3
   },
   "file_extension": ".py",
   "mimetype": "text/x-python",
   "name": "python",
   "nbconvert_exporter": "python",
   "pygments_lexer": "ipython3",
   "version": "3.11.3"
  }
 },
 "nbformat": 4,
 "nbformat_minor": 2
}
