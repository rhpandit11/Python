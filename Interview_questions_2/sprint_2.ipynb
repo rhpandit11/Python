{
 "cells": [
  {
   "cell_type": "code",
   "execution_count": 1,
   "metadata": {},
   "outputs": [
    {
     "name": "stdout",
     "output_type": "stream",
     "text": [
      "{2, 5}\n"
     ]
    }
   ],
   "source": [
    "#23. Question: Write a function that returns the intersection of two sorted arrays. Assume each array does not have \n",
    "# duplicates.\n",
    "\n",
    "def inter_arr(arr1,arr2):\n",
    "    sort_arr1 = set(sorted(arr1))\n",
    "    sort_arr2 = set(sorted(arr2))\n",
    "    return sort_arr1.intersection(sort_arr2)\n",
    "arr1 = [1, 2, 4, 5, 6]\n",
    "arr2 = [2, 3, 5, 7]\n",
    "print(inter_arr(arr1,arr2))\n"
   ]
  },
  {
   "cell_type": "code",
   "execution_count": 4,
   "metadata": {},
   "outputs": [
    {
     "name": "stdout",
     "output_type": "stream",
     "text": [
      "[2, 5]\n"
     ]
    }
   ],
   "source": [
    "def intersection_of_sorted_array(num1,num2):\n",
    "    i,j = 0, 0\n",
    "    intersection = []\n",
    "    while i < len(num1) and j < len(num2):\n",
    "        if num1[i] == num2[j]:\n",
    "            intersection.append(num1[i])\n",
    "            i += 1\n",
    "            j += 1\n",
    "        elif num1[i] < num2[j]:\n",
    "            i += 1\n",
    "        else:\n",
    "            j += 1\n",
    "    return intersection\n",
    "arr1 = [1, 2, 4, 5, 6]\n",
    "arr2 = [2, 3, 5, 7]\n",
    "print(intersection_of_sorted_array(arr1, arr2))  "
   ]
  },
  {
   "cell_type": "code",
   "execution_count": 5,
   "metadata": {},
   "outputs": [
    {
     "name": "stdout",
     "output_type": "stream",
     "text": [
      "True\n",
      "True\n",
      "True\n",
      "False\n"
     ]
    }
   ],
   "source": [
    "#24. Question: Write a function to determine if two strings are one edit (or zero edits) away.\n",
    "\n",
    "def is_one_edit_away(s1,s2):\n",
    "    if abs(len(s1) - abs(len(s2))) > 1:\n",
    "        return False\n",
    "    \n",
    "    if len(s1) > len(s2):\n",
    "        s1,s2 = s2,s1\n",
    "        \n",
    "    i,j,found_difference = 0,0,False\n",
    "    while i < len(s1)  and j < len(s2):\n",
    "        if s1[i] != s2[j]:\n",
    "            if found_difference:\n",
    "                return False\n",
    "            found_difference = True\n",
    "            if len(s1) == len(s2):\n",
    "                i += 1\n",
    "        else:\n",
    "            i += 1\n",
    "        j += 1\n",
    "    return True\n",
    "print(is_one_edit_away(\"pale\", \"ple\"))   # Output: True\n",
    "print(is_one_edit_away(\"pales\", \"pale\")) # Output: True\n",
    "print(is_one_edit_away(\"pale\", \"bale\"))  # Output: True\n",
    "print(is_one_edit_away(\"pale\", \"bake\"))  # Output: False"
   ]
  }
 ],
 "metadata": {
  "kernelspec": {
   "display_name": "Python 3",
   "language": "python",
   "name": "python3"
  },
  "language_info": {
   "codemirror_mode": {
    "name": "ipython",
    "version": 3
   },
   "file_extension": ".py",
   "mimetype": "text/x-python",
   "name": "python",
   "nbconvert_exporter": "python",
   "pygments_lexer": "ipython3",
   "version": "3.11.3"
  }
 },
 "nbformat": 4,
 "nbformat_minor": 2
}
