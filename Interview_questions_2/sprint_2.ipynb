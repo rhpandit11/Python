{
 "cells": [
  {
   "cell_type": "code",
   "execution_count": 1,
   "metadata": {},
   "outputs": [
    {
     "name": "stdout",
     "output_type": "stream",
     "text": [
      "{2, 5}\n"
     ]
    }
   ],
   "source": [
    "#23. Question: Write a function that returns the intersection of two sorted arrays. Assume each array does not have \n",
    "# duplicates.\n",
    "\n",
    "def inter_arr(arr1,arr2):\n",
    "    sort_arr1 = set(sorted(arr1))\n",
    "    sort_arr2 = set(sorted(arr2))\n",
    "    return sort_arr1.intersection(sort_arr2)\n",
    "arr1 = [1, 2, 4, 5, 6]\n",
    "arr2 = [2, 3, 5, 7]\n",
    "print(inter_arr(arr1,arr2))\n"
   ]
  },
  {
   "cell_type": "code",
   "execution_count": 4,
   "metadata": {},
   "outputs": [
    {
     "name": "stdout",
     "output_type": "stream",
     "text": [
      "[2, 5]\n"
     ]
    }
   ],
   "source": [
    "def intersection_of_sorted_array(num1,num2):\n",
    "    i,j = 0, 0\n",
    "    intersection = []\n",
    "    while i < len(num1) and j < len(num2):\n",
    "        if num1[i] == num2[j]:\n",
    "            intersection.append(num1[i])\n",
    "            i += 1\n",
    "            j += 1\n",
    "        elif num1[i] < num2[j]:\n",
    "            i += 1\n",
    "        else:\n",
    "            j += 1\n",
    "    return intersection\n",
    "arr1 = [1, 2, 4, 5, 6]\n",
    "arr2 = [2, 3, 5, 7]\n",
    "print(intersection_of_sorted_array(arr1, arr2))  "
   ]
  },
  {
   "cell_type": "code",
   "execution_count": 5,
   "metadata": {},
   "outputs": [
    {
     "name": "stdout",
     "output_type": "stream",
     "text": [
      "True\n",
      "True\n",
      "True\n",
      "False\n"
     ]
    }
   ],
   "source": [
    "#24. Question: Write a function to determine if two strings are one edit (or zero edits) away.\n",
    "\n",
    "def is_one_edit_away(s1,s2):\n",
    "    if abs(len(s1) - abs(len(s2))) > 1:\n",
    "        return False\n",
    "    \n",
    "    if len(s1) > len(s2):\n",
    "        s1,s2 = s2,s1\n",
    "        \n",
    "    i,j,found_difference = 0,0,False\n",
    "    while i < len(s1)  and j < len(s2):\n",
    "        if s1[i] != s2[j]:\n",
    "            if found_difference:\n",
    "                return False\n",
    "            found_difference = True\n",
    "            if len(s1) == len(s2):\n",
    "                i += 1\n",
    "        else:\n",
    "            i += 1\n",
    "        j += 1\n",
    "    return True\n",
    "print(is_one_edit_away(\"pale\", \"ple\"))   # Output: True\n",
    "print(is_one_edit_away(\"pales\", \"pale\")) # Output: True\n",
    "print(is_one_edit_away(\"pale\", \"bale\"))  # Output: True\n",
    "print(is_one_edit_away(\"pale\", \"bake\"))  # Output: False"
   ]
  },
  {
   "cell_type": "code",
   "execution_count": 1,
   "metadata": {},
   "outputs": [
    {
     "name": "stdout",
     "output_type": "stream",
     "text": [
      "13\n"
     ]
    }
   ],
   "source": [
    "#26. Question: Write a function that returns the nth number in the Fibonacci sequence using recursion.\n",
    "\n",
    "def nth_fib(n):\n",
    "    if n <= 1:\n",
    "        return n\n",
    "    else:\n",
    "        return nth_fib(n-1) + nth_fib(n-2)\n",
    "print(nth_fib(7))"
   ]
  },
  {
   "cell_type": "code",
   "execution_count": 4,
   "metadata": {},
   "outputs": [
    {
     "name": "stdout",
     "output_type": "stream",
     "text": [
      "[1, 2, 3, 4, 5, 6, 7, 8, 9]\n"
     ]
    }
   ],
   "source": [
    "#27. Question: Write a function to flatten a nested list of integers. Assume each element is either an integer or a \n",
    "# list.\n",
    "\n",
    "def flatten_nested(nested):\n",
    "    l = []\n",
    "    for i in nested:\n",
    "        if type(i) == list:\n",
    "            l.extend(flatten_nested(i))\n",
    "        else:\n",
    "            l.append(i)\n",
    "    return l\n",
    "nested = [1, [2, 3, [4, 5], 6], 7, [8, 9]]\n",
    "print(flatten_nested(nested))"
   ]
  },
  {
   "cell_type": "code",
   "execution_count": 5,
   "metadata": {},
   "outputs": [
    {
     "name": "stdout",
     "output_type": "stream",
     "text": [
      "palindorme\n"
     ]
    }
   ],
   "source": [
    "#28. Question: Write a function to check if a given string is a palindrome.\n",
    "\n",
    "def check_palindrome(string):\n",
    "    if string == string[::-1]:\n",
    "        return 'palindorme'\n",
    "    return 'not'\n",
    "string = \"radar\"\n",
    "print(check_palindrome(string))\n",
    "    "
   ]
  },
  {
   "cell_type": "code",
   "execution_count": 3,
   "metadata": {},
   "outputs": [
    {
     "name": "stdout",
     "output_type": "stream",
     "text": [
      "True\n"
     ]
    }
   ],
   "source": [
    "#29. Question: Given a string containing just the characters '(', ')', '{', '}', '[' and ']', determine if the \n",
    "#input string is valid. An input string is valid if:\n",
    "\n",
    "def is_valid_brackets(s):\n",
    "    stack = []\n",
    "    mapping = {\")\": \"(\", \"}\": \"{\", \"]\": \"[\"}\n",
    "    \n",
    "    for char in s:\n",
    "        if char in mapping:\n",
    "            top_element = stack.pop()\n",
    "            if mapping[char] != top_element:\n",
    "                return False\n",
    "        else:\n",
    "            stack.append(char)\n",
    "    return not stack\n",
    "\n",
    "brackets = \"{[]}\"\n",
    "print(is_valid_brackets(brackets))"
   ]
  },
  {
   "cell_type": "code",
   "execution_count": 7,
   "metadata": {},
   "outputs": [
    {
     "name": "stdout",
     "output_type": "stream",
     "text": [
      "[0, 1]\n"
     ]
    }
   ],
   "source": [
    "#30. Question: Write a function to find the two numbers in a list that sum up to a specific target.\n",
    "\n",
    "def two_sum(nums,target):\n",
    "    num_dict = {}\n",
    "    for i, num in enumerate(nums):\n",
    "        complement = target - num\n",
    "        if complement in num_dict:\n",
    "            return [num_dict[complement], i]\n",
    "        num_dict[num] = i\n",
    "    return None\n",
    "\n",
    "numbers = [2, 7, 11, 15]\n",
    "target_value = 9\n",
    "print(two_sum(numbers,target_value))"
   ]
  }
 ],
 "metadata": {
  "kernelspec": {
   "display_name": "Python 3",
   "language": "python",
   "name": "python3"
  },
  "language_info": {
   "codemirror_mode": {
    "name": "ipython",
    "version": 3
   },
   "file_extension": ".py",
   "mimetype": "text/x-python",
   "name": "python",
   "nbconvert_exporter": "python",
   "pygments_lexer": "ipython3",
   "version": "3.11.3"
  }
 },
 "nbformat": 4,
 "nbformat_minor": 2
}
