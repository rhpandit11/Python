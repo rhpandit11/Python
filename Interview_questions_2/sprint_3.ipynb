{
 "cells": [
  {
   "cell_type": "code",
   "execution_count": 1,
   "metadata": {},
   "outputs": [
    {
     "name": "stdout",
     "output_type": "stream",
     "text": [
      "hg@fe#dc$ba\n"
     ]
    }
   ],
   "source": [
    "#31. Question: Write a function that reverses a string, but maintains the position of all non-alphabetic characters.\n",
    "\n",
    "def reverse_alphabet_only(s):\n",
    "    s = list(s)\n",
    "    i, j = 0, len(s) - 1\n",
    "    while i < j:\n",
    "        if not s[i].isalpha():\n",
    "            i += 1\n",
    "        elif not s[j].isalpha():\n",
    "            j -= 1\n",
    "        else:\n",
    "            s[i], s[j] = s[j], s[i]\n",
    "            i += 1\n",
    "            j -= 1\n",
    "    return ''.join(s)\n",
    "\n",
    "string = \"ab@cd#ef$gh\"\n",
    "print(reverse_alphabet_only(string))  # Output: \"hg@fe#dc$ba\""
   ]
  },
  {
   "cell_type": "code",
   "execution_count": 2,
   "metadata": {},
   "outputs": [
    {
     "name": "stdout",
     "output_type": "stream",
     "text": [
      "w\n"
     ]
    }
   ],
   "source": [
    "#32. Question: Write a function to find the first non-repeated character in a string.\n",
    "\n",
    "def non_repeated(s):\n",
    "    d = {}\n",
    "    for i in s:\n",
    "        if i in d:\n",
    "            d[i] += 1\n",
    "        else:\n",
    "            d[i] = 1\n",
    "    for k,v in d.items():\n",
    "        if v == 1:\n",
    "            return k\n",
    "string = \"swiss\"\n",
    "print(non_repeated(string))"
   ]
  },
  {
   "cell_type": "code",
   "execution_count": 1,
   "metadata": {},
   "outputs": [
    {
     "name": "stdout",
     "output_type": "stream",
     "text": [
      "[2, 3, 5, 7, 11, 13, 17, 19, 23, 29]\n"
     ]
    }
   ],
   "source": [
    "#33. Question: Write a function to find all the prime numbers less than a given number n.\n",
    "\n",
    "def find_primes(n):\n",
    "    if n <= 2:\n",
    "        return []\n",
    "    primes = [True] * n\n",
    "    primes[0], primes[1] = False, False\n",
    "    for i in range(2, int(n ** 0.5) + 1):\n",
    "        if primes[i]:\n",
    "            for j in range(i * i, n, i):\n",
    "                primes[j] = False\n",
    "    return [i for i, val in enumerate(primes) if val]\n",
    "\n",
    "number = 30\n",
    "print(find_primes(number))  # Output: [2, 3, 5, 7, 11, 13, 17, 19, 23, 29]\n"
   ]
  },
  {
   "cell_type": "code",
   "execution_count": 1,
   "metadata": {},
   "outputs": [
    {
     "name": "stdout",
     "output_type": "stream",
     "text": [
      "True\n"
     ]
    }
   ],
   "source": [
    "# 34. Question: Given two strings s and t, write a function to check if t is an anagram of s.\n",
    "\n",
    "def is_anagram(s, t):\n",
    "    return sorted(s) == sorted(t)\n",
    "\n",
    "s1 = \"listen\"\n",
    "t1 = \"silent\"\n",
    "print(is_anagram(s1, t1))"
   ]
  },
  {
   "cell_type": "code",
   "execution_count": 2,
   "metadata": {},
   "outputs": [
    {
     "name": "stdout",
     "output_type": "stream",
     "text": [
      "120\n"
     ]
    }
   ],
   "source": [
    "# 35. Question: Write a function to compute the factorial of a number using iteration.\n",
    "\n",
    "def factorial_iterative(n):\n",
    "    result = 1\n",
    "    for i in range(2, n+1):\n",
    "        result *= i\n",
    "    return result\n",
    "\n",
    "number = 5\n",
    "print(factorial_iterative(number))"
   ]
  },
  {
   "cell_type": "code",
   "execution_count": 3,
   "metadata": {},
   "outputs": [
    {
     "name": "stdout",
     "output_type": "stream",
     "text": [
      "True\n"
     ]
    }
   ],
   "source": [
    "# 36. Question: Write a function that checks if a given word is an isogram (a word with no repeating letters).\n",
    "def is_isogram(word):\n",
    "    word = word.lower()\n",
    "    return len(word) == len(set(word))\n",
    "\n",
    "word = \"background\"\n",
    "print(is_isogram(word))"
   ]
  },
  {
   "cell_type": "code",
   "execution_count": 4,
   "metadata": {},
   "outputs": [
    {
     "name": "stdout",
     "output_type": "stream",
     "text": [
      "[5, 6, 7, 1, 2, 3, 4]\n"
     ]
    }
   ],
   "source": [
    "# 37. Question: Write a function to rotate an array to the right by k steps, where k is non-negative.\n",
    "\n",
    "def rotate(nums, k):\n",
    "    k = k % len(nums)  # in case k is larger than the length of nums\n",
    "    nums[:] = nums[-k:] + nums[:-k]\n",
    "    return nums\n",
    "\n",
    "array = [1,2,3,4,5,6,7]\n",
    "steps = 3\n",
    "print(rotate(array, steps))"
   ]
  },
  {
   "cell_type": "code",
   "execution_count": 5,
   "metadata": {},
   "outputs": [
    {
     "name": "stdout",
     "output_type": "stream",
     "text": [
      "MMMDXLIX\n"
     ]
    }
   ],
   "source": [
    "#38. Question: Write a function to convert a given integer to its Roman numeral representation.\n",
    "def int_to_roman(num):\n",
    "    val = [\n",
    "        1000, 900, 500, 400,\n",
    "        100, 90, 50, 40,\n",
    "        10, 9, 5, 4, 1\n",
    "    ]\n",
    "    syms = [\n",
    "        \"M\", \"CM\", \"D\", \"CD\",\n",
    "        \"C\", \"XC\", \"L\", \"XL\",\n",
    "        \"X\", \"IX\", \"V\", \"IV\",\n",
    "        \"I\"\n",
    "    ]\n",
    "    roman_num = ''\n",
    "    i = 0\n",
    "    while  num > 0:\n",
    "        for _ in range(num // val[i]):\n",
    "            roman_num += syms[i]\n",
    "            num -= val[i]\n",
    "        i += 1\n",
    "    return roman_num\n",
    "\n",
    "number = 3549\n",
    "print(int_to_roman(number))  # Output: \"MMMDXLIX\"\n"
   ]
  },
  {
   "cell_type": "code",
   "execution_count": 6,
   "metadata": {},
   "outputs": [
    {
     "name": "stdout",
     "output_type": "stream",
     "text": [
      "4\n"
     ]
    }
   ],
   "source": [
    "#39. Question: Write a function that finds the longest common subsequence (LCS) of two strings.\n",
    "\n",
    "def lcs(X, Y):\n",
    "    m = len(X)\n",
    "    n = len(Y)\n",
    "    dp = [[None] * (n + 1) for i in range(m + 1)]\n",
    "    \n",
    "    for i in range(m + 1):\n",
    "        for j in range(n + 1):\n",
    "            if i == 0 or j == 0:\n",
    "                dp[i][j] = 0\n",
    "            elif X[i-1] == Y[j-1]:\n",
    "                dp[i][j] = dp[i-1][j-1] + 1\n",
    "            else:\n",
    "                dp[i][j] = max(dp[i-1][j], dp[i][j-1])\n",
    "    return dp[m][n]\n",
    "\n",
    "str1 = \"ABCBDAB\"\n",
    "str2 = \"BDCAB\"\n",
    "print(lcs(str1, str2))  # Output: 4 (because \"BCAB\" is a common subsequence)\n"
   ]
  },
  {
   "cell_type": "code",
   "execution_count": 9,
   "metadata": {},
   "outputs": [
    {
     "name": "stdout",
     "output_type": "stream",
     "text": [
      "5.0\n"
     ]
    }
   ],
   "source": [
    "#40. Question: Write a function to find the square root of a number using the Newton-Raphson method.\n",
    "\n",
    "def sqrt_newton(n, tolerance=1e-10, guess=1.0):\n",
    "    while True:\n",
    "        better_guess = (guess + n / guess) / 2\n",
    "        if abs(better_guess - guess) < tolerance:  # Close enough\n",
    "            return better_guess\n",
    "        guess = better_guess\n",
    "\n",
    "number = 25\n",
    "print(sqrt_newton(number))  # Output: 5.0 (or very close to it)\n"
   ]
  }
 ],
 "metadata": {
  "kernelspec": {
   "display_name": "Python 3",
   "language": "python",
   "name": "python3"
  },
  "language_info": {
   "codemirror_mode": {
    "name": "ipython",
    "version": 3
   },
   "file_extension": ".py",
   "mimetype": "text/x-python",
   "name": "python",
   "nbconvert_exporter": "python",
   "pygments_lexer": "ipython3",
   "version": "3.11.3"
  }
 },
 "nbformat": 4,
 "nbformat_minor": 2
}
