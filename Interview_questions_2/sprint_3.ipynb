{
 "cells": [
  {
   "cell_type": "code",
   "execution_count": 1,
   "metadata": {},
   "outputs": [
    {
     "name": "stdout",
     "output_type": "stream",
     "text": [
      "hg@fe#dc$ba\n"
     ]
    }
   ],
   "source": [
    "#31. Question: Write a function that reverses a string, but maintains the position of all non-alphabetic characters.\n",
    "\n",
    "def reverse_alphabet_only(s):\n",
    "    s = list(s)\n",
    "    i, j = 0, len(s) - 1\n",
    "    while i < j:\n",
    "        if not s[i].isalpha():\n",
    "            i += 1\n",
    "        elif not s[j].isalpha():\n",
    "            j -= 1\n",
    "        else:\n",
    "            s[i], s[j] = s[j], s[i]\n",
    "            i += 1\n",
    "            j -= 1\n",
    "    return ''.join(s)\n",
    "\n",
    "string = \"ab@cd#ef$gh\"\n",
    "print(reverse_alphabet_only(string))  # Output: \"hg@fe#dc$ba\""
   ]
  },
  {
   "cell_type": "code",
   "execution_count": 2,
   "metadata": {},
   "outputs": [
    {
     "name": "stdout",
     "output_type": "stream",
     "text": [
      "w\n"
     ]
    }
   ],
   "source": [
    "#32. Question: Write a function to find the first non-repeated character in a string.\n",
    "\n",
    "def non_repeated(s):\n",
    "    d = {}\n",
    "    for i in s:\n",
    "        if i in d:\n",
    "            d[i] += 1\n",
    "        else:\n",
    "            d[i] = 1\n",
    "    for k,v in d.items():\n",
    "        if v == 1:\n",
    "            return k\n",
    "string = \"swiss\"\n",
    "print(non_repeated(string))"
   ]
  }
 ],
 "metadata": {
  "kernelspec": {
   "display_name": "Python 3",
   "language": "python",
   "name": "python3"
  },
  "language_info": {
   "codemirror_mode": {
    "name": "ipython",
    "version": 3
   },
   "file_extension": ".py",
   "mimetype": "text/x-python",
   "name": "python",
   "nbconvert_exporter": "python",
   "pygments_lexer": "ipython3",
   "version": "3.11.3"
  }
 },
 "nbformat": 4,
 "nbformat_minor": 2
}
