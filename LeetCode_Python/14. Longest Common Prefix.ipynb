{
 "cells": [
  {
   "cell_type": "raw",
   "metadata": {
    "vscode": {
     "languageId": "raw"
    }
   },
   "source": [
    "Write a function to find the longest common prefix string amongst an array of strings.\n",
    "\n",
    "If there is no common prefix, return an empty string \"\".\n",
    "\n",
    " \n",
    "\n",
    "Example 1:\n",
    "\n",
    "Input: strs = [\"flower\",\"flow\",\"flight\"]\n",
    "Output: \"fl\"\n",
    "Example 2:\n",
    "\n",
    "Input: strs = [\"dog\",\"racecar\",\"car\"]\n",
    "Output: \"\"\n",
    "Explanation: There is no common prefix among the input strings.\n",
    " \n",
    "\n",
    "Constraints:\n",
    "\n",
    "1 <= strs.length <= 200\n",
    "0 <= strs[i].length <= 200\n",
    "strs[i] consists of only lowercase English letters."
   ]
  },
  {
   "cell_type": "code",
   "execution_count": 13,
   "metadata": {},
   "outputs": [
    {
     "name": "stdout",
     "output_type": "stream",
     "text": [
      "\n"
     ]
    }
   ],
   "source": [
    "from typing import List\n",
    "\n",
    "\n",
    "class Solution:\n",
    "    def longestCommonPrefix(self, s: List[str]) -> str:\n",
    "        ans = ''\n",
    "        s = sorted(s)\n",
    "        first = s[0]\n",
    "        last = s[-1]\n",
    "        for i in range(min(len(first),len(last))):\n",
    "            if(first[i] != last[i]):\n",
    "                return ans\n",
    "            ans+=first[i]   \n",
    "        return ans\n",
    "strs = [\"dog\",\"racecar\",\"car\"]\n",
    "solution = Solution()\n",
    "print(solution.longestCommonPrefix(s))\n"
   ]
  },
  {
   "cell_type": "code",
   "execution_count": 12,
   "metadata": {},
   "outputs": [
    {
     "name": "stdout",
     "output_type": "stream",
     "text": [
      "\n"
     ]
    }
   ],
   "source": [
    "def longestCommonPrefix(s: List[str]) -> str:\n",
    "        ans = ''\n",
    "        s = sorted(s)\n",
    "        first = s[0]\n",
    "        last = s[-1]\n",
    "        for i in range(min(len(first),len(last))):\n",
    "            if(first[i] != last[i]):\n",
    "                return ans\n",
    "            ans+=first[i]   \n",
    "        return ans\n",
    "s = [\"dog\",\"racecar\",\"car\"]\n",
    "print(longestCommonPrefix(s))"
   ]
  }
 ],
 "metadata": {
  "kernelspec": {
   "display_name": "Python 3",
   "language": "python",
   "name": "python3"
  },
  "language_info": {
   "codemirror_mode": {
    "name": "ipython",
    "version": 3
   },
   "file_extension": ".py",
   "mimetype": "text/x-python",
   "name": "python",
   "nbconvert_exporter": "python",
   "pygments_lexer": "ipython3",
   "version": "3.11.3"
  }
 },
 "nbformat": 4,
 "nbformat_minor": 2
}
