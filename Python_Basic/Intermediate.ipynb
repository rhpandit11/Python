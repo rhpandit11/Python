{
 "cells": [
  {
   "cell_type": "code",
   "execution_count": null,
   "metadata": {},
   "outputs": [],
   "source": [
    "#--------------------Iterator\n",
    "x=[1,2,3]\n",
    "for i in x:\n",
    "    print(i)\n",
    "\n",
    "x=[1,2,3]\n",
    "iter1=iter(x)\n",
    "print(next(iter1))\n",
    "print(next(iter1))\n",
    "\n",
    "x=[1,2,3]\n",
    "iter1=iter(x)\n",
    "while True:\n",
    "    try:\n",
    "        print(next(iter1))\n",
    "    except StopIteration:\n",
    "        break"
   ]
  },
  {
   "cell_type": "code",
   "execution_count": null,
   "metadata": {},
   "outputs": [],
   "source": [
    "#generator\n",
    "x = [1, 2, 3]\n",
    "g = (i**2 for i in x)\n",
    "print(next(g))\n",
    "print(next(g))"
   ]
  },
  {
   "cell_type": "code",
   "execution_count": null,
   "metadata": {},
   "outputs": [],
   "source": [
    "#fizzbuzz module\n",
    "def fizzBuzz(n):\n",
    "    # Write your code here\n",
    "    for fizzBuzz in range(1,n+1):\n",
    "        if fizzBuzz % 15 == 0:\n",
    "            print('FizzBuzz')\n",
    "            continue\n",
    "        elif fizzBuzz % 3 ==0:\n",
    "            print('Fizz')\n",
    "            continue\n",
    "        elif fizzBuzz % 5 == 0:\n",
    "            print('Buzz')\n",
    "            continue\n",
    "        print(fizzBuzz)\n",
    "\n",
    "if __name__ == '__main__':\n",
    "    x = int(input(\"Enter number for range\"))\n",
    "    fizzBuzz(x)"
   ]
  },
  {
   "cell_type": "code",
   "execution_count": null,
   "metadata": {},
   "outputs": [],
   "source": [
    "class Test:\n",
    "    def __init__(self):\n",
    "        self.a = 10\n",
    "        self.b = 20\n",
    "\n",
    "    def display(self):\n",
    "        print(self.a)\n",
    "        print(self.b)\n",
    "t=Test()\n",
    "t.display()\n",
    "print(t.a,t.b)"
   ]
  },
  {
   "cell_type": "code",
   "execution_count": null,
   "metadata": {},
   "outputs": [],
   "source": [
    "class Test:\n",
    "    x=10\n",
    "    def __init__(self):\n",
    "        self.y=20\n",
    "t1=Test()\n",
    "print('t1:',t1.x,t1.y)"
   ]
  },
  {
   "cell_type": "code",
   "execution_count": null,
   "metadata": {},
   "outputs": [],
   "source": [
    "class Test:\n",
    "    def m1(self):\n",
    "        a=1000\n",
    "        print(a)\n",
    "    def m2(self):\n",
    "        b=2000\n",
    "        print(b)\n",
    "t=Test()\n",
    "t.m1()\n",
    "t.m2()"
   ]
  },
  {
   "cell_type": "code",
   "execution_count": null,
   "metadata": {},
   "outputs": [],
   "source": [
    "class Student:\n",
    "    def __init__(self,name,marks):\n",
    "        self.name=name\n",
    "        self.marks=marks\n",
    "    def display(self):\n",
    "        print('Hi',self.name)\n",
    "        print('Your Marks are:',self.marks)\n",
    "    def grade(self):\n",
    "        if self.marks>=60:\n",
    "            print('You got First Grade')\n",
    "        elif self.marks>=50:\n",
    "            print('Yout got Second Grade')\n",
    "        elif self.marks>=35:\n",
    "            print('You got Third Grade')\n",
    "        else:\n",
    "            print('You are Failed')\n",
    "n=int(input('Enter number of students:'))\n",
    "for i in range(n):\n",
    "    name=input('Enter Name:')\n",
    "    marks=int(input('Enter Marks:'))\n",
    "    s= Student(name,marks)\n",
    "    s.display()\n",
    "    s.grade()"
   ]
  },
  {
   "cell_type": "code",
   "execution_count": null,
   "metadata": {},
   "outputs": [],
   "source": [
    "class Animal:\n",
    "    lEgs=4\n",
    "    @classmethod\n",
    "    def walk(cls,name):\n",
    "        print('{} walks with {} lEgs...'.format(name,cls.lEgs))\n",
    "Animal.walk('Dog')\n",
    "Animal.walk('Cat')"
   ]
  },
  {
   "cell_type": "code",
   "execution_count": null,
   "metadata": {},
   "outputs": [],
   "source": [
    "class TestMath:\n",
    "    @staticmethod\n",
    "    def add(x,y):\n",
    "        print('The Sum:',x+y)\n",
    "    @staticmethod\n",
    "    def product(x,y):\n",
    "        print('The Product:',x*y)\n",
    "    @staticmethod\n",
    "    def average(x,y):\n",
    "        print('The average:',(x+y)/2)\n",
    "TestMath.add(10,20)\n",
    "TestMath.product(10,20)\n",
    "TestMath.average(10,20)"
   ]
  },
  {
   "cell_type": "code",
   "execution_count": null,
   "metadata": {},
   "outputs": [],
   "source": [
    "#class\n",
    "class Person:\n",
    "    def __init__(self, fname, lname):\n",
    "        self.fname = fname\n",
    "        self.lname = lname\n",
    "        print(fname,lname)\n",
    "\n",
    "#if __name__ == '__main__':\n",
    "p1 = Person('George', 'Smith')"
   ]
  }
 ],
 "metadata": {
  "kernelspec": {
   "display_name": "Python 3",
   "language": "python",
   "name": "python3"
  },
  "language_info": {
   "codemirror_mode": {
    "name": "ipython",
    "version": 3
   },
   "file_extension": ".py",
   "mimetype": "text/x-python",
   "name": "python",
   "nbconvert_exporter": "python",
   "pygments_lexer": "ipython3",
   "version": "3.11.3"
  }
 },
 "nbformat": 4,
 "nbformat_minor": 2
}
