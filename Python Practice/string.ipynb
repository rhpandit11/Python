{
 "cells": [
  {
   "cell_type": "code",
   "execution_count": null,
   "metadata": {},
   "outputs": [],
   "source": [
    " #INTERVIEW QUESTION - Find out common letters between two strings Using Python"
   ]
  },
  {
   "cell_type": "code",
   "execution_count": null,
   "metadata": {},
   "outputs": [],
   "source": [
    "def common_letter():\n",
    "    str1 = input('Enter first string')\n",
    "    str2 = input('Enter second string')\n",
    "    s1 = set(str1)\n",
    "    s2 = set(str2)\n",
    "    lst = s1 & s2 #and for taking common\n",
    "    print(lst)\n",
    "common_letter()"
   ]
  },
  {
   "cell_type": "markdown",
   "metadata": {},
   "source": [
    "INTERVIEW QUESTION - Count the frequency of words appearing in a string Using Python\n",
    "sheena loves eating apple and mango. Her sister also loves eating apple and mango."
   ]
  },
  {
   "cell_type": "code",
   "execution_count": 6,
   "metadata": {},
   "outputs": [
    {
     "name": "stdout",
     "output_type": "stream",
     "text": [
      "{'sheena': 1, 'loves': 2, 'eating': 2, 'apple': 2, 'and': 2, 'mango.': 2, 'Her': 1, 'sister': 1, 'also': 1}\n"
     ]
    }
   ],
   "source": [
    "def freq_words():\n",
    "    str = input('Enter a tring')\n",
    "    li = str.split() # split will break the word in the form of list\n",
    "    d = {}\n",
    "\n",
    "    for i in li:\n",
    "        if i not in d.keys():\n",
    "            d[i] = 0\n",
    "        d[i] = d[i]+1\n",
    "    print(d)\n",
    "freq_words()"
   ]
  },
  {
   "cell_type": "markdown",
   "metadata": {},
   "source": [
    " INTERVIEW QUESTION - Conversion of two list into Dictionary Using Python \n",
    " list1 = [Naina, Kimi, Sheena]\n",
    " list2 = [852345, 765848, 567894]"
   ]
  },
  {
   "cell_type": "code",
   "execution_count": 9,
   "metadata": {},
   "outputs": [
    {
     "name": "stdout",
     "output_type": "stream",
     "text": [
      "{1: 'one', 2: 'two', 3: 'three'}\n",
      "(1, 'one')\n",
      "(2, 'two')\n",
      "(3, 'three')\n"
     ]
    }
   ],
   "source": [
    "def list_to_dict():\n",
    "    keys = [1,2,3]\n",
    "    values = ['one','two','three']\n",
    "    result = dict(zip(keys,values))\n",
    "    print(result)\n",
    "list_to_dict()\n",
    "\n",
    "def dict_to_tuple():\n",
    "    x = {1: 'one', 2: 'two', 3: 'three'}\n",
    "    for i in x.items(): #item function will display dict to tuple pair\n",
    "        print(i)\n",
    "dict_to_tuple()"
   ]
  }
 ],
 "metadata": {
  "kernelspec": {
   "display_name": "Python 3",
   "language": "python",
   "name": "python3"
  },
  "language_info": {
   "codemirror_mode": {
    "name": "ipython",
    "version": 3
   },
   "file_extension": ".py",
   "mimetype": "text/x-python",
   "name": "python",
   "nbconvert_exporter": "python",
   "pygments_lexer": "ipython3",
   "version": "3.11.3"
  }
 },
 "nbformat": 4,
 "nbformat_minor": 2
}
