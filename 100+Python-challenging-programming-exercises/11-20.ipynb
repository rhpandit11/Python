{
 "cells": [
  {
   "cell_type": "markdown",
   "metadata": {},
   "source": [
    "Question: Write a program which accepts a sequence of comma separated 4 digit binary numbers as its input and then check whether they are divisible by 5 or not. The numbers that are divisible by 5 are to be printed in a comma separated sequence. Example: 0100,0011,1010,1001 Then the output should be: 1010 Notes: Assume the data is input by console.\n",
    "\n",
    "Hints: In case of input data being supplied to the question, it should be assumed to be a console input."
   ]
  },
  {
   "cell_type": "code",
   "execution_count": 7,
   "metadata": {},
   "outputs": [
    {
     "name": "stdout",
     "output_type": "stream",
     "text": [
      "4\n",
      "3\n",
      "10\n",
      "9\n",
      "1010\n"
     ]
    }
   ],
   "source": [
    "value = []\n",
    "items = [x for x in input().split(',')]\n",
    "for p in items:\n",
    "    intp = int(p,2)\n",
    "    print(intp)\n",
    "    if not intp%5:\n",
    "        value.append(p)\n",
    "print(','.join(value))\n"
   ]
  },
  {
   "cell_type": "markdown",
   "metadata": {},
   "source": [
    "Question 12\n",
    "\n",
    "Level 2\n",
    "\n",
    "Question: Write a program, which will find all such numbers between 1000 and 3000 (both included) such that each digit of the number is an even number. The numbers obtained should be printed in a comma-separated sequence on a single line.\n",
    "\n",
    "Hints: In case of input data being supplied to the question, it should be assumed to be a console input."
   ]
  },
  {
   "cell_type": "code",
   "execution_count": 10,
   "metadata": {},
   "outputs": [
    {
     "name": "stdout",
     "output_type": "stream",
     "text": [
      "2000,2002,2004,2006,2008,2020,2022,2024,2026,2028,2040,2042,2044,2046,2048,2060,2062,2064,2066,2068,2080,2082,2084,2086,2088,2200,2202,2204,2206,2208,2220,2222,2224,2226,2228,2240,2242,2244,2246,2248,2260,2262,2264,2266,2268,2280,2282,2284,2286,2288,2400,2402,2404,2406,2408,2420,2422,2424,2426,2428,2440,2442,2444,2446,2448,2460,2462,2464,2466,2468,2480,2482,2484,2486,2488,2600,2602,2604,2606,2608,2620,2622,2624,2626,2628,2640,2642,2644,2646,2648,2660,2662,2664,2666,2668,2680,2682,2684,2686,2688,2800,2802,2804,2806,2808,2820,2822,2824,2826,2828,2840,2842,2844,2846,2848,2860,2862,2864,2866,2868,2880,2882,2884,2886,2888\n"
     ]
    }
   ],
   "source": [
    "values = []\n",
    "for i in range(1000,3000):\n",
    "    s = str(i)\n",
    "    if (int(s[0])%2==0) and (int(s[1])%2==0) and (int(s[2])%2==0) and (int(s[3])%2==0):\n",
    "        values.append(s)\n",
    "print(','.join(values))\n"
   ]
  },
  {
   "cell_type": "markdown",
   "metadata": {},
   "source": [
    "Question: Write a program that accepts a sentence and calculate the number of letters and digits. Suppose the following input is supplied to the program: hello world! 123 Then, the output should be: LETTERS 10 DIGITS 3\n",
    "\n",
    "Hints: In case of input data being supplied to the question, it should be assumed to be a console input."
   ]
  },
  {
   "cell_type": "code",
   "execution_count": 2,
   "metadata": {},
   "outputs": [
    {
     "name": "stdout",
     "output_type": "stream",
     "text": [
      "LETTERS 10\n",
      "DIGITS 3\n"
     ]
    }
   ],
   "source": [
    "s = input()\n",
    "d = {'DIGITS':0, \"LETTERS\":0}\n",
    "for c in s:\n",
    "    if c.isdigit():\n",
    "        d['DIGITS'] += 1\n",
    "    elif c.isalpha():\n",
    "        d['LETTERS'] += 1\n",
    "    else:\n",
    "        pass\n",
    "print(\"LETTERS\", d[\"LETTERS\"])\n",
    "print(\"DIGITS\", d[\"DIGITS\"])"
   ]
  },
  {
   "cell_type": "markdown",
   "metadata": {},
   "source": [
    "Question: Write a program that accepts a sentence and calculate the number of upper case letters and lower case letters. Suppose the following input is supplied to the program: Hello world! Then, the output should be: UPPER CASE 1 LOWER CASE 9"
   ]
  },
  {
   "cell_type": "code",
   "execution_count": 1,
   "metadata": {},
   "outputs": [
    {
     "name": "stdout",
     "output_type": "stream",
     "text": [
      "Upper Case 1\n",
      "Lower Case 9\n"
     ]
    }
   ],
   "source": [
    "s = input()\n",
    "d = {'UPPER':0, \"LOWER\":0}\n",
    "for i in s:\n",
    "    if i.isupper():\n",
    "        d['UPPER']  += 1\n",
    "    elif i.islower():\n",
    "        d['LOWER'] += 1\n",
    "    else:\n",
    "        pass\n",
    "print('Upper Case', d['UPPER'])\n",
    "print('Lower Case', d['LOWER'])"
   ]
  },
  {
   "cell_type": "markdown",
   "metadata": {},
   "source": [
    "Question: Write a program that computes the value of a+aa+aaa+aaaa with a given digit as the value of a. Suppose the following input is supplied to the program: 9 Then, the output should be: 11106"
   ]
  },
  {
   "cell_type": "code",
   "execution_count": 2,
   "metadata": {},
   "outputs": [
    {
     "name": "stdout",
     "output_type": "stream",
     "text": [
      "11106\n"
     ]
    }
   ],
   "source": [
    "s = input()\n",
    "n1 = int('%s'% s)\n",
    "n2 = int('%s%s'%(s,s))\n",
    "n3 = int('%s%s%s'%(s,s,s))\n",
    "n4 = int('%s%s%s%s'%(s,s,s,s))\n",
    "print(n1+n2+n3+n4)"
   ]
  },
  {
   "cell_type": "markdown",
   "metadata": {},
   "source": [
    "Question: Use a list comprehension to square each odd number in a list. The list is input by a sequence of comma-separated numbers. Suppose the following input is supplied to the program: 1,2,3,4,5,6,7,8,9 Then, the output should be: 1,3,5,7,9"
   ]
  },
  {
   "cell_type": "code",
   "execution_count": 5,
   "metadata": {},
   "outputs": [
    {
     "name": "stdout",
     "output_type": "stream",
     "text": [
      "[1, 3, 5, 7, 9]\n"
     ]
    }
   ],
   "source": [
    "lst = [int(x) for x in input().split(',')]\n",
    "values = []\n",
    "for i in lst:\n",
    "    if i%2!=0:\n",
    "        values.append(i)\n",
    "print(values)\n"
   ]
  },
  {
   "cell_type": "code",
   "execution_count": 6,
   "metadata": {},
   "outputs": [
    {
     "name": "stdout",
     "output_type": "stream",
     "text": [
      "1,3,5,7,9\n"
     ]
    }
   ],
   "source": [
    "values  = input()\n",
    "numbers = [x for x in values.split(',') if int(x)%2!=0]\n",
    "print(','.join(numbers))"
   ]
  },
  {
   "cell_type": "markdown",
   "metadata": {},
   "source": [
    "Question: Write a program that computes the net amount of a bank account based a transaction log from console input. The transaction log format is shown as following: D 100 W 200\n",
    "D means deposit while W means withdrawal. Suppose the following input is supplied to the program: D 300 D 300 W 200 D 100 Then, the output should be: 500\n"
   ]
  },
  {
   "cell_type": "code",
   "execution_count": 9,
   "metadata": {},
   "outputs": [
    {
     "name": "stdout",
     "output_type": "stream",
     "text": [
      "300\n"
     ]
    }
   ],
   "source": [
    "netAmount = 0\n",
    "while True:\n",
    "    s = input()\n",
    "    if not s:\n",
    "        break\n",
    "    values = s.split(\" \")\n",
    "    operation = values[0]\n",
    "    amount = int(values[1])\n",
    "    if operation==\"D\":\n",
    "        netAmount+=amount\n",
    "    elif operation==\"W\":\n",
    "        netAmount-=amount\n",
    "    else:\n",
    "        pass\n",
    "print(netAmount)"
   ]
  },
  {
   "cell_type": "markdown",
   "metadata": {},
   "source": [
    "Question 18\n",
    "\n",
    "Level 3\n",
    "\n",
    "Question: A website requires the users to input username and password to register. Write a program to check the validity of password input by users. Following are the criteria for checking the password:\n",
    "\n",
    "    At least 1 letter between [a-z]\n",
    "    At least 1 number between [0-9]\n",
    "    At least 1 letter between [A-Z]\n",
    "    At least 1 character from [$#@]\n",
    "    Minimum length of transaction password: 6\n",
    "    Maximum length of transaction password: 12 Your program should accept a sequence of comma separated passwords and will check them according to the above criteria. Passwords that match the criteria are to be printed, each separated by a comma. Example If the following passwords are given as input to the program: ABd1234@1,a F1#,2w3E*,2We3345 Then, the output of the program should be: ABd1234@1\n",
    "\n",
    "Hints: In case of input data being supplied to the question, it should be assumed to be a console input."
   ]
  },
  {
   "cell_type": "code",
   "execution_count": 12,
   "metadata": {},
   "outputs": [
    {
     "name": "stdout",
     "output_type": "stream",
     "text": [
      "Rahul19#\n"
     ]
    }
   ],
   "source": [
    "import re\n",
    "value = []\n",
    "items=[x for x in input().split(',')]\n",
    "for p in items:\n",
    "    if len(p)<6 or len(p)>12:\n",
    "        continue\n",
    "    else:\n",
    "        pass\n",
    "    if not re.search(\"[a-z]\",p):\n",
    "        continue\n",
    "    elif not re.search(\"[0-9]\",p):\n",
    "        continue\n",
    "    elif not re.search(\"[A-Z]\",p):\n",
    "        continue\n",
    "    elif not re.search(\"[$#@]\",p):\n",
    "        continue\n",
    "    elif re.search(\"\\s\",p):\n",
    "        continue\n",
    "    else:\n",
    "        pass\n",
    "    value.append(p)\n",
    "print(\",\".join(value))"
   ]
  },
  {
   "cell_type": "markdown",
   "metadata": {},
   "source": [
    "Question: You are required to write a program to sort the (name, age, height) tuples by ascending order where name is string, age and height are numbers. The tuples are input by console. The sort criteria is: 1: Sort based on name; 2: Then sort based on age; 3: Then sort by score. The priority is that name > age > score. If the following tuples are given as input to the program: Tom,19,80 John,20,90 Jony,17,91 Jony,17,93 Json,21,85 Then, the output of the program should be: [('John', '20', '90'), ('Jony', '17', '91'), ('Jony', '17', '93'), ('Json', '21', '85'), ('Tom', '19', '80')]\n",
    "Hints: In case of input data being supplied to the question, it should be assumed to be a console input. We use itemgetter to enable multiple sort keys.\n"
   ]
  },
  {
   "cell_type": "code",
   "execution_count": 17,
   "metadata": {},
   "outputs": [
    {
     "name": "stdout",
     "output_type": "stream",
     "text": [
      "[]\n"
     ]
    }
   ],
   "source": [
    "def custom_sort(t):\n",
    "    return (t[0], int(t[1]), int(t[2]))\n",
    "\n",
    "data = []\n",
    "while True:\n",
    "    input_str = input(\"Enter name, age, and height (or press Enter to finish): \")\n",
    "    if not input_str:\n",
    "        break\n",
    "    data.append(tuple(input_str.split(\",\")))\n",
    "\n",
    "sorted_data = sorted(data, key=custom_sort)\n",
    "print(sorted_data)\n"
   ]
  },
  {
   "cell_type": "markdown",
   "metadata": {},
   "source": [
    "Question: Define a class with a generator which can iterate the numbers, which are divisible by 7, between a given range 0 and n.\n",
    "Hints: Consider use yield"
   ]
  },
  {
   "cell_type": "code",
   "execution_count": 19,
   "metadata": {},
   "outputs": [
    {
     "name": "stdout",
     "output_type": "stream",
     "text": [
      "0\n",
      "7\n",
      "14\n",
      "21\n",
      "28\n",
      "35\n",
      "42\n",
      "49\n",
      "56\n",
      "63\n",
      "70\n",
      "77\n",
      "84\n",
      "91\n",
      "98\n"
     ]
    }
   ],
   "source": [
    "def putNumbers(n):\n",
    "    i = 0\n",
    "    while i<n:\n",
    "        j=i\n",
    "        i=i+1\n",
    "        if j%7==0:\n",
    "            yield j\n",
    "\n",
    "for i in putNumbers(100):\n",
    "    print(i)"
   ]
  }
 ],
 "metadata": {
  "kernelspec": {
   "display_name": "Python 3",
   "language": "python",
   "name": "python3"
  },
  "language_info": {
   "codemirror_mode": {
    "name": "ipython",
    "version": 3
   },
   "file_extension": ".py",
   "mimetype": "text/x-python",
   "name": "python",
   "nbconvert_exporter": "python",
   "pygments_lexer": "ipython3",
   "version": "3.11.3"
  }
 },
 "nbformat": 4,
 "nbformat_minor": 2
}
