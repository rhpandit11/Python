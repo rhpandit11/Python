{
 "cells": [
  {
   "cell_type": "markdown",
   "metadata": {},
   "source": [
    "Define a function which can generate and print a tuple where the value are square of numbers between 1 and 20 (both included)."
   ]
  },
  {
   "cell_type": "code",
   "execution_count": 1,
   "metadata": {},
   "outputs": [
    {
     "data": {
      "text/plain": [
       "(1,\n",
       " 4,\n",
       " 9,\n",
       " 16,\n",
       " 25,\n",
       " 36,\n",
       " 49,\n",
       " 64,\n",
       " 81,\n",
       " 100,\n",
       " 121,\n",
       " 144,\n",
       " 169,\n",
       " 196,\n",
       " 225,\n",
       " 256,\n",
       " 289,\n",
       " 324,\n",
       " 361,\n",
       " 400)"
      ]
     },
     "execution_count": 1,
     "metadata": {},
     "output_type": "execute_result"
    }
   ],
   "source": [
    "def fun():\n",
    "    lst = []\n",
    "    for i in range(1,21):\n",
    "        lst.append(i**2)\n",
    "    return tuple(lst)\n",
    "fun()\n",
    "\n",
    "def printTuple():\n",
    "\tli=list()\n",
    "\tfor i in range(1,21):\n",
    "\t\tli.append(i**2)\n",
    "\tprint(tuple(li))\n",
    "\t\t\n",
    "printTuple()"
   ]
  },
  {
   "cell_type": "markdown",
   "metadata": {},
   "source": [
    "With a given tuple (1,2,3,4,5,6,7,8,9,10), write a program to print the first half values in one line and the last half values in one line."
   ]
  },
  {
   "cell_type": "code",
   "execution_count": 8,
   "metadata": {},
   "outputs": [
    {
     "name": "stdout",
     "output_type": "stream",
     "text": [
      "(1, 2, 3, 4, 5)\n",
      "(7, 8, 9, 10)"
     ]
    }
   ],
   "source": [
    "value = (1,2,3,4,5,6,7,8,9,10)\n",
    "print(value[:5])\n",
    "print(value[6:],end='')\n",
    "\n",
    "\n",
    "tp=(1,2,3,4,5,6,7,8,9,10)\n",
    "tp1=tp[:5]\n",
    "tp2=tp[5:]\n",
    "print(tp1)\n",
    "print(tp2)"
   ]
  },
  {
   "cell_type": "markdown",
   "metadata": {},
   "source": [
    "Write a program to generate and print another tuple whose values are even numbers in the given tuple (1,2,3,4,5,6,7,8,9,10)."
   ]
  },
  {
   "cell_type": "code",
   "execution_count": 9,
   "metadata": {},
   "outputs": [
    {
     "name": "stdout",
     "output_type": "stream",
     "text": [
      "(2, 4, 6, 8, 10)\n"
     ]
    }
   ],
   "source": [
    "giv_tuple = (1,2,3,4,5,6,7,8,9,10)\n",
    "eve_list = []\n",
    "for i in giv_tuple:\n",
    "    if (i%2==0):\n",
    "        eve_list.append(i)\n",
    "    else:\n",
    "        pass\n",
    "print(tuple(eve_list))\n",
    "\n",
    "\n",
    "tp=(1,2,3,4,5,6,7,8,9,10)\n",
    "li=list()\n",
    "for i in tp:\n",
    "\tif tp[i]%2==0:\n",
    "\t\tli.append(tp[i])\n",
    "\n",
    "tp2=tuple(li)\n",
    "print(tp2)"
   ]
  },
  {
   "cell_type": "markdown",
   "metadata": {},
   "source": [
    "Write a program which accepts a string as input to print \"Yes\" if the string is \"yes\" or \"YES\" or \"Yes\", otherwise print \"No\"."
   ]
  },
  {
   "cell_type": "code",
   "execution_count": 22,
   "metadata": {},
   "outputs": [
    {
     "name": "stdout",
     "output_type": "stream",
     "text": [
      "No\n"
     ]
    }
   ],
   "source": [
    "value = input()\n",
    "if value == 'Yes' or value == 'yes' or value == 'YES' or value == 'Yes':\n",
    "    print('YES')\n",
    "else:\n",
    "    print('No')"
   ]
  },
  {
   "cell_type": "markdown",
   "metadata": {},
   "source": [
    "Write a program which can filter even numbers in a list by using filter function. The list is: [1,2,3,4,5,6,7,8,9,10]."
   ]
  },
  {
   "cell_type": "code",
   "execution_count": 2,
   "metadata": {},
   "outputs": [
    {
     "name": "stdout",
     "output_type": "stream",
     "text": [
      "[2, 4, 6, 8, 10]\n",
      "[2, 4, 6, 8, 10]\n"
     ]
    }
   ],
   "source": [
    "lst = [1,2,3,4,5,6,7,8,9,10]\n",
    "evenNumbers = list(filter(lambda x: x%2==0, lst))\n",
    "print(evenNumbers)\n",
    "\n",
    "li = [1,2,3,4,5,6,7,8,9,10]\n",
    "evenNumbers = list(filter(lambda x: x%2==0, lst))\n",
    "print(evenNumbers)"
   ]
  },
  {
   "cell_type": "markdown",
   "metadata": {},
   "source": [
    "Write a program which can map() to make a list whose elements are square of elements in [1,2,3,4,5,6,7,8,9,10]."
   ]
  },
  {
   "cell_type": "code",
   "execution_count": 1,
   "metadata": {},
   "outputs": [
    {
     "name": "stdout",
     "output_type": "stream",
     "text": [
      "[1, 4, 9, 16, 25, 36, 49, 64, 81, 100]\n"
     ]
    }
   ],
   "source": [
    "lst = [1,2,3,4,5,6,7,8,9,10]\n",
    "squNumbers = list(map(lambda x: x**2, lst))\n",
    "print(squNumbers)"
   ]
  },
  {
   "cell_type": "markdown",
   "metadata": {},
   "source": [
    "Write a program which can map() and filter() to make a list whose elements are square of even number in [1,2,3,4,5,6,7,8,9,10]."
   ]
  },
  {
   "cell_type": "code",
   "execution_count": 13,
   "metadata": {},
   "outputs": [
    {
     "name": "stdout",
     "output_type": "stream",
     "text": [
      "[4, 16, 36, 64, 100]\n"
     ]
    }
   ],
   "source": [
    "lst = [1,2,3,4,5,6,7,8,9,10]\n",
    "evenNumbers = list(map(lambda x: x**2, filter(lambda x: x%2==0, lst)))\n",
    "print(evenNumbers)"
   ]
  },
  {
   "cell_type": "markdown",
   "metadata": {},
   "source": [
    "Write a program which can filter() to make a list whose elements are even number between 1 and 20 (both included)."
   ]
  },
  {
   "cell_type": "code",
   "execution_count": 16,
   "metadata": {},
   "outputs": [
    {
     "name": "stdout",
     "output_type": "stream",
     "text": [
      "[2, 4, 6, 8, 10, 12, 14, 16, 18, 20]\n"
     ]
    }
   ],
   "source": [
    "evenNumbers = filter(lambda x: x%2==0, range(1,21))\n",
    "print(list(evenNumbers))"
   ]
  },
  {
   "cell_type": "markdown",
   "metadata": {},
   "source": [
    "Write a program which can map() to make a list whose elements are square of numbers between 1 and 20 (both included)."
   ]
  },
  {
   "cell_type": "code",
   "execution_count": 17,
   "metadata": {},
   "outputs": [
    {
     "name": "stdout",
     "output_type": "stream",
     "text": [
      "[1, 4, 9, 16, 25, 36, 49, 64, 81, 100, 121, 144, 169, 196, 225, 256, 289, 324, 361, 400]\n"
     ]
    }
   ],
   "source": [
    "evenNumbers = map(lambda x: x**2, range(1,21))\n",
    "print(list(evenNumbers))"
   ]
  },
  {
   "cell_type": "markdown",
   "metadata": {},
   "source": [
    "Define a class named American which has a static method called printNationality."
   ]
  },
  {
   "cell_type": "code",
   "execution_count": 19,
   "metadata": {},
   "outputs": [
    {
     "name": "stdout",
     "output_type": "stream",
     "text": [
      "America\n",
      "America\n"
     ]
    }
   ],
   "source": [
    "class American(object):\n",
    "    @staticmethod\n",
    "    def printNationality():\n",
    "        print('America')\n",
    "\n",
    "anAmerican = American()\n",
    "anAmerican.printNationality()\n",
    "American.printNationality()"
   ]
  }
 ],
 "metadata": {
  "kernelspec": {
   "display_name": "Python 3",
   "language": "python",
   "name": "python3"
  },
  "language_info": {
   "codemirror_mode": {
    "name": "ipython",
    "version": 3
   },
   "file_extension": ".py",
   "mimetype": "text/x-python",
   "name": "python",
   "nbconvert_exporter": "python",
   "pygments_lexer": "ipython3",
   "version": "3.11.3"
  }
 },
 "nbformat": 4,
 "nbformat_minor": 2
}
