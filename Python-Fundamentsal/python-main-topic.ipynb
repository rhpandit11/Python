{
 "cells": [
  {
   "cell_type": "markdown",
   "metadata": {},
   "source": [
    "Is Python a compiled language or an interpreted language?\n",
    "-------\n",
    "python actually partially compiled aur partially interpreted language hai.pahle compilation part hota hai jo quki jab hum apne code ko execute karenege tab ye is byte code me generate kar dega internally ye code Python virtual machine(p.v.m) se convert hote hai machine ke andar (machin + operating system)"
   ]
  },
  {
   "cell_type": "markdown",
   "metadata": {},
   "source": [
    "What is the difference between a Mutable data type and an Immutable data type?\n",
    "---\n",
    "mutable data type matlab i.e use hum run time me change kar sakte hai. Eg. list, set, dictionary and user-defined classes <br>\n",
    "Immutable data type matlab hum jise change nahi kar sakte hai jise hum run time me change nahi kar sakte hai. Eg. String, Tuple"
   ]
  },
  {
   "cell_type": "markdown",
   "metadata": {},
   "source": [
    "What is the difference between a Set and Dictionary?\n",
    "---\n",
    "set ek unordered collection of data types hai jo ki iterable, mutable aur wo duplicate element nahi store karta hai.ime hum sirf add or remove kar sakte hai<br>\n",
    "dict ordered collection of key-value pairs hote hai.from(3.7python) aur dict ko hum add,modify aur remove kar sakte hai\n"
   ]
  },
  {
   "cell_type": "markdown",
   "metadata": {},
   "source": [
    "What is a lambda function?<br>\n",
    "---\n",
    "lambda function ek anonymous function hota hai. isme hum any numbers of parameter dal sakte hai lekin sirf one statement ho hoga. Anonymous function matlab function jiska koi naam nahi hai.joh immediately vriable me stored ho jata hai."
   ]
  },
  {
   "cell_type": "markdown",
   "metadata": {},
   "source": [
    "What is a pass in Python?<br>\n",
    "---\n",
    "pass statement hum as a placeholder use karte hai for future code aur jab hum else condition me kuch nahi karna chate hai, pass statement jab execute hota hai tab nothing happens, isse hum error ko avoid kar sakte hai jaha empty code allow nahi hota. "
   ]
  },
  {
   "cell_type": "markdown",
   "metadata": {},
   "source": [
    "How is Exceptional handling done in Python?<br>\n",
    "---\n",
    "Execution ke time error detect hone se use hum exceptions kehte hai.<br>\n",
    "3 main keywords i.e. try, except, and finally<br>\n",
    "try -> ye block code test karne deta hai for errors<br>\n",
    "except -> ye block error handle karne deta hai.<br>\n",
    "else -> ye block code execute karne deta jab koi error found nahi hota hai tab.<br>\n",
    "finally -> ye block code execute karne deta hai, bina dhyan diye try aur except block ke."
   ]
  },
  {
   "cell_type": "markdown",
   "metadata": {},
   "source": [
    "Difference between for loop and while loop in Python?\n",
    "---\n",
    "for loop hum tab use karte hai jab number of iteration pta hota hai, while loop on the other hand jab number of iteration unknown rehta hai tab.for loop absence of condition me infinite time tak run karegi aur while loop compile time error show karegi.for loop me ek bar iteration ke baad use hum repeat nahi kar sakte hai wahi while loop me hum har iteration p repeat kar sakte hai."
   ]
  },
  {
   "cell_type": "markdown",
   "metadata": {},
   "source": [
    "Can we Pass a function as an argument in Python?\n",
    "---\n",
    "yes, function ke andar as a argument hum objects, vairaible aur function kar sakte hai. Ek function ke andar hum as a argument aur ek function pass kar sakte hai quki ye objects hote hai."
   ]
  },
  {
   "cell_type": "markdown",
   "metadata": {},
   "source": [
    "What are *args and *kwargs?\n",
    "---\n",
    "*args (Non-keyword Arguments/Positional Arguments) -> ek function ko allow karta hai any number of positional arguments accept karne ke liye. i.e non-keyword arguments(jo ki key,value pair me na ho).<br>\n",
    "**kwargs (Keyword Arguments) -> isme any number of keyword arguments hum pass kar sakte hai i.e key,value pair arguments like dict."
   ]
  },
  {
   "cell_type": "markdown",
   "metadata": {},
   "source": [
    "What is Scope in Python?\n",
    "---\n",
    "ek location jha hum variable find kar sake aur jaroorat padne p hum use access kar sake use hum scope of variable kehta hai.<br>\n",
    "Local Variable -> jo ki kisi function ya loop ke andar define ho aur use hum uske bahar access naa kar sake.\n",
    "Global Variable -> jo ki kisi function ya loop ke bahar define kiya gaya ho aur jise hum jha chahe wha access kar sake."
   ]
  },
  {
   "cell_type": "markdown",
   "metadata": {},
   "source": [
    "What is a dynamically typed language?\n",
    "---\n",
    "aisa language jisme variable ka data type run time me assigned ho via interpreted machine itself is called dynamically typed language."
   ]
  },
  {
   "cell_type": "markdown",
   "metadata": {},
   "source": [
    "What is the difference between a shallow copy and a deep copy?\n",
    "---\n",
    "shallow copy -> create karta hai new arrray but ye new copy nahi banata elements ka array ke andar uske wajay ye us object ko hi point karta hai(fast)<br>\n",
    "Deep Copy -> ye fully independent array and its value banata hai(slow)"
   ]
  },
  {
   "cell_type": "markdown",
   "metadata": {},
   "source": [
    "What are Decorators?\n",
    "---\n",
    "decorator higher order function hota hai jo ki another function as argument leta hai aur ek new function return karta hai.Aur ye new function original function ko alter or modify kar sakta hai"
   ]
  },
  {
   "cell_type": "code",
   "execution_count": 1,
   "metadata": {},
   "outputs": [],
   "source": [
    "def sum_decorator(func):\n",
    "  def inner_deco():\n",
    "    print(\"The addition of two odd numbers 3 and 7\")\n",
    "    func()\n",
    "    print(\"is always an even number\")\n",
    "  return inner_deco"
   ]
  },
  {
   "cell_type": "code",
   "execution_count": 3,
   "metadata": {},
   "outputs": [
    {
     "name": "stdout",
     "output_type": "stream",
     "text": [
      "The addition of two odd numbers 3 and 7\n",
      "10\n",
      "is always an even number\n"
     ]
    }
   ],
   "source": [
    "@sum_decorator\n",
    "def odd_add():\n",
    "  print(3+7)\n",
    "\n",
    "odd_add()"
   ]
  },
  {
   "cell_type": "markdown",
   "metadata": {},
   "source": [
    "What are Iterators in Python?\n",
    "---\n",
    "python me iterator ek object jo ki allow karta hai collection of data p iterate karna jaise ki list, tuples,dict, aur sets.malab jitne bhi mutable type of data hai.<br>\n",
    "python ka iterators ek well-established structure internally implement karta hai for iteration jise hum iterator protocol kehte hai.<br>\n",
    "python ka object  jab do iterator protocol ko collectively implement karta hai to us object ko iterator consider karte hai aur un special methods ko iterator protocol kehte hai.<br>\n",
    ".__iter__() ->\tCalled to initialize the iterator. It must return an iterator object.<br>\n",
    ".__next__() ->\tCalled to iterate over the iterator. It must return the next value in the data stream.<br>\n",
    "\n",
    "**Iterator vs Iterable**\n",
    "List,Tuple,dict,aur sets sabhi iterable objects hai.ye sabhi iterable containers hai jiske through hum iterator get karte hai.<br>\n",
    "In sabhi objects me iter() method hota hai jiske through hum iterator get karte hai."
   ]
  },
  {
   "cell_type": "code",
   "execution_count": 4,
   "metadata": {},
   "outputs": [
    {
     "name": "stdout",
     "output_type": "stream",
     "text": [
      "apple\n",
      "banana\n",
      "cherry\n"
     ]
    }
   ],
   "source": [
    "mytuple = (\"apple\", \"banana\", \"cherry\")\n",
    "myit = iter(mytuple)\n",
    "\n",
    "print(next(myit))\n",
    "print(next(myit))\n",
    "print(next(myit))"
   ]
  },
  {
   "cell_type": "code",
   "execution_count": 6,
   "metadata": {},
   "outputs": [
    {
     "name": "stdout",
     "output_type": "stream",
     "text": [
      "1\n",
      "2\n",
      "3\n",
      "4\n",
      "5\n",
      "6\n"
     ]
    }
   ],
   "source": [
    "class MyNumbers:\n",
    "  def __iter__(self): # iter methods se object ko iter banaye\n",
    "    self.a = 1\n",
    "    return self\n",
    "\n",
    "  def __next__(self): # next se us object ko iterator ke through iterating karnege\n",
    "    x = self.a\n",
    "    self.a += 1\n",
    "    return x\n",
    "\n",
    "myclass = MyNumbers() #instance banaye\n",
    "myiter = iter(myclass)\n",
    "\n",
    "print(next(myiter)) #next ke through iterator ke iterating ka har ek next value ko print kiye.\n",
    "print(next(myiter))\n",
    "print(next(myiter))\n",
    "print(next(myiter))\n",
    "print(next(myiter))\n",
    "print(next(myiter))"
   ]
  },
  {
   "cell_type": "markdown",
   "metadata": {},
   "source": [
    "Iteration forever rokne ke liye hum **StopIteration** use karenge. "
   ]
  },
  {
   "cell_type": "code",
   "execution_count": 7,
   "metadata": {},
   "outputs": [
    {
     "name": "stdout",
     "output_type": "stream",
     "text": [
      "1\n",
      "2\n",
      "3\n",
      "4\n",
      "5\n",
      "6\n",
      "7\n",
      "8\n",
      "9\n",
      "10\n",
      "11\n",
      "12\n",
      "13\n",
      "14\n",
      "15\n",
      "16\n",
      "17\n",
      "18\n",
      "19\n",
      "20\n"
     ]
    }
   ],
   "source": [
    "class MyNumbers:\n",
    "  def __iter__(self):\n",
    "    self.a = 1\n",
    "    return self\n",
    "\n",
    "  def __next__(self):\n",
    "    if self.a <= 20:\n",
    "      x = self.a\n",
    "      self.a += 1\n",
    "      return x\n",
    "    else:\n",
    "      raise StopIteration\n",
    "\n",
    "myclass = MyNumbers()\n",
    "myiter = iter(myclass)\n",
    "\n",
    "for x in myiter:\n",
    "  print(x)"
   ]
  },
  {
   "cell_type": "markdown",
   "metadata": {},
   "source": [
    "What are Generators in Python?\n",
    "---\n",
    "function ke andar agar ek ya ek se jada yield statement hai toh wo generator hai.yiled keyword pause kar deta hai current execution ko aur uske state ko save karta hai aur fir wahi se start hota hai as per requirement."
   ]
  },
  {
   "cell_type": "code",
   "execution_count": 9,
   "metadata": {},
   "outputs": [
    {
     "name": "stdout",
     "output_type": "stream",
     "text": [
      "3\n",
      "5\n",
      "7\n"
     ]
    }
   ],
   "source": [
    "def get_odds_generator():\n",
    "    n=1\n",
    "    \n",
    "    n+=2\n",
    "    yield n\n",
    "    \n",
    "    n+=2\n",
    "    yield n \n",
    "    \n",
    "    n+=2\n",
    "    yield n\n",
    "    \n",
    "numbers=get_odds_generator()\n",
    "print(next(numbers))\n",
    "print(next(numbers))\n",
    "print(next(numbers))"
   ]
  },
  {
   "cell_type": "markdown",
   "metadata": {},
   "source": [
    "What is garbage collection in Python?\n",
    "---\n",
    "process of automatic deletion of unwanted aur unused object to free the memory use hum garbage collection kehte hai."
   ]
  },
  {
   "cell_type": "markdown",
   "metadata": {},
   "source": [
    "What is a zip function?\n",
    "---\n",
    "ye ek zip object  return karta hai, jo ki tuples ka iterator hota hai, jisme hum do ya do se jayda iterator pass kar sakte hai aur use map karke ek single object generate karta hai.isse hum values ko map karte hai."
   ]
  },
  {
   "cell_type": "code",
   "execution_count": 11,
   "metadata": {},
   "outputs": [
    {
     "name": "stdout",
     "output_type": "stream",
     "text": [
      "{('Nikhil', 1), ('Astha', 2), ('Shambhavi', 3), ('Manjeet', 4)}\n"
     ]
    }
   ],
   "source": [
    "\n",
    "name = [ \"Manjeet\", \"Nikhil\", \"Shambhavi\", \"Astha\" ]\n",
    "roll_no = [ 4, 1, 3, 2 ]\n",
    " \n",
    "# using zip() to map values\n",
    "mapped = zip(name, roll_no)\n",
    " \n",
    "print(set(mapped))"
   ]
  },
  {
   "cell_type": "markdown",
   "metadata": {},
   "source": [
    "What are Pickling and Unpickling?\n",
    "---\n",
    "Pickling is the process of converting Python objects, such as lists, dictionaries, classes, or custom objects, into a format that can be stored or transmitted efficiently.\n",
    "\n",
    "This serialized format is known as a “pickle” or “pickled object.”\n",
    "\n",
    "Pickling matlab ye ek process hai to convert python objects jaise ki lists,dict,classes or custom objects, into a format(byte stream) jisse ki hum ise store aur transmit kar sake efficiently.ye serialized format ko picle aur pickle object kehte hai.<br>\n",
    "\n",
    "Unpickling  matlab serialized aur pickled object ko retrieve karna aur usko uske original form me reconstruct karna.\n",
    "pickle.dump() -> for pickling the object<br>\n",
    "pickle.load() -> for unpickling the object "
   ]
  },
  {
   "cell_type": "code",
   "execution_count": 12,
   "metadata": {},
   "outputs": [],
   "source": [
    "import pickle\n",
    "\n",
    "data = [1, 2, 3, 4, 5]\n",
    "\n",
    "with open('data.pickle', 'wb') as file:\n",
    "    pickle.dump(data, file)"
   ]
  },
  {
   "cell_type": "code",
   "execution_count": 13,
   "metadata": {},
   "outputs": [
    {
     "name": "stdout",
     "output_type": "stream",
     "text": [
      "[1, 2, 3, 4, 5]\n"
     ]
    }
   ],
   "source": [
    "import pickle\n",
    "\n",
    "with open('data.pickle', 'rb') as file:\n",
    "    loaded_data = pickle.load(file)\n",
    "\n",
    "print(loaded_data)  # Output: [1, 2, 3, 4, 5]"
   ]
  },
  {
   "cell_type": "markdown",
   "metadata": {},
   "source": [
    "What is self in code?\n",
    "---\n",
    "self parameter ek reference of instance ki tarah kaam karta hai class ke liye, aur variable ko access karne me used karta hai jo ki us class ko belongs karta hai.<br>\n",
    "self likhna koi manadetory nahi hai, ise hum jo chahe wo naam de sakte hai lekin class ke andar function me ye always first parameter hoga."
   ]
  },
  {
   "cell_type": "markdown",
   "metadata": {},
   "source": [
    "What is heap memory?\n",
    "---\n",
    "heap memory ka wo region hai jha python object aur data structure ka memory store karta hai.heap stack ki taraj kisi bhi way me organized nahi hai.python ye heap ko memory allocate karne ke liye use karta hai."
   ]
  },
  {
   "cell_type": "markdown",
   "metadata": {},
   "source": [
    "What is class and objects?\n",
    "---\n",
    "python me everything object hai jo ki methods ya fir any data types.<br>\n",
    "class ek bluprint hai object constructor ka jha p hum object banate hai."
   ]
  },
  {
   "cell_type": "markdown",
   "metadata": {},
   "source": [
    "What is Namespaces in Python?\n",
    "---\n",
    "Namespace python me ek container ki tarah hai jo ki hold karti hai identifiers(name of variables, functions,classes etc) aur usko uske objects ke name ke hisab se map karti hai.Ye ek tarah se boundry ki tarah kaam karti hai jisse ki name unique rahe aur koi bhi conflict naa ho."
   ]
  }
 ],
 "metadata": {
  "kernelspec": {
   "display_name": "Python 3",
   "language": "python",
   "name": "python3"
  },
  "language_info": {
   "codemirror_mode": {
    "name": "ipython",
    "version": 3
   },
   "file_extension": ".py",
   "mimetype": "text/x-python",
   "name": "python",
   "nbconvert_exporter": "python",
   "pygments_lexer": "ipython3",
   "version": "3.11.3"
  }
 },
 "nbformat": 4,
 "nbformat_minor": 2
}
