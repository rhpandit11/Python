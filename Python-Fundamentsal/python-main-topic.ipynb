{
 "cells": [
  {
   "cell_type": "markdown",
   "metadata": {},
   "source": [
    "Is Python a compiled language or an interpreted language?\n",
    "-------\n",
    "python actually partially compiled aur partially interpreted language hai.pahle compilation part hota hai jo quki jab hum apne code ko execute karenege tab ye is byte code me generate kar dega internally ye code Python virtual machine(p.v.m) se convert hote hai machine ke andar (machin + operating system)"
   ]
  },
  {
   "cell_type": "markdown",
   "metadata": {},
   "source": [
    "What is the difference between a Mutable data type and an Immutable data type?\n",
    "---\n",
    "mutable data type matlab i.e use hum run time me change kar sakte hai. Eg. list, set, dictionary and user-defined classes <br>\n",
    "Immutable data type matlab hum jise change nahi kar sakte hai jise hum run time me change nahi kar sakte hai. Eg. String, Tuple"
   ]
  },
  {
   "cell_type": "markdown",
   "metadata": {},
   "source": [
    "What is the difference between a Set and Dictionary?\n",
    "---\n",
    "set ek unordered collection of data types hai jo ki iterable, mutable aur wo duplicate element nahi store karta hai.ime hum sirf add or remove kar sakte hai<br>\n",
    "dict ordered collection of key-value pairs hote hai.from(3.7python) aur dict ko hum add,modify aur remove kar sakte hai\n"
   ]
  },
  {
   "cell_type": "markdown",
   "metadata": {},
   "source": [
    "What is a lambda function?<br>\n",
    "---\n",
    "lambda function ek anonymous function hota hai. isme hum any numbers of parameter dal sakte hai lekin sirf one statement ho hoga. Anonymous function matlab function jiska koi naam nahi hai.joh immediately vriable me stored ho jata hai."
   ]
  },
  {
   "cell_type": "markdown",
   "metadata": {},
   "source": [
    "What is a pass in Python?<br>\n",
    "---\n",
    "pass statement hum as a placeholder use karte hai for future code aur jab hum else condition me kuch nahi karna chate hai, pass statement jab execute hota hai tab nothing happens, isse hum error ko avoid kar sakte hai jaha empty code allow nahi hota. "
   ]
  },
  {
   "cell_type": "markdown",
   "metadata": {},
   "source": [
    "How is Exceptional handling done in Python?<br>\n",
    "---\n",
    "Execution ke time error detect hone se use hum exceptions kehte hai.<br>\n",
    "3 main keywords i.e. try, except, and finally<br>\n",
    "try -> ye block code test karne deta hai for errors<br>\n",
    "except -> ye block error handle karne deta hai.<br>\n",
    "else -> ye block code execute karne deta jab koi error found nahi hota hai tab.<br>\n",
    "finally -> ye block code execute karne deta hai, bina dhyan diye try aur except block ke."
   ]
  },
  {
   "cell_type": "markdown",
   "metadata": {},
   "source": [
    "Difference between for loop and while loop in Python?\n",
    "---\n",
    "for loop hum tab use karte hai jab number of iteration pta hota hai, while loop on the other hand jab number of iteration unknown rehta hai tab.for loop absence of condition me infinite time tak run karegi aur while loop compile time error show karegi.for loop me ek bar iteration ke baad use hum repeat nahi kar sakte hai wahi while loop me hum har iteration p repeat kar sakte hai."
   ]
  },
  {
   "cell_type": "markdown",
   "metadata": {},
   "source": [
    "Can we Pass a function as an argument in Python?\n",
    "---\n",
    "yes, function ke andar as a argument hum objects, vairaible aur function kar sakte hai. Ek function ke andar hum as a argument aur ek function pass kar sakte hai quki ye objects hote hai."
   ]
  },
  {
   "cell_type": "markdown",
   "metadata": {},
   "source": [
    "What are *args and *kwargs?\n",
    "---\n",
    "*args (Non-keyword Arguments/Positional Arguments) -> ek function ko allow karta hai any number of positional arguments accept karne ke liye. i.e non-keyword arguments(jo ki key,value pair me na ho).<br>\n",
    "**kwargs (Keyword Arguments) -> isme any number of keyword arguments hum pass kar sakte hai i.e key,value pair arguments like dict."
   ]
  },
  {
   "cell_type": "markdown",
   "metadata": {},
   "source": [
    "What is Scope in Python?\n",
    "---\n",
    "ek location jha hum variable find kar sake aur jaroorat padne p hum use access kar sake use hum scope of variable kehta hai.<br>\n",
    "Local Variable -> jo ki kisi function ya loop ke andar define ho aur use hum uske bahar access naa kar sake.\n",
    "Global Variable -> jo ki kisi function ya loop ke bahar define kiya gaya ho aur jise hum jha chahe wha access kar sake."
   ]
  },
  {
   "cell_type": "markdown",
   "metadata": {},
   "source": [
    "What is a dynamically typed language?\n",
    "---\n",
    "aisa language jisme variable ka data type run time me assigned ho via interpreted machine itself is called dynamically typed language."
   ]
  },
  {
   "cell_type": "markdown",
   "metadata": {},
   "source": [
    "What is the difference between a shallow copy and a deep copy?\n",
    "---\n",
    "shallow copy -> create karta hai new arrray but ye new copy nahi banata elements ka array ke andar uske wajay ye us object ko hi point karta hai(fast)<br>\n",
    "Deep Copy -> ye fully independent array and its value banata hai(slow)"
   ]
  }
 ],
 "metadata": {
  "kernelspec": {
   "display_name": "Python 3",
   "language": "python",
   "name": "python3"
  },
  "language_info": {
   "codemirror_mode": {
    "name": "ipython",
    "version": 3
   },
   "file_extension": ".py",
   "mimetype": "text/x-python",
   "name": "python",
   "nbconvert_exporter": "python",
   "pygments_lexer": "ipython3",
   "version": "3.11.3"
  }
 },
 "nbformat": 4,
 "nbformat_minor": 2
}
