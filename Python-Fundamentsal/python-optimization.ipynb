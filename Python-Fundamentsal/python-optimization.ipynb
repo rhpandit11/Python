{
 "cells": [
  {
   "cell_type": "markdown",
   "metadata": {},
   "source": [
    "**Enumerate in Python**\n",
    "Enumerate function is used to write efficient python code. enumerate() is a built-in function that allows you to iterate over a sequence (such as a list, tuple, or string) and keep track of the index of each item. It returns an iterator that generates pairs of the form (index, item), where index is the index of the current item in the sequence, and item is the item itself.\n",
    "\n",
    "Syntax:\n",
    "for index, item in enumerate(sequence):\n",
    "#do something with index and item\n",
    "\n",
    "Here, sequence is the sequence you want to iterate over (such as a list or string). The enumerate() function takes the sequence as an argument and returns an iterator that generates (index, item) pairs. In the for loop, you can use the index and item variables to perform some operation on each item in the sequence."
   ]
  },
  {
   "cell_type": "code",
   "execution_count": 1,
   "metadata": {},
   "outputs": [
    {
     "name": "stdout",
     "output_type": "stream",
     "text": [
      "0 apple\n",
      "1 banana\n",
      "2 orange\n"
     ]
    }
   ],
   "source": [
    "fruits = ['apple', 'banana', 'orange']\n",
    "for index, fruit in enumerate(fruits):\n",
    "    print(index, fruit)"
   ]
  },
  {
   "cell_type": "markdown",
   "metadata": {},
   "source": [
    "You can also specify a starting value for the index by passing a second argument to enumerate().\n",
    "\n",
    "Syntax:\n",
    "enumerate(iterable, start=0)"
   ]
  },
  {
   "cell_type": "code",
   "execution_count": 2,
   "metadata": {},
   "outputs": [
    {
     "name": "stdout",
     "output_type": "stream",
     "text": [
      "1 apple\n",
      "2 banana\n",
      "3 orange\n"
     ]
    }
   ],
   "source": [
    "fruits = ['apple', 'banana', 'orange']\n",
    "for index, fruit in enumerate(fruits, start=1):\n",
    "    print(index, fruit)"
   ]
  },
  {
   "cell_type": "markdown",
   "metadata": {},
   "source": [
    "enumerate() is a useful Python function that allows you to iterate over a sequence and keep track of the index of each item. It's a handy tool for tasks that require you to manipulate the index of items in a sequence, such as printing out numbered lists or creating dictionary keys from list items."
   ]
  },
  {
   "cell_type": "markdown",
   "metadata": {},
   "source": [
    "**Zip in Python**\n",
    "In Python, the “zip” function is a built-in function that allows you to combine multiple iterables into a single iterable. The resulting iterable contains tuples, where the i-th tuple contains the i-th element from each of the input iterables. The “zip” function returns an iterator that generates tuples containing the elements from the input iterables.\n",
    "\n",
    "Syntax:\n",
    "zip(*iterators)\n",
    "zip(iterable1, iterable2, iterable3, …)\n",
    "\n",
    "Here, “iterable1”, “iterable2”, “iterable3”, etc. are the input iterables that you want to combine. You can pass any number of iterables to the “zip” function."
   ]
  },
  {
   "cell_type": "code",
   "execution_count": 3,
   "metadata": {},
   "outputs": [
    {
     "name": "stdout",
     "output_type": "stream",
     "text": [
      "{('Paul', 1, 40), ('Steve', 4, 20), ('Brad', 3, 50)}\n"
     ]
    }
   ],
   "source": [
    "# Use Zip : Zip takes one or more iterables and aggregates them into tuple and returns the iterator object\n",
    "name = [\"Steve\",\"Paul\",\"Brad\"]\n",
    "roll_no = [4,1,3]\n",
    "marks = [20,40,50]\n",
    "\n",
    "mapped = zip(name,roll_no,marks)\n",
    "mapped = set(mapped)\n",
    "print(mapped)"
   ]
  },
  {
   "cell_type": "code",
   "execution_count": 4,
   "metadata": {},
   "outputs": [
    {
     "name": "stdout",
     "output_type": "stream",
     "text": [
      "(1, 'a', True)\n",
      "(2, 'b', False)\n",
      "(3, 'c', True)\n"
     ]
    }
   ],
   "source": [
    "list1 = [1, 2, 3]\n",
    "list2 = ['a', 'b', 'c']\n",
    "list3 = [True, False, True]\n",
    "\n",
    "zipped_lists = zip(list1, list2, list3)\n",
    "\n",
    "for item in zipped_lists:\n",
    "    print(item)"
   ]
  },
  {
   "cell_type": "markdown",
   "metadata": {},
   "source": [
    "You can also use the “zip” function to create a list of tuples by wrapping it in the “list” function, like this:"
   ]
  },
  {
   "cell_type": "code",
   "execution_count": 5,
   "metadata": {},
   "outputs": [],
   "source": [
    "zipped_lists = list(zip(list1, list2, list3))"
   ]
  },
  {
   "cell_type": "markdown",
   "metadata": {},
   "source": [
    "This will create a list of tuples containing the elements from the input lists.\n",
    "\n",
    "Overall, the “zip” function is a useful tool for combining multiple iterables in Python, and it can be helpful for many different applications, including data processing, data analysis, and more."
   ]
  },
  {
   "cell_type": "markdown",
   "metadata": {},
   "source": [
    "**Built-in Functions and Libraries**\n",
    "To make code work faster use built-in functions and libraries like map() which apply a function to every member of an iterable sequence and return the result."
   ]
  },
  {
   "cell_type": "code",
   "execution_count": 6,
   "metadata": {},
   "outputs": [
    {
     "name": "stdout",
     "output_type": "stream",
     "text": [
      "[200, 400, 600]\n"
     ]
    }
   ],
   "source": [
    "\"\"\"\n",
    "Map function : In Python, map() function applies the given function #to each item of a given iterable construct (i.e lists, tuples etc) and returns a map object.\n",
    "\"\"\"\n",
    "numbers =(100,200,300)\n",
    "result = map(lambda x:x+x,numbers)\n",
    "total = list(result)\n",
    "print(total)"
   ]
  },
  {
   "cell_type": "markdown",
   "metadata": {},
   "source": [
    "**NumPy arrays**\n",
    "NumPy is a popular library in Python used for numerical computation, scientific computing, and data analysis. NumPy provides a powerful data structure called “NumPy arrays” that allows users to work with large, multidimensional arrays and matrices efficiently.\n",
    "\n",
    "A NumPy array is a grid of values, all of the same type, and is indexed by a tuple of positive integers. The dimensions of a NumPy array are known as axes. For example, a 1-dimensional NumPy array is often referred to as a “vector,” while a 2-dimensional NumPy array is often called a “matrix.” The number of axes is also known as the rank of the array.\n",
    "\n",
    "NumPy arrays are created using the numpy.array() function, which takes a list, tuple, or any sequence-like object as input and returns a NumPy array."
   ]
  },
  {
   "cell_type": "code",
   "execution_count": null,
   "metadata": {},
   "outputs": [],
   "source": [
    "import numpy as np\n",
    "\n",
    "a = np.array([1, 2, 3, 4, 5])\n",
    "print(a)\n",
    "\n",
    "#Output\n",
    "#array([1, 2, 3, 4, 5])"
   ]
  },
  {
   "cell_type": "markdown",
   "metadata": {},
   "source": [
    "NumPy arrays can be manipulated in many ways, including slicing and indexing, mathematical operations, and aggregation functions such as mean, median, and standard deviation. NumPy also provides a variety of functions for creating and manipulating arrays, such as numpy.zeros() for creating an array filled with zeros, numpy.ones() for creating an array filled with ones, and numpy.arange() for creating an array with a range of values.\n",
    "\n",
    "Overall, NumPy arrays are a powerful data structure in Python that can be used for a wide range of numerical and scientific computations. They are efficient, flexible, and provide many useful functions for working with large amounts of data."
   ]
  },
  {
   "cell_type": "markdown",
   "metadata": {},
   "source": [
    "**Multiple Assignments**\n",
    "Multiple assignments in Python allow you to assign values to multiple variables in a single line of code. It can be very useful for initializing variables, assigning multiple return values from a function, and also for simplifying code that involves swapping values between variables.\n",
    "\n",
    "Syntax:\n",
    "variable1, variable2, variable3 = value1, value2, value3\n",
    "variable1, variable2 = variable2, variable1\n",
    "\n",
    "In this syntax, you can assign values to multiple variables, separated by commas. The number of variables and values must match, otherwise, you will get a ValueError."
   ]
  },
  {
   "cell_type": "code",
   "execution_count": 8,
   "metadata": {},
   "outputs": [
    {
     "name": "stdout",
     "output_type": "stream",
     "text": [
      "10 20 30\n",
      "20 10\n"
     ]
    }
   ],
   "source": [
    "# Use multiple assignment\n",
    "a, b, c = 10, 20, 30\n",
    "print(a,b,c)\n",
    "\n",
    "# To swap variable\n",
    "a,b = b,a\n",
    "print(a,b)"
   ]
  },
  {
   "cell_type": "markdown",
   "metadata": {},
   "source": [
    "**Comprehensions in Python**\n",
    "In Python, comprehension is a concise way of creating a new sequence (such as a list, set, or dictionary) by processing an existing sequence. It allows you to combine a loop and a conditional expression in a single line of code, making it more efficient and readable. There are three types of comprehension in Python:\n",
    "\n",
    "- A.) List comprehension: This creates a new list by applying an expression to each item in an existing sequence.\n",
    "\n",
    "Syntax:\n",
    "new_list = [expression for item in existing_sequence if condition]"
   ]
  },
  {
   "cell_type": "code",
   "execution_count": 9,
   "metadata": {},
   "outputs": [
    {
     "name": "stdout",
     "output_type": "stream",
     "text": [
      "[4, 16, 36]\n"
     ]
    }
   ],
   "source": [
    "numbers = [1, 2, 3, 4, 5, 6]\n",
    "squares = [n**2 for n in numbers if n % 2 == 0]\n",
    "print(squares)"
   ]
  },
  {
   "cell_type": "markdown",
   "metadata": {},
   "source": [
    "B.) Set comprehension: This creates a new set by applying an expression to each item in an existing sequence.\n",
    "\n",
    "Syntax:\n",
    "new_set = {expression for item in existing_sequence if condition}"
   ]
  },
  {
   "cell_type": "code",
   "execution_count": 10,
   "metadata": {},
   "outputs": [
    {
     "name": "stdout",
     "output_type": "stream",
     "text": [
      "{16, 4, 36}\n"
     ]
    }
   ],
   "source": [
    "numbers = [1, 2, 3, 4, 5, 6]\n",
    "squares = {n**2 for n in numbers if n % 2 == 0}\n",
    "print(squares)"
   ]
  },
  {
   "cell_type": "markdown",
   "metadata": {},
   "source": [
    "Dictionary comprehension: This creates a new dictionary by applying an expression to each item in an existing sequence.\n",
    "\n",
    "Syntax:\n",
    "new_dict = {key_expression: value_expression for item in existing_sequence if condition}"
   ]
  },
  {
   "cell_type": "code",
   "execution_count": 11,
   "metadata": {},
   "outputs": [
    {
     "name": "stdout",
     "output_type": "stream",
     "text": [
      "{2: 4, 4: 16, 6: 36}\n"
     ]
    }
   ],
   "source": [
    "numbers = [1, 2, 3, 4, 5, 6]\n",
    "squares = {n: n**2 for n in numbers if n % 2 == 0}\n",
    "print(squares)"
   ]
  },
  {
   "cell_type": "markdown",
   "metadata": {},
   "source": [
    "Comprehensions are a powerful feature of Python that allows you to write concise and efficient code for creating new sequences based on existing ones."
   ]
  },
  {
   "cell_type": "markdown",
   "metadata": {},
   "source": [
    "Membership operators in Python\n",
    "In Python, membership operators are used to test whether a value or variable is a member of a sequence or set. There are two membership operators: in and not in.\n",
    "\n",
    "The in operator returns True if a value or variable is found in the sequence or set, and False otherwise. The not in operator returns the opposite result, i.e., True if the value or variable is not found in the sequence or set, and False otherwise.\n",
    "\n",
    "Syntax:\n",
    "#in operator\n",
    "value in sequence\n",
    "\n",
    "#not in operator\n",
    "value not in sequence"
   ]
  },
  {
   "cell_type": "code",
   "execution_count": 12,
   "metadata": {},
   "outputs": [
    {
     "name": "stdout",
     "output_type": "stream",
     "text": [
      "Red is in the list of colors.\n",
      "Orange is not in the list of colors.\n"
     ]
    }
   ],
   "source": [
    "# Define a list of colors\n",
    "colors = ['red', 'green', 'blue', 'yellow']\n",
    "\n",
    "# Test if 'red' is a member of the list\n",
    "if 'red' in colors:\n",
    "    print(\"Red is in the list of colors.\")\n",
    "\n",
    "# Test if 'orange' is not a member of the list\n",
    "if 'orange' not in colors:\n",
    "    print(\"Orange is not in the list of colors.\")"
   ]
  },
  {
   "cell_type": "markdown",
   "metadata": {},
   "source": [
    "**Counter class in Python**\n",
    "In Python, a counter is a subclass of the dictionary object that is used to count the occurrences of elements in a sequence. The Counter class is available in the collections module of Python’s standard library.\n",
    "\n",
    "Syntax:\n",
    "from collections import Counter\n",
    "my_counter = Counter(iterable)\n",
    "\n",
    "Here, the iterable parameter is a sequence, such as a list or a tuple, containing the elements that need to be counted. Once the counter is created, it can be used to access the count of each element in the sequence."
   ]
  },
  {
   "cell_type": "code",
   "execution_count": 13,
   "metadata": {},
   "outputs": [
    {
     "name": "stdout",
     "output_type": "stream",
     "text": [
      "Counter({4: 4, 1: 3, 2: 2, 3: 1, 5: 1})\n",
      "3\n",
      "4\n",
      "0\n"
     ]
    }
   ],
   "source": [
    "from collections import Counter\n",
    "\n",
    "my_list = [1, 2, 3, 1, 2, 1, 4, 5, 4, 4, 4]\n",
    "my_counter = Counter(my_list)\n",
    "\n",
    "print(my_counter)\n",
    "print(my_counter[1])\n",
    "print(my_counter[4])\n",
    "print(my_counter[6])"
   ]
  },
  {
   "cell_type": "markdown",
   "metadata": {},
   "source": [
    "In this example, we first import the Counter class from the collections module. We then create a list called my_list that contains some elements with repeated occurrences. We then create a Counter object called my_counter using my_list. The output of print(my_counter) shows the count of each element in the list.\n",
    "\n",
    "We can then access the count of a specific element using the square bracket notation. For example, my_counter[1] returns the count of the element 1, which is 3. If an element is not present in the counter, its count will be zero. For example, my_counter[6] returns 0 because the element 6 is not present in the counter."
   ]
  },
  {
   "cell_type": "markdown",
   "metadata": {},
   "source": [
    "**Itertools in Python**\n",
    "The itertools module is a standard Python library that provides a collection of functions for working with iterators. These functions are designed to work with iterable objects, such as lists, tuples, and generators, and can be used to perform a wide range of operations on them, including filtering, grouping, and combining. The itertools module provides many functions, including count(), cycle(), repeat(), groupby(), and chain(). These functions can be used to create complex iterators and perform various operations on them.\n",
    "\n",
    "Here’s a brief explanation of some commonly used functions in the itertools module:\n",
    "\n",
    "A.) count(start, step): This function generates an iterator that produces an infinite sequence of numbers, starting from start and incrementing by step at each iteration.\n",
    "\n",
    "Syntax:\n",
    "itertools.count(start=0, step=1)"
   ]
  },
  {
   "cell_type": "code",
   "execution_count": 14,
   "metadata": {},
   "outputs": [
    {
     "name": "stdout",
     "output_type": "stream",
     "text": [
      "5\n",
      "6\n",
      "7\n"
     ]
    }
   ],
   "source": [
    "import itertools\n",
    "\n",
    "counter = itertools.count(5)\n",
    "\n",
    "print(next(counter))\n",
    "print(next(counter))\n",
    "print(next(counter))"
   ]
  },
  {
   "cell_type": "markdown",
   "metadata": {},
   "source": [
    "B.) cycle(iterable): This function generates an iterator that repeats the elements of the given iterable indefinitely.\n",
    "\n",
    "Syntax:\n",
    "itertools.cycle(iterable)"
   ]
  },
  {
   "cell_type": "code",
   "execution_count": 15,
   "metadata": {},
   "outputs": [
    {
     "name": "stdout",
     "output_type": "stream",
     "text": [
      "red\n",
      "green\n",
      "blue\n",
      "red\n"
     ]
    }
   ],
   "source": [
    "import itertools\n",
    "\n",
    "colors = itertools.cycle(['red', 'green', 'blue'])\n",
    "\n",
    "print(next(colors))\n",
    "print(next(colors))\n",
    "print(next(colors))\n",
    "print(next(colors))"
   ]
  },
  {
   "cell_type": "markdown",
   "metadata": {},
   "source": [
    "C.) repeat(item, [times]): This function generates an iterator that produces the given item indefinitely or times number of times.\n",
    "\n",
    "Syntax:\n",
    "itertools.repeat(item, [times])"
   ]
  },
  {
   "cell_type": "code",
   "execution_count": 16,
   "metadata": {},
   "outputs": [
    {
     "name": "stdout",
     "output_type": "stream",
     "text": [
      "Hello\n",
      "Hello\n",
      "Hello\n"
     ]
    }
   ],
   "source": [
    "import itertools\n",
    "\n",
    "repeated_items = itertools.repeat('Hello', 3)\n",
    "\n",
    "print(next(repeated_items))\n",
    "print(next(repeated_items))\n",
    "print(next(repeated_items))"
   ]
  },
  {
   "cell_type": "markdown",
   "metadata": {},
   "source": [
    "D.) groupby(iterable, [key]): This function generates an iterator that groups the elements of the given iterable based on the given key function.\n",
    "\n",
    "Syntax:\n",
    "itertools.groupby(iterable, [key])"
   ]
  },
  {
   "cell_type": "code",
   "execution_count": 17,
   "metadata": {},
   "outputs": [
    {
     "name": "stdout",
     "output_type": "stream",
     "text": [
      "False ['a']\n",
      "True ['B']\n",
      "False ['c', 'd']\n",
      "True ['E', 'F']\n",
      "False ['g']\n",
      "True ['H']\n",
      "False ['i']\n"
     ]
    }
   ],
   "source": [
    "import itertools\n",
    "\n",
    "def group_key(x):\n",
    "    return x.isupper()\n",
    "\n",
    "grouped_items = itertools.groupby('aBcdEFgHi', group_key)\n",
    "\n",
    "for key, group in grouped_items:\n",
    "    print(key, list(group))"
   ]
  },
  {
   "cell_type": "markdown",
   "metadata": {},
   "source": [
    "E.) chain(*iterables): This function generates an iterator that combines the elements of the given iterables into a single sequence.\n",
    "\n",
    "Syntax:\n",
    "itertools.chain(*iterables)"
   ]
  },
  {
   "cell_type": "code",
   "execution_count": 18,
   "metadata": {},
   "outputs": [
    {
     "name": "stdout",
     "output_type": "stream",
     "text": [
      "1\n",
      "2\n",
      "3\n",
      "a\n",
      "b\n",
      "c\n"
     ]
    }
   ],
   "source": [
    "import itertools\n",
    "\n",
    "numbers = [1, 2, 3]\n",
    "letters = ['a', 'b', 'c']\n",
    "\n",
    "combined = itertools.chain(numbers, letters)\n",
    "\n",
    "for item in combined:\n",
    "    print(item)"
   ]
  },
  {
   "cell_type": "markdown",
   "metadata": {},
   "source": [
    "These are just a few examples of the many functions provided by the itertools module in Python."
   ]
  },
  {
   "cell_type": "markdown",
   "metadata": {},
   "source": [
    "**Sets to remove duplicates**\n",
    "In Python, a set is a collection of unique elements. This means that any duplicates in the collection will automatically be removed when it is converted to a set.\n",
    "\n",
    "Let’s say you have a list of numbers with duplicates. To remove the duplicates from this list, you can convert it to a set using the set() function, and then convert it back to a list."
   ]
  },
  {
   "cell_type": "code",
   "execution_count": 19,
   "metadata": {},
   "outputs": [
    {
     "name": "stdout",
     "output_type": "stream",
     "text": [
      "[1, 2, 3, 4, 5, 6]\n"
     ]
    }
   ],
   "source": [
    "numbers = [1, 2, 3, 2, 4, 3, 5, 6, 5]\n",
    "unique_numbers = list(set(numbers))\n",
    "print(unique_numbers)"
   ]
  },
  {
   "cell_type": "markdown",
   "metadata": {},
   "source": [
    "**Generators in Python**\n",
    "In Python, generators are functions that can be used to create iterators, which can be used to generate a sequence of values on the fly without having to store all of them in memory at once. There are two main ways to create generators in Python:\n",
    "\n",
    "A.) Generators using the “yield” keyword:\n",
    "To create a generator using the “yield” keyword, you simply define a function that contains one or more “yield” statements. Each time the generator is called, it will execute the function up to the point where it reaches a “yield” statement, and then return the value that follows the “yield” keyword. The function will then be paused and will resume execution the next time the generator is called.\n",
    "\n",
    "Syntax\n",
    "def generator_function():\n",
    "#some code\n",
    "yield value\n",
    "#more code"
   ]
  },
  {
   "cell_type": "code",
   "execution_count": 20,
   "metadata": {},
   "outputs": [
    {
     "name": "stdout",
     "output_type": "stream",
     "text": [
      "0\n",
      "1\n",
      "1\n",
      "2\n",
      "3\n",
      "5\n",
      "8\n",
      "13\n",
      "21\n",
      "34\n"
     ]
    }
   ],
   "source": [
    "def fibonacci_sequence(n):\n",
    "    a, b = 0, 1\n",
    "    for i in range(n):\n",
    "        yield a\n",
    "        a, b = b, a + b\n",
    "\n",
    "# Using the generator function to print Fibonacci sequence\n",
    "for num in fibonacci_sequence(10):\n",
    "    print(num)"
   ]
  },
  {
   "cell_type": "markdown",
   "metadata": {},
   "source": [
    "In the above example, the generator function fibonacci_sequence() generates the Fibonacci sequence using the \"yield\" keyword. The function returns each Fibonacci number one at a time when the generator is called. The loop at the bottom uses the generator to print the first 10 numbers of the sequence.\n",
    "\n",
    "B.) Generators using the “range()” function:\n",
    "To create a generator using the “range()” function, you simply pass the “range()” function to a loop or another iterator. This will generate a sequence of integers on the fly, without having to store all of them in memory at once.\n",
    "\n",
    "Syntax\n",
    "for i in range(start, stop, step):\n",
    "#some code"
   ]
  },
  {
   "cell_type": "code",
   "execution_count": 21,
   "metadata": {},
   "outputs": [
    {
     "name": "stdout",
     "output_type": "stream",
     "text": [
      "0\n",
      "2\n",
      "4\n",
      "6\n",
      "8\n"
     ]
    }
   ],
   "source": [
    "for i in range(0, 10, 2):\n",
    "    print(i)"
   ]
  },
  {
   "cell_type": "markdown",
   "metadata": {},
   "source": [
    "**Practice writing idiomatic code**\n",
    "Practice writing idiomatic code in Python as it will make your code run faster. If you write your code using the idioms or commonly accepted practices of the Python language, your code is likely to run faster and be more efficient. This is because idiomatic code uses language constructs and libraries that are optimized for performance and are more readable and maintainable.\n",
    "\n",
    "Suppose you need to create a list of the squares of the first 10 non-negative integers. You could do this in Python using a for loop and the append() method."
   ]
  },
  {
   "cell_type": "code",
   "execution_count": 22,
   "metadata": {},
   "outputs": [],
   "source": [
    "squares = []\n",
    "for i in range(10):\n",
    "    squares.append(i ** 2)"
   ]
  },
  {
   "cell_type": "code",
   "execution_count": 23,
   "metadata": {},
   "outputs": [],
   "source": [
    "squares = [i ** 2 for i in range(10)]\n"
   ]
  },
  {
   "cell_type": "markdown",
   "metadata": {},
   "source": [
    "This code is more concise and easier to read, and it uses a construct that is optimized for performance in Python. When benchmarked, the list comprehension version runs faster than the for loop version.\n",
    "\n",
    "So, by practicing writing idiomatic code in Python, you can make your code faster and more efficient while also making it more readable and maintainable."
   ]
  },
  {
   "cell_type": "markdown",
   "metadata": {},
   "source": [
    "Examine your code snippet’s runtime\n",
    "In Python, examining the runtime of your code snippet involves measuring how long it takes for a piece of code to execute. This can be useful for optimizing the performance of your code and identifying potential bottlenecks."
   ]
  },
  {
   "cell_type": "code",
   "execution_count": 24,
   "metadata": {},
   "outputs": [
    {
     "name": "stdout",
     "output_type": "stream",
     "text": [
      "Elapsed time:  0.0\n"
     ]
    }
   ],
   "source": [
    "# Examine the runtime of your code snippet\n",
    "import time\n",
    "\n",
    "start_time = time.time()\n",
    "\n",
    "# your code snippet here\n",
    "\n",
    "end_time = time.time()\n",
    "\n",
    "elapsed_time = end_time - start_time\n",
    "\n",
    "print(\"Elapsed time: \", elapsed_time)"
   ]
  },
  {
   "cell_type": "markdown",
   "metadata": {},
   "source": [
    "In this code, we import the time module, which allows us to measure the time taken by our code to execute. We then use the time.time() function to get the current time at the start and end of our code snippet. We subtract the start time from the end time to get the elapsed time, which is the amount of time taken by our code to execute.\n",
    "\n",
    "To use this code, replace the # your code snippet here comment with the code you want to measure the runtime of. When you run the code, it will output the elapsed time in seconds."
   ]
  },
  {
   "cell_type": "code",
   "execution_count": 25,
   "metadata": {},
   "outputs": [
    {
     "name": "stdout",
     "output_type": "stream",
     "text": [
      "Elapsed time:  0.2972257137298584\n"
     ]
    }
   ],
   "source": [
    "# Examine the runtime of a simple loop\n",
    "import time\n",
    "\n",
    "start_time = time.time()\n",
    "\n",
    "for i in range(1000000):\n",
    "    pass\n",
    "\n",
    "end_time = time.time()\n",
    "\n",
    "elapsed_time = end_time - start_time\n",
    "\n",
    "print(\"Elapsed time: \", elapsed_time)"
   ]
  },
  {
   "cell_type": "markdown",
   "metadata": {},
   "source": [
    "In this code, we use a for loop to perform a simple operation 1 million times. We then measure the runtime of the loop using the time module and print out the elapsed time. When you run this code, you should see the elapsed time in seconds, which will give you an idea of how long it takes for the loop to execute."
   ]
  },
  {
   "cell_type": "markdown",
   "metadata": {},
   "source": [
    "**Some of the most important optimization techniques are -**\n",
    "\n",
    "- Use built-in functions and libraries: Python has a lot of built-in functions and libraries that are optimized for performance. Using them can save a lot of time and memory.\n",
    "- Avoid using global variables: Global variables can slow down the performance of your code and make it harder to debug.\n",
    "- Use list comprehensions: List comprehensions are a more efficient way to create and manipulate lists in Python.\n",
    "- Use generators: Generators are a way to create iterators in Python. They are more memory-efficient than lists because they only generate values on-the-fly as they are needed.\n",
    "- Use the “join” method instead of “+” for strings: The “+” operator creates a new string each time it is used, which can slow down your code. The “join” method is faster and more memory-efficient.\n",
    "- Use the “in” operator instead of the “index” method for lists: The “in” operator is faster for checking if an element is in a list.\n",
    "- Avoid using unnecessary loops: Unnecessary loops can slow down your code and use up more memory.\n",
    "- Use the “multiprocessing” module for parallel processing: The “multiprocessing” module allows you to run multiple processes in parallel, which can speed up your code.\n",
    "- Use “numpy” for numerical computations: The numpy library is highly optimized for numerical computations and can be significantly faster than pure Python code.\n",
    "- Profile and Optimize: Use profilers like cProfile, line_profiler, memory_profiler, etc. to profile and optimize your code."
   ]
  }
 ],
 "metadata": {
  "kernelspec": {
   "display_name": "Python 3",
   "language": "python",
   "name": "python3"
  },
  "language_info": {
   "codemirror_mode": {
    "name": "ipython",
    "version": 3
   },
   "file_extension": ".py",
   "mimetype": "text/x-python",
   "name": "python",
   "nbconvert_exporter": "python",
   "pygments_lexer": "ipython3",
   "version": "3.11.3"
  }
 },
 "nbformat": 4,
 "nbformat_minor": 2
}
