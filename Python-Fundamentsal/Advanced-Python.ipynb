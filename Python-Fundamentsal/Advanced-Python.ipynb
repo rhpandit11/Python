{
 "cells": [
  {
   "cell_type": "markdown",
   "metadata": {},
   "source": [
    "Magic Methods in Python\n",
    "In Python, Magic methods in Python are the special methods that start and end with the double underscores\n",
    "\n",
    "- Magic methods are not meant to be invoked directly by you, but the invocation happens internally from the class once certain action is performed\n",
    "- Examples for magic methods are: __new__, __repr__, __init__, __add__, __len__, __del__, etc. The __init__ method - used for initialization is invoked without any call\n",
    "- Use the dir() function to see the number of magic methods inherited by a class\n",
    "- The advantage of using Python’s magic methods is that they provide a simple way to make objects behave like built-in types\n",
    "- Magic methods can be used to emulate the behavior of built-in types of user-defined objects. Therefore, whenever you find yourself trying to manipulate a user-defined object’s output in a Python class, then use magic methods.\n",
    "Example:\n",
    "v = 4\n",
    "v.__add__(2)"
   ]
  },
  {
   "cell_type": "code",
   "execution_count": 1,
   "metadata": {},
   "outputs": [],
   "source": [
    "# __Del__ method\n",
    "from os.path import join\n",
    "class FileObject:\n",
    "    def __init__(self, file_path='~', file_name='test.txt'):\n",
    "        self.file = open(join(file_path, file_name), 'rt')\n",
    "\n",
    "    def __del__(self):\n",
    "        self.file.close()\n",
    "        del self.file"
   ]
  },
  {
   "cell_type": "code",
   "execution_count": 2,
   "metadata": {},
   "outputs": [],
   "source": [
    "# __repr__ method\n",
    "class String:\n",
    "    def __init__(self, string):\n",
    "        self.string = string\n",
    "\n",
    "    def __repr__(self):\n",
    "        return 'Object: {}'.format(self.string)"
   ]
  },
  {
   "cell_type": "markdown",
   "metadata": {},
   "source": [
    "**Inheritance and Polymorphism in Python**\n",
    "- In Python, Inheritance, and Polymorphism are very powerful and important concepts\n",
    "- Using inheritance you can use or inherit all the data fields and methods available in the parent class\n",
    "- On top of it, you can add your own methods and data fields\n",
    "- Python allows multiple inheritance i.e you can inherit from multiple classes\n",
    "- Inheritance provides a way to write better-organized code and re-use the code\n",
    "\n",
    "Syntax:\n",
    "\n",
    "class ParentClass:\n",
    "Body of parent class\n",
    "\n",
    "class DerivedClass(ParentClass):\n",
    "Body of derived class\n",
    "\n",
    "- In Python, Polymorphism allows us to define methods in the child class with the same name as defined in their parent class\n",
    "Example:\n",
    "class X:\n",
    "def sample(self):\n",
    "print(“sample() method from class X”)\n",
    "\n",
    "class Y(X):\n",
    "def sample(self):\n",
    "print(“sample() method from class Y”)"
   ]
  },
  {
   "cell_type": "code",
   "execution_count": 3,
   "metadata": {},
   "outputs": [
    {
     "name": "stdout",
     "output_type": "stream",
     "text": [
      "NinjaZX-10R in green color\n",
      "Ninja\n"
     ]
    }
   ],
   "source": [
    "# Inheritance\n",
    "class Vehicle:\n",
    "    def __init__(self, name, color):\n",
    "        self.__name = name      \n",
    "        self.__color = color\n",
    "    \n",
    "    def getColor(self):         \n",
    "        return self.__color\n",
    "\n",
    "    def setColor(self, color):  \n",
    "        self.__color = color\n",
    "\n",
    "    def get_Name(self):          \n",
    "        return self.__name\n",
    "\n",
    "class Bike(Vehicle):\n",
    "    def __init__(self, name, color, model):          \n",
    "        super().__init__(name, color)    # call parent class\n",
    "        self.__model = model\n",
    "    \n",
    "    def get_details(self):\n",
    "        return self.get_Name() + self.__model + \" in \" + self.getColor() + \" color\"\n",
    "\n",
    "b_obj = Bike(\"Ninja\", \"green\", \"ZX-10R\")\n",
    "print(b_obj.get_details())\n",
    "print(b_obj.get_Name())"
   ]
  },
  {
   "cell_type": "code",
   "execution_count": 4,
   "metadata": {},
   "outputs": [
    {
     "name": "stdout",
     "output_type": "stream",
     "text": [
      "36\n",
      "314.1592653589793\n"
     ]
    }
   ],
   "source": [
    "# Polymorphism\n",
    "from math import pi\n",
    "\n",
    "class Shape:\n",
    "    def __init__(self, name):\n",
    "        self.name = name\n",
    "    def area(self):\n",
    "        pass\n",
    "\n",
    "class Square(Shape):\n",
    "    def __init__(self, length):\n",
    "        super().__init__(\"Square\")\n",
    "        self.length = length\n",
    "    def area(self):\n",
    "        return self.length**2\n",
    "\n",
    "class Circle(Shape):\n",
    "    def __init__(self, radius):\n",
    "        super().__init__(\"Circle\")\n",
    "        self.radius = radius\n",
    "    def area(self):\n",
    "        return pi*self.radius**2\n",
    "\n",
    "a = Square(6)\n",
    "b = Circle(10)\n",
    "print(a.area())\n",
    "print(b.area())"
   ]
  },
  {
   "cell_type": "markdown",
   "metadata": {},
   "source": [
    "**Errors and Exception Handling in Python**\n",
    "In Python, an error can be a syntax error or an exception.\n",
    "\n",
    "When the parser detects an incorrect statement, Syntax errors occur.\n",
    "\n",
    "- Exceptions errors are raised when an external event occurs that in some way changes the normal flow of the program\n",
    "- Exception error occurs whenever syntactically correct python code results in an error\n",
    "- Python comes with various built-in exceptions as well as the user can create user-defined exceptions\n",
    "- Garbage collection is the memory management feature i.e a process of cleaning shared computer memory\n",
    "Some of the python’s built-in exceptions are—\n",
    "- 1.) IndexError: When the wrong index of a list is retrieved\n",
    "- 2.) ImportError: When an imported module is not found\n",
    "- 3.) KeyError: When the key of the dictionary is not found\n",
    "- 4.) NameError: When the variable is not defined\n",
    "- 5.) MemoryError: When a program run out of memory\n",
    "- 6.) TypeError: When a function and operation is applied in an incorrect type\n",
    "- 7.) AssertionError: When the assert statement fails\n",
    "- 8.) AttributeError: When an attribute assignment is failed\n",
    "\n",
    "**Try and Except in Python**\n",
    "In Python, exceptions can be handled using a try statement\n",
    "\n",
    "- The block of code which can raise an exception is placed inside the try clause. The code that handles the exceptions is written in the except clause\n",
    "- In case no exception has occurred, the except block is skipped and the program's normal flow continues\n",
    "- A try clause can have any number of except clauses to handle different exceptions but only one will be executed in case the exception occurs\n",
    "- We can also raise exceptions using the raise keyword\n",
    "- The try statement in Python can have an optional finally clause that executes regardless of the result of the try- and except blocks\n",
    "Example :\n",
    "try:\n",
    "print(a)\n",
    "except:\n",
    "print(“Something went wrong”)\n",
    "finally:\n",
    "print(“Exit”)"
   ]
  },
  {
   "cell_type": "code",
   "execution_count": 5,
   "metadata": {},
   "outputs": [
    {
     "name": "stdout",
     "output_type": "stream",
     "text": [
      "Error occurred\n",
      "Exit\n"
     ]
    }
   ],
   "source": [
    "# try, except, finally\n",
    "\n",
    "try:\n",
    "     print(1 / 0)\n",
    "except:\n",
    "     print(\"Error occurred\")\n",
    "finally:\n",
    "     print(\"Exit\")"
   ]
  },
  {
   "cell_type": "markdown",
   "metadata": {},
   "source": [
    "**User-defined Exceptions**\n",
    "In Python, a user can create his own error by creating a new exception class\n",
    "\n",
    "- Exceptions need to be derived from the Exception class, either directly or indirectly\n",
    "- Exceptions errors are raised when an external event occurs which in some way changes the normal flow of the program\n",
    "- User-defined exceptions can be implemented by raising an exception explicitly, by using an assert statement, or by defining custom classes for user-defined exceptions\n",
    "- Use assert statements to implement constraints on the program. When the condition given in the assert statement is not met, the program gives AssertionError in the output\n",
    "- You can raise an existing exception by using the raise keyword and the name of the exception\n",
    "- To create a custom exception class and define an error message, you need to derive the errors from the Exception class directly\n",
    "- When creating a module that can raise several distinct errors, a common practice is to create a base class for exceptions defined by that module, and subclass that to create specific exception classes for different error conditions, this is called Hierarchical custom exceptions\n",
    "Example :\n",
    "class class_name(Exception)"
   ]
  },
  {
   "cell_type": "code",
   "execution_count": 10,
   "metadata": {},
   "outputs": [
    {
     "name": "stdout",
     "output_type": "stream",
     "text": [
      "Value too small\n"
     ]
    },
    {
     "ename": "ValueError",
     "evalue": "invalid literal for int() with base 10: ''",
     "output_type": "error",
     "traceback": [
      "\u001b[1;31m---------------------------------------------------------------------------\u001b[0m",
      "\u001b[1;31mValueError\u001b[0m                                Traceback (most recent call last)",
      "Cell \u001b[1;32mIn[10], line 11\u001b[0m\n\u001b[0;32m      9\u001b[0m \u001b[38;5;28;01mwhile\u001b[39;00m \u001b[38;5;28;01mTrue\u001b[39;00m:\n\u001b[0;32m     10\u001b[0m     \u001b[38;5;28;01mtry\u001b[39;00m:\n\u001b[1;32m---> 11\u001b[0m         num \u001b[38;5;241m=\u001b[39m \u001b[38;5;28;43mint\u001b[39;49m\u001b[43m(\u001b[49m\u001b[38;5;28;43minput\u001b[39;49m\u001b[43m(\u001b[49m\u001b[38;5;124;43m\"\u001b[39;49m\u001b[38;5;124;43mEnter a number: \u001b[39;49m\u001b[38;5;124;43m\"\u001b[39;49m\u001b[43m)\u001b[49m\u001b[43m)\u001b[49m\n\u001b[0;32m     12\u001b[0m         \u001b[38;5;28;01mif\u001b[39;00m num \u001b[38;5;241m<\u001b[39m number:\n\u001b[0;32m     13\u001b[0m             \u001b[38;5;28;01mraise\u001b[39;00m TooSmallValueError\n",
      "\u001b[1;31mValueError\u001b[0m: invalid literal for int() with base 10: ''"
     ]
    }
   ],
   "source": [
    "class Error(Exception):\n",
    "    pass\n",
    "\n",
    "class TooSmallValueError(Error):\n",
    "    pass\n",
    "\n",
    "number = 100\n",
    "\n",
    "while True:\n",
    "    try:\n",
    "        num = int(input(\"Enter a number: \"))\n",
    "        if num < number:\n",
    "            raise TooSmallValueError\n",
    "        break\n",
    "    except TooSmallValueError:\n",
    "        print(\"Value too small\")"
   ]
  },
  {
   "cell_type": "markdown",
   "metadata": {},
   "source": [
    "**Garbage Collection in Python**\n",
    "In Python, Garbage collection is the memory management feature i.e a process of cleaning shared computer memory which is currently being put to use by a running program when that program no longer needs that memory and can be used by other programs\n",
    "\n",
    "- In python, Garbage collection works automatically. Hence, python provides good memory management and prevents the wastage of memory\n",
    "- In python, forcible garbage collection can be done by calling the collect() function of the gc module\n",
    "- In python, when there is no reference left to the object in that case it is automatically destroyed by the Garbage collector of python and __del__() method is executed\n",
    "Example:\n",
    "import gc\n",
    "gc.collect()"
   ]
  },
  {
   "cell_type": "code",
   "execution_count": 11,
   "metadata": {},
   "outputs": [
    {
     "name": "stdout",
     "output_type": "stream",
     "text": [
      "Garbage Creation\n",
      "Collecting..\n",
      "Unreachable objects collected by GC: 1325\n",
      "Uncollectable garbage list: []\n"
     ]
    },
    {
     "ename": "SystemExit",
     "evalue": "",
     "output_type": "error",
     "traceback": [
      "An exception has occurred, use %tb to see the full traceback.\n",
      "\u001b[1;31mSystemExit\u001b[0m\n"
     ]
    },
    {
     "name": "stderr",
     "output_type": "stream",
     "text": [
      "C:\\Users\\Rahul Vaidya\\AppData\\Roaming\\Python\\Python311\\site-packages\\IPython\\core\\interactiveshell.py:3561: UserWarning: To exit: use 'exit', 'quit', or Ctrl-D.\n",
      "  warn(\"To exit: use 'exit', 'quit', or Ctrl-D.\", stacklevel=1)\n"
     ]
    }
   ],
   "source": [
    "#manual garbage collection\n",
    "\n",
    "import sys, gc\n",
    "\n",
    "def test():\n",
    "    list = [18, 19, 20,34,78]\n",
    "    list.append(list)\n",
    "\n",
    "def main():\n",
    "    print(\"Garbage Creation\")\n",
    "    for i in range(5):\n",
    "        test()\n",
    "    print(\"Collecting..\")\n",
    "    n = gc.collect()\n",
    "    print(\"Unreachable objects collected by GC:\", n)\n",
    "    print(\"Uncollectable garbage list:\", gc.garbage)\n",
    "\n",
    "if __name__ == \"__main__\":\n",
    "    main()\n",
    "    sys.exit()"
   ]
  },
  {
   "cell_type": "markdown",
   "metadata": {},
   "source": [
    "**Python Debugger**\n",
    "Debugging is the process of locating and solving the errors in the program. In python, pdb which is a part of Python’s standard library is used to debug the code\n",
    "\n",
    "- pdb module internally makes use of bdb and cmd modules\n",
    "- It supports setting breakpoints and single stepping at the source line level, an inspection of stack frames, source code listing, etc\n",
    "Syntax:\n",
    "import pdb\n",
    "pdb.set_trace()\n",
    "\n",
    "- To set the breakpoints, there is a built-in function called breakpoint()"
   ]
  },
  {
   "cell_type": "code",
   "execution_count": null,
   "metadata": {},
   "outputs": [],
   "source": [
    "import pdb\n",
    "   \n",
    "def multiply(a, b):\n",
    "    answer = a * b\n",
    "    return answer\n",
    "  \n",
    "pdb.set_trace()\n",
    "a = int(input(\"Enter first number: \"))\n",
    "b = int(input(\"Enter second number: \"))\n",
    "sum = multiply(a, b)"
   ]
  },
  {
   "cell_type": "markdown",
   "metadata": {},
   "source": [
    "**Decorators in Python**\n",
    "In Python, a decorator is any callable Python object that is used to modify a function or a class. It takes a function, adds some functionality, and returns it.\n",
    "\n",
    "- Decorators are a very powerful and useful tool in Python since it allows programmers to modify/control the behavior of a function or class.\n",
    "- In Decorators, functions are passed as an argument into another function and then called inside the wrapper function.\n",
    "- Decorators are usually called before the definition of a function you want to decorate.\n",
    "\n",
    "There are two different kinds of decorators in Python:\n",
    "1. Function decorators\n",
    "2. Class decorators\n",
    "\n",
    "- When using Multiple Decorators for a single function, the decorators will be applied in the order they’ve been called\n",
    "- By recalling that decorator function, we can re-use the decorator"
   ]
  },
  {
   "cell_type": "code",
   "execution_count": 13,
   "metadata": {},
   "outputs": [
    {
     "name": "stdout",
     "output_type": "stream",
     "text": [
      "Before calling sqr\n",
      "400\n",
      "After calling sqr\n"
     ]
    }
   ],
   "source": [
    "#Decorators\n",
    "def test_decorator(func):\n",
    "    def function_wrapper(x):\n",
    "        print(\"Before calling \" + func.__name__)\n",
    "        res = func(x)\n",
    "        print(res)\n",
    "        print(\"After calling \" + func.__name__)\n",
    "    return function_wrapper\n",
    "\n",
    "@test_decorator\n",
    "def sqr(n):\n",
    "    return n**2\n",
    "sqr(20)"
   ]
  },
  {
   "cell_type": "code",
   "execution_count": 14,
   "metadata": {},
   "outputs": [
    {
     "data": {
      "text/plain": [
       "['mother', 'of', 'dragons']"
      ]
     },
     "execution_count": 14,
     "metadata": {},
     "output_type": "execute_result"
    }
   ],
   "source": [
    "# Multiple Decorators\n",
    "def lowercase_decorator(function):\n",
    "    def wrapper():\n",
    "        func = function()\n",
    "        make_lowercase = func.lower()\n",
    "        return make_lowercase\n",
    "    return wrapper\n",
    "\n",
    "def split_string(function):\n",
    "    def wrapper():\n",
    "        func= function()\n",
    "        split_string =func.split()\n",
    "        return split_string\n",
    "    return wrapper\n",
    "\n",
    "@split_string\n",
    "@lowercase_decorator\n",
    "def test_func():\n",
    "    return 'MOTHER OF DRAGONS'\n",
    "test_func()"
   ]
  },
  {
   "cell_type": "markdown",
   "metadata": {},
   "source": [
    "**Memoization using Decorators**\n",
    "In Python, memoization is a technique that allows you to optimize a Python function by caching its output based on the parameters you supply to it.\n",
    "\n",
    "- Once you memoize a function, it will only compute its output once for each set of parameters you call it with. Every call after the first will be quickly retrieved from a cache.\n",
    "- If you want to speed up the parts in your program that are expensive, memoization can be a great technique to use.\n",
    "\n",
    "There are three approaches to Memoization —\n",
    "1. Using global\n",
    "2. Using objects\n",
    "3. Using default parameter\n",
    "4. Using a Callable Class"
   ]
  },
  {
   "cell_type": "code",
   "execution_count": 15,
   "metadata": {},
   "outputs": [
    {
     "name": "stdout",
     "output_type": "stream",
     "text": [
      "6765\n"
     ]
    }
   ],
   "source": [
    "#fibonacci series using Memoization using decorators\n",
    "def memoization_func(t):\n",
    "    dict_one = {}\n",
    "    def h(z):\n",
    "        if z not in dict_one:            \n",
    "            dict_one[z] = t(z)\n",
    "        return dict_one[z]\n",
    "    return h\n",
    "    \n",
    "@memoization_func\n",
    "def fib(n):\n",
    "    if n == 0:\n",
    "        return 0\n",
    "    elif n == 1:\n",
    "        return 1\n",
    "    else:\n",
    "        return fib(n-1) + fib(n-2)\n",
    "\n",
    "print(fib(20))"
   ]
  },
  {
   "cell_type": "markdown",
   "metadata": {},
   "source": [
    "**Defaultdict**\n",
    "In python, a dictionary is a container that holds key-value pairs. Keys must be unique, immutable objects\n",
    "\n",
    "- If you try to access or modify keys that don’t exist in the dictionary, it raises a KeyError and breaks up your code execution. To tackle this issue, Python defaultdict type, a dictionary-like class is used\n",
    "- If you try to access or modify a missing key, then defaultdict will automatically create the key and generate a default value for it\n",
    "- A defaultdict will never raise a KeyError\n",
    "- Any key that does not exist gets the value returned by the default factory\n",
    "- Hence, whenever you need a dictionary, and each element’s value should start with a default value, use a defaultdict\n",
    "Syntax:\n",
    "from collections import defaultdict\n",
    "demo = defaultdict(int)"
   ]
  },
  {
   "cell_type": "code",
   "execution_count": 16,
   "metadata": {},
   "outputs": [
    {
     "name": "stdout",
     "output_type": "stream",
     "text": [
      "defaultdict(<class 'list'>, {0: [0], 1: [1], 2: [2], 3: [3], 4: [4], 5: [5], 6: [6], 7: [7], 8: [8], 9: [9]})\n"
     ]
    }
   ],
   "source": [
    "from collections import defaultdict \n",
    "     \n",
    "default_dict_var = defaultdict(list) \n",
    "  \n",
    "for i in range(10): \n",
    "    default_dict_var[i].append(i) \n",
    "  \n",
    "print(default_dict_var)"
   ]
  },
  {
   "cell_type": "markdown",
   "metadata": {},
   "source": [
    "**OrderedDict**\n",
    "In python, OrderedDict is one of the high-performance container datatypes and a subclass of dict object. It maintains the order in which the keys are inserted. In case of deletion or re-insertion of the key, the order is maintained and used when creating an iterator\n",
    "\n",
    "- It’s a dictionary subclass that remembers the order in which its contents are added\n",
    "- When the value of a specified key is changed, the ordering of keys will not change for the OrderedDict\n",
    "- If an item is overwritten in the OrderedDict, its position is maintained\n",
    "- OrderedDict popitem removes the items in the FIFO order\n",
    "- The reversed() function can be used with OrderedDict to iterate elements in the reverse order\n",
    "- OrderedDict has a move_to_end() method to efficiently reposition an element to an endpoint\n",
    "Example:\n",
    "from collections import OrderedDict\n",
    "my_dict = {‘Sunday’: 0, ‘Monday’: 1, ‘tuesday’: 2}\n",
    "#creating ordered dict\n",
    "ordered_dict = OrderedDict(my_dict)"
   ]
  },
  {
   "cell_type": "markdown",
   "metadata": {},
   "source": [
    "**Generators in Python**\n",
    "In Python, Generator functions act just like regular functions with just one difference they use the Python yield keyword instead of return. A generator function is a function that returns an iterator A generator expression is an expression that also returns an iterator\n",
    "\n",
    "- Generator objects are used either by calling the next method on the generator object or using the generator object in a “for in” loop.\n",
    "- A return statement terminates a function entirely but a yield statement pauses the function saving all its states and later continues from there on successive calls.\n",
    "- Generator expressions can be used as function arguments. Just like list comprehensions, generator expressions allow you to quickly create a generator object within minutes with just a few lines of code.\n",
    "- The major difference between a list comprehension and a generator expression is that a list comprehension produces the entire list while the generator expression produces one item at a time as lazy evaluation. For this reason, compared to list comprehension, a generator expression is much more memory efficient.\n",
    "Example:\n",
    "def generator():\n",
    "yield “x”\n",
    "yield “y”\n",
    "for i in generator():\n",
    "print(i)"
   ]
  },
  {
   "cell_type": "code",
   "execution_count": 17,
   "metadata": {},
   "outputs": [
    {
     "name": "stdout",
     "output_type": "stream",
     "text": [
      "0,1,2,3,4,5,6,7,8,9,"
     ]
    }
   ],
   "source": [
    "def test_sequence():\n",
    "    num = 0\n",
    "    while num<10:\n",
    "        yield num\n",
    "        num += 1\n",
    "for i in test_sequence():\n",
    "       print(i, end=\",\")"
   ]
  },
  {
   "cell_type": "code",
   "execution_count": 18,
   "metadata": {},
   "outputs": [
    {
     "name": "stdout",
     "output_type": "stream",
     "text": [
      "n a j o r T "
     ]
    }
   ],
   "source": [
    "# Python generator with Loop\n",
    "#Reverse a string\n",
    "def reverse_str(test_str):\n",
    "    length = len(test_str)\n",
    "    for i in range(length - 1, -1, -1):\n",
    "        yield test_str[i]\n",
    "for char in reverse_str(\"Trojan\"):\n",
    "    print(char,end =\" \")"
   ]
  },
  {
   "cell_type": "code",
   "execution_count": 19,
   "metadata": {},
   "outputs": [
    {
     "name": "stdout",
     "output_type": "stream",
     "text": [
      "[1, 27, 216, 1000]\n",
      "<class 'generator'>\n",
      "(1, 27, 216, 1000)\n"
     ]
    }
   ],
   "source": [
    "# Generator Expression\n",
    "# Initialize the list\n",
    "test_list = [1, 3, 6, 10]\n",
    "# list comprehension\n",
    "list_comprehension = [x**3 for x in test_list]\n",
    "# generator expression\n",
    "test_generator = (x**3 for x in test_list)\n",
    "print(list_comprehension)\n",
    "print(type(test_generator))\n",
    "print(tuple(test_generator))"
   ]
  },
  {
   "cell_type": "markdown",
   "metadata": {},
   "source": [
    "**Coroutine in Python**\n",
    "- Coroutines are computer program components that generalize subroutines for non-preemptive multitasking, by allowing execution to be suspended and resumed\n",
    "- Because coroutines can pause and resume execution context, they’re well suited to concurrent processing\n",
    "- Coroutines are a special type of function that yield control over to the caller but does not end its context in the process, instead maintaining it in an idle state\n",
    "- Using coroutines the yield directive can also be used on the right-hand side of an = operator to signify it will accept a value at that point in time."
   ]
  },
  {
   "cell_type": "code",
   "execution_count": 20,
   "metadata": {},
   "outputs": [
    {
     "name": "stdout",
     "output_type": "stream",
     "text": [
      "My first Coroutine\n"
     ]
    }
   ],
   "source": [
    "def func():\n",
    "  print(\"My first Coroutine\")\n",
    "  while True:\n",
    "    var = (yield)\n",
    "    print(var)\n",
    "\n",
    "coroutine = func() \n",
    "next(coroutine)"
   ]
  }
 ],
 "metadata": {
  "kernelspec": {
   "display_name": "Python 3",
   "language": "python",
   "name": "python3"
  },
  "language_info": {
   "codemirror_mode": {
    "name": "ipython",
    "version": 3
   },
   "file_extension": ".py",
   "mimetype": "text/x-python",
   "name": "python",
   "nbconvert_exporter": "python",
   "pygments_lexer": "ipython3",
   "version": "3.11.3"
  }
 },
 "nbformat": 4,
 "nbformat_minor": 2
}
