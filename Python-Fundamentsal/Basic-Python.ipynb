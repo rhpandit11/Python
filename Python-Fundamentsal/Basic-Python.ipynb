{
 "cells": [
  {
   "cell_type": "markdown",
   "metadata": {},
   "source": [
    "Python is a high-level, most widely used multi-purpose, easy-to-read programming language."
   ]
  },
  {
   "cell_type": "markdown",
   "metadata": {},
   "source": [
    "It is —\n",
    "\n",
    "**Interpreted** − Python is processed at runtime by the interpreter. i.e you do not need to compile your program before executing it\n",
    "**Interactive** − You can interact with the interpreter directly to write your programs\n",
    "**Portable** — It can run on a wide range of hardware Platforms\n",
    "**Object-Oriented** − Python supports Object-Oriented style and Procedural Paradigms\n",
    "Used as a scripting language or can be compiled to byte-code for building large applications\n",
    "It has a simple structure and a clearly defined syntax\n",
    "Known as Beginner’s Language − It’s a great language for the beginner-level programmers\n",
    "Source code is comparatively easy-to-maintain\n",
    "It provides very high-level dynamic data types and supports dynamic type checking.\n",
    "Has a huge collection of the standard library\n",
    "Popular applications for Python:\n",
    "\n",
    "Web Development\n",
    "Data Science — including machine learning, data analysis, and data visualization\n",
    "Scripting\n",
    "Game Development\n",
    "CAD Applications\n",
    "Embedded Applications"
   ]
  },
  {
   "cell_type": "code",
   "execution_count": 1,
   "metadata": {},
   "outputs": [
    {
     "name": "stdout",
     "output_type": "stream",
     "text": [
      "5\n",
      "<class 'int'>\n"
     ]
    }
   ],
   "source": [
    "#Int data Type\n",
    "var = 5\n",
    "print(var)\n",
    "print(type(var))"
   ]
  },
  {
   "cell_type": "code",
   "execution_count": 3,
   "metadata": {},
   "outputs": [
    {
     "name": "stdout",
     "output_type": "stream",
     "text": [
      "0.1234\n",
      "<class 'float'>\n"
     ]
    }
   ],
   "source": [
    "#Float data type\n",
    "pvar2 = 0.1234\n",
    "print(pvar2)\n",
    "print(type(pvar2))"
   ]
  },
  {
   "cell_type": "code",
   "execution_count": 4,
   "metadata": {},
   "outputs": [
    {
     "name": "stdout",
     "output_type": "stream",
     "text": [
      "2j\n",
      "<class 'complex'>\n"
     ]
    }
   ],
   "source": [
    "#Complex numbers data type\n",
    "x = 2j\n",
    "print(x)\n",
    "print(type(x))"
   ]
  },
  {
   "cell_type": "code",
   "execution_count": 5,
   "metadata": {},
   "outputs": [
    {
     "name": "stdout",
     "output_type": "stream",
     "text": [
      "Hello World\n",
      "<class 'str'>\n"
     ]
    }
   ],
   "source": [
    "#String Data Type\n",
    "str_one = \"Hello World\"\n",
    "print(str_one)\n",
    "print(type(str_one))"
   ]
  },
  {
   "cell_type": "code",
   "execution_count": 6,
   "metadata": {},
   "outputs": [
    {
     "name": "stdout",
     "output_type": "stream",
     "text": [
      "['car', 'bike']\n",
      "<class 'list'>\n"
     ]
    }
   ],
   "source": [
    "#list Data type\n",
    "list1 = [\"car\",\"bike\"]\n",
    "print(list1)\n",
    "print(type(list1))"
   ]
  },
  {
   "cell_type": "code",
   "execution_count": 7,
   "metadata": {},
   "outputs": [
    {
     "name": "stdout",
     "output_type": "stream",
     "text": [
      "('car', 'bike', 'bus')\n",
      "<class 'tuple'>\n"
     ]
    }
   ],
   "source": [
    "#Tuple Data Type\n",
    "tup= (\"car\",\"bike\",\"bus\")\n",
    "print(tup)\n",
    "print(type(tup))"
   ]
  },
  {
   "cell_type": "code",
   "execution_count": 8,
   "metadata": {},
   "outputs": [
    {
     "name": "stdout",
     "output_type": "stream",
     "text": [
      "{'Name': 'Steve', 'Location': 'NewYork'}\n",
      "<class 'dict'>\n"
     ]
    }
   ],
   "source": [
    "#Dictionary Data type\n",
    "dict_one = {\"Name\": \"Steve\", \"Location\": \"NewYork\"}\n",
    "print(dict_one)\n",
    "print(type(dict_one))"
   ]
  },
  {
   "cell_type": "code",
   "execution_count": 9,
   "metadata": {},
   "outputs": [
    {
     "name": "stdout",
     "output_type": "stream",
     "text": [
      "{'Hello', 'world'}\n",
      "<class 'set'>\n"
     ]
    }
   ],
   "source": [
    "#Set Data type\n",
    "set_one = set({\"Hello\",\"world\",\"Hello\"})\n",
    "print(set_one)\n",
    "print(type(set_one))"
   ]
  },
  {
   "cell_type": "code",
   "execution_count": 10,
   "metadata": {},
   "outputs": [
    {
     "name": "stdout",
     "output_type": "stream",
     "text": [
      "frozenset({'Hello', 'World'})\n",
      "<class 'frozenset'>\n"
     ]
    }
   ],
   "source": [
    "#Frozen Set\n",
    "f_one = frozenset({\"Hello\",\"World\",\"Hello\"})\n",
    "print(f_one)\n",
    "print(type(f_one))"
   ]
  },
  {
   "cell_type": "code",
   "execution_count": 11,
   "metadata": {},
   "outputs": [
    {
     "name": "stdout",
     "output_type": "stream",
     "text": [
      "True\n",
      "<class 'bool'>\n"
     ]
    }
   ],
   "source": [
    "#Boolean Data Type\n",
    "b = True\n",
    "print(b)\n",
    "print(type(b))"
   ]
  },
  {
   "cell_type": "code",
   "execution_count": 12,
   "metadata": {},
   "outputs": [
    {
     "name": "stdout",
     "output_type": "stream",
     "text": [
      "<class 'bytes'>\n",
      "b'World'\n"
     ]
    }
   ],
   "source": [
    "#Byte Data Type\n",
    "byte_one = b\"World\"\n",
    "print(type(byte_one))\n",
    "print(byte_one)"
   ]
  },
  {
   "cell_type": "markdown",
   "metadata": {},
   "source": [
    "Python Strings\n",
    "Strings are arrays of bytes representing Unicode characters.\n",
    "\n",
    "- Strings in python are surrounded by either single quotation marks or double quotation marks.\n",
    "- You can assign a multiline string to a variable by using three quotes."
   ]
  },
  {
   "cell_type": "code",
   "execution_count": 14,
   "metadata": {},
   "outputs": [
    {
     "name": "stdout",
     "output_type": "stream",
     "text": [
      "Welcome to complete Python Course\n",
      "Welcome to the complete Python Course\n",
      "This is a\n",
      "       multiline \n",
      "       String\n"
     ]
    }
   ],
   "source": [
    "#String\n",
    "str1 = \"Welcome to complete Python Course\"\n",
    "str2 = 'Welcome to the complete Python Course'\n",
    "str3 = \"\"\"This is a\n",
    "       multiline \n",
    "       String\"\"\"\n",
    "print(str1)\n",
    "print(str2)\n",
    "print(str3)"
   ]
  },
  {
   "cell_type": "markdown",
   "metadata": {},
   "source": [
    "Indexing and Slicing with Strings —\n",
    "\n",
    "- In python, Indexing is used to access individual characters of a string\n",
    "- Square brackets are used to access the character of the string using Index\n",
    "- The index starts with 0\n",
    "- -1 refers to the last character, -2 refers to the second last character, and so on\n",
    "- In python, Slicing is used to access a range of characters in the string\n",
    "- The slicing operator colon (:) is used"
   ]
  },
  {
   "cell_type": "code",
   "execution_count": 15,
   "metadata": {},
   "outputs": [
    {
     "name": "stdout",
     "output_type": "stream",
     "text": [
      "a\n"
     ]
    }
   ],
   "source": [
    "# Indexing : String starts with 0th Index\n",
    "s= \"Captain America\"\n",
    "print(s[4])"
   ]
  },
  {
   "cell_type": "code",
   "execution_count": 16,
   "metadata": {},
   "outputs": [
    {
     "name": "stdout",
     "output_type": "stream",
     "text": [
      "at\n"
     ]
    }
   ],
   "source": [
    "#Slicing : slice(start, stop, step), it returns a sliced object containing elements in the given range\n",
    "s= \"Captain America\"\n",
    "print(s[1:5:2])"
   ]
  },
  {
   "cell_type": "code",
   "execution_count": 17,
   "metadata": {},
   "outputs": [
    {
     "name": "stdout",
     "output_type": "stream",
     "text": [
      "aciremA niatpaC\n"
     ]
    }
   ],
   "source": [
    "#Reverse\n",
    "print(s[::-1])"
   ]
  },
  {
   "cell_type": "markdown",
   "metadata": {},
   "source": [
    "**String Methods**\n",
    "- istitle(): Checks for Titlecased String\n",
    "- isupper(): returns if all characters are uppercase characters\n",
    "- join(): Returns a Concatenated String\n",
    "- ljust(): returns left-justified string of given width\n",
    "- lower(): returns lowercased string\n",
    "- lstrip(): Removes Leading Characters\n",
    "- maketrans(): returns a translation table\n",
    "- replace(): Replaces Substring Inside\n",
    "- rfind(): Returns the Highest Index of Substring\n",
    "- rjust(): returns right-justified string of given width\n",
    "- rstrip(): Removes Trailing Characters\n",
    "- split(): Splits String from Left\n",
    "- splitlines(): Splits String at Line Boundaries\n",
    "- startswith(): Checks if String Starts with the Specified String\n",
    "- strip(): Removes Both Leading and Trailing Characters\n",
    "- swapcase(): swap uppercase characters to lowercase; vice versa\n",
    "- title(): Returns a Title Cased String\n",
    "- translate(): returns the mapped character string\n",
    "- upper(): returns uppercased string\n",
    "- zfill(): Returns a Copy of The String Padded With Zeros\n",
    "- capitalize(): Converts the first character to Capital Letter\n",
    "- casefold(): converts to case-folded strings\n",
    "- center(): Pads string with the specified character\n",
    "- count(): returns occurrences of a substring in a string\n",
    "- encode(): returns encoded string of given string\n",
    "- endswith(): Checks if String Ends with the Specified Suffix\n",
    "- expandtabs(): Replaces Tab character With Spaces\n",
    "- find(): Returns the index of the first occurrence of the substring\n",
    "- format(): formats string into the nicer output\n",
    "- format_map(): Formats the String Using Dictionary\n",
    "- index(): Returns Index of Substring\n",
    "- isalnum(): Checks Alphanumeric Character\n",
    "- isalpha(): Checks if All Characters are Alphabet\n",
    "- isdecimal(): Checks Decimal Characters\n",
    "- isdigit(): Checks Digit Characters\n",
    "- isidentifier(): Checks for Valid Identifier\n",
    "- islower(): Checks if all Alphabets in a String are Lowercase\n",
    "- isnumeric(): Checks Numeric Characters\n",
    "- isprintable(): Checks Printable Character\n",
    "- isspace(): Checks Whitespace Characters"
   ]
  },
  {
   "cell_type": "code",
   "execution_count": 18,
   "metadata": {},
   "outputs": [
    {
     "name": "stdout",
     "output_type": "stream",
     "text": [
      "Complete python course\n"
     ]
    }
   ],
   "source": [
    "#capitalize() method : Returns a copy of the string with its first #character capitalized and the rest lowercased\n",
    "a = \"complete python course\" \n",
    "print(a.capitalize())"
   ]
  },
  {
   "cell_type": "code",
   "execution_count": 19,
   "metadata": {},
   "outputs": [
    {
     "name": "stdout",
     "output_type": "stream",
     "text": [
      "**Python**\n"
     ]
    }
   ],
   "source": [
    "#centre(width[, fillchar])   : Returns the string centered in a string of length width\n",
    "a = \"Python\" \n",
    "b = a.center(10, \"*\")\n",
    "print(b)"
   ]
  },
  {
   "cell_type": "code",
   "execution_count": 20,
   "metadata": {},
   "outputs": [
    {
     "name": "stdout",
     "output_type": "stream",
     "text": [
      "python\n"
     ]
    }
   ],
   "source": [
    "# casefold() method : Returns a casefolded copy of the string. Casefolded strings may be used for caseless matching\n",
    "a = \"PYTHON\"\n",
    "print(a.casefold())"
   ]
  },
  {
   "cell_type": "code",
   "execution_count": 21,
   "metadata": {},
   "outputs": [
    {
     "name": "stdout",
     "output_type": "stream",
     "text": [
      "2\n",
      "5\n",
      "1\n"
     ]
    }
   ],
   "source": [
    "# count(sub[, start[, end]]) : Returns the number of non-overlapping occurrences of substring (sub) in the range [start, end]\n",
    "a = \"Welcome to complete Python Course\"\n",
    "print(a.count(\"c\"))\n",
    "print(a.count(\"o\"))\n",
    "print(a.count(\"Python\"))"
   ]
  },
  {
   "cell_type": "code",
   "execution_count": 22,
   "metadata": {},
   "outputs": [
    {
     "name": "stdout",
     "output_type": "stream",
     "text": [
      "False\n",
      "True\n"
     ]
    }
   ],
   "source": [
    "# endswith(suffix[, start[, end]]) : Returns True if the string ends with the specified suffix, otherwise it returns False\n",
    "a = \"Watermelon\"\n",
    "print(a.endswith(\"s\"))\n",
    "print(a.endswith(\"melon\"))"
   ]
  },
  {
   "cell_type": "code",
   "execution_count": 23,
   "metadata": {},
   "outputs": [
    {
     "name": "stdout",
     "output_type": "stream",
     "text": [
      "3\n",
      "2\n"
     ]
    }
   ],
   "source": [
    "# find(sub[, start[, end]]) : Returns the lowest index in the string where substring sub is found within the slice s[start:end]\n",
    "a = \"Exercise\"\n",
    "print(a.find(\"r\"))\n",
    "print(a.find(\"e\"))"
   ]
  },
  {
   "cell_type": "code",
   "execution_count": 24,
   "metadata": {},
   "outputs": [
    {
     "name": "stdout",
     "output_type": "stream",
     "text": [
      "4\n",
      "0\n",
      "5\n"
     ]
    }
   ],
   "source": [
    "# index(sub[, start[, end]]) : Similar to find function, except that it raises a ValueError when the substring is not found\n",
    "a = \"Continent\"\n",
    "print(a.index(\"i\"))\n",
    "print(a.index(\"C\"))\n",
    "print(a.index(\"nent\"))"
   ]
  },
  {
   "cell_type": "code",
   "execution_count": 25,
   "metadata": {},
   "outputs": [
    {
     "name": "stdout",
     "output_type": "stream",
     "text": [
      "True\n",
      "False\n"
     ]
    }
   ],
   "source": [
    "# isalnum() : Returns True if all characters in the string are alphanumeric, else returns False\n",
    "c = \"456\"\n",
    "d = \"$*%!!**\"\n",
    "print(c.isalnum())\n",
    "print(d.isalnum())"
   ]
  },
  {
   "cell_type": "code",
   "execution_count": 26,
   "metadata": {},
   "outputs": [
    {
     "name": "stdout",
     "output_type": "stream",
     "text": [
      "False\n",
      "True\n"
     ]
    }
   ],
   "source": [
    "# isalpha() : Returns True if all characters in the string are alphabetic, else returns False\n",
    "c = \"456\"\n",
    "d = \"Python\"\n",
    "print(c.isalpha())\n",
    "print(d.isalpha())"
   ]
  },
  {
   "cell_type": "code",
   "execution_count": 27,
   "metadata": {},
   "outputs": [
    {
     "name": "stdout",
     "output_type": "stream",
     "text": [
      "False\n",
      "True\n"
     ]
    }
   ],
   "source": [
    "# isdecimal() : Returns True if all characters in the string are decimal characters, else returns False\n",
    "c = u\"\\u00B10\"\n",
    "x = \"10\"\n",
    "print(c.isdecimal())\n",
    "print(x.isdecimal())"
   ]
  },
  {
   "cell_type": "code",
   "execution_count": 28,
   "metadata": {},
   "outputs": [
    {
     "name": "stdout",
     "output_type": "stream",
     "text": [
      "True\n",
      "False\n"
     ]
    }
   ],
   "source": [
    "# isdigit() : Returns True if all characters in the string are digits, else returns False\n",
    "c = \"4567\"\n",
    "d = \"1.65\"\n",
    "print(c.isdigit())\n",
    "print(d.isdigit())"
   ]
  },
  {
   "cell_type": "code",
   "execution_count": 29,
   "metadata": {},
   "outputs": [
    {
     "name": "stdout",
     "output_type": "stream",
     "text": [
      "C,D\n"
     ]
    }
   ],
   "source": [
    "# join(iterable) : Returns a string which is the concatenation of the strings in iterable. \n",
    "# A TypeError will be raised if there are any non-string values in iterable\n",
    "a = \",\"\n",
    "print(a.join(\"CD\"))"
   ]
  },
  {
   "cell_type": "code",
   "execution_count": 30,
   "metadata": {},
   "outputs": [
    {
     "name": "stdout",
     "output_type": "stream",
     "text": [
      "('Complete.Python', '-', 'course')\n",
      "('Complete', '.', 'Python-course')\n"
     ]
    }
   ],
   "source": [
    "# partition(sep) : Splits the string at the first occurrence of sep, and returns a 3-tuple containing the part before the separator, the separator itself, and the part after the separator\n",
    "a = \"Complete.Python-course\"\n",
    "print(a.partition(\"-\"))\n",
    "print(a.partition(\".\"))"
   ]
  },
  {
   "cell_type": "code",
   "execution_count": 31,
   "metadata": {},
   "outputs": [
    {
     "name": "stdout",
     "output_type": "stream",
     "text": [
      "['Welcome', '', 'Friends', '']\n"
     ]
    }
   ],
   "source": [
    "# split(sep=None, maxsplit=-1) : Returns a list of the words in the string, using sep as the delimiter strip. \n",
    "# If maxsplit is given,at most maxsplit splits are done.If maxsplit is not specified or -1, then there is no limit on the number of splits.\n",
    "a = \"Welcome,,Friends,\"\n",
    "print(a.split(\",\"))"
   ]
  },
  {
   "cell_type": "code",
   "execution_count": 32,
   "metadata": {},
   "outputs": [
    {
     "name": "stdout",
     "output_type": "stream",
     "text": [
      "Python\n"
     ]
    }
   ],
   "source": [
    "# strip([chars]) : Returns a copy of the string with leading and trailing characters removed. The chars argument is a string specifying the set of characters to be removed\n",
    "a = \"***Python***\"\n",
    "print(a.strip(\"*\"))"
   ]
  },
  {
   "cell_type": "code",
   "execution_count": 33,
   "metadata": {},
   "outputs": [
    {
     "name": "stdout",
     "output_type": "stream",
     "text": [
      "hI hOMIES\n"
     ]
    }
   ],
   "source": [
    "# swapcase() : Returns a copy of the string with uppercase characters converted to lowercase and vice versa\n",
    "a = \"Hi Homies\"\n",
    "print(a.swapcase())"
   ]
  },
  {
   "cell_type": "code",
   "execution_count": 34,
   "metadata": {},
   "outputs": [
    {
     "name": "stdout",
     "output_type": "stream",
     "text": [
      "-00124\n"
     ]
    }
   ],
   "source": [
    "# zfill(width) : Returns a copy of the string left filled with ASCII 0 digits to make a string of length width\n",
    "a = \"-124\"\n",
    "print(a.zfill(6))"
   ]
  },
  {
   "cell_type": "code",
   "execution_count": 35,
   "metadata": {},
   "outputs": [
    {
     "name": "stdout",
     "output_type": "stream",
     "text": [
      "Python-----\n"
     ]
    }
   ],
   "source": [
    "# lstrip([chars]) : Return a copy of the string with leading characters removed. The chars argument is a string specifying the set of characters to be removed.\n",
    "a = \"*****Python-----\"\n",
    "print(a.lstrip(\"*\"))"
   ]
  },
  {
   "cell_type": "code",
   "execution_count": 36,
   "metadata": {},
   "outputs": [
    {
     "name": "stdout",
     "output_type": "stream",
     "text": [
      "7\n",
      "3\n"
     ]
    }
   ],
   "source": [
    "# rindex(sub[, start[, end]]) : Just like rfind() but raises ValueError when the substring sub is not found\n",
    "a = \"Hi World\"\n",
    "print(a.rindex(\"d\"))\n",
    "print(a.rindex(\"W\"))"
   ]
  },
  {
   "cell_type": "markdown",
   "metadata": {},
   "source": [
    "Python F Strings\n",
    "- Python F-String is used to embed python expressions inside string literals for formatting, using minimal syntax.\n",
    "- It’s an expression that’s evaluated at the run time.\n",
    "- They have the f prefix and use {} brackets to evaluate values.\n",
    "- f-strings are faster than %-formatting and str.format()\n",
    "- To format and output an expression in the formatted way, you should use curly braces {}"
   ]
  },
  {
   "cell_type": "code",
   "execution_count": 38,
   "metadata": {},
   "outputs": [
    {
     "name": "stdout",
     "output_type": "stream",
     "text": [
      "Max of 12 and 25 is 25\n"
     ]
    }
   ],
   "source": [
    "def max_no(x,y):\n",
    "    return x if x>y else y\n",
    "f_no= 12\n",
    "s_no =25\n",
    "print(f'Max of {f_no} and {s_no} is {max(f_no,s_no)}')"
   ]
  },
  {
   "cell_type": "code",
   "execution_count": 39,
   "metadata": {},
   "outputs": [
    {
     "name": "stdout",
     "output_type": "stream",
     "text": [
      "result:  12\n"
     ]
    }
   ],
   "source": [
    "from decimal import Decimal\n",
    "width = 4\n",
    "round_point = 2\n",
    "value = Decimal('12.39065')\n",
    "print(f'result:{value:{width}.{round_point}}')"
   ]
  },
  {
   "cell_type": "markdown",
   "metadata": {},
   "source": [
    "**Operators in Python**\n",
    "- In python, operators are used for performing some operations on variables and values\n",
    "Arithmetic operators : +, — , *, /, //, %, **\n",
    "Logical operators : and, or, not\n",
    "Identity operators : is, is not\n",
    "Membership operators : in , not in\n",
    "Bitwise operators : &, |, ^,~, << , >>\n",
    "Assignment operators : =, +=, -=, *=,/= , %=, //=, **=, &=, |=, ^=, >>=, <<=\n",
    "Comparison operators : ==, !=, > , <, >=, <=\n",
    "- Ternary operators are operators that evaluate things based on a condition being true or false\n",
    "- Operator overloading can be implemented in Python\n",
    "\n"
   ]
  },
  {
   "cell_type": "code",
   "execution_count": 40,
   "metadata": {},
   "outputs": [
    {
     "name": "stdout",
     "output_type": "stream",
     "text": [
      "Addition: 14\n",
      "Subtraction: 6\n",
      "Multiply:  40\n",
      "Division: 2.5\n",
      "Modulus: 2\n",
      "Floor Division: 2\n",
      "Exponent: 10000\n"
     ]
    }
   ],
   "source": [
    "#Arithmetic Operators\n",
    "x=10\n",
    "y=4\n",
    "#Addition\n",
    "print(\"Addition:\",x+y)\n",
    "#Subtraction\n",
    "print(\"Subtraction:\",x-y)\n",
    "#Multiply\n",
    "print(\"Multiply: \",x*y)\n",
    "#Division\n",
    "print(\"Division:\",x/y)\n",
    "#Modulus\n",
    "print(\"Modulus:\",x%y)\n",
    "#Floor Division\n",
    "print(\"Floor Division:\",x//y)\n",
    "#Exponent\n",
    "print(\"Exponent:\",x**y)"
   ]
  },
  {
   "cell_type": "code",
   "execution_count": 41,
   "metadata": {},
   "outputs": [
    {
     "name": "stdout",
     "output_type": "stream",
     "text": [
      "Greater than: True\n",
      "Greater than: False\n",
      "Greater than equal to: True\n",
      "Less than: False\n",
      "Not equal to: True\n",
      "Equal to: False\n"
     ]
    }
   ],
   "source": [
    "#Comparison Operator  : Result is either True or False\n",
    "x=5\n",
    "y=3\n",
    "#Greater than\n",
    "print(\"Greater than:\",x>y)\n",
    "#Less than\n",
    "print(\"Greater than:\",x<y)\n",
    "#Greater than equal to \n",
    "print(\"Greater than equal to:\",x>=y)\n",
    "#less than equal to\n",
    "print(\"Less than:\",x<=y)\n",
    "#Not equal to \n",
    "print(\"Not equal to:\",x!=y)\n",
    "#Equal to\n",
    "print(\"Equal to:\",x==y)"
   ]
  },
  {
   "cell_type": "code",
   "execution_count": 42,
   "metadata": {},
   "outputs": [
    {
     "name": "stdout",
     "output_type": "stream",
     "text": [
      "And result: False\n",
      "Or result: True\n",
      "Not result: True\n"
     ]
    }
   ],
   "source": [
    "#Logical Operators : and, or, not [Result is either True or False]\n",
    "x= True\n",
    "y= False\n",
    "#And\n",
    "print(\"And result:\",(x and y))\n",
    "#Or\n",
    "print(\"Or result:\",(x or y))\n",
    "#Not\n",
    "print(\"Not result:\",(not y))"
   ]
  },
  {
   "cell_type": "code",
   "execution_count": 43,
   "metadata": {},
   "outputs": [
    {
     "name": "stdout",
     "output_type": "stream",
     "text": [
      "And result: 992\n",
      "Or result: 1019\n",
      "Not result: -1011\n",
      "XOR result: 27\n",
      "Bitwise right shift result: 250\n",
      "Bitwise left shift result: 4004\n"
     ]
    }
   ],
   "source": [
    "# Bitwise operators\n",
    "x = 1001\n",
    "y = 1010\n",
    "#And\n",
    "print(\"And result:\",(x & y))\n",
    "#Or\n",
    "print(\"Or result:\",(x | y))\n",
    "#Not\n",
    "print(\"Not result:\",(~y))\n",
    "#Xor\n",
    "print(\"XOR result:\",(x^y))\n",
    "#Bitwise right shift\n",
    "print(\"Bitwise right shift result:\",(x>>2))\n",
    "#Bitwise left shift\n",
    "print(\"Bitwise left shift result:\",(x<<2))"
   ]
  },
  {
   "cell_type": "code",
   "execution_count": null,
   "metadata": {},
   "outputs": [],
   "source": [
    "# Assignment operators : used in Python to assign values to variables\n",
    "x=5\n",
    "x+=5\n",
    "x-=2\n",
    "x*=2\n",
    "x**=2"
   ]
  },
  {
   "cell_type": "code",
   "execution_count": 44,
   "metadata": {},
   "outputs": [
    {
     "name": "stdout",
     "output_type": "stream",
     "text": [
      "Is operator result: True\n",
      "Not is operator result: True\n"
     ]
    }
   ],
   "source": [
    "# Identity Operator : is and is not are the identity operators in Python\n",
    "x=5\n",
    "y=5\n",
    "z='a'\n",
    "print(\"Is operator result:\", (x is y))\n",
    "print(\"Not is operator result:\", (y is not z))"
   ]
  },
  {
   "cell_type": "code",
   "execution_count": 45,
   "metadata": {},
   "outputs": [
    {
     "name": "stdout",
     "output_type": "stream",
     "text": [
      "True\n",
      "False\n"
     ]
    }
   ],
   "source": [
    "#Membership operator : in operator\n",
    "x = 'Python Course'\n",
    "print('y' in x)\n",
    "print('a' in x)"
   ]
  },
  {
   "cell_type": "markdown",
   "metadata": {},
   "source": [
    "**Chaining Comparison Operators with Logical Operators**\n",
    "- In python, to check more than two conditions, we implement chaining where two or more operators are chained together as shown in the example below\n",
    "- By associativity and precedence in Python, all comparison operations have the same priority. Resultant values of Comparisons yield boolean values such as either True or False\n",
    "- When chaining the comparison operators, the sequence can be arbitrary."
   ]
  },
  {
   "cell_type": "code",
   "execution_count": 46,
   "metadata": {},
   "outputs": [
    {
     "name": "stdout",
     "output_type": "stream",
     "text": [
      "False\n",
      "False\n"
     ]
    }
   ],
   "source": [
    "#Chaining Comparison operators with Logical operators\n",
    "a, b, c, d, e, f, g = 10, 15, 2, 1, 45, 25, 19\n",
    "e1 = a <= b < c > d < e is not f is g\n",
    "e2 = a is d < f is c\n",
    "print(e1)\n",
    "print(e2)"
   ]
  },
  {
   "cell_type": "markdown",
   "metadata": {},
   "source": [
    "**Python Lists**\n",
    "- One of the most versatile data types in Python, Lists are used to store multiple items (homogeneous or non-homogeneous) in a single variable.\n",
    "- Place the items inside the square brackets[]\n",
    "- Items can be of any data type\n",
    "- Lists are defined as objects with the data type ‘list’\n",
    "- Items are ordered, changeable, and allow duplicate values\n",
    "- list() constructor can be used when creating a new list\n",
    "- To access values in lists, use the square brackets for slicing along with the index to obtain item value available at a particular index\n",
    "- Items inside the list are indexed, the first item has an index [0], the second item has an index [1], etc"
   ]
  },
  {
   "cell_type": "code",
   "execution_count": 47,
   "metadata": {},
   "outputs": [
    {
     "name": "stdout",
     "output_type": "stream",
     "text": [
      "['sunday', 'monday', 'tuesday', 'wednesday', 'thursday']\n"
     ]
    }
   ],
   "source": [
    "#Create a List\n",
    "list_one = [\"sunday\",\"monday\",\"tuesday\",\"wednesday\",\"thursday\"]\n",
    "print(list_one)"
   ]
  },
  {
   "cell_type": "code",
   "execution_count": 48,
   "metadata": {},
   "outputs": [
    {
     "name": "stdout",
     "output_type": "stream",
     "text": [
      "5\n"
     ]
    }
   ],
   "source": [
    "#List Length\n",
    "print(len(list_one))"
   ]
  },
  {
   "cell_type": "code",
   "execution_count": 49,
   "metadata": {},
   "outputs": [
    {
     "name": "stdout",
     "output_type": "stream",
     "text": [
      "['abc', 67, True, 3.14, 'female']\n"
     ]
    }
   ],
   "source": [
    "# List with different data types\n",
    "list_two = ['abc',67,True,3.14,\"female\"]\n",
    "print(list_two)"
   ]
  },
  {
   "cell_type": "code",
   "execution_count": 50,
   "metadata": {},
   "outputs": [
    {
     "name": "stdout",
     "output_type": "stream",
     "text": [
      "<class 'list'>\n"
     ]
    }
   ],
   "source": [
    "#type() with List\n",
    "print(type(list_two))"
   ]
  },
  {
   "cell_type": "code",
   "execution_count": 51,
   "metadata": {},
   "outputs": [
    {
     "name": "stdout",
     "output_type": "stream",
     "text": [
      "['hello', 'World', 'Beautiful', 'Day']\n"
     ]
    }
   ],
   "source": [
    "#list() constructor to make a List\n",
    "list_cons = list((\"hello\",\"World\",\"Beautiful\",\"Day\"))\n",
    "print(list_cons)"
   ]
  },
  {
   "cell_type": "code",
   "execution_count": 52,
   "metadata": {},
   "outputs": [
    {
     "name": "stdout",
     "output_type": "stream",
     "text": [
      "['hello', [8, 4, 6], ['World']]\n"
     ]
    }
   ],
   "source": [
    "# nested list\n",
    "list_nest= [\"hello\",[8,4,6],['World']]\n",
    "print(list_nest)"
   ]
  },
  {
   "cell_type": "code",
   "execution_count": 53,
   "metadata": {},
   "outputs": [
    {
     "name": "stdout",
     "output_type": "stream",
     "text": [
      "['monday', 'tuesday', 'wednesday']\n"
     ]
    }
   ],
   "source": [
    "#slice lists in Python : Use the slicing operator :(colon)\n",
    "list_one = [\"sunday\",\"monday\",\"tuesday\",\"wednesday\",\"thursday\"]\n",
    "print(list_one[1:4])"
   ]
  },
  {
   "cell_type": "code",
   "execution_count": 54,
   "metadata": {},
   "outputs": [
    {
     "name": "stdout",
     "output_type": "stream",
     "text": [
      "['sunday', 'monday', 'tuesday', 'friday', 'thursday']\n"
     ]
    }
   ],
   "source": [
    "#Add/Change List Elements : use the assignment operator = to change an item\n",
    "list_one = [\"sunday\",\"monday\",\"tuesday\",\"wednesday\",\"thursday\"]\n",
    "list_one[3] = 'friday'\n",
    "print(list_one)"
   ]
  },
  {
   "cell_type": "code",
   "execution_count": 55,
   "metadata": {},
   "outputs": [
    {
     "name": "stdout",
     "output_type": "stream",
     "text": [
      "['sunday', 'monday', 'tuesday', 'wednesday', 'thursday', 'friday']\n",
      "['sunday', 'monday', 'tuesday', 'wednesday', 'thursday', 'friday', 'saturday']\n"
     ]
    }
   ],
   "source": [
    "# Appending and Extending lists in Python : Use the append() or extend() method\n",
    "list_one = [\"sunday\",\"monday\",\"tuesday\",\"wednesday\",\"thursday\"]\n",
    "list_one.append('friday')\n",
    "print(list_one)\n",
    "#extend\n",
    "list_one.extend(['saturday'])\n",
    "print(list_one)"
   ]
  },
  {
   "cell_type": "code",
   "execution_count": 57,
   "metadata": {},
   "outputs": [
    {
     "name": "stdout",
     "output_type": "stream",
     "text": [
      "['sunday', 'monday', 'tuesday', 'wednesday', 'thursday', 0, 1, 2, 3, 4]\n",
      "['a', 'b', 'a', 'b']\n"
     ]
    }
   ],
   "source": [
    "# Concatenating and repeat lists : use + operator to concate two lists and use * operator to repeat lists\n",
    "list_one = [\"sunday\",\"monday\",\"tuesday\",\"wednesday\",\"thursday\"]\n",
    "print(list_one + [0,1,2,3,4])\n",
    "#repeat operation \n",
    "print(['a','b']*2)"
   ]
  },
  {
   "cell_type": "code",
   "execution_count": 58,
   "metadata": {},
   "outputs": [
    {
     "name": "stdout",
     "output_type": "stream",
     "text": [
      "['sunday', 'monday', 'wednesday', 'thursday']\n",
      "['sunday', 'monday', 'wednesday', 'thursday']\n",
      "Pop result: ['sunday', 'monday', 'wednesday', 'thursday']\n"
     ]
    }
   ],
   "source": [
    "# Delete/Remove List Elements : delete one or more items or entire list using the keyword del\n",
    "del list_one[2]\n",
    "print(list_one)\n",
    "#remove method : remove the given item or pop() method to remove an item at the given index location\n",
    "list_one = [\"sunday\",\"monday\",\"tuesday\",\"wednesday\",\"thursday\"]\n",
    "list_one.remove(\"tuesday\")\n",
    "print(list_one)\n",
    "#pop method\n",
    "list_one = [\"sunday\",\"monday\",\"tuesday\",\"wednesday\",\"thursday\"]\n",
    "list_one.pop(2)\n",
    "print(\"Pop result:\", list_one)"
   ]
  },
  {
   "cell_type": "code",
   "execution_count": 59,
   "metadata": {},
   "outputs": [
    {
     "name": "stdout",
     "output_type": "stream",
     "text": [
      "2\n"
     ]
    }
   ],
   "source": [
    "# index() method : Returns the index of the first matched item\n",
    "list_one = [\"sunday\",\"monday\",\"tuesday\",\"wednesday\",\"thursday\"]\n",
    "print(list_one.index(\"tuesday\"))"
   ]
  },
  {
   "cell_type": "code",
   "execution_count": 60,
   "metadata": {},
   "outputs": [
    {
     "name": "stdout",
     "output_type": "stream",
     "text": [
      "['monday', 'sunday', 'thursday', 'tuesday', 'wednesday']\n"
     ]
    }
   ],
   "source": [
    "# sort() method: Sort items in a list in ascending order\n",
    "list_one = [\"sunday\",\"monday\",\"tuesday\",\"wednesday\",\"thursday\"]\n",
    "list_one.sort()\n",
    "print(list_one)"
   ]
  },
  {
   "cell_type": "code",
   "execution_count": 61,
   "metadata": {},
   "outputs": [
    {
     "name": "stdout",
     "output_type": "stream",
     "text": [
      "['thursday', 'wednesday', 'tuesday', 'monday', 'sunday']\n"
     ]
    }
   ],
   "source": [
    "# reverse() : Reverse the order of items in the list\n",
    "list_one = [\"sunday\",\"monday\",\"tuesday\",\"wednesday\",\"thursday\"]\n",
    "list_one.reverse()\n",
    "print(list_one)"
   ]
  },
  {
   "cell_type": "code",
   "execution_count": 62,
   "metadata": {},
   "outputs": [
    {
     "name": "stdout",
     "output_type": "stream",
     "text": [
      "['sunday', 'monday', 'tuesday', 'wednesday', 'thursday']\n"
     ]
    }
   ],
   "source": [
    "# copy(): Returns a shallow copy of the list\n",
    "list_one = [\"sunday\",\"monday\",\"tuesday\",\"wednesday\",\"thursday\"]\n",
    "list_two = list_one.copy()\n",
    "print(list_two)"
   ]
  },
  {
   "cell_type": "code",
   "execution_count": 63,
   "metadata": {},
   "outputs": [
    {
     "name": "stdout",
     "output_type": "stream",
     "text": [
      "True\n"
     ]
    }
   ],
   "source": [
    "#Membership : check if an item exists in a list or not, using the keyword in\n",
    "list_one = [\"sunday\",\"monday\",\"tuesday\",\"wednesday\",\"thursday\"]\n",
    "print('tuesday' in list_one)"
   ]
  },
  {
   "cell_type": "code",
   "execution_count": 64,
   "metadata": {},
   "outputs": [
    {
     "name": "stdout",
     "output_type": "stream",
     "text": [
      "['sunday', 'monday', 'friday', 'tuesday', 'wednesday', 'thursday']\n"
     ]
    }
   ],
   "source": [
    "# insert() method : insert item at a desired location\n",
    "list_one = [\"sunday\",\"monday\",\"tuesday\",\"wednesday\",\"thursday\"]\n",
    "list_one.insert(2,'friday')\n",
    "print(list_one)"
   ]
  },
  {
   "cell_type": "markdown",
   "metadata": {},
   "source": [
    "**List Comprehensions**\n",
    "- In python, list comprehensions are used to create a new list based on the values of an existing list most elegantly and shortly.\n",
    "- A list comprehension consists of an expression followed by for statement inside square [] brackets."
   ]
  },
  {
   "cell_type": "code",
   "execution_count": 65,
   "metadata": {},
   "outputs": [
    {
     "name": "stdout",
     "output_type": "stream",
     "text": [
      "[1, 2, 4, 8, 16, 32, 64, 128, 256, 512, 1024, 2048, 4096, 8192, 16384, 32768, 65536, 131072, 262144, 524288]\n"
     ]
    }
   ],
   "source": [
    "sqr = [2**x for x in range(20)]\n",
    "print(sqr)"
   ]
  },
  {
   "cell_type": "markdown",
   "metadata": {},
   "source": [
    "**Python Dictionaries**\n",
    "- In python, the dictionary is an unordered collection of data values in which data values are stored in key:value pairs\n",
    "- Created by placing a sequence of elements within curly {} braces, separated by ‘, ‘\n",
    "- Values can be of any datatype and can be duplicated, whereas keys are immutable and can’t be repeated\n",
    "- Can be created by the built-in function dict()\n",
    "- Dictionaries are defined as objects with the data type ‘dict\n",
    "- dict() constructor can be used when creating a new dict\n",
    "- To access values in dict, use the keys\n",
    "- Key Value format makes dictionary one of the most optimized and efficient data types in Python"
   ]
  },
  {
   "cell_type": "code",
   "execution_count": 66,
   "metadata": {},
   "outputs": [
    {
     "name": "stdout",
     "output_type": "stream",
     "text": [
      "{0: 'sunday', 1: 'monday', 2: 'tuesday', 3: 'wednesday', 4: 'thursday'}\n"
     ]
    }
   ],
   "source": [
    "#Create a Dictionary\n",
    "#empty dictionary\n",
    "dict_emp = {}\n",
    "\n",
    "#dict with items\n",
    "dict_one = {0:'sunday', 1: 'monday', 2: 'tuesday', 3: 'wednesday', 4: 'thursday'}\n",
    "print(dict_one)"
   ]
  },
  {
   "cell_type": "code",
   "execution_count": 67,
   "metadata": {},
   "outputs": [
    {
     "name": "stdout",
     "output_type": "stream",
     "text": [
      "monday\n",
      "tuesday\n"
     ]
    }
   ],
   "source": [
    "#Accessing Elements from Dictionary : Using keys or get() method\n",
    "dict_one = {0:'sunday', 1: 'monday', 2: 'tuesday', 3: 'wednesday', 4: 'thursday'}\n",
    "print(dict_one[1])\n",
    "\n",
    "#get() method\n",
    "print(dict_one.get(2))"
   ]
  },
  {
   "cell_type": "code",
   "execution_count": 68,
   "metadata": {},
   "outputs": [
    {
     "name": "stdout",
     "output_type": "stream",
     "text": [
      "5\n"
     ]
    }
   ],
   "source": [
    "# Length of Dictionary\n",
    "dict_one = {0:'sunday', 1: 'monday', 2: 'tuesday', 3: 'wednesday', 4: 'thursday'}\n",
    "print(len(dict_one))"
   ]
  },
  {
   "cell_type": "code",
   "execution_count": 69,
   "metadata": {},
   "outputs": [
    {
     "name": "stdout",
     "output_type": "stream",
     "text": [
      "After changing the element {0: 'sunday', 1: 'monday', 2: 'friday', 3: 'wednesday', 4: 'thursday'}\n",
      "After adding the element : {0: 'sunday', 1: 'monday', 2: 'friday', 3: 'wednesday', 4: 'thursday', 5: 'saturday'}\n"
     ]
    }
   ],
   "source": [
    "#Changing and Adding Dictionary elements: add new items or change the value of existing items using an '=' operator\n",
    "dict_one = {0:'sunday', 1: 'monday', 2: 'tuesday', 3: 'wednesday', 4: 'thursday'}\n",
    "\n",
    "#change element\n",
    "dict_one[2] = 'friday'\n",
    "print(\"After changing the element\", dict_one)\n",
    "\n",
    "#Add element\n",
    "dict_one[5] = 'saturday'\n",
    "print(\"After adding the element :\", dict_one)"
   ]
  },
  {
   "cell_type": "code",
   "execution_count": 70,
   "metadata": {},
   "outputs": [
    {
     "name": "stdout",
     "output_type": "stream",
     "text": [
      "tuesday\n",
      "(4, 'thursday')\n"
     ]
    }
   ],
   "source": [
    "#Removing elements from Dictionary : Use the pop() or popitem() method\n",
    "dict_one = {0:'sunday', 1: 'monday', 2: 'tuesday', 3: 'wednesday', 4: 'thursday'}\n",
    "print(dict_one.pop(2))\n",
    "\n",
    "#popitem : remove an arbitrary item and return (key,value)\n",
    "print(dict_one.popitem())"
   ]
  },
  {
   "cell_type": "code",
   "execution_count": 71,
   "metadata": {},
   "outputs": [
    {
     "name": "stdout",
     "output_type": "stream",
     "text": [
      "{}\n"
     ]
    }
   ],
   "source": [
    "# remove all items : using clear method\n",
    "dict_one.clear()\n",
    "print(dict_one)"
   ]
  },
  {
   "cell_type": "code",
   "execution_count": 72,
   "metadata": {},
   "outputs": [
    {
     "name": "stdout",
     "output_type": "stream",
     "text": [
      "{'Computer Science': None, 'Space Science': None, 'Math': None, 'English': None}\n"
     ]
    }
   ],
   "source": [
    "#fromkeys(seq[, t]): Returns a new dictionary with keys from seq and value equal to t\n",
    "subjects = {}.fromkeys(['Computer Science','Space Science','Math','English'])\n",
    "print(subjects)"
   ]
  },
  {
   "cell_type": "code",
   "execution_count": 73,
   "metadata": {},
   "outputs": [
    {
     "name": "stdout",
     "output_type": "stream",
     "text": [
      "dict_items([(0, 'sunday'), (1, 'monday'), (2, 'tuesday'), (3, 'wednesday'), (4, 'thursday')])\n"
     ]
    }
   ],
   "source": [
    "#items() method : displays a list of dictionary's (key, value) tuple pairs\n",
    "dict_one = {0:'sunday', 1: 'monday', 2: 'tuesday', 3: 'wednesday', 4: 'thursday'}\n",
    "print(dict_one.items())"
   ]
  },
  {
   "cell_type": "code",
   "execution_count": 74,
   "metadata": {},
   "outputs": [
    {
     "name": "stdout",
     "output_type": "stream",
     "text": [
      "dict_keys([0, 1, 2, 3, 4])\n"
     ]
    }
   ],
   "source": [
    "#keys() method : displays a list of all the keys in the dictionary\n",
    "dict_one = {0:'sunday', 1: 'monday', 2: 'tuesday', 3: 'wednesday', 4: 'thursday'}\n",
    "print(dict_one.keys())"
   ]
  },
  {
   "cell_type": "code",
   "execution_count": 75,
   "metadata": {},
   "outputs": [
    {
     "name": "stdout",
     "output_type": "stream",
     "text": [
      "dict_values(['sunday', 'monday', 'tuesday', 'wednesday', 'thursday'])\n"
     ]
    }
   ],
   "source": [
    "#values() method : displays a list of all the values in the dictionary\n",
    "dict_one = {0:'sunday', 1: 'monday', 2: 'tuesday', 3: 'wednesday', 4: 'thursday'}\n",
    "print(dict_one.values())"
   ]
  },
  {
   "cell_type": "code",
   "execution_count": 76,
   "metadata": {},
   "outputs": [
    {
     "name": "stdout",
     "output_type": "stream",
     "text": [
      "wednesday\n",
      "If key is not present: dict_items([(0, 'sunday'), (1, 'monday'), (2, 'tuesday'), (3, 'wednesday'), (4, 'thursday'), (6, None)])\n"
     ]
    }
   ],
   "source": [
    "#setdefault() method : returns the value of a key. If not there, it inserts key with a value to the dictionary\n",
    "dict_one = {0:'sunday', 1: 'monday', 2: 'tuesday', 3: 'wednesday', 4: 'thursday'}\n",
    "element = dict_one.setdefault(3)\n",
    "print(element)\n",
    "\n",
    "#If key not present \n",
    "element = dict_one.setdefault(6)\n",
    "print(\"If key is not present:\", dict_one.items())"
   ]
  },
  {
   "cell_type": "code",
   "execution_count": 77,
   "metadata": {},
   "outputs": [
    {
     "name": "stdout",
     "output_type": "stream",
     "text": [
      "42\n",
      "19\n"
     ]
    }
   ],
   "source": [
    "#Nested Dictionaries\n",
    "people = {\n",
    "              \"subject\": {0:\"Maths\",1:\"English\",3:\"Science\"},\n",
    "              \"marks\": {0:42,1:36,2: 78},\n",
    "              \"Age\": {0:12,1:34,2:19}\n",
    "         }\n",
    "\n",
    "print(people[\"marks\"][0])\n",
    "print(people[\"Age\"][2])"
   ]
  },
  {
   "cell_type": "code",
   "execution_count": 78,
   "metadata": {},
   "outputs": [
    {
     "name": "stdout",
     "output_type": "stream",
     "text": [
      "[0, 1, 2, 3, 4]\n"
     ]
    }
   ],
   "source": [
    "#sorted(): Return a new sorted list of keys in the dictionary\n",
    "dict_one = {0:'sunday', 1: 'monday', 2: 'tuesday', 3: 'wednesday', 4: 'thursday'}\n",
    "print(sorted(dict_one))"
   ]
  },
  {
   "cell_type": "code",
   "execution_count": 79,
   "metadata": {},
   "outputs": [
    {
     "name": "stdout",
     "output_type": "stream",
     "text": [
      "(0, 'sunday')\n",
      "(1, 'monday')\n",
      "(2, 'tuesday')\n",
      "(3, 'wednesday')\n",
      "(4, 'thursday')\n"
     ]
    }
   ],
   "source": [
    "#Iterate through dictionay\n",
    "dict_one = {0:'sunday', 1: 'monday', 2: 'tuesday', 3: 'wednesday', 4: 'thursday'}\n",
    "for i in dict_one.items():\n",
    "    print(i)"
   ]
  },
  {
   "cell_type": "code",
   "execution_count": 80,
   "metadata": {},
   "outputs": [
    {
     "name": "stdout",
     "output_type": "stream",
     "text": [
      "{0: 0, 1: 1, 2: 8, 3: 27, 4: 64, 5: 125, 6: 216, 7: 343, 8: 512, 9: 729}\n"
     ]
    }
   ],
   "source": [
    "# Dictionary Comprehension\n",
    "cubes = {x: x*x*x for x in range(10)}\n",
    "print(cubes)"
   ]
  },
  {
   "cell_type": "code",
   "execution_count": 81,
   "metadata": {},
   "outputs": [
    {
     "name": "stdout",
     "output_type": "stream",
     "text": [
      "{0: 'zero', 4: 'four', 5: 'five', 2: 'two'}\n"
     ]
    }
   ],
   "source": [
    "# update() method : updates the dictionary with the elements from another dictionary object or from any other key/value pairs\n",
    "dict1 ={0:\"zero\",4:\"four\",5:\"five\"}\n",
    "dict2={2:\"two\"}\n",
    "\n",
    "# updates the value of key 2\n",
    "dict1.update(dict2)\n",
    "print(dict1)"
   ]
  },
  {
   "cell_type": "code",
   "execution_count": 82,
   "metadata": {},
   "outputs": [
    {
     "name": "stdout",
     "output_type": "stream",
     "text": [
      "True\n"
     ]
    }
   ],
   "source": [
    "# Membership Test : check if a key is in a dictionary or not using the keyword 'in'\n",
    "dict_one = {0:'sunday', 1: 'monday', 2: 'tuesday', 3: 'wednesday', 4: 'thursday'}\n",
    "print(0 in dict_one.keys())"
   ]
  },
  {
   "cell_type": "markdown",
   "metadata": {},
   "source": [
    "Python Tuples\n",
    "- In python, a tuple is a collection of objects which is ordered and immutable\n",
    "- Created by placing a sequence of elements within a round () braces, separated by ‘, ‘\n",
    "- Values can be of any datatype\n",
    "- Concatenation of tuples can be done by the use of the ‘+’ operator\n",
    "- Tuples are just like lists except that the tuples are immutable i.e cannot be changed"
   ]
  },
  {
   "cell_type": "code",
   "execution_count": 83,
   "metadata": {},
   "outputs": [
    {
     "name": "stdout",
     "output_type": "stream",
     "text": [
      "(10, 'Hello', 3.14, 'a')\n",
      "<class 'tuple'>\n"
     ]
    }
   ],
   "source": [
    "# Tuple with items\n",
    "tup= (10,\"Hello\",3.14,\"a\")\n",
    "print(tup)\n",
    "print(type(tup))"
   ]
  },
  {
   "cell_type": "code",
   "execution_count": 84,
   "metadata": {},
   "outputs": [
    {
     "name": "stdout",
     "output_type": "stream",
     "text": [
      "3.14\n",
      "('a', 3.14, 'Hello', 10)\n"
     ]
    }
   ],
   "source": [
    "# Negative Indexing : index of -1 refers to the last item, -2 to the second last item and so on\n",
    "tup = (10,\"Hello\",3.14,\"a\")\n",
    "print(tup[-2])\n",
    "\n",
    "#Reverse the tuple\n",
    "print(tup[::-1])"
   ]
  },
  {
   "cell_type": "code",
   "execution_count": 85,
   "metadata": {},
   "outputs": [
    {
     "name": "stdout",
     "output_type": "stream",
     "text": [
      "(10, 'Hello', 3.14, 'a', 50, 60)\n",
      "(10, 'Hello', 3.14, 'a', 10, 'Hello', 3.14, 'a')\n"
     ]
    }
   ],
   "source": [
    "#concatenation and repeat in Tuples concatenation using + operator\n",
    "tup = (10,\"Hello\",3.14,\"a\")\n",
    "print(tup + (50,60))\n",
    "\n",
    "#repeat using * operator\n",
    "print(tup * 2)"
   ]
  },
  {
   "cell_type": "code",
   "execution_count": 86,
   "metadata": {},
   "outputs": [
    {
     "name": "stdout",
     "output_type": "stream",
     "text": [
      "True\n",
      "False\n"
     ]
    }
   ],
   "source": [
    "#membership : check if an item exists in a tuple or not, using the keyword in\n",
    "tup = (10,\"Hello\",3.14,\"a\")\n",
    "print(10 in tup)\n",
    "print(\"World\" in tup)"
   ]
  },
  {
   "cell_type": "code",
   "execution_count": 87,
   "metadata": {},
   "outputs": [
    {
     "name": "stdout",
     "output_type": "stream",
     "text": [
      "10\n",
      "Hello\n",
      "3.14\n",
      "a\n"
     ]
    }
   ],
   "source": [
    "#Iterate through Tuple : use for loop to iterate through each item in a tuple\n",
    "tup = (10,\"Hello\",3.14,\"a\")\n",
    "for i in tup:\n",
    "    print(i)"
   ]
  },
  {
   "cell_type": "code",
   "execution_count": 89,
   "metadata": {},
   "outputs": [
    {
     "name": "stdout",
     "output_type": "stream",
     "text": [
      "((10, 'Hello', 3.14, 'a'), (70, (8, 'Mike')))\n",
      "(10, 'Hello', 3.14, 'a')\n",
      "(70, (8, 'Mike'))\n"
     ]
    }
   ],
   "source": [
    "#Nested Tuple\n",
    "nest_tup = ((10,\"Hello\",3.14,\"a\"), (70,(8,\"Mike\")))\n",
    "print(nest_tup)\n",
    "a,b = nest_tup\n",
    "print(a)\n",
    "print(b)"
   ]
  },
  {
   "cell_type": "code",
   "execution_count": 90,
   "metadata": {},
   "outputs": [
    {
     "name": "stdout",
     "output_type": "stream",
     "text": [
      "(0, 10)\n",
      "(1, 'Hello')\n",
      "(2, 3.14)\n",
      "(3, 'a')\n"
     ]
    }
   ],
   "source": [
    "#Enumerate : use enumerate function\n",
    "tup = (10,\"Hello\",3.14,\"a\")\n",
    "for i in enumerate(tup):\n",
    "    print(i)"
   ]
  },
  {
   "cell_type": "markdown",
   "metadata": {},
   "source": [
    "**Python Sets**\n",
    "- In python, a set is a collection of objects which is both unindexed and unordered\n",
    "- Sets make sure that there are no duplicate elements in the sequence of the items\n",
    "- Created by using the built-in set() function with an iterable object by placing the items inside curly {} braces, - separated by ‘,’\n",
    "- Items can be added to the set by using the built-in add() function\n",
    "- Items can be accessed by looping through the set using loops or using the ‘in’ keyword\n",
    "- Items can be removed from the set by using built-in remove()"
   ]
  },
  {
   "cell_type": "code",
   "execution_count": 91,
   "metadata": {},
   "outputs": [
    {
     "name": "stdout",
     "output_type": "stream",
     "text": [
      "{40, 10, 20, 30}\n",
      "{40, 10, 20, 30}\n"
     ]
    }
   ],
   "source": [
    "#Create Set\n",
    "set_one = {10, 20, 30, 40}\n",
    "print(set_one)\n",
    "\n",
    "#Create set from list using set() \n",
    "set_two = set([10, 20, 30, 40, 30, 20])\n",
    "print(set_two)"
   ]
  },
  {
   "cell_type": "code",
   "execution_count": 92,
   "metadata": {},
   "outputs": [
    {
     "name": "stdout",
     "output_type": "stream",
     "text": [
      "After discard: {70, 40, 10, 80, 20, 60, 30}\n",
      "After removing element: {70, 10, 80, 20, 60, 30}\n",
      "After removing element: {10, 80, 20, 60, 30}\n"
     ]
    }
   ],
   "source": [
    "# Removing elements : Use the methods discard(), pop() and remove()\n",
    "set_one = {100, 70, 40, 10, 80, 20, 60, 30}\n",
    "\n",
    "#discard() method\n",
    "set_one.discard(100)\n",
    "print(\"After discard:\",set_one)\n",
    "\n",
    "#remove() method\n",
    "set_one.remove(40)\n",
    "print(\"After removing element:\", set_one)\n",
    "\n",
    "#pop() method\n",
    "set_one.pop()\n",
    "print(\"After removing element:\", set_one)"
   ]
  },
  {
   "cell_type": "code",
   "execution_count": 93,
   "metadata": {},
   "outputs": [
    {
     "name": "stdout",
     "output_type": "stream",
     "text": [
      "Set Union: {100, 70, 40, 10, 80, 50, 20, 60, 30}\n",
      "Set Intersection: {50}\n",
      "Set Difference: {10, 20, 30}\n",
      "Set Symmetric Difference: {80, 50, 100, 70, 60}\n"
     ]
    }
   ],
   "source": [
    "#Set operations \n",
    "X = {10, 20, 30, 40, 50}\n",
    "Y = {40, 50, 60, 70, 80}\n",
    "Z = {20, 30, 100, 50, 10}\n",
    "\n",
    "#Union : Union of X, Y, Z is a set of all elements from all three #sets using | operator or union() method\n",
    "print(\"Set Union:\", X|Y|Z)\n",
    "\n",
    "#Intersection :Intersection of X, Y, Z is a set of all elements from #all three sets using & operator or intersection()\n",
    "print(\"Set Intersection:\", X&Y&Z)\n",
    "\n",
    "#Difference : Difference of X, Y is a set of all elements from both #sets using - operator or difference()\n",
    "print(\"Set Difference:\", X-Y)\n",
    "\n",
    "# Symmetric Difference : Symmetric Difference of X, Y, Z is a set of #all elements from all three sets using ^ operator or #symmetric_difference()            \n",
    "print(\"Set Symmetric Difference:\", X^Y^Z)"
   ]
  },
  {
   "cell_type": "code",
   "execution_count": 94,
   "metadata": {},
   "outputs": [
    {
     "name": "stdout",
     "output_type": "stream",
     "text": [
      "(0, 50)\n",
      "(1, 20)\n",
      "(2, 40)\n",
      "(3, 10)\n",
      "(4, 30)\n"
     ]
    }
   ],
   "source": [
    "#enumerate : Returns an enumerate object which contains the index #and value for all the items of the set as a pair\n",
    "set_one = {10, 20, 30, 40, 50, 30}\n",
    "for i in enumerate(set_one):\n",
    "    print(i)"
   ]
  },
  {
   "cell_type": "code",
   "execution_count": 95,
   "metadata": {},
   "outputs": [
    {
     "name": "stdout",
     "output_type": "stream",
     "text": [
      "frozenset({70, 40, 10, 80, 50, 20, 60, 30})\n"
     ]
    }
   ],
   "source": [
    "#Frozenset : set which has the characteristics of a set, but its elements cannot be changed once assigned\n",
    "X = frozenset([10, 20, 30, 40, 50])\n",
    "Y = frozenset([40, 50, 60, 70, 80])\n",
    "print(X.union(Y))"
   ]
  },
  {
   "cell_type": "markdown",
   "metadata": {},
   "source": [
    "**Conditional Statements & Loops in Python**\n",
    "Conditional Statements —\n",
    "\n",
    "- In python, If, Elif, and Else statements are used to facilitate decision making i.e when we want to execute a code only if a certain condition is satisfied.\n",
    "- In the example below, the program evaluates the test expression and will execute statement(s) only if the test - expression is True. If the test expression1 is False, then it checks elif test expression2 and if that’s also False, then at last it goes to else and executed the else statement.\n",
    "- Python interprets non-zero values as True. None and 0 are interpreted as False.\n",
    "- The if block can have only one else block but there can be multiple elif blocks.\n",
    "\n",
    "**While loops —**\n",
    "- In python, while loop is used to traverse/iterate over a block of code as long as the test condition is true\n",
    "- In the example below, test_expression is checked first. The body of the loop is entered only if the test_expression evaluates to True. The loop continues till the test condition becomes False.\n",
    "\n",
    "**For Loops and Range function —**\n",
    "- In python, for loop is used to traverse/iterate over a sequence (list, tuple, string, etc)\n",
    "- In the example below, i is the variable that takes the value of the item inside the sequence on each iteration. The loop continues until we reach the last item in the sequence\n",
    "- Range (range()) is used to generate a sequence of numbers where the syntax of the range is range(start, stop, step_size)\n"
   ]
  },
  {
   "cell_type": "code",
   "execution_count": 96,
   "metadata": {},
   "outputs": [
    {
     "name": "stdout",
     "output_type": "stream",
     "text": [
      "Price is greater than 120\n"
     ]
    }
   ],
   "source": [
    "price = 200\n",
    "if price > 120:\n",
    "    print(\"Price is greater than 120\")\n",
    "elif price == 120:\n",
    "    print(\"Price is 120\")\n",
    "elif price < 120:\n",
    "    print(\"Price is less than 120\")\n",
    "else:\n",
    "    print(\"Exit\")"
   ]
  },
  {
   "cell_type": "code",
   "execution_count": 97,
   "metadata": {},
   "outputs": [
    {
     "name": "stdout",
     "output_type": "stream",
     "text": [
      "Condition third satisfied\n"
     ]
    }
   ],
   "source": [
    "# If, Elif and Else one liner\n",
    "x = 200\n",
    "var = { x < 190: \"Condition one satisfied\", x != 200: \"Condition two satisfied\"}.get(True, \"Condition third satisfied\") \n",
    "print(var)"
   ]
  },
  {
   "cell_type": "code",
   "execution_count": 98,
   "metadata": {},
   "outputs": [
    {
     "name": "stdout",
     "output_type": "stream",
     "text": [
      "1\n",
      "2\n",
      "3\n",
      "4\n",
      "5\n",
      "i is no longer less than 6\n"
     ]
    }
   ],
   "source": [
    "#while with else statement\n",
    "i = 1\n",
    "while i < 6:\n",
    "  print(i)\n",
    "  i += 1\n",
    "else:\n",
    "  print(\"i is no longer less than 6\")"
   ]
  },
  {
   "cell_type": "code",
   "execution_count": 99,
   "metadata": {},
   "outputs": [
    {
     "name": "stdout",
     "output_type": "stream",
     "text": [
      "Today is sunday\n",
      "Today is monday\n",
      "Today is tuesday\n"
     ]
    }
   ],
   "source": [
    "# for loop with range function\n",
    "days =['sunday','monday','tuesday']\n",
    "for i in range(len(days)):\n",
    "    print(\"Today is\", days[i])"
   ]
  },
  {
   "cell_type": "markdown",
   "metadata": {},
   "source": [
    "**Break and Continue Statement**\n",
    "- In python, we can use a break statement when we want to terminate the current loop without checking the test condition\n",
    "- Once terminated using the break statement, the control of the program goes to the statement immediately after the body of the loop\n",
    "- In python, we can use a continue statement when we want to skip the rest of the code for the current loop iteration"
   ]
  },
  {
   "cell_type": "code",
   "execution_count": 102,
   "metadata": {},
   "outputs": [
    {
     "name": "stdout",
     "output_type": "stream",
     "text": [
      "0\n",
      "1\n",
      "2\n",
      "3\n",
      "4\n",
      "5\n",
      "6\n",
      "7\n",
      "8\n",
      "9\n",
      "exit\n"
     ]
    }
   ],
   "source": [
    "#break statement\n",
    "count = 0\n",
    "while True:\n",
    "    print(count)\n",
    "    count += 1\n",
    "    if count >= 10:\n",
    "        break\n",
    "print('exit')"
   ]
  },
  {
   "cell_type": "code",
   "execution_count": 103,
   "metadata": {},
   "outputs": [
    {
     "name": "stdout",
     "output_type": "stream",
     "text": [
      "1\n",
      "3\n",
      "5\n",
      "7\n",
      "9\n",
      "11\n",
      "13\n"
     ]
    }
   ],
   "source": [
    "#Continue statement\n",
    "for x in range(15):\n",
    "    if x % 2 == 0:\n",
    "        continue\n",
    "    print(x)"
   ]
  },
  {
   "cell_type": "markdown",
   "metadata": {},
   "source": [
    "**Input Output in Python**\n",
    "- In Python, there are two inbuilt functions to read the input from the user\n",
    "- raw_input( ) function: reads one line from user input and returns it as a string\n",
    "- input( ) function: Similar to raw_input, except it evaluates the user expression\n",
    "- For multiple user inputs, we can use —\n",
    "split() method\n",
    "\n",
    "**List comprehension**\n",
    "- In python, the output is using the print() function\n",
    "- String literals in print() statements are used to format the output\n",
    "- end keyword is used to print specific content at the end of the execution of the print() function"
   ]
  },
  {
   "cell_type": "code",
   "execution_count": 105,
   "metadata": {},
   "outputs": [
    {
     "name": "stdout",
     "output_type": "stream",
     "text": [
      "50\n"
     ]
    }
   ],
   "source": [
    "# input\n",
    "num = int(input('Enter a number: '))\n",
    "print(num)"
   ]
  },
  {
   "cell_type": "code",
   "execution_count": 106,
   "metadata": {},
   "outputs": [
    {
     "name": "stdout",
     "output_type": "stream",
     "text": [
      "The value of num is 5\n",
      "The value is 5\n"
     ]
    }
   ],
   "source": [
    "num = 5\n",
    "print('The value of num is', num)\n",
    "print(\"The value is %d\" %num)"
   ]
  },
  {
   "cell_type": "markdown",
   "metadata": {},
   "source": [
    "**Python Object-Oriented Programming**\n",
    "Python is a multi-paradigm programming language and supports Object Oriented programming. In Python, everything is an object. An object has two characteristics: Attributes and Behavior\n",
    "The principles of an object-oriented programming system are —\n",
    "- Class\n",
    "- Object\n",
    "- Method\n",
    "- Inheritance\n",
    "- Polymorphism\n",
    "- Encapsulation\n",
    "\n",
    "**Details of the principles of an object-oriented programming system are:**\n",
    "- Class and constructor — It’s a blueprint for the object. In python, we use the class keyword to define a class. Class constructor is used to assigning the values to the data members of the class when an object of the class is created.\n",
    "- Object — It’s an instantiation of a class.\n",
    "- Method — It’s a function that is associated with an object\n",
    "- Inheritance — Specifies that the child object acquires all the properties and behaviors of the parent object.\n",
    "- Polymorphism — Refers to functions having the same names but carrying different functionalities.\n",
    "- Encapsulation — To prevent data from direct modification, we can restrict access to methods and variables in python\n",
    "\n",
    "**Attributes and Class in Python**\n",
    "- In Python, a class is a blueprint of the object\n",
    "- To define a class, we use the keyword “class” following the class name and semicolon —\n",
    "class class_name:\n",
    "Body of the class\n",
    "- Object — It’s an instantiation of a class. The object instance contains real data or value\n",
    "To create an instance:\n",
    "obj1 = class_name()\n",
    "- Class constructor — to assign the values to the data members of the class when an object of the class is created, we use the constructor. The __init__() method is called constructor method\n",
    "class class_name:\n",
    "def __init__(self, parameters):\n",
    "self.param1 = parameters\n",
    "- Instance attributes refer to the attributes inside the constructor method. Class attributes refer to the attributes outside the constructor method\n",
    "- Method — It’s a function that is associated with an object, used to describe the behavior of the objects\n",
    "def method_name(self)"
   ]
  },
  {
   "cell_type": "code",
   "execution_count": 107,
   "metadata": {},
   "outputs": [
    {
     "name": "stdout",
     "output_type": "stream",
     "text": [
      "Dictionary conversion: {'name': 'Steve', 'salary': 10000}\n"
     ]
    }
   ],
   "source": [
    "#Class implementation\n",
    "class cat:\n",
    "    def __init__(self, cat_name, cat_breed):\n",
    "        self.name = cat_name\n",
    "        self.age = cat_breed\n",
    "\n",
    "#Class Attribute and Instance Attribute\n",
    "class emp:\n",
    "    x = 10      #class attribute\n",
    "    def __init__(self):\n",
    "        self.name = 'Steve'\n",
    "        self.salary = 10000\n",
    "  \n",
    "    def display(self):\n",
    "        print(self.name)\n",
    "        print(self.salary)\n",
    "  \n",
    "obj_emp = emp()\n",
    "print(\"Dictionary conversion:\", vars(obj_emp))"
   ]
  },
  {
   "cell_type": "markdown",
   "metadata": {},
   "source": [
    "**Functions in Python**\n",
    "In python, functions are a convenient way to divide your code into useful blocks, allowing us to order our code, make it more readable, reuse it, define interfaces, and save a lot of time\n",
    "\n",
    "- A function can be called multiple times to provide modularity and reusability to the python program\n",
    "- We can easily track a large python program when it is divided into multiple functions\n",
    "- There are mainly two types of functions —\n",
    "— User-defined functions: Defined by the user to perform the specific task\n",
    "— Built-in functions: Functions that are pre-defined\n",
    "- You can define the function using the def keyword\n",
    "- Arguments are the information that’s passed into the function\n",
    "- The return statement is used to return the value. A function can have only one return\n",
    "- Once created, we can call the function using the function name followed by the parenthesis\n",
    "Example :\n",
    "def my_function(parameters):\n",
    "print(“My first Function”)\n",
    "return expression\n",
    "\n",
    "#calling the function\n",
    "my_function()\n",
    "\n",
    "**Private Variables in Python**\n",
    "In python, a variable is a named location used to store or hold the value/data in the memory.\n",
    "\n",
    "- When we create a variable inside a function, it is local by default\n",
    "- We create Private Variables by using the underscore _ before a named prefix\n",
    "- This is quite helpful for letting subclasses override methods without breaking intraclass method calls\n",
    "- There are three ways private variables can be implemented :\n",
    "- - 1.) _Single Leading Underscores\n",
    "- - 2.) __Double Leading Underscores\n",
    "- - 3.) __Double leading and Double trailing underscores__\n",
    "\n",
    "- __name__ is a special built-in variable that points to the name of the current module\n",
    "Example :\n",
    "_program\n",
    "__var\n",
    "__len__"
   ]
  },
  {
   "cell_type": "code",
   "execution_count": 108,
   "metadata": {},
   "outputs": [
    {
     "name": "stdout",
     "output_type": "stream",
     "text": [
      "Hello\n"
     ]
    }
   ],
   "source": [
    "#Single Underscore (_)\n",
    "class test:\n",
    "    def __init__(self,num):\n",
    "        self._num= num\n",
    "\n",
    "    def _numfunc(self):\n",
    "        print(\"Hello\")\n",
    "\n",
    "obj=test(156)\n",
    "obj._numfunc()#_ attributes can be accessed as normal variables"
   ]
  },
  {
   "cell_type": "code",
   "execution_count": 109,
   "metadata": {},
   "outputs": [
    {
     "name": "stdout",
     "output_type": "stream",
     "text": [
      "__num = 156\n"
     ]
    }
   ],
   "source": [
    "#Double Underscore (__)\n",
    "class test:\n",
    "    def __init__(self,num):\n",
    "        self.__num= num\n",
    "    def display(self):\n",
    "        print(\"__num = {}\".format(self.__num))\n",
    "\n",
    "obj=test(156)\n",
    "obj.display()"
   ]
  },
  {
   "cell_type": "code",
   "execution_count": 110,
   "metadata": {},
   "outputs": [],
   "source": [
    "#Trailing Underscore(n_)\n",
    "class Test:\n",
    "    def __init__(self,num):\n",
    "        #To avoid clash with python keyword \n",
    "        self.num_= num"
   ]
  },
  {
   "cell_type": "markdown",
   "metadata": {},
   "source": [
    "**Global, Local, and Non-Local Variables in Python**\n",
    "When we create a variable inside a function, it is local by default. When we define a variable outside of a function, it is global by default\n",
    "\n",
    "- Nonlocal variables are used in nested functions whose local scope is not defined\n",
    "- Global variables are those variables that are defined and declared outside a function and we can use them inside the function or we can use the global keyword to make a variable global inside a function\n",
    "Example :\n",
    "global variable_name"
   ]
  },
  {
   "cell_type": "code",
   "execution_count": 111,
   "metadata": {},
   "outputs": [
    {
     "name": "stdout",
     "output_type": "stream",
     "text": [
      "local_variable\n"
     ]
    }
   ],
   "source": [
    "#Local Variable\n",
    "def test():\n",
    "    l = \"local_variable\"\n",
    "    return l\n",
    "\n",
    "var=test()\n",
    "print(var)"
   ]
  },
  {
   "cell_type": "code",
   "execution_count": 112,
   "metadata": {},
   "outputs": [
    {
     "name": "stdout",
     "output_type": "stream",
     "text": [
      "local variable x: 20\n",
      "global variable x: 10\n"
     ]
    }
   ],
   "source": [
    "#Global Variable\n",
    "var = 10\n",
    "def test():\n",
    "    var = 20\n",
    "    print(\"local variable x:\", var)\n",
    "\n",
    "val=test()\n",
    "print(\"global variable x:\", var)"
   ]
  },
  {
   "cell_type": "code",
   "execution_count": 113,
   "metadata": {},
   "outputs": [
    {
     "name": "stdout",
     "output_type": "stream",
     "text": [
      "Non Local value: non_local_variable\n",
      "Outer value: non_local_variable\n"
     ]
    }
   ],
   "source": [
    "#Non Local Variable\n",
    "def test():\n",
    "    var = \"local_variable\"\n",
    "    def test_one():\n",
    "        nonlocal var\n",
    "        var = \"non_local_variable\"\n",
    "        print(\"Non Local value:\", var)\n",
    "    test_one()\n",
    "    print(\"Outer value:\", var)\n",
    "test()"
   ]
  },
  {
   "cell_type": "markdown",
   "metadata": {},
   "source": [
    "**First Class functions in Python**\n",
    "In python, a function is First Class Function, if it supports all of the properties of a First Class object such as —\n",
    "- 1.) It is an instance of an Object type\n",
    "- 2.) Pass First Class Function as argument of some other functions\n",
    "- 3.) Return Functions from other function\n",
    "- 4.) Store Functions in lists, sets, or some other data structures\n",
    "- 5.) Functions can be stored as a variable\n",
    "\n",
    "- In Python, a function can be assigned as a variable that is used without function parentheses\n",
    "- Functions are objects you can pass as arguments to other functions\n",
    "- First-class functions allow you to pass around behavior and abstract\n",
    "- Closure functions — Functions are nested and they can carry forward the parent function’s state with them\n",
    "Example:\n",
    "def func1(func):\n",
    "var = func(‘Hello World’)\n",
    "print(var)"
   ]
  },
  {
   "cell_type": "code",
   "execution_count": 115,
   "metadata": {},
   "outputs": [
    {
     "name": "stdout",
     "output_type": "stream",
     "text": [
      "20\n"
     ]
    }
   ],
   "source": [
    "#Implementation 2\n",
    "def outer(a):   # Outer function\n",
    "    def inner(b):   # Inner function\n",
    "        return b+10\n",
    "    return inner(a)\n",
    "a = 10\n",
    "var = outer(a) \n",
    "print(var)"
   ]
  },
  {
   "cell_type": "markdown",
   "metadata": {},
   "source": [
    "**__import__() function**\n",
    "In python, the inbuilt __import__() function helps to import modules in runtime\n",
    "\n",
    "Syntax —\n",
    "\n",
    "__import__(name, globals, locals, fromlist, level)\n",
    "\n",
    "- name: Name of the module to import.\n",
    "- globals: Dictionary of global names used to determine how to interpret the name in a package context.\n",
    "- locals: Dictionary of local names used to determine how to interpret the name in a package context.\n",
    "- fromlist: It gives the names of objects or submodules that should be imported from the module given by name.\n",
    "- level: level specifies whether to use absolute or relative imports.\n",
    "- To import a module by name, use importlib.import_module()\n",
    "Example:\n",
    "_var = __import__(‘spam.ham’, globals(), locals(), [], -1)"
   ]
  },
  {
   "cell_type": "code",
   "execution_count": 116,
   "metadata": {},
   "outputs": [
    {
     "name": "stdout",
     "output_type": "stream",
     "text": [
      "17.4\n"
     ]
    }
   ],
   "source": [
    "#implementation\n",
    "#fabs() method is defined in the math module which returns the absolute value of a number\n",
    "math_score = __import__('math', globals(), locals(), [], 0)\n",
    "print(math_score.fabs(-17.4))"
   ]
  },
  {
   "cell_type": "markdown",
   "metadata": {},
   "source": [
    "**Tuple Unpacking with Python Functions**\n",
    "In Python, tuples are immutable data types. Python offers a very powerful tuple assignment tool that maps right-hand side arguments into left-hand side arguments i.e mapping is known as unpacking of a tuple of values into a normal variable.\n",
    "\n",
    "- During the unpacking of the tuple, the total number of variables on the left-hand side should be equivalent to the total number of values in a given tuple\n",
    "- It uses a special syntax to pass optional arguments (*args) for tuple unpacking\n",
    "Example:\n",
    "days = (“sunday”, “monday”, “tuesday”,”wednesday”,”thursday”)\n",
    "(day1, day2, *day) = days"
   ]
  },
  {
   "cell_type": "code",
   "execution_count": 117,
   "metadata": {},
   "outputs": [
    {
     "name": "stdout",
     "output_type": "stream",
     "text": [
      "300\n",
      "400\n"
     ]
    }
   ],
   "source": [
    "def result(a, b):\n",
    "    return a + b\n",
    "\n",
    "# function with normal variables\n",
    "print(result(100, 200))\n",
    " \n",
    "# A tuple is created\n",
    "c = (100, 300)\n",
    " \n",
    "# Tuple is passed\n",
    "# function unpacked them\n",
    " \n",
    "print (result(*c))"
   ]
  },
  {
   "cell_type": "markdown",
   "metadata": {},
   "source": [
    "**Static Variables and Methods in Python**\n",
    "In Python, Static variables are the variables that belong to the class and not to objects.\n",
    "\n",
    "- Static variables are shared amongst objects of the class\n",
    "- Python allows providing the same variable name for a class/static variable and an instance variable\n",
    "Static Method -\n",
    "\n",
    "- In Python, Static methods are the methods that are bound to the class rather than an object of the class\n",
    "- Static Methods are called using the class name and not the objects of the class\n",
    "- Static methods are bound to the class\n",
    "- There are two ways of defining a static method:\n",
    "- - 1.) @staticmethod\n",
    "- - 2.) staticmethod()\n",
    "Example :\n",
    "class class_name:\n",
    "@staticmethod\n",
    "def function_name(parameters):\n",
    "print(var)"
   ]
  },
  {
   "cell_type": "code",
   "execution_count": 118,
   "metadata": {},
   "outputs": [
    {
     "name": "stdout",
     "output_type": "stream",
     "text": [
      "25\n",
      "25\n",
      "14\n",
      "25\n"
     ]
    }
   ],
   "source": [
    "class test:\n",
    "    static_variable = 25 \n",
    "\n",
    "# Access through class\n",
    "print(test.static_variable) \n",
    "\n",
    "# Access through an instance\n",
    "ins = test()\n",
    "print(ins.static_variable) \n",
    "\n",
    "# Change within an instance\n",
    "ins.static_variable = 14\n",
    "print(ins.static_variable)\n",
    "print(test.static_variable)"
   ]
  },
  {
   "cell_type": "code",
   "execution_count": 119,
   "metadata": {},
   "outputs": [
    {
     "name": "stdout",
     "output_type": "stream",
     "text": [
      "Welcome to sample shape class\n",
      "Triangles\n"
     ]
    }
   ],
   "source": [
    "# Static Method : Use @staticmethod\n",
    "class sample_shape:\n",
    "\n",
    "    @staticmethod\n",
    "    def msgg(msg):\n",
    "        print(msg)\n",
    "        print(\"Triangles\")\n",
    "        \n",
    "sample_shape.msgg(\"Welcome to sample shape class\")"
   ]
  },
  {
   "cell_type": "markdown",
   "metadata": {},
   "source": [
    "**Lambda Functions in Python**\n",
    "In Python, Lambda is used to create small anonymous functions using the “lambda” keyword and can be used wherever function objects are needed. It can have any number of arguments but only one expression\n",
    "\n",
    "Syntax:\n",
    "lambda argument(s): expression\n",
    "\n",
    "- It can be used inside another function\n",
    "- In Python, normal functions are defined using the def keyword, and anonymous functions are defined using the lambda keyword\n",
    "- Whenever we require a nameless function for a short period of time, we use lambda functions\n",
    "Example:\n",
    "var = lambda x: x * 5"
   ]
  },
  {
   "cell_type": "code",
   "execution_count": 120,
   "metadata": {},
   "outputs": [
    {
     "name": "stdout",
     "output_type": "stream",
     "text": [
      "38\n"
     ]
    }
   ],
   "source": [
    "#A lambda function that adds 10 to the number passed in as an argument, and print the result\n",
    "x = lambda a, b, c : a * b + c\n",
    "print(x(5, 6, 8))"
   ]
  },
  {
   "cell_type": "markdown",
   "metadata": {},
   "source": [
    "**Map and Filter Functions in Python**\n",
    "In Python, Map allows you to process and transform the items of the iterable or collections without using a for loop.\n",
    "\n",
    "- In Python, the map() function applies the given function to each item of a given iterable construct (i.e lists, tuples, etc) and returns a map object\n",
    "Syntax:\n",
    "map(function, iterable)\n",
    "\n",
    "- In Python, the filter() function returns an iterator when the items are filtered through a function to test if the item is true or not\n",
    "Syntax:\n",
    "filter(function, iterable)\n",
    "\n",
    "Example:\n",
    "result = map(lambda x: x+x, numbers)\n",
    "var = filter(function_name, sequence)"
   ]
  },
  {
   "cell_type": "code",
   "execution_count": 121,
   "metadata": {},
   "outputs": [
    {
     "name": "stdout",
     "output_type": "stream",
     "text": [
      "[('s', 1), ('t', 2), ('x', 3), ('y', 4), ('z', 5)]\n"
     ]
    }
   ],
   "source": [
    "#map() implementation\n",
    "numbers = [1,2,3,4,5]\n",
    "strings = ['s', 't', 'x', 'y', 'z']\n",
    "mapped_list = list(map(lambda x, y: (x, y), strings, numbers))\n",
    "print(mapped_list)"
   ]
  },
  {
   "cell_type": "code",
   "execution_count": 122,
   "metadata": {},
   "outputs": [
    {
     "name": "stdout",
     "output_type": "stream",
     "text": [
      "['sUNDAY', 'mONDAY', 'tUESDAY', 'wEDNESDAY']\n"
     ]
    }
   ],
   "source": [
    "#map() implementation\n",
    "days = ['Sunday', 'Monday', 'Tuesday', 'Wednesday']\n",
    "mod_days = list(map(str.swapcase, days))\n",
    "print(mod_days)"
   ]
  },
  {
   "cell_type": "code",
   "execution_count": 124,
   "metadata": {},
   "outputs": [
    {
     "name": "stdout",
     "output_type": "stream",
     "text": [
      "[23]\n"
     ]
    }
   ],
   "source": [
    "#filter() implementation\n",
    "marks = [95, 40, 68, 95, 67, 61, 88, 23, 38, 92]\n",
    "def stud(score):\n",
    "    return score < 33\n",
    "fail_list = list(filter(stud, marks))\n",
    "print(fail_list)"
   ]
  }
 ],
 "metadata": {
  "kernelspec": {
   "display_name": "Python 3",
   "language": "python",
   "name": "python3"
  },
  "language_info": {
   "codemirror_mode": {
    "name": "ipython",
    "version": 3
   },
   "file_extension": ".py",
   "mimetype": "text/x-python",
   "name": "python",
   "nbconvert_exporter": "python",
   "pygments_lexer": "ipython3",
   "version": "3.11.3"
  }
 },
 "nbformat": 4,
 "nbformat_minor": 2
}
