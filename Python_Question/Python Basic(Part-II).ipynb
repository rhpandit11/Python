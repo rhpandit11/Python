{
 "cells": [
  {
   "cell_type": "code",
   "execution_count": 2,
   "metadata": {},
   "outputs": [
    {
     "name": "stdout",
     "output_type": "stream",
     "text": [
      "True\n",
      "False\n"
     ]
    }
   ],
   "source": [
    "#1. Write a  Python function that takes a sequence of numbers and determines whether all the numbers are different from\n",
    "# each other. \n",
    "\n",
    "def seq_fun(data):\n",
    "   if len(data) == len(set(data)):\n",
    "       return True\n",
    "   else:\n",
    "       return False\n",
    "print(seq_fun([4,5,6,8]))\n",
    "print(seq_fun([4,5,5,6,8]))\n",
    "    "
   ]
  },
  {
   "cell_type": "code",
   "execution_count": 3,
   "metadata": {},
   "outputs": [
    {
     "name": "stdout",
     "output_type": "stream",
     "text": [
      "aiuoe\n"
     ]
    }
   ],
   "source": [
    "#2. Write a  Python program that creates all possible strings using the letters 'a', 'e', 'i', 'o', and 'I'. Ensure that each \n",
    "# character is used only once.\n",
    "import random\n",
    "char_list = ['a','e','i','o','u']\n",
    "random.shuffle(char_list)\n",
    "print(''.join(char_list))"
   ]
  },
  {
   "cell_type": "code",
   "execution_count": 6,
   "metadata": {},
   "outputs": [
    {
     "name": "stdout",
     "output_type": "stream",
     "text": [
      "30\n",
      "60\n",
      "90\n",
      "40\n",
      "80\n",
      "50\n",
      "20\n",
      "70\n",
      "10\n"
     ]
    }
   ],
   "source": [
    "#Write a Python program that removes and prints every third number from a list of numbers until the list is empty.\n",
    "\n",
    "def remove_nums(int_list):\n",
    "    position = 3 - 1\n",
    "    idx = 0\n",
    "    len_list = len(int_list)\n",
    "    while len_list > 0:\n",
    "        idx = (position + idx) % len_list\n",
    "        print(int_list.pop(idx))\n",
    "        len_list -= 1\n",
    "        \n",
    "nums = [10, 20, 30, 40, 50, 60, 70, 80, 90]\n",
    "\n",
    "remove_nums(nums)"
   ]
  },
  {
   "cell_type": "code",
   "execution_count": 7,
   "metadata": {},
   "outputs": [
    {
     "name": "stdout",
     "output_type": "stream",
     "text": [
      "[(-6, 2, 4), (-2, 0, 2), (-1, 0, 1)]\n"
     ]
    }
   ],
   "source": [
    "#4. Write a Python program to identify unique triplets whose three elements sum to zero from an array of n integers. \n",
    "def three_sum(nums):\n",
    "    result = []\n",
    "    nums.sort()\n",
    "    \n",
    "    for i in range(len(nums) - 2):\n",
    "        if i > 0 and nums[i] == nums[i-1]:\n",
    "            continue\n",
    "        l,r = i+1, len(nums) - 1\n",
    "        while l < r:\n",
    "            s = nums[i] + nums[l] + nums[r]\n",
    "            \n",
    "            if s > 0:\n",
    "                r -= 1\n",
    "            elif s < 0:\n",
    "                l += 1\n",
    "            else:\n",
    "                result.append((nums[i], nums[l], nums[r]))\n",
    "                \n",
    "                while l < r and nums[l] == nums[l + 1]:\n",
    "                    l += 1\n",
    "                while l < r and nums[r] == nums[r - 1]:\n",
    "                    r -= 1\n",
    "                l += 1\n",
    "                r -= 1\n",
    "    return result\n",
    "x = [1, -6, 4, 2, -1, 2, 0, -2, 0]\n",
    "print(three_sum(x))"
   ]
  }
 ],
 "metadata": {
  "kernelspec": {
   "display_name": "Python 3",
   "language": "python",
   "name": "python3"
  },
  "language_info": {
   "codemirror_mode": {
    "name": "ipython",
    "version": 3
   },
   "file_extension": ".py",
   "mimetype": "text/x-python",
   "name": "python",
   "nbconvert_exporter": "python",
   "pygments_lexer": "ipython3",
   "version": "3.11.3"
  }
 },
 "nbformat": 4,
 "nbformat_minor": 2
}
