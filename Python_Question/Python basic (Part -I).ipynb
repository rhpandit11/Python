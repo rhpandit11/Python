{
 "cells": [
  {
   "cell_type": "code",
   "execution_count": 1,
   "metadata": {},
   "outputs": [
    {
     "name": "stdout",
     "output_type": "stream",
     "text": [
      "The area of the circle with radius 2.2 is: 15.205308443374602\n"
     ]
    }
   ],
   "source": [
    "#4. Write a Python program that calculates the area of a circle based on the radius entered by the user. \n",
    "from math import pi\n",
    "r = float(input(\"Enter the radius\"))\n",
    "area = pi * r ** 2\n",
    "print(\"The area of the circle with radius \" + str(r) + \" is: \" + str(area))\n"
   ]
  },
  {
   "cell_type": "code",
   "execution_count": 1,
   "metadata": {},
   "outputs": [
    {
     "name": "stdout",
     "output_type": "stream",
     "text": [
      "Hello   \n"
     ]
    }
   ],
   "source": [
    "#5. Write a  Python program that accepts the user's first and last name and prints them in reverse order with a space between \n",
    "# them. \n",
    "fname = input(\"Input your First Name : \")\n",
    "lname = input(\"Input your Last Name : \")\n",
    "print(\"Hello  \" + lname + \" \" + fname)"
   ]
  },
  {
   "cell_type": "code",
   "execution_count": 3,
   "metadata": {},
   "outputs": [
    {
     "name": "stdout",
     "output_type": "stream",
     "text": [
      "['3', ' 5', ' 7', ' 23']\n",
      "('3', ' 5', ' 7', ' 23')\n"
     ]
    }
   ],
   "source": [
    "#6. Write a Python program that accepts a sequence of comma-separated numbers from the user and generates a list and a \n",
    "# tuple of those numbers. \n",
    "\n",
    "com_value = input('Enter comma separated value')\n",
    "li = list(com_value.split(','))\n",
    "tu = tuple(com_value.split(','))\n",
    "print(li)\n",
    "print(tu)"
   ]
  },
  {
   "cell_type": "code",
   "execution_count": 5,
   "metadata": {},
   "outputs": [
    {
     "name": "stdout",
     "output_type": "stream",
     "text": [
      "The extension of the file is : 'java'\n"
     ]
    }
   ],
   "source": [
    "#7. Write a  Python program that accepts a filename from the user and prints the extension of the file. \n",
    "file = input('Enter ext file')\n",
    "ext = file.split('.')\n",
    "print(\"The extension of the file is : \" + repr(ext[-1]))\n"
   ]
  },
  {
   "cell_type": "code",
   "execution_count": 2,
   "metadata": {},
   "outputs": [
    {
     "name": "stdout",
     "output_type": "stream",
     "text": [
      "Red\n",
      "Black\n",
      "Red Black\n"
     ]
    }
   ],
   "source": [
    "#8. Write a  Python program to display the first and last colors from the following list.\n",
    "#color_list = [\"Red\",\"Green\",\"White\" ,\"Black\"]\n",
    "\n",
    "color_list = [\"Red\",\"Green\",\"White\" ,\"Black\"]\n",
    "print(color_list[0])\n",
    "print(color_list[-1])\n",
    "print(\"%s %s\" % (color_list[0], color_list[-1]))"
   ]
  },
  {
   "cell_type": "code",
   "execution_count": 3,
   "metadata": {},
   "outputs": [
    {
     "name": "stdout",
     "output_type": "stream",
     "text": [
      "exam start on: 11 / 12 / 2014\n"
     ]
    }
   ],
   "source": [
    "#9. Write a Python program to display the examination schedule. (extract the date from exam_st_date).\n",
    "#exam_st_date = (11, 12, 2014)\n",
    "#Sample Output : The examination will start from : 11 / 12 / 2014\n",
    "exam_st_date = (11, 12, 2014)\n",
    "print(\"exam start on: %i / %i / %i\" % exam_st_date)"
   ]
  },
  {
   "cell_type": "code",
   "execution_count": 6,
   "metadata": {},
   "outputs": [
    {
     "name": "stdout",
     "output_type": "stream",
     "text": [
      "615\n"
     ]
    }
   ],
   "source": [
    "#10. Write a Python program that accepts an integer (n) and computes the value of n+nn+nnn.\n",
    "#Sample value of n is 5\n",
    "#Expected Result : 615\n",
    "\n",
    "a = int(input(\"Enter a integer value\"))\n",
    "n1 = int(\"%s\" % a)\n",
    "n2 = int(\"%s%s\" %(a,a))\n",
    "n3 = int(\"%s%s%s\" %(a,a,a))\n",
    "print(n1+n2+n3)\n"
   ]
  },
  {
   "cell_type": "code",
   "execution_count": 7,
   "metadata": {},
   "outputs": [
    {
     "name": "stdout",
     "output_type": "stream",
     "text": [
      "Return the absolute value of the argument.\n"
     ]
    }
   ],
   "source": [
    "#11. Write a  Python program to print the documents (syntax, description etc.) of Python built-in function(s).\n",
    "#Sample function : abs()\n",
    "#Expected Result :\n",
    "#abs(number) -> number\n",
    "#Return the absolute value of the argument.\n",
    "# Print the docstring (documentation) of the 'abs' function\n",
    "print(abs.__doc__)"
   ]
  },
  {
   "cell_type": "code",
   "execution_count": 30,
   "metadata": {},
   "outputs": [
    {
     "ename": "SyntaxError",
     "evalue": "invalid syntax (488180715.py, line 2)",
     "output_type": "error",
     "traceback": [
      "\u001b[1;36m  Cell \u001b[1;32mIn[30], line 2\u001b[1;36m\u001b[0m\n\u001b[1;33m    Note : Use 'calendar' module.\u001b[0m\n\u001b[1;37m               ^\u001b[0m\n\u001b[1;31mSyntaxError\u001b[0m\u001b[1;31m:\u001b[0m invalid syntax\n"
     ]
    }
   ],
   "source": [
    "#12. Write a  Python program that prints the calendar for a given month and year.\n",
    "Note : Use 'calendar' module.\n",
    "#Click me to see the sample solution\n",
    "import calendar\n",
    "\n",
    "# Prompt the user to input the year and month\n",
    "y = int(input(\"Input the year : \"))\n",
    "m = int(input(\"Input the month : \"))\n",
    "\n",
    "# Print the calendar for the specified year and month\n",
    "print(calendar.month(y, m))\n"
   ]
  },
  {
   "cell_type": "code",
   "execution_count": 32,
   "metadata": {},
   "outputs": [
    {
     "name": "stdout",
     "output_type": "stream",
     "text": [
      "a string that you \"don't\" have to escape\n",
      "This\n",
      "is a ....... multi-line\n",
      "heredoc string --------> example\n"
     ]
    }
   ],
   "source": [
    "#13. Write a Python program to print the following 'here document'.\n",
    "#Sample string :\n",
    "#a string that you \"don't\" have to escape\n",
    "#This\n",
    "#is a ....... multi-line\n",
    "#heredoc string --------> example\n",
    "print(\"\"\"a string that you \"don't\" have to escape\n",
    "This\n",
    "is a ....... multi-line\n",
    "heredoc string --------> example\"\"\")"
   ]
  },
  {
   "cell_type": "code",
   "execution_count": 33,
   "metadata": {},
   "outputs": [
    {
     "name": "stdout",
     "output_type": "stream",
     "text": [
      "9\n"
     ]
    }
   ],
   "source": [
    "#14. Write a Python program to calculate the number of days between two dates.\n",
    "#Sample dates : (2014, 7, 2), (2014, 7, 11)\n",
    "#Expected output : 9 days \n",
    "from datetime import date\n",
    "d0 = date(2014, 7, 2)\n",
    "d1 = date(2014, 7, 11)\n",
    "delta = d1 -d0\n",
    "print(delta.days)"
   ]
  },
  {
   "cell_type": "code",
   "execution_count": 35,
   "metadata": {},
   "outputs": [
    {
     "name": "stdout",
     "output_type": "stream",
     "text": [
      "904.7786842338603\n"
     ]
    }
   ],
   "source": [
    "#15. Write a  Python program to get the volume of a sphere with radius six.\n",
    "import math\n",
    "r = 6\n",
    "v = 4/3*math.pi*r**3\n",
    "print(v)\n"
   ]
  },
  {
   "cell_type": "code",
   "execution_count": 37,
   "metadata": {},
   "outputs": [
    {
     "name": "stdout",
     "output_type": "stream",
     "text": [
      "2\n"
     ]
    }
   ],
   "source": [
    "#16. Write a Python program to calculate the difference between a given number and 17. If the number is greater than 17, \n",
    "#return twice the absolute difference. \n",
    "n = int(input('Enter a number:'))\n",
    "value = 17\n",
    "diff = 0\n",
    "if n > 17:\n",
    "    value = (n - 17)*2\n",
    "else:\n",
    "    value = 17 - n\n",
    "print(value)"
   ]
  },
  {
   "cell_type": "code",
   "execution_count": 38,
   "metadata": {},
   "outputs": [
    {
     "name": "stdout",
     "output_type": "stream",
     "text": [
      "True\n"
     ]
    }
   ],
   "source": [
    "#17. Write a  Python program to test whether a number is within 100 of 1000 or 2000. \n",
    "def near_thousand(n):\n",
    "    return (abs(1000 - n) <= 100) or (abs(2000-n) <= 100)\n",
    "print(near_thousand(1000))  "
   ]
  },
  {
   "cell_type": "code",
   "execution_count": 39,
   "metadata": {},
   "outputs": [
    {
     "name": "stdout",
     "output_type": "stream",
     "text": [
      "45\n"
     ]
    }
   ],
   "source": [
    "#18. Write a Python program to calculate the sum of three given numbers. If the values are equal, return three times their sum.\n",
    "a = 5\n",
    "b = 5\n",
    "c = 5\n",
    "sum = 0\n",
    "if a == b and b == c and a == c:\n",
    "    sum = (a+b+c)*3\n",
    "else:\n",
    "    sum = a+b+c\n",
    "print(sum)\n",
    "\n",
    "     "
   ]
  },
  {
   "cell_type": "code",
   "execution_count": 40,
   "metadata": {},
   "outputs": [
    {
     "name": "stdout",
     "output_type": "stream",
     "text": [
      "IsArray\n"
     ]
    }
   ],
   "source": [
    "#19. Write a Python program to get a newly-generated string from a given string where \"Is\" has been added to the front. \n",
    "# Return the string unchanged if the given string already begins with \"Is\". \n",
    "def new_string(text):\n",
    "    if len(text) > 2 and text[:2] == 'Is':\n",
    "        return text\n",
    "    else:\n",
    "        return 'Is' + text\n",
    "print(new_string(\"Array\"))\n",
    "    \n"
   ]
  },
  {
   "cell_type": "code",
   "execution_count": 41,
   "metadata": {},
   "outputs": [
    {
     "name": "stdout",
     "output_type": "stream",
     "text": [
      "abcabc\n"
     ]
    }
   ],
   "source": [
    "#20. Write a  Python program that returns a string that is n (non-negative integer) copies of a given string. \n",
    "def larger_text(text,n):\n",
    "    result = ''\n",
    "    for i in range(n):\n",
    "        result = result+text\n",
    "    return result\n",
    "print(larger_text('abc', 2))"
   ]
  },
  {
   "cell_type": "code",
   "execution_count": 42,
   "metadata": {},
   "outputs": [
    {
     "name": "stdout",
     "output_type": "stream",
     "text": [
      "odd\n"
     ]
    }
   ],
   "source": [
    "#21. Write a Python program that determines whether a given number (accepted from the user) is even or odd, and prints \n",
    "# an appropriate message to the user. \n",
    "num = int(input('Enter a number'))\n",
    "\n",
    "if num % 2 == 0:\n",
    "    print('odd')\n",
    "else:\n",
    "    print('even')"
   ]
  },
  {
   "cell_type": "code",
   "execution_count": 56,
   "metadata": {},
   "outputs": [
    {
     "name": "stdout",
     "output_type": "stream",
     "text": [
      "2\n"
     ]
    }
   ],
   "source": [
    "#22. Write a  Python program to count the number 4 in a given list. \n",
    "def list_count_4(num):\n",
    "    count = 0\n",
    "    for i in num:\n",
    "        if i == 4:\n",
    "            count += 1\n",
    "    return count\n",
    "print(list_count_4([1, 4, 6, 7, 4]))"
   ]
  },
  {
   "cell_type": "code",
   "execution_count": null,
   "metadata": {},
   "outputs": [],
   "source": []
  }
 ],
 "metadata": {
  "kernelspec": {
   "display_name": "Python 3",
   "language": "python",
   "name": "python3"
  },
  "language_info": {
   "codemirror_mode": {
    "name": "ipython",
    "version": 3
   },
   "file_extension": ".py",
   "mimetype": "text/x-python",
   "name": "python",
   "nbconvert_exporter": "python",
   "pygments_lexer": "ipython3",
   "version": "3.11.3"
  }
 },
 "nbformat": 4,
 "nbformat_minor": 2
}
