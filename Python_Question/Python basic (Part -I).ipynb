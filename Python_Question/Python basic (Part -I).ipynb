{
 "cells": [
  {
   "cell_type": "code",
   "execution_count": null,
   "metadata": {},
   "outputs": [],
   "source": [
    "#4. Write a Python program that calculates the area of a circle based on the radius entered by the user. \n",
    "from math import pi\n",
    "r = float(input(\"Enter the radius\"))\n",
    "area = pi * r ** 2\n",
    "print(\"The area of the circle with radius \" + str(r) + \" is: \" + str(area))\n"
   ]
  },
  {
   "cell_type": "code",
   "execution_count": null,
   "metadata": {},
   "outputs": [],
   "source": [
    "#5. Write a  Python program that accepts the user's first and last name and prints them in reverse order with a space between \n",
    "# them. \n",
    "fname = input(\"Input your First Name : \")\n",
    "lname = input(\"Input your Last Name : \")\n",
    "print(\"Hello  \" + lname + \" \" + fname)"
   ]
  },
  {
   "cell_type": "code",
   "execution_count": null,
   "metadata": {},
   "outputs": [],
   "source": [
    "#6. Write a Python program that accepts a sequence of comma-separated numbers from the user and generates a list and a \n",
    "# tuple of those numbers. \n",
    "\n",
    "com_value = input('Enter comma separated value')\n",
    "li = list(com_value.split(','))\n",
    "tu = tuple(com_value.split(','))\n",
    "print(li)\n",
    "print(tu)"
   ]
  },
  {
   "cell_type": "code",
   "execution_count": null,
   "metadata": {},
   "outputs": [],
   "source": [
    "#7. Write a  Python program that accepts a filename from the user and prints the extension of the file. \n",
    "file = input('Enter ext file')\n",
    "ext = file.split('.')\n",
    "print(\"The extension of the file is : \" + repr(ext[-1]))\n"
   ]
  },
  {
   "cell_type": "code",
   "execution_count": null,
   "metadata": {},
   "outputs": [],
   "source": [
    "#8. Write a  Python program to display the first and last colors from the following list.\n",
    "#color_list = [\"Red\",\"Green\",\"White\" ,\"Black\"]\n",
    "\n",
    "color_list = [\"Red\",\"Green\",\"White\" ,\"Black\"]\n",
    "print(color_list[0])\n",
    "print(color_list[-1])\n",
    "print(\"%s %s\" % (color_list[0], color_list[-1]))"
   ]
  },
  {
   "cell_type": "code",
   "execution_count": null,
   "metadata": {},
   "outputs": [],
   "source": [
    "#9. Write a Python program to display the examination schedule. (extract the date from exam_st_date).\n",
    "#exam_st_date = (11, 12, 2014)\n",
    "#Sample Output : The examination will start from : 11 / 12 / 2014\n",
    "exam_st_date = (11, 12, 2014)\n",
    "print(\"exam start on: %i / %i / %i\" % exam_st_date)"
   ]
  },
  {
   "cell_type": "code",
   "execution_count": null,
   "metadata": {},
   "outputs": [],
   "source": [
    "#10. Write a Python program that accepts an integer (n) and computes the value of n+nn+nnn.\n",
    "#Sample value of n is 5\n",
    "#Expected Result : 615\n",
    "\n",
    "a = int(input(\"Enter a integer value\"))\n",
    "n1 = int(\"%s\" % a)\n",
    "n2 = int(\"%s%s\" %(a,a))\n",
    "n3 = int(\"%s%s%s\" %(a,a,a))\n",
    "print(n1+n2+n3)\n"
   ]
  },
  {
   "cell_type": "code",
   "execution_count": null,
   "metadata": {},
   "outputs": [],
   "source": [
    "#11. Write a  Python program to print the documents (syntax, description etc.) of Python built-in function(s).\n",
    "#Sample function : abs()\n",
    "#Expected Result :\n",
    "#abs(number) -> number\n",
    "#Return the absolute value of the argument.\n",
    "# Print the docstring (documentation) of the 'abs' function\n",
    "print(abs.__doc__)"
   ]
  },
  {
   "cell_type": "code",
   "execution_count": null,
   "metadata": {},
   "outputs": [],
   "source": [
    "#12. Write a  Python program that prints the calendar for a given month and year.\n",
    "Note : Use 'calendar' module.\n",
    "#Click me to see the sample solution\n",
    "import calendar\n",
    "\n",
    "# Prompt the user to input the year and month\n",
    "y = int(input(\"Input the year : \"))\n",
    "m = int(input(\"Input the month : \"))\n",
    "\n",
    "# Print the calendar for the specified year and month\n",
    "print(calendar.month(y, m))\n"
   ]
  },
  {
   "cell_type": "code",
   "execution_count": null,
   "metadata": {},
   "outputs": [],
   "source": [
    "#13. Write a Python program to print the following 'here document'.\n",
    "#Sample string :\n",
    "#a string that you \"don't\" have to escape\n",
    "#This\n",
    "#is a ....... multi-line\n",
    "#heredoc string --------> example\n",
    "print(\"\"\"a string that you \"don't\" have to escape\n",
    "This\n",
    "is a ....... multi-line\n",
    "heredoc string --------> example\"\"\")"
   ]
  },
  {
   "cell_type": "code",
   "execution_count": null,
   "metadata": {},
   "outputs": [],
   "source": [
    "#14. Write a Python program to calculate the number of days between two dates.\n",
    "#Sample dates : (2014, 7, 2), (2014, 7, 11)\n",
    "#Expected output : 9 days \n",
    "from datetime import date\n",
    "d0 = date(2014, 7, 2)\n",
    "d1 = date(2014, 7, 11)\n",
    "delta = d1 -d0\n",
    "print(delta.days)"
   ]
  },
  {
   "cell_type": "code",
   "execution_count": null,
   "metadata": {},
   "outputs": [],
   "source": [
    "#15. Write a  Python program to get the volume of a sphere with radius six.\n",
    "import math\n",
    "r = 6\n",
    "v = 4/3*math.pi*r**3\n",
    "print(v)\n"
   ]
  },
  {
   "cell_type": "code",
   "execution_count": null,
   "metadata": {},
   "outputs": [],
   "source": [
    "#16. Write a Python program to calculate the difference between a given number and 17. If the number is greater than 17, \n",
    "#return twice the absolute difference. \n",
    "n = int(input('Enter a number:'))\n",
    "value = 17\n",
    "diff = 0\n",
    "if n > 17:\n",
    "    value = (n - 17)*2\n",
    "else:\n",
    "    value = 17 - n\n",
    "print(value)"
   ]
  },
  {
   "cell_type": "code",
   "execution_count": null,
   "metadata": {},
   "outputs": [],
   "source": [
    "#17. Write a  Python program to test whether a number is within 100 of 1000 or 2000. \n",
    "def near_thousand(n):\n",
    "    return (abs(1000 - n) <= 100) or (abs(2000-n) <= 100)\n",
    "print(near_thousand(1000))  "
   ]
  },
  {
   "cell_type": "code",
   "execution_count": null,
   "metadata": {},
   "outputs": [],
   "source": [
    "#18. Write a Python program to calculate the sum of three given numbers. If the values are equal, return three times their sum.\n",
    "a = 5\n",
    "b = 5\n",
    "c = 5\n",
    "sum = 0\n",
    "if a == b and b == c and a == c:\n",
    "    sum = (a+b+c)*3\n",
    "else:\n",
    "    sum = a+b+c\n",
    "print(sum)\n",
    "\n",
    "     "
   ]
  },
  {
   "cell_type": "code",
   "execution_count": null,
   "metadata": {},
   "outputs": [],
   "source": [
    "#19. Write a Python program to get a newly-generated string from a given string where \"Is\" has been added to the front. \n",
    "# Return the string unchanged if the given string already begins with \"Is\". \n",
    "def new_string(text):\n",
    "    if len(text) > 2 and text[:2] == 'Is':\n",
    "        return text\n",
    "    else:\n",
    "        return 'Is' + text\n",
    "print(new_string(\"Array\"))\n",
    "    \n"
   ]
  },
  {
   "cell_type": "code",
   "execution_count": null,
   "metadata": {},
   "outputs": [],
   "source": [
    "#20. Write a  Python program that returns a string that is n (non-negative integer) copies of a given string. \n",
    "def larger_text(text,n):\n",
    "    result = ''\n",
    "    for i in range(n):\n",
    "        result = result+text\n",
    "    return result\n",
    "print(larger_text('abc', 2))"
   ]
  },
  {
   "cell_type": "code",
   "execution_count": null,
   "metadata": {},
   "outputs": [],
   "source": [
    "#21. Write a Python program that determines whether a given number (accepted from the user) is even or odd, and prints \n",
    "# an appropriate message to the user. \n",
    "num = int(input('Enter a number'))\n",
    "\n",
    "if num % 2 == 0:\n",
    "    print('odd')\n",
    "else:\n",
    "    print('even')"
   ]
  },
  {
   "cell_type": "code",
   "execution_count": null,
   "metadata": {},
   "outputs": [],
   "source": [
    "#22. Write a  Python program to count the number 4 in a given list. \n",
    "def list_count_4(num):\n",
    "    count = 0\n",
    "    for i in num:\n",
    "        if i == 4:\n",
    "            count += 1\n",
    "    return count\n",
    "print(list_count_4([1, 4, 6, 7, 4]))"
   ]
  },
  {
   "cell_type": "code",
   "execution_count": null,
   "metadata": {},
   "outputs": [],
   "source": [
    "#23. Write a Python program to get n (non-negative integer) copies of the first 2 characters of a given string. \n",
    "# Return n copies of the whole string if the length is less than 2. \n",
    "# n = int(input('Enter a value'))\n",
    "# str = 'abcdef'\n",
    "# if n < 2:\n",
    "#     print(str*n)\n",
    "# else:\n",
    "#     print(str*2)\n",
    "\n",
    "def substring_copy(text,n):\n",
    "    flen = 2\n",
    "    \n",
    "    if flen > 2:\n",
    "        flen = len(text)\n",
    "    \n",
    "    substr = text[:flen]\n",
    "    result = ''\n",
    "    \n",
    "    for i in range(n):\n",
    "        result = result + substr\n",
    "    return result\n",
    "print(substring_copy('abcdef',2))\n"
   ]
  },
  {
   "cell_type": "code",
   "execution_count": null,
   "metadata": {},
   "outputs": [],
   "source": [
    "#24. Write a Python program to test whether a passed letter is a vowel or not. \n",
    "def check_vow(text):\n",
    "    vow = 'aeiou'\n",
    "    if text in vow:\n",
    "        return True\n",
    "    else:\n",
    "        return False\n",
    "check_vow('a')"
   ]
  },
  {
   "cell_type": "code",
   "execution_count": null,
   "metadata": {},
   "outputs": [],
   "source": [
    "#24. Write a Python program to test whether a passed letter is a vowel or not. 25. Write a  Python program that checks whether a specified value is contained within a group of values.\n",
    "#Test Data :\n",
    "#3 -> [1, 5, 8, 3] : True\n",
    "#-1 -> [1, 5, 8, 3] : False\n",
    "def is_group_member(group_data,n):\n",
    "    for value in group_data:\n",
    "        if n == value:\n",
    "            return True\n",
    "    return False\n",
    "print(is_group_member([1, 5, 8, 3], 3))"
   ]
  },
  {
   "cell_type": "code",
   "execution_count": null,
   "metadata": {},
   "outputs": [],
   "source": [
    "#26. Write a  Python program to create a histogram from a given list of integers. \n",
    "def histogram(items):\n",
    "    for n in items:\n",
    "        output = ''\n",
    "        times  = n\n",
    "        \n",
    "        while times > 0:\n",
    "            output += '*'\n",
    "            times = times - 1\n",
    "        print(output)\n",
    "histogram([2, 3, 6, 5])"
   ]
  },
  {
   "cell_type": "code",
   "execution_count": null,
   "metadata": {},
   "outputs": [],
   "source": [
    "#27. Write a Python program that concatenates all elements in a list into a string and returns it.\n",
    "def concatenate_list_data(lst):\n",
    "    result = ''\n",
    "    for i in lst:\n",
    "        result += str(i)\n",
    "    return result\n",
    "\n",
    "print(concatenate_list_data([1, 5, 12, 2]))"
   ]
  },
  {
   "cell_type": "code",
   "execution_count": 25,
   "metadata": {},
   "outputs": [
    {
     "name": "stdout",
     "output_type": "stream",
     "text": [
      "236\n",
      "162\n",
      "104\n",
      "58\n",
      "24\n"
     ]
    }
   ],
   "source": [
    "#28. Write a Python program to print all even numbers from a given list of numbers in the same order and stop printing any \n",
    "# after 237 in the sequence. \n",
    "def value(lst):\n",
    "    for i in lst:\n",
    "        if i%2 ==0 and i < 237:\n",
    "            print(i)\n",
    "        else:\n",
    "            pass\n",
    "value([    \n",
    "    386, 462, 47, 418, 907, 344, 236, 375, 823, 566, 597, 978, 328, 615, 953, 345, \n",
    "    399, 162, 758, 219, 918, 237, 412, 566, 826, 248, 866, 950, 626, 949, 687, 217, \n",
    "    815, 67, 104, 58, 512, 24, 892, 894, 767, 553, 81, 379, 843, 831, 445, 742, 717, \n",
    "    958,743, 527\n",
    "    ])"
   ]
  },
  {
   "cell_type": "code",
   "execution_count": 26,
   "metadata": {},
   "outputs": [
    {
     "name": "stdout",
     "output_type": "stream",
     "text": [
      "386\n",
      "462\n",
      "418\n",
      "344\n",
      "236\n",
      "566\n",
      "978\n",
      "328\n",
      "162\n",
      "758\n",
      "918\n",
      "237\n"
     ]
    }
   ],
   "source": [
    "lst = [    \n",
    "    386, 462, 47, 418, 907, 344, 236, 375, 823, 566, 597, 978, 328, 615, 953, 345, \n",
    "    399, 162, 758, 219, 918, 237, 412, 566, 826, 248, 866, 950, 626, 949, 687, 217, \n",
    "    815, 67, 104, 58, 512, 24, 892, 894, 767, 553, 81, 379, 843, 831, 445, 742, 717, \n",
    "    958,743, 527\n",
    "    ]\n",
    "\n",
    "for x in lst:\n",
    "    if x == 237:\n",
    "        print(x)\n",
    "        break\n",
    "    elif x%2 == 0:\n",
    "        print(x)"
   ]
  },
  {
   "cell_type": "code",
   "execution_count": 27,
   "metadata": {},
   "outputs": [
    {
     "name": "stdout",
     "output_type": "stream",
     "text": [
      "{'Black', 'White'}\n"
     ]
    }
   ],
   "source": [
    "#29. Write a  Python program that prints out all colors from color_list_1 that are not present in color_list_2. \n",
    "\n",
    "color_list_1 = set([\"White\", \"Black\", \"Red\"]) \n",
    "color_list_2 = set([\"Red\", \"Green\"])\n",
    "print(color_list_1.difference(color_list_2))"
   ]
  },
  {
   "cell_type": "code",
   "execution_count": 28,
   "metadata": {},
   "outputs": [
    {
     "name": "stdout",
     "output_type": "stream",
     "text": [
      "area =  12.5\n"
     ]
    }
   ],
   "source": [
    "#Write a  Python program that will accept the base and height of a triangle and compute its area.\n",
    "b = int(input(\"Input the base : \"))\n",
    "h = int(input(\"Input the height : \"))\n",
    "area = b * h / 2\n",
    "print(\"area = \", area)"
   ]
  },
  {
   "cell_type": "code",
   "execution_count": 29,
   "metadata": {},
   "outputs": [
    {
     "name": "stdout",
     "output_type": "stream",
     "text": [
      "GCD of 12 & 17 = 1\n"
     ]
    }
   ],
   "source": [
    "#31. Write a Python program that computes the greatest common divisor (GCD) of two positive integers.\n",
    "def gcd(x,y):\n",
    "    gcd = 1\n",
    "    if x%y == 0:\n",
    "        return y\n",
    "    for k in range(int(y/2),0,-1):\n",
    "        if x%k ==0 and y%k == 0:\n",
    "            gcd = k\n",
    "            \n",
    "            break\n",
    "    return gcd\n",
    "print(\"GCD of 12 & 17 =\", gcd(12, 17))"
   ]
  },
  {
   "cell_type": "code",
   "execution_count": 3,
   "metadata": {},
   "outputs": [
    {
     "name": "stdout",
     "output_type": "stream",
     "text": [
      "255\n"
     ]
    }
   ],
   "source": [
    "#32. Write a Python program to find the least common multiple (LCM) of two positive integers. \n",
    "def lcm(x,y):\n",
    "    if x>y:\n",
    "        z = x\n",
    "    else:\n",
    "        z=y\n",
    "    while True:\n",
    "        if (z%x==0) and (z%y==0):\n",
    "            lcm = z\n",
    "            break\n",
    "        z += 1\n",
    "    return lcm\n",
    "print(lcm(15,17))"
   ]
  },
  {
   "cell_type": "code",
   "execution_count": 5,
   "metadata": {},
   "outputs": [
    {
     "name": "stdout",
     "output_type": "stream",
     "text": [
      "0\n",
      "0\n"
     ]
    }
   ],
   "source": [
    "#33. Write a Python program to sum three given integers. However, if two values are equal, the sum will be zero. \n",
    "def three_sum(x,y,z):\n",
    "    if x == y or x == z or y == z:\n",
    "         sum = 0\n",
    "    else:\n",
    "         sum = x + y + z\n",
    "    return sum\n",
    "print(three_sum(4,4,4))\n",
    "print(three_sum(2, 1, 2))\n",
    "    "
   ]
  },
  {
   "cell_type": "code",
   "execution_count": 7,
   "metadata": {},
   "outputs": [
    {
     "name": "stdout",
     "output_type": "stream",
     "text": [
      "20\n",
      "12\n"
     ]
    }
   ],
   "source": [
    "#34. Write a  Python program to sum two given integers. However, if the sum is between 15 and 20 it will return 20. \n",
    "def two_sum(x,y):\n",
    "    sum = x+y\n",
    "    if sum in range(15,20):\n",
    "        return 20\n",
    "    else:\n",
    "        return sum\n",
    "print(two_sum(10, 6))\n",
    "print(two_sum(10, 2))"
   ]
  },
  {
   "cell_type": "code",
   "execution_count": 9,
   "metadata": {},
   "outputs": [
    {
     "name": "stdout",
     "output_type": "stream",
     "text": [
      "True\n",
      "True\n"
     ]
    }
   ],
   "source": [
    "#35. Write a Python program that returns true if the two given integer values are equal or their sum or difference is 5. \n",
    "def two_sum(x,y):\n",
    "    sum = x+y \n",
    "    if x == y or x-y == 5 or x+y == 5:\n",
    "        return True\n",
    "    else:\n",
    "        return False\n",
    "print(two_sum(7, 2))\n",
    "print(two_sum(3, 2))\n",
    "    "
   ]
  },
  {
   "cell_type": "code",
   "execution_count": 10,
   "metadata": {},
   "outputs": [
    {
     "name": "stdout",
     "output_type": "stream",
     "text": [
      "30\n",
      "Inputs must be integers!\n"
     ]
    }
   ],
   "source": [
    "#36. Write a  Python program to add two objects if both objects are integers. \n",
    "def sum_obj(a,b):\n",
    "    if not (isinstance(a, int) and isinstance(b, int)):\n",
    "        return \"Inputs must be integers!\"\n",
    "    return a + b\n",
    "print(sum_obj(10, 20))    \n",
    "print(sum_obj(10, 20.23))  "
   ]
  },
  {
   "cell_type": "code",
   "execution_count": 11,
   "metadata": {},
   "outputs": [
    {
     "name": "stdout",
     "output_type": "stream",
     "text": [
      "Name: Simon\n",
      "Age: 19\n",
      "Address: Bangalore, Karnataka, India\n"
     ]
    }
   ],
   "source": [
    "#37. Write a Python program that displays your name, age, and address on three different lines. \n",
    "def personal_details():\n",
    "    name, age = \"Simon\", 19\n",
    "    address = \"Bangalore, Karnataka, India\"\n",
    "    print(\"Name: {}\\nAge: {}\\nAddress: {}\".format(name, age, address))\n",
    "personal_details()"
   ]
  },
  {
   "cell_type": "code",
   "execution_count": 12,
   "metadata": {},
   "outputs": [
    {
     "name": "stdout",
     "output_type": "stream",
     "text": [
      "49\n"
     ]
    }
   ],
   "source": [
    "#38. Write a Python program to solve (x + y) * (x + y).\n",
    "#Test Data : x = 4, y = 3\n",
    "#Expected Output : (4 + 3) ^ 2) = 49\n",
    "\n",
    "def cal(x,y):\n",
    "    c = (x+y)**2\n",
    "    return c\n",
    "print(cal(4,3))\n",
    "    "
   ]
  },
  {
   "cell_type": "code",
   "execution_count": 13,
   "metadata": {},
   "outputs": [
    {
     "name": "stdout",
     "output_type": "stream",
     "text": [
      "12722.79\n"
     ]
    }
   ],
   "source": [
    "#39. Write a  Python program to compute the future value of a specified principal amount, rate of interest, and number of \n",
    "# years.\n",
    "#Test Data : amt = 10000, int = 3.5, years = 7\n",
    "#Expected Output : 12722.79#\n",
    "amt = 10000\n",
    "int = 3.5\n",
    "years = 7\n",
    "future_value = amt * ((1 + (0.01 * int)) ** years)\n",
    "print(round(future_value, 2))"
   ]
  },
  {
   "cell_type": "code",
   "execution_count": 14,
   "metadata": {},
   "outputs": [
    {
     "name": "stdout",
     "output_type": "stream",
     "text": [
      "6.324555320336759\n"
     ]
    }
   ],
   "source": [
    "#40. Write a  Python program to calculate the distance between the points (x1, y1) and (x2, y2). \n",
    "import math\n",
    "p1 = [4, 0]\n",
    "p2 = [6, 6]\n",
    "distance = math.sqrt(((p1[0] - p2[0]) ** 2) + ((p1[1] - p2[1]) ** 2))\n",
    "print(distance)"
   ]
  },
  {
   "cell_type": "code",
   "execution_count": 16,
   "metadata": {},
   "outputs": [
    {
     "name": "stdout",
     "output_type": "stream",
     "text": [
      "True\n",
      "False\n"
     ]
    }
   ],
   "source": [
    "#41. Write a Python program to check whether a file exists. \n",
    "import os.path\n",
    "print(os.path.isfile('Python basic (Part -I).ipynb'))\n",
    "print(os.path.isfile('main.py'))"
   ]
  },
  {
   "cell_type": "code",
   "execution_count": 17,
   "metadata": {},
   "outputs": [
    {
     "name": "stdout",
     "output_type": "stream",
     "text": [
      "64\n"
     ]
    }
   ],
   "source": [
    "#42. Write a Python program to determine if a Python shell is executing in 32bit or 64bit mode on OS. \n",
    "import struct\n",
    "print(struct.calcsize(\"P\") * 8)"
   ]
  },
  {
   "cell_type": "code",
   "execution_count": 18,
   "metadata": {},
   "outputs": [
    {
     "name": "stdout",
     "output_type": "stream",
     "text": [
      "Name of the operating system: nt\n",
      "\n",
      "Name of the OS system: Windows\n",
      "\n",
      "Version of the operating system: 10\n"
     ]
    }
   ],
   "source": [
    "#43. Write a Python program to get OS name, platform and release information. \n",
    "import platform\n",
    "import os\n",
    "print(\"Name of the operating system:\", os.name)\n",
    "print(\"\\nName of the OS system:\", platform.system())\n",
    "print(\"\\nVersion of the operating system:\", platform.release())"
   ]
  },
  {
   "cell_type": "code",
   "execution_count": 19,
   "metadata": {},
   "outputs": [
    {
     "name": "stdout",
     "output_type": "stream",
     "text": [
      "['c:\\\\Program Files\\\\Python311', 'c:\\\\Program Files\\\\Python311\\\\Lib\\\\site-packages']\n"
     ]
    }
   ],
   "source": [
    "# Write a  Python program to locate  Python site packages.\n",
    "import site\n",
    "print(site.getsitepackages())"
   ]
  },
  {
   "cell_type": "code",
   "execution_count": null,
   "metadata": {},
   "outputs": [],
   "source": [
    "#49. Write a Python program to list all files in a directory. \n",
    "from os import listdir\n",
    "from os.path import isfile, join\n",
    "files_list = [f for f in listdir('/home/students') if isfile(join('/home/students', f))]\n",
    "print(files_list)"
   ]
  },
  {
   "cell_type": "code",
   "execution_count": 24,
   "metadata": {},
   "outputs": [
    {
     "name": "stdout",
     "output_type": "stream",
     "text": [
      "**********\n",
      "\n"
     ]
    }
   ],
   "source": [
    "#50. Write a Python program to print without a newline or space. \n",
    "for i in range(0, 10):\n",
    "        print('*', end=\"\")\n",
    "print(\"\\n\")"
   ]
  },
  {
   "cell_type": "code",
   "execution_count": 1,
   "metadata": {},
   "outputs": [
    {
     "name": "stdout",
     "output_type": "stream",
     "text": [
      "3\n",
      "         29 function calls in 0.000 seconds\n",
      "\n",
      "   Ordered by: standard name\n",
      "\n",
      "   ncalls  tottime  percall  cumtime  percall filename:lineno(function)\n",
      "        1    0.000    0.000    0.000    0.000 2360332812.py:6(sum)\n",
      "        1    0.000    0.000    0.000    0.000 <string>:1(<module>)\n",
      "        1    0.000    0.000    0.000    0.000 iostream.py:137(_event_pipe)\n",
      "        1    0.000    0.000    0.000    0.000 iostream.py:258(schedule)\n",
      "        2    0.000    0.000    0.000    0.000 iostream.py:519(_is_master_process)\n",
      "        2    0.000    0.000    0.000    0.000 iostream.py:546(_schedule_flush)\n",
      "        2    0.000    0.000    0.000    0.000 iostream.py:624(write)\n",
      "        1    0.000    0.000    0.000    0.000 socket.py:545(send)\n",
      "        1    0.000    0.000    0.000    0.000 threading.py:1118(_wait_for_tstate_lock)\n",
      "        1    0.000    0.000    0.000    0.000 threading.py:1185(is_alive)\n",
      "        1    0.000    0.000    0.000    0.000 threading.py:568(is_set)\n",
      "        1    0.000    0.000    0.000    0.000 {built-in method builtins.exec}\n",
      "        2    0.000    0.000    0.000    0.000 {built-in method builtins.isinstance}\n",
      "        2    0.000    0.000    0.000    0.000 {built-in method builtins.len}\n",
      "        1    0.000    0.000    0.000    0.000 {built-in method builtins.print}\n",
      "        2    0.000    0.000    0.000    0.000 {built-in method nt.getpid}\n",
      "        2    0.000    0.000    0.000    0.000 {method '__exit__' of '_thread.RLock' objects}\n",
      "        1    0.000    0.000    0.000    0.000 {method 'acquire' of '_thread.lock' objects}\n",
      "        1    0.000    0.000    0.000    0.000 {method 'append' of 'collections.deque' objects}\n",
      "        1    0.000    0.000    0.000    0.000 {method 'disable' of '_lsprof.Profiler' objects}\n",
      "        2    0.000    0.000    0.000    0.000 {method 'write' of '_io.StringIO' objects}\n",
      "\n",
      "\n"
     ]
    }
   ],
   "source": [
    "#51  Write a Python program to determine the profiling of Python programs.\n",
    "\n",
    "#Note: A profile is a set of statistics that describes how often and for how long various parts of the program executed. \n",
    "# These statistics can be formatted into reports via the pstats module.\n",
    "import cProfile\n",
    "def sum():\n",
    "    print(1+2)\n",
    "cProfile.run('sum()')"
   ]
  },
  {
   "cell_type": "code",
   "execution_count": 3,
   "metadata": {},
   "outputs": [
    {
     "name": "stderr",
     "output_type": "stream",
     "text": [
      "abc--efg--xyz\n"
     ]
    }
   ],
   "source": [
    "#52. Write a  Python program to print to STDERR. \n",
    "from __future__ import print_function\n",
    "\n",
    "import sys\n",
    "def eprint(*args, **kwargs):\n",
    "        print(*args, file=sys.stderr, **kwargs)\n",
    "eprint(\"abc\", \"efg\", \"xyz\", sep=\"--\")"
   ]
  },
  {
   "cell_type": "code",
   "execution_count": 5,
   "metadata": {},
   "outputs": [
    {
     "name": "stdout",
     "output_type": "stream",
     "text": [
      "\n",
      "Time to sum of 1 to 5 and required time to calculate is: (15, 0.0)\n"
     ]
    }
   ],
   "source": [
    "#57. Write a Python program to get the execution time of a Python method.\n",
    "import time\n",
    "def sum_of_n_number(n):\n",
    "    start_time = time.time()\n",
    "    s=0\n",
    "    for i in range(1,n+1):\n",
    "        s = s+i \n",
    "    end_time = time.time()\n",
    "    return s, end_time - start_time\n",
    "n = 5\n",
    "print(\"\\nTime to sum of 1 to\", n, \"and required time to calculate is:\", sum_of_n_number(n))"
   ]
  },
  {
   "cell_type": "code",
   "execution_count": 10,
   "metadata": {},
   "outputs": [
    {
     "name": "stdout",
     "output_type": "stream",
     "text": [
      "Sum of the first 2 positive integers: 3.0\n"
     ]
    }
   ],
   "source": [
    "#58. Write a Python program to sum the first n positive integers. \n",
    "n = int(input('Enter a value:'))\n",
    "sum = (n*(n+1))/2\n",
    "print(\"Sum of the first\", n, \"positive integers:\", sum)"
   ]
  },
  {
   "cell_type": "code",
   "execution_count": 12,
   "metadata": {},
   "outputs": [
    {
     "name": "stdout",
     "output_type": "stream",
     "text": [
      "Input your height\n",
      "Your height is : 152 cm.\n"
     ]
    }
   ],
   "source": [
    "#59. Write a Python program to convert height (in feet and inches) to centimeters. \n",
    "print('Input your height')\n",
    "h_ft = int(input(\"Inches:\"))\n",
    "h_inch = int(input('Inches'))\n",
    "h_inch = h_ft*12\n",
    "h_cm = round(h_inch*2.54,1)\n",
    "print(\"Your height is : %d cm.\" % h_cm)"
   ]
  },
  {
   "cell_type": "code",
   "execution_count": 15,
   "metadata": {},
   "outputs": [
    {
     "name": "stdout",
     "output_type": "stream",
     "text": [
      "Input lengths of shorter triangle sides:\n",
      "5.0\n"
     ]
    }
   ],
   "source": [
    "#60. Write a Python program to calculate the hypotenuse of a right angled triangle.\n",
    "from math import sqrt\n",
    "print(\"Input lengths of shorter triangle sides:\")\n",
    "a = float(input(\"a: \"))\n",
    "b = float(input(\"b: \"))\n",
    "c = sqrt(a**2 + b**2)\n",
    "print(c)"
   ]
  }
 ],
 "metadata": {
  "kernelspec": {
   "display_name": "Python 3",
   "language": "python",
   "name": "python3"
  },
  "language_info": {
   "codemirror_mode": {
    "name": "ipython",
    "version": 3
   },
   "file_extension": ".py",
   "mimetype": "text/x-python",
   "name": "python",
   "nbconvert_exporter": "python",
   "pygments_lexer": "ipython3",
   "version": "3.11.3"
  }
 },
 "nbformat": 4,
 "nbformat_minor": 2
}
