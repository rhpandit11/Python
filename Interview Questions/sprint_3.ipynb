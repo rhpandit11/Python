{
 "cells": [
  {
   "cell_type": "code",
   "execution_count": 1,
   "metadata": {},
   "outputs": [
    {
     "name": "stdout",
     "output_type": "stream",
     "text": [
      "Vowels: 11\n",
      "Constants: 27\n"
     ]
    }
   ],
   "source": [
    "#1. Write a python code to accept a string and count the number of vowels and consonants.\n",
    "\n",
    "input_string = 'A Quick Brown Fox Jump Over a Lazy Dog'\n",
    "\n",
    "vowels = 'aeiouAEIOU'\n",
    "constants = 'bcdfghjklmnpqrstvwxyzBCDFGHJKLMNPQRSTVWXYZ'\n",
    "\n",
    "vowels_count = 0\n",
    "constants_count = 0\n",
    "\n",
    "for char in input_string:\n",
    "    if char in vowels:\n",
    "        vowels_count += 1\n",
    "    else:\n",
    "        constants_count += 1\n",
    "print(f\"Vowels: {vowels_count}\")\n",
    "print(f\"Constants: {constants_count}\")"
   ]
  },
  {
   "cell_type": "code",
   "execution_count": 23,
   "metadata": {},
   "outputs": [
    {
     "name": "stdout",
     "output_type": "stream",
     "text": [
      "{'hello': 1, 'wonderful': 0, 'good': 3, 'flawless': 0, 'perfect': 0}\n"
     ]
    }
   ],
   "source": [
    "# 2. Write a program to find the number of occurrences of elements from list1 to list2.\n",
    "\n",
    "word_list = [\"hello\", \"wonderful\", \"good\", \"flawless\", \"perfect\"]\n",
    "test = [\"abc\", \"hello\", \"vbf\", \"good\", \"dfdfdf\", \"good\", \"good\"]\n",
    "\n",
    "count_dict = {element: 0 for element in word_list}\n",
    "\n",
    "for element in test:\n",
    "    if element in word_list:\n",
    "        count_dict[element] += 1\n",
    "print(count_dict)"
   ]
  },
  {
   "cell_type": "code",
   "execution_count": 22,
   "metadata": {},
   "outputs": [
    {
     "name": "stdout",
     "output_type": "stream",
     "text": [
      "{1: 1, 2: 2, 3: 3, 4: 4}\n"
     ]
    }
   ],
   "source": [
    "def count_occurrences(list1, list2):\n",
    "    # Initialize a dictionary to store the counts\n",
    "    count_dict = {element: 0 for element in list1}\n",
    "\n",
    "    # Loop through each element in list2\n",
    "    for element in list2:\n",
    "        # If the element is in list1, increment its count in the dictionary\n",
    "        if element in list1:\n",
    "            count_dict[element] += 1\n",
    "\n",
    "    return count_dict\n",
    "\n",
    "# Example usage\n",
    "list1 = [1, 2, 3, 4]\n",
    "list2 = [1, 2, 2, 3, 3, 3, 4, 4, 4, 4, 5, 6, 7]\n",
    "\n",
    "occurrences = count_occurrences(list1, list2)\n",
    "print(occurrences)"
   ]
  },
  {
   "cell_type": "code",
   "execution_count": 24,
   "metadata": {},
   "outputs": [
    {
     "name": "stdout",
     "output_type": "stream",
     "text": [
      "4\n",
      "7\n",
      "7\n"
     ]
    }
   ],
   "source": [
    "#3. Write a function that returns the lesser of two given numbers if both numbers are even,\n",
    "# but returns the greater if one or both numbers are odd.\n",
    "\n",
    "def lesser_or_greater(num1, num2):\n",
    "    if num1%2 == 0 and num2%2 == 0:\n",
    "        return min(num1,num2)\n",
    "    else:\n",
    "        return max(num1,num2)\n",
    "    \n",
    "result1 = lesser_or_greater(4, 8)\n",
    "result2 = lesser_or_greater(5, 7)\n",
    "result3 = lesser_or_greater(4, 7)\n",
    "\n",
    "print(result1)  \n",
    "print(result2)  \n",
    "print(result3)"
   ]
  }
 ],
 "metadata": {
  "kernelspec": {
   "display_name": "Python 3",
   "language": "python",
   "name": "python3"
  },
  "language_info": {
   "codemirror_mode": {
    "name": "ipython",
    "version": 3
   },
   "file_extension": ".py",
   "mimetype": "text/x-python",
   "name": "python",
   "nbconvert_exporter": "python",
   "pygments_lexer": "ipython3",
   "version": "3.11.3"
  }
 },
 "nbformat": 4,
 "nbformat_minor": 2
}
