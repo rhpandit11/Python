{
 "cells": [
  {
   "cell_type": "code",
   "execution_count": 1,
   "metadata": {},
   "outputs": [
    {
     "name": "stdout",
     "output_type": "stream",
     "text": [
      "Vowels: 11\n",
      "Constants: 27\n"
     ]
    }
   ],
   "source": [
    "#1. Write a python code to accept a string and count the number of vowels and consonants.\n",
    "\n",
    "input_string = 'A Quick Brown Fox Jump Over a Lazy Dog'\n",
    "\n",
    "vowels = 'aeiouAEIOU'\n",
    "constants = 'bcdfghjklmnpqrstvwxyzBCDFGHJKLMNPQRSTVWXYZ'\n",
    "\n",
    "vowels_count = 0\n",
    "constants_count = 0\n",
    "\n",
    "for char in input_string:\n",
    "    if char in vowels:\n",
    "        vowels_count += 1\n",
    "    else:\n",
    "        constants_count += 1\n",
    "print(f\"Vowels: {vowels_count}\")\n",
    "print(f\"Constants: {constants_count}\")"
   ]
  },
  {
   "cell_type": "code",
   "execution_count": 23,
   "metadata": {},
   "outputs": [
    {
     "name": "stdout",
     "output_type": "stream",
     "text": [
      "{'hello': 1, 'wonderful': 0, 'good': 3, 'flawless': 0, 'perfect': 0}\n"
     ]
    }
   ],
   "source": [
    "# 2. Write a program to find the number of occurrences of elements from list1 to list2.\n",
    "\n",
    "word_list = [\"hello\", \"wonderful\", \"good\", \"flawless\", \"perfect\"]\n",
    "test = [\"abc\", \"hello\", \"vbf\", \"good\", \"dfdfdf\", \"good\", \"good\"]\n",
    "\n",
    "count_dict = {element: 0 for element in word_list}\n",
    "\n",
    "for element in test:\n",
    "    if element in word_list:\n",
    "        count_dict[element] += 1\n",
    "print(count_dict)"
   ]
  },
  {
   "cell_type": "code",
   "execution_count": 22,
   "metadata": {},
   "outputs": [
    {
     "name": "stdout",
     "output_type": "stream",
     "text": [
      "{1: 1, 2: 2, 3: 3, 4: 4}\n"
     ]
    }
   ],
   "source": [
    "def count_occurrences(list1, list2):\n",
    "    # Initialize a dictionary to store the counts\n",
    "    count_dict = {element: 0 for element in list1}\n",
    "\n",
    "    # Loop through each element in list2\n",
    "    for element in list2:\n",
    "        # If the element is in list1, increment its count in the dictionary\n",
    "        if element in list1:\n",
    "            count_dict[element] += 1\n",
    "\n",
    "    return count_dict\n",
    "\n",
    "# Example usage\n",
    "list1 = [1, 2, 3, 4]\n",
    "list2 = [1, 2, 2, 3, 3, 3, 4, 4, 4, 4, 5, 6, 7]\n",
    "\n",
    "occurrences = count_occurrences(list1, list2)\n",
    "print(occurrences)"
   ]
  },
  {
   "cell_type": "code",
   "execution_count": 24,
   "metadata": {},
   "outputs": [
    {
     "name": "stdout",
     "output_type": "stream",
     "text": [
      "4\n",
      "7\n",
      "7\n"
     ]
    }
   ],
   "source": [
    "#3. Write a function that returns the lesser of two given numbers if both numbers are even,\n",
    "# but returns the greater if one or both numbers are odd.\n",
    "\n",
    "def lesser_or_greater(num1, num2):\n",
    "    if num1%2 == 0 and num2%2 == 0:\n",
    "        return min(num1,num2)\n",
    "    else:\n",
    "        return max(num1,num2)\n",
    "    \n",
    "result1 = lesser_or_greater(4, 8)\n",
    "result2 = lesser_or_greater(5, 7)\n",
    "result3 = lesser_or_greater(4, 7)\n",
    "\n",
    "print(result1)  \n",
    "print(result2)  \n",
    "print(result3)"
   ]
  },
  {
   "cell_type": "code",
   "execution_count": 1,
   "metadata": {},
   "outputs": [
    {
     "name": "stdout",
     "output_type": "stream",
     "text": [
      "Uppercase letters: 2\n",
      "Lowercase letters: 8\n"
     ]
    }
   ],
   "source": [
    "#4. Write a python function that accepts a string and calculates the number of upper case letters and lower case letters.\n",
    "def count_upper_lower(s):\n",
    "    upper_count = 0\n",
    "    lower_count = 0\n",
    "    \n",
    "    for char in s:\n",
    "        if char.isupper():\n",
    "            upper_count += 1\n",
    "        elif char.islower():\n",
    "            lower_count += 1\n",
    "    \n",
    "    return upper_count, lower_count\n",
    "\n",
    "# Example usage\n",
    "string = \"Hello World!\"\n",
    "upper, lower = count_upper_lower(string)\n",
    "print(f\"Uppercase letters: {upper}\")\n",
    "print(f\"Lowercase letters: {lower}\")"
   ]
  },
  {
   "cell_type": "code",
   "execution_count": 2,
   "metadata": {},
   "outputs": [
    {
     "name": "stdout",
     "output_type": "stream",
     "text": [
      "ssstzzzzz\n"
     ]
    }
   ],
   "source": [
    "#5. Write a program that accepts input in this form: s3t1z5. Here any character is followed by a number. \n",
    "# The program should return a string where the character is repeated for the corresponding number of times.\n",
    "\n",
    "def repeat_characters(s):\n",
    "    result = \"\"\n",
    "    i = 0\n",
    "    \n",
    "    while i < len(s):\n",
    "        char = s[i]\n",
    "        count = int(s[i + 1])\n",
    "        result += char * count\n",
    "        i += 2\n",
    "    \n",
    "    return result\n",
    "\n",
    "# Example usage\n",
    "input_str = \"s3t1z5\"\n",
    "output_str = repeat_characters(input_str)\n",
    "print(output_str)  # Output: ssstzzzzz"
   ]
  },
  {
   "cell_type": "code",
   "execution_count": 1,
   "metadata": {},
   "outputs": [
    {
     "name": "stdout",
     "output_type": "stream",
     "text": [
      "She\n",
      "sells\n",
      "seashells\n",
      "seashore.\n"
     ]
    }
   ],
   "source": [
    "#6. Take a sentence as input and print only the words that start with “s” in the sentence.\n",
    "def print_s_words(sentence):\n",
    "    words = sentence.split()\n",
    "    s_words = [word for word in words if word.lower().startswith('s')]\n",
    "    for word in s_words:\n",
    "        print(word)\n",
    "\n",
    "# Example usage\n",
    "sentence = \"She sells seashells by the seashore.\"\n",
    "print_s_words(sentence)"
   ]
  },
  {
   "cell_type": "code",
   "execution_count": 2,
   "metadata": {},
   "outputs": [
    {
     "name": "stdout",
     "output_type": "stream",
     "text": [
      "a: 23\n",
      "c: 15\n",
      "e: 33\n",
      "g: 9\n"
     ]
    }
   ],
   "source": [
    "#7. From a dictionary, print only the items with an odd value of less than 45.\n",
    "def print_odd_values_less_than_45(input_dict):\n",
    "    for key, value in input_dict.items():\n",
    "        if value < 45 and value % 2 != 0:\n",
    "            print(f\"{key}: {value}\")\n",
    "\n",
    "# Example usage\n",
    "input_dict = {\n",
    "    'a': 23,\n",
    "    'b': 50,\n",
    "    'c': 15,\n",
    "    'd': 42,\n",
    "    'e': 33,\n",
    "    'f': 48,\n",
    "    'g': 9\n",
    "}\n",
    "print_odd_values_less_than_45(input_dict)"
   ]
  },
  {
   "cell_type": "code",
   "execution_count": 3,
   "metadata": {},
   "outputs": [
    {
     "name": "stdout",
     "output_type": "stream",
     "text": [
      "Count of pairs is 2\n"
     ]
    }
   ],
   "source": [
    "#8. Write a program to count pairs of elements of a list with a given sum\n",
    "\n",
    "def getPairsCount(arr,n,k):\n",
    "    count = 0\n",
    "    for i in range(0,n):\n",
    "        for j in range(i+1,n):\n",
    "            if arr[i] + arr[j] == k:\n",
    "                count += 1\n",
    "    return count\n",
    "arr = [1, 5, 7, -1]\n",
    "n = len(arr)\n",
    "K = 6\n",
    "print(\"Count of pairs is\",\n",
    "      getPairsCount(arr, n, K))"
   ]
  },
  {
   "cell_type": "code",
   "execution_count": 4,
   "metadata": {},
   "outputs": [
    {
     "name": "stdout",
     "output_type": "stream",
     "text": [
      "efd\n"
     ]
    }
   ],
   "source": [
    "#9. Write a python program to find the common characters from two input strings.\n",
    "def common_characters(str1, str2):\n",
    "    set1 = set(str1)\n",
    "    set2 = set(str2)\n",
    "    \n",
    "    common_chars = set1.intersection(set2)\n",
    "    \n",
    "    return ''.join(common_chars)\n",
    "\n",
    "# Example usage\n",
    "str1 = \"abcdef\"\n",
    "str2 = \"defghij\"\n",
    "print(common_characters(str1, str2))  # Output: def"
   ]
  },
  {
   "cell_type": "code",
   "execution_count": 5,
   "metadata": {},
   "outputs": [
    {
     "name": "stdout",
     "output_type": "stream",
     "text": [
      "10 5\n"
     ]
    }
   ],
   "source": [
    "#10. Swap two numbers by using one line of code.\n",
    "a, b = 5, 10\n",
    "a, b = b, a\n",
    "print(a, b)  # Output: 10 5"
   ]
  },
  {
   "cell_type": "code",
   "execution_count": 1,
   "metadata": {},
   "outputs": [
    {
     "name": "stdout",
     "output_type": "stream",
     "text": [
      "The product of even position elements from list1 is not divisible by the sum of odd position elements from list2.\n"
     ]
    }
   ],
   "source": [
    "#11. Write a program to take two lists and check if the product of even position elements from the first list is completely \n",
    "# divisible by the sum of odd position elements from the second list.\n",
    "\n",
    "def check_divisibility(list1, list2):\n",
    "    even_position_list1 = [list1[i] for i in range(len(list1)) if i%2!=0]\n",
    "    odd_positions_list2 = [list2[i] for i in range(len(list2)) if i % 2 == 0]\n",
    "    \n",
    "    product_even_list1 = 1\n",
    "    for i in even_position_list1:\n",
    "        product_even_list1 *= i\n",
    "        \n",
    "    sum_odd_list2 = sum(odd_positions_list2)\n",
    "    \n",
    "    if sum_odd_list2 != 0 and product_even_list1 % sum_odd_list2 == 0:\n",
    "        return True\n",
    "    else:\n",
    "        return False\n",
    "    \n",
    "list1 = [2, 4, 6, 8, 10]   \n",
    "list2 = [1, 3, 5, 7, 9] \n",
    "\n",
    "if check_divisibility(list1, list2):\n",
    "    print(\"The product of even position elements from list1 is divisible by the sum of odd position elements from list2.\")\n",
    "else:\n",
    "    print(\"The product of even position elements from list1 is not divisible by the sum of odd position elements from list2.\")\n"
   ]
  },
  {
   "cell_type": "code",
   "execution_count": 6,
   "metadata": {},
   "outputs": [
    {
     "name": "stdout",
     "output_type": "stream",
     "text": [
      "h*llo\n"
     ]
    }
   ],
   "source": [
    "#12. Write a function that will take a string and a character as arguments and check if the character is present in the \n",
    "# string then it will be replaced with a “*”.\n",
    "\n",
    "def replace_char(s,char):\n",
    "    modified_str = ''\n",
    "    for i in range(0,len(s)):\n",
    "        if s[i] == char:\n",
    "            modified_str += '*'\n",
    "        else:\n",
    "            modified_str += s[i]\n",
    "    return modified_str\n",
    "s = 'hallo'\n",
    "char = 'a'\n",
    "print(replace_char(s,char))\n",
    "  \n",
    "        "
   ]
  }
 ],
 "metadata": {
  "kernelspec": {
   "display_name": "Python 3",
   "language": "python",
   "name": "python3"
  },
  "language_info": {
   "codemirror_mode": {
    "name": "ipython",
    "version": 3
   },
   "file_extension": ".py",
   "mimetype": "text/x-python",
   "name": "python",
   "nbconvert_exporter": "python",
   "pygments_lexer": "ipython3",
   "version": "3.11.3"
  }
 },
 "nbformat": 4,
 "nbformat_minor": 2
}
