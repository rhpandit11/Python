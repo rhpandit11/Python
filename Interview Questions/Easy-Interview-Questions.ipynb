{
 "cells": [
  {
   "cell_type": "code",
   "execution_count": null,
   "metadata": {},
   "outputs": [],
   "source": [
    "#Write a program to find the factorial of a number using recursion.\n",
    "def fact(x):\n",
    "    if x == 0:\n",
    "        return 1\n",
    "    else:\n",
    "        return x*fact(x-1)\n",
    "x = int(input())\n",
    "result = fact(x)\n",
    "print(result)"
   ]
  },
  {
   "cell_type": "code",
   "execution_count": null,
   "metadata": {},
   "outputs": [],
   "source": [
    "#Write a program to find the square of the largest element in an array.\n",
    "def find_squared_largest(arr):\n",
    "    largest = arr[0]\n",
    "    for i in arr:\n",
    "        if i > largest:\n",
    "            largest = i\n",
    "    return largest**2\n",
    "array = [10, 5, 8, 20, 3,9,6,32,26]\n",
    "largest_squared_number = find_squared_largest(array)\n",
    "print(largest_squared_number)"
   ]
  },
  {
   "cell_type": "code",
   "execution_count": null,
   "metadata": {},
   "outputs": [],
   "source": [
    "#Q3) Write a program to find the number of times a number exists in a list. return in descending order of number of \n",
    "# occurrences a number exists.\n",
    "\n",
    "def count_of_numbers(L):\n",
    "    d = {}\n",
    "    for i in L:\n",
    "        if i in d:\n",
    "            d[i] += 1\n",
    "        else:\n",
    "            d[i] = 1\n",
    "    return d\n",
    "\n",
    "list = [ 8,45,25,6, 11, 29, 42, 25, 14,42,25]\n",
    "#original sequance of no.of times a number exists \n",
    "count_of_numbers = count_of_numbers(list)\n",
    "print(f'general no.of occurences of a number sequence{count_of_numbers}')\n",
    "#return the sequence in descending order of its occurrences\n",
    "count_of_numbers_result = dict(sorted(count_of_numbers.items(), key=lambda i:i[1], \n",
    "                                      reverse=True))\n",
    "\n",
    "        "
   ]
  },
  {
   "cell_type": "code",
   "execution_count": null,
   "metadata": {},
   "outputs": [],
   "source": [
    "#Q4) write a program to find a number that is prime or not prime.\n",
    "def is_prime(n):\n",
    "    if n<2:\n",
    "        return False \n",
    "    for i in range(2,n):  #time complexity is O(n)\n",
    "        if n%i==0:\n",
    "            return False\n",
    "    return True   #if one is True then no need to check for the other so terminates the loop\n",
    "n=int(input('enter a number:'))\n",
    "if is_prime(n):\n",
    "    print(f'given number {n} is prime')\n",
    "else:\n",
    "    print(f'given number {n} is not prime')"
   ]
  },
  {
   "cell_type": "code",
   "execution_count": null,
   "metadata": {},
   "outputs": [],
   "source": [
    "#Q5) write a program to delete duplicates and return the list without duplicates.\n",
    "def delete_duplicates(arr):\n",
    "    res = []\n",
    "    for i in arr:\n",
    "        if i not in res:\n",
    "            res.append(i)\n",
    "    return res\n",
    "\n",
    "array = [1, 2, 3, 2, 1, 3, 2, 4, 5, 4]\n",
    "res = delete_duplicates(array)\n",
    "reverse_res=sorted(delete_duplicates(array), reverse=True)\n",
    "print(f'given array is: {array}')\n",
    "print(f'array without duplicates is: {res}')\n",
    "print(f'array without duplicates in reverse order is:{reverse_res}')"
   ]
  },
  {
   "cell_type": "code",
   "execution_count": null,
   "metadata": {},
   "outputs": [],
   "source": [
    "#Q6) Write a program to find the second large number in a list.\n",
    "def find_second_largest_num(arr):\n",
    "    if len(arr) < 2:\n",
    "        return \"List should have at least two elements\"\n",
    "\n",
    "    unique_arr = list(set(arr))  # Remove duplicates\n",
    "    unique_arr.sort(reverse=True)   # time complexity is O(nlogn)\n",
    "\n",
    "    if len(unique_arr) >= 2:\n",
    "        return unique_arr[1]\n",
    "    else:\n",
    "        return \"No second-largest number\"\n",
    "\n",
    "array = [2, 5, 9, 3, 8, 96, 25, 36, 45]\n",
    "res = find_second_largest_num(array)\n",
    "print(f\"The second-largest number is: {res}\")\n",
    "\n"
   ]
  },
  {
   "cell_type": "code",
   "execution_count": 28,
   "metadata": {},
   "outputs": [
    {
     "name": "stdout",
     "output_type": "stream",
     "text": [
      "The second-largest negative number is: -16\n"
     ]
    }
   ],
   "source": [
    "#Q7) Write a program to find the second-largest negative number in a list.\n",
    "\n",
    "def second_largest_negative(arr):\n",
    "    largest_neg = float('-inf')\n",
    "    second_largest_neg = float('-inf')\n",
    "\n",
    "    for i in arr:\n",
    "        if i < 0:\n",
    "            if i > largest_neg:\n",
    "                second_largest_neg = largest_neg\n",
    "                largest_neg = i\n",
    "            elif i > second_largest_neg and i != largest_neg:\n",
    "                second_largest_neg = i\n",
    "\n",
    "    if second_largest_neg != float('-inf'):\n",
    "        return second_largest_neg \n",
    "    else:\n",
    "        \"No second-largest negative number\"\n",
    "\n",
    "\n",
    "numbers = [3, -5, -28, 7, -81, 4, -16]\n",
    "result = second_largest_negative(numbers)\n",
    "print(f\"The second-largest negative number is: {result}\")"
   ]
  },
  {
   "cell_type": "code",
   "execution_count": 29,
   "metadata": {},
   "outputs": [
    {
     "name": "stdout",
     "output_type": "stream",
     "text": [
      "Given sentence: Hi welcome to the world of python programming\n",
      "Reversed sentence: programming python of world the to welcome Hi\n"
     ]
    }
   ],
   "source": [
    "#Q8) Write a program to reverse the order of words in a sentence.\n",
    "def reverse_words(text):\n",
    "    words = text.split()\n",
    "    reversed_sentence = ' '.join(reversed(words))\n",
    "    return reversed_sentence\n",
    "\n",
    "input_sentence = \"Hi welcome to the world of python programming\"\n",
    "result = reverse_words(input_sentence)\n",
    "print(f\"Given sentence: {input_sentence}\")\n",
    "print(f\"Reversed sentence: {result}\")"
   ]
  },
  {
   "cell_type": "code",
   "execution_count": 30,
   "metadata": {},
   "outputs": [
    {
     "name": "stdout",
     "output_type": "stream",
     "text": [
      " given sentence: Hi Welcome to the Wrold of Python programming\n",
      "Uppercase characters count: 4\n",
      "Lowercase characters count: 34\n"
     ]
    }
   ],
   "source": [
    "#Q9) Write a program to count the lower and upper case characters in any text or sentence.\n",
    "def count_case_characters(sentence):\n",
    "    upper = 0\n",
    "    lower = 0\n",
    "\n",
    "    for char in sentence:\n",
    "        if char.isupper():\n",
    "            upper += 1\n",
    "        elif char.islower():\n",
    "            lower += 1\n",
    "    return upper, lower\n",
    "\n",
    "\n",
    "input_txt = \"Hi Welcome to the Wrold of Python programming\"\n",
    "upper, lower = count_case_characters(input_txt)\n",
    "\n",
    "print(f\" given sentence: {input_txt}\")\n",
    "print(f\"Uppercase characters count: {upper}\")\n",
    "print(f\"Lowercase characters count: {lower}\")"
   ]
  },
  {
   "cell_type": "code",
   "execution_count": 31,
   "metadata": {},
   "outputs": [
    {
     "data": {
      "text/plain": [
       "[-1312740, -656370, -60588, -39780, 3938220, -115830]"
      ]
     },
     "execution_count": 31,
     "metadata": {},
     "output_type": "execute_result"
    }
   ],
   "source": [
    "#Q10). Given an array, return the resultant array i.e. result in such a way that result[i] is equal to the product of all the \n",
    "# elements of an array except array[i].\n",
    "def productExceptSelfnum(nums):\n",
    "    n=len(nums)\n",
    "    ans=[]\n",
    "    for i in range(n):\n",
    "        x=1\n",
    "        for j in range(n):\n",
    "            if i!=j:\n",
    "                x*=nums[j]\n",
    "        ans.append(x)\n",
    "    return ans\n",
    "\n",
    "#L=[3,6,10,4,2,5,8]\n",
    "#L=[3,5,9,0,8,3]\n",
    "#L=[0,0,0,0,0]\n",
    "L=[3,6,65,99,-1,34]\n",
    "productExceptSelfnum(L)"
   ]
  },
  {
   "cell_type": "code",
   "execution_count": 32,
   "metadata": {},
   "outputs": [
    {
     "data": {
      "text/plain": [
       "7"
      ]
     },
     "execution_count": 32,
     "metadata": {},
     "output_type": "execute_result"
    }
   ],
   "source": [
    "#Q11). Given an integer x, return the number of prime numbers that are strictly less than x.\n",
    "def isprime(n):\n",
    "    if n<2:\n",
    "        return False\n",
    "    for i in range(2, int(n**.5)+1):\n",
    "        if n%i==0:\n",
    "            return False\n",
    "    return True\n",
    "\n",
    "def no_of_prime_nums(x):\n",
    "    ans=0\n",
    "    for i in range(2, x):\n",
    "        if isprime(i):\n",
    "            ans+=1\n",
    "    return ans\n",
    "\n",
    "no_of_prime_nums(19)    "
   ]
  },
  {
   "cell_type": "code",
   "execution_count": 35,
   "metadata": {},
   "outputs": [
    {
     "name": "stdout",
     "output_type": "stream",
     "text": [
      "avg_marks 88.0\n",
      "[('Mahenra', 90), ('Sam', 92), ('Tarun', 96), ('Rakesh', 90)]\n"
     ]
    }
   ],
   "source": [
    "#Q12). Given a list of student’s details in a classroom with their names and the marks they got.\n",
    "#Write a program to return students’ details whose marks are greater than the average marks in the classroom.\n",
    "Student_list=[('Mahenra', 90),('Mahi', 78),('Varun', 87),('Sam',92),\n",
    "('Ishak',83),('Tarun',96),('Rakesh',90)]\n",
    "L=Student_list\n",
    "def avg_marks(L):\n",
    "    total_marks=0\n",
    "    for i, j in L:\n",
    "        total_marks+=j\n",
    "    return total_marks/len(L)\n",
    "\n",
    "ans=[]\n",
    "\n",
    "print(\"avg_marks\", avg_marks(L))\n",
    "for i, j in L:\n",
    "    if j>avg_marks(L):\n",
    "        ans.append((i,j))\n",
    "print(ans)"
   ]
  }
 ],
 "metadata": {
  "kernelspec": {
   "display_name": "Python 3",
   "language": "python",
   "name": "python3"
  },
  "language_info": {
   "codemirror_mode": {
    "name": "ipython",
    "version": 3
   },
   "file_extension": ".py",
   "mimetype": "text/x-python",
   "name": "python",
   "nbconvert_exporter": "python",
   "pygments_lexer": "ipython3",
   "version": "3.11.3"
  }
 },
 "nbformat": 4,
 "nbformat_minor": 2
}
