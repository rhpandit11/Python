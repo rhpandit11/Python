{
 "cells": [
  {
   "cell_type": "raw",
   "metadata": {
    "vscode": {
     "languageId": "raw"
    }
   },
   "source": [
    "123ab! - 112233aabb!!"
   ]
  },
  {
   "cell_type": "code",
   "execution_count": 1,
   "metadata": {},
   "outputs": [
    {
     "name": "stdout",
     "output_type": "stream",
     "text": [
      "112233aabb!!\n"
     ]
    }
   ],
   "source": [
    "def str2(str):\n",
    "    new_str = ''\n",
    "    for char in str:\n",
    "        new_str += char*2\n",
    "    return new_str\n",
    "print(str2('123ab!'))\n"
   ]
  },
  {
   "cell_type": "raw",
   "metadata": {
    "vscode": {
     "languageId": "raw"
    }
   },
   "source": [
    "Avoid Multiple IF-Else Condition using Dictionary"
   ]
  },
  {
   "cell_type": "code",
   "execution_count": 2,
   "metadata": {},
   "outputs": [
    {
     "name": "stdout",
     "output_type": "stream",
     "text": [
      "12\n"
     ]
    }
   ],
   "source": [
    "def add(a,b):\n",
    "    return (a+b)\n",
    "def sub(a,b):\n",
    "    return (a-b)\n",
    "def multiply(a,b):\n",
    "    return (a*b)\n",
    "def division(a,b):\n",
    "    return (a/b)\n",
    "dic_cal = {\n",
    "    'add'      : add,\n",
    "    'sub'      : sub,\n",
    "    'multiply' : multiply,\n",
    "    'division' : division\n",
    "}\n",
    "print(dic_cal['multiply'](3,4))"
   ]
  },
  {
   "cell_type": "raw",
   "metadata": {
    "vscode": {
     "languageId": "raw"
    }
   },
   "source": [
    "CHECK IF SUM OF ANY TWO NUMBERS IS ZERO OR NOT"
   ]
  },
  {
   "cell_type": "code",
   "execution_count": 3,
   "metadata": {},
   "outputs": [
    {
     "name": "stdout",
     "output_type": "stream",
     "text": [
      "no\n"
     ]
    }
   ],
   "source": [
    "def sum_zero(a,b):\n",
    "    if a+b == 0:\n",
    "        return ('yes')\n",
    "    return ('no')\n",
    "print(sum_zero(3,7))\n"
   ]
  },
  {
   "cell_type": "code",
   "execution_count": 4,
   "metadata": {},
   "outputs": [
    {
     "name": "stdout",
     "output_type": "stream",
     "text": [
      "False\n"
     ]
    }
   ],
   "source": [
    "def check_sum(l):\n",
    "    if len(l)<2:\n",
    "        return False\n",
    "    for i in l:\n",
    "        if -i in set(l):\n",
    "            return True\n",
    "        return False\n",
    "l = [1,2,-2,4,3]\n",
    "print(check_sum(l))"
   ]
  },
  {
   "cell_type": "raw",
   "metadata": {
    "vscode": {
     "languageId": "raw"
    }
   },
   "source": [
    "CHECK IF THE LIST IS SORTED OR NOT"
   ]
  },
  {
   "cell_type": "code",
   "execution_count": 8,
   "metadata": {},
   "outputs": [
    {
     "name": "stdout",
     "output_type": "stream",
     "text": [
      "True\n"
     ]
    }
   ],
   "source": [
    "def sortt(l):\n",
    "    if sorted(l):\n",
    "        return True\n",
    "    return False\n",
    "l = [1, 2, 3, 5, 6, 7]\n",
    "print(sortt(l))\n"
   ]
  }
 ],
 "metadata": {
  "kernelspec": {
   "display_name": "Python 3",
   "language": "python",
   "name": "python3"
  },
  "language_info": {
   "codemirror_mode": {
    "name": "ipython",
    "version": 3
   },
   "file_extension": ".py",
   "mimetype": "text/x-python",
   "name": "python",
   "nbconvert_exporter": "python",
   "pygments_lexer": "ipython3",
   "version": "3.11.3"
  }
 },
 "nbformat": 4,
 "nbformat_minor": 2
}
