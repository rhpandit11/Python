{
 "cells": [
  {
   "cell_type": "code",
   "execution_count": null,
   "metadata": {},
   "outputs": [],
   "source": [
    "# 1. CHECK IF SUM OF ANY TWO NUMBERS IS ZERO OR NOT"
   ]
  },
  {
   "cell_type": "code",
   "execution_count": 3,
   "metadata": {},
   "outputs": [
    {
     "name": "stdout",
     "output_type": "stream",
     "text": [
      "True\n"
     ]
    }
   ],
   "source": [
    "def sum_check(l):\n",
    "    if len(l)<2:\n",
    "        return False\n",
    "    l1 = set(l)\n",
    "    for i in l:\n",
    "        if -i in l1:\n",
    "            return True\n",
    "    return False\n",
    "l = [1,2,3,4,5,-1,-2,2,5,4]\n",
    "print(sum_check(l))\n",
    "    "
   ]
  },
  {
   "cell_type": "code",
   "execution_count": null,
   "metadata": {},
   "outputs": [],
   "source": [
    "# 2. FIND A NON - NEGATIVE INTEGER THAT IS NOT IN THE ARRAY"
   ]
  },
  {
   "cell_type": "code",
   "execution_count": 6,
   "metadata": {},
   "outputs": [
    {
     "data": {
      "text/plain": [
       "6"
      ]
     },
     "execution_count": 6,
     "metadata": {},
     "output_type": "execute_result"
    }
   ],
   "source": [
    "l = [0,1,2,3,4,5,7,8,9]\n",
    "def find_missing_number(l):\n",
    "    list_dict = {}\n",
    "    for i in l:\n",
    "        list_dict[i] = True\n",
    "    \n",
    "    for i in range(len(l)+1):\n",
    "        if not list_dict.get(i):\n",
    "            return i\n",
    "    return None\n",
    "find_missing_number(l)"
   ]
  },
  {
   "cell_type": "code",
   "execution_count": null,
   "metadata": {},
   "outputs": [],
   "source": [
    "# 3. CHECK IF A STRING IS PALINDROME OR NOT"
   ]
  },
  {
   "cell_type": "code",
   "execution_count": 12,
   "metadata": {},
   "outputs": [
    {
     "name": "stdout",
     "output_type": "stream",
     "text": [
      "True\n"
     ]
    }
   ],
   "source": [
    "def is_palindrome(str):\n",
    "    len_str = len(str)\n",
    "    c = 0\n",
    "    for i in range(len_str):\n",
    "        if(str[i]==str[len_str-i-1]):\n",
    "            continue\n",
    "        else :\n",
    "            c = 1\n",
    "            break\n",
    "    return c == 0\n",
    "print(is_palindrome('abba'))"
   ]
  },
  {
   "cell_type": "code",
   "execution_count": 13,
   "metadata": {},
   "outputs": [
    {
     "data": {
      "text/plain": [
       "'palindorm'"
      ]
     },
     "execution_count": 13,
     "metadata": {},
     "output_type": "execute_result"
    }
   ],
   "source": [
    "def is_palindrome(str):\n",
    "    s1 = str[::-1]\n",
    "    if str == s1:\n",
    "        return 'palindorm'\n",
    "    return 'not'\n",
    "str = input()\n",
    "is_palindrome(str)"
   ]
  },
  {
   "cell_type": "code",
   "execution_count": null,
   "metadata": {},
   "outputs": [],
   "source": [
    "# 4. SWAPPING OF TWO NUMBER"
   ]
  },
  {
   "cell_type": "code",
   "execution_count": 14,
   "metadata": {},
   "outputs": [
    {
     "name": "stdout",
     "output_type": "stream",
     "text": [
      "(6, 5)\n"
     ]
    }
   ],
   "source": [
    "def swap_number(a,b):\n",
    "    c = a\n",
    "    a = b\n",
    "    b = c\n",
    "    return a,b\n",
    "print(swap_number(5,6))"
   ]
  },
  {
   "cell_type": "code",
   "execution_count": 18,
   "metadata": {},
   "outputs": [
    {
     "name": "stdout",
     "output_type": "stream",
     "text": [
      "(6, 5)\n"
     ]
    }
   ],
   "source": [
    "def swap_number(a,b):\n",
    "    a,b = b,a\n",
    "    return a,b\n",
    "print(swap_number(5,6))"
   ]
  },
  {
   "cell_type": "code",
   "execution_count": null,
   "metadata": {},
   "outputs": [],
   "source": [
    "# 5. RECURSION: FACTORIAL OF A GIVEN NUMBER"
   ]
  },
  {
   "cell_type": "code",
   "execution_count": 20,
   "metadata": {},
   "outputs": [
    {
     "name": "stdout",
     "output_type": "stream",
     "text": [
      "5 5\n",
      "4 20\n",
      "3 60\n",
      "2 120\n",
      "1 120\n",
      "120\n"
     ]
    }
   ],
   "source": [
    "def fact_1(n):\n",
    "    fact = 1\n",
    "    for i in range(n,0,-1):\n",
    "        fact*=i\n",
    "        print(i,fact)\n",
    "    return fact\n",
    "print(fact_1(5))\n",
    "    "
   ]
  },
  {
   "cell_type": "code",
   "execution_count": 22,
   "metadata": {},
   "outputs": [
    {
     "data": {
      "text/plain": [
       "40320"
      ]
     },
     "execution_count": 22,
     "metadata": {},
     "output_type": "execute_result"
    }
   ],
   "source": [
    "def fact(x):\n",
    "    if x<1:\n",
    "        return 1\n",
    "    else:\n",
    "        return fact(x-1)*x\n",
    "fact(8)"
   ]
  },
  {
   "cell_type": "code",
   "execution_count": null,
   "metadata": {},
   "outputs": [],
   "source": [
    "# 6. RECURSION: COUNT OF ELEMENTS IN A LIST"
   ]
  },
  {
   "cell_type": "code",
   "execution_count": 24,
   "metadata": {},
   "outputs": [
    {
     "data": {
      "text/plain": [
       "9"
      ]
     },
     "execution_count": 24,
     "metadata": {},
     "output_type": "execute_result"
    }
   ],
   "source": [
    "l = [1,2,3,4,5,6,7,8,9]\n",
    "def count_l(l):\n",
    "    if not l :\n",
    "        return 0\n",
    "    return 1 + count_l(l[1:])\n",
    "count_l(l)"
   ]
  },
  {
   "cell_type": "code",
   "execution_count": null,
   "metadata": {},
   "outputs": [],
   "source": [
    "# 7. RECURSION: Repeat Each character N times\n"
   ]
  },
  {
   "cell_type": "code",
   "execution_count": 25,
   "metadata": {},
   "outputs": [
    {
     "name": "stdout",
     "output_type": "stream",
     "text": [
      "HHHeeellllllooo\n"
     ]
    }
   ],
   "source": [
    "s = 'Hello'\n",
    "s1 = ''\n",
    "for i in s:\n",
    "    s1 = s1+i*3\n",
    "print(s1)"
   ]
  },
  {
   "cell_type": "code",
   "execution_count": 26,
   "metadata": {},
   "outputs": [
    {
     "name": "stdout",
     "output_type": "stream",
     "text": [
      "RRRaaahhhuuulll\n"
     ]
    }
   ],
   "source": [
    "def multi_str(s,n):\n",
    "    if len(s) == 0:\n",
    "        return ''\n",
    "    return s[0]*n+multi_str(s[1:],n)\n",
    "print(multi_str('Rahul',3))"
   ]
  }
 ],
 "metadata": {
  "kernelspec": {
   "display_name": "Python 3",
   "language": "python",
   "name": "python3"
  },
  "language_info": {
   "codemirror_mode": {
    "name": "ipython",
    "version": 3
   },
   "file_extension": ".py",
   "mimetype": "text/x-python",
   "name": "python",
   "nbconvert_exporter": "python",
   "pygments_lexer": "ipython3",
   "version": "3.11.3"
  }
 },
 "nbformat": 4,
 "nbformat_minor": 2
}
