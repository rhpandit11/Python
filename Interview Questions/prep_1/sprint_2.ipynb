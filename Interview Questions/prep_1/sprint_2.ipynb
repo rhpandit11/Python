{
 "cells": [
  {
   "cell_type": "code",
   "execution_count": null,
   "metadata": {},
   "outputs": [],
   "source": [
    "# 19. Find if given number is divisible by each of its digits"
   ]
  },
  {
   "cell_type": "code",
   "execution_count": 4,
   "metadata": {},
   "outputs": [
    {
     "name": "stdout",
     "output_type": "stream",
     "text": [
      "3\n"
     ]
    }
   ],
   "source": [
    "def f_divisable(num):\n",
    "    try:\n",
    "        c = 0\n",
    "        for i in str(num):\n",
    "            if num%int(i)==0:\n",
    "                c += 1\n",
    "        return c\n",
    "    except ZeroDivisionError:\n",
    "        return len(str(num))\n",
    "print(f_divisable(124))"
   ]
  },
  {
   "cell_type": "code",
   "execution_count": null,
   "metadata": {},
   "outputs": [],
   "source": [
    "# 20. Find the unique words from the give input string"
   ]
  },
  {
   "cell_type": "code",
   "execution_count": 10,
   "metadata": {},
   "outputs": [
    {
     "name": "stdout",
     "output_type": "stream",
     "text": [
      "{'geekcoders': 2, 'hello': 1}\n"
     ]
    }
   ],
   "source": [
    "str1 = 'geekcoders geekcoders hello'\n",
    "def f_unique(input_string):\n",
    "    dict = {}\n",
    "    for i in input_string.split(' '):\n",
    "        if i not in dict:\n",
    "            dict[i] = 1\n",
    "        else:\n",
    "            dict[i] += 1\n",
    "    return dict\n",
    "print(f_unique(str1))"
   ]
  },
  {
   "cell_type": "code",
   "execution_count": 11,
   "metadata": {},
   "outputs": [
    {
     "name": "stdout",
     "output_type": "stream",
     "text": [
      "['hello']\n"
     ]
    }
   ],
   "source": [
    "str1 = 'geekcoders geekcoders hello'\n",
    "def f_unique(input_string):\n",
    "    dict = {}\n",
    "    for i in input_string.split(' '):\n",
    "        if i not in dict:\n",
    "            dict[i] = 1\n",
    "        else:\n",
    "            dict[i] += 1\n",
    "\n",
    "    l = []\n",
    "    l = [k for k,v in dict.items() if (v==1)]\n",
    "    return l\n",
    "print(f_unique(str1))"
   ]
  },
  {
   "cell_type": "code",
   "execution_count": 13,
   "metadata": {},
   "outputs": [
    {
     "name": "stdout",
     "output_type": "stream",
     "text": [
      "Counter({'geekcoders': 2, 'hello': 1})\n",
      "['hello']\n"
     ]
    }
   ],
   "source": [
    "from collections import Counter\n",
    "str1 = 'geekcoders geekcoders hello'\n",
    "def f_unique(input_string):\n",
    "    dict = Counter(input_string.split())\n",
    "    print(dict)\n",
    "    l = [k for k,v in dict.items() if v==1]\n",
    "    return l\n",
    "print(f_unique(str1))"
   ]
  },
  {
   "cell_type": "code",
   "execution_count": 15,
   "metadata": {},
   "outputs": [
    {
     "name": "stdout",
     "output_type": "stream",
     "text": [
      "[150, 200, 300]\n"
     ]
    }
   ],
   "source": [
    "# 21. Find the key from Map with K, V pair where V is greater than 100\n",
    "\n",
    "my_map = {\n",
    "    'a' : 150,\n",
    "    'b' : 75,\n",
    "    'c' : 200,\n",
    "    'd' : 50,\n",
    "    'e' : 300\n",
    "}\n",
    "def f_get_value(my_map: dict, value:int):\n",
    "    l = []\n",
    "    for k,v in my_map.items():\n",
    "        if v>value:\n",
    "            l.append(v)\n",
    "    return l\n",
    "print(f_get_value(my_map,100))"
   ]
  },
  {
   "cell_type": "code",
   "execution_count": 18,
   "metadata": {},
   "outputs": [
    {
     "name": "stdout",
     "output_type": "stream",
     "text": [
      "[150, 200, 300]\n"
     ]
    }
   ],
   "source": [
    "def f_get_value(my_map: dict, value:int):\n",
    "    return [v for k,v in my_map.items() if v>value]\n",
    "print(f_get_value(my_map,100))"
   ]
  },
  {
   "cell_type": "code",
   "execution_count": 19,
   "metadata": {},
   "outputs": [
    {
     "name": "stdout",
     "output_type": "stream",
     "text": [
      "{'a': 150, 'c': 200, 'e': 300}\n"
     ]
    }
   ],
   "source": [
    "def f_get_value(my_map: dict, value:int):\n",
    "    return dict(filter(lambda x:x[1]>value,my_map.items()))\n",
    "print(f_get_value(my_map,100))"
   ]
  },
  {
   "cell_type": "code",
   "execution_count": null,
   "metadata": {},
   "outputs": [],
   "source": [
    "# 22. Python to insert a string in the middle of a given string"
   ]
  },
  {
   "cell_type": "code",
   "execution_count": 20,
   "metadata": {},
   "outputs": [
    {
     "name": "stdout",
     "output_type": "stream",
     "text": [
      "City:Kolkata-State:WestBengal\n"
     ]
    }
   ],
   "source": [
    "str_place = 'City:Kolkata-WestBengal'\n",
    "def f_add_str(input_string):\n",
    "    return input_string.replace('-','-State:')\n",
    "print(f_add_str(str_place))"
   ]
  },
  {
   "cell_type": "code",
   "execution_count": 22,
   "metadata": {},
   "outputs": [
    {
     "name": "stdout",
     "output_type": "stream",
     "text": [
      "City:Kolkata-State:WestBengal\n"
     ]
    }
   ],
   "source": [
    "def f_add_str(input_string):\n",
    "    f_index = input_string.find('WestBengal')\n",
    "    output_str = input_string[:f_index] + \"State:\" + input_string[f_index:]\n",
    "    return output_str\n",
    "print(f_add_str(str_place))"
   ]
  },
  {
   "cell_type": "code",
   "execution_count": null,
   "metadata": {},
   "outputs": [],
   "source": [
    "# 23. Python program to find even numbers that come before odd numbers"
   ]
  },
  {
   "cell_type": "code",
   "execution_count": 27,
   "metadata": {},
   "outputs": [
    {
     "name": "stdout",
     "output_type": "stream",
     "text": [
      "[2, 4, 14]\n"
     ]
    }
   ],
   "source": [
    "input_list = [1,2,3,4,5,6,7.10,12,14,17,19,20]\n",
    "\n",
    "def f_get_even(input_list:list):\n",
    "    output_list = []\n",
    "    for i in range(len(input_list)-1):\n",
    "        if input_list[i]%2==0 and input_list[i+1]%2 == 1:\n",
    "            output_list.append(input_list[i])\n",
    "    return output_list\n",
    "            \n",
    "print(f_get_even(input_list))"
   ]
  },
  {
   "cell_type": "code",
   "execution_count": 28,
   "metadata": {},
   "outputs": [
    {
     "name": "stdout",
     "output_type": "stream",
     "text": [
      "[2, 4, 14]\n"
     ]
    }
   ],
   "source": [
    "def f_get_even(input_list:list):\n",
    "\n",
    "    return [input_list[i] for i in range(len(input_list)-1)\n",
    "        if input_list[i]%2==0 and input_list[i+1]%2 == 1]\n",
    "            \n",
    "print(f_get_even(input_list))"
   ]
  },
  {
   "cell_type": "code",
   "execution_count": null,
   "metadata": {},
   "outputs": [],
   "source": [
    "# 24. Print elements in nested list in Python "
   ]
  },
  {
   "cell_type": "code",
   "execution_count": 2,
   "metadata": {},
   "outputs": [
    {
     "name": "stdout",
     "output_type": "stream",
     "text": [
      "['sam', 'Raish', 432, 'jailer']\n"
     ]
    }
   ],
   "source": [
    "def f_find_list(input_list):\n",
    "    l = []\n",
    "    for i in input_list:\n",
    "        if type(i) == list:\n",
    "            l.extend(i)\n",
    "    return l\n",
    "input_list = [1,2,3,['sam','Raish'], 45,[432,'jailer'],43,'sam']\n",
    "print(f_find_list(input_list))"
   ]
  },
  {
   "cell_type": "code",
   "execution_count": 5,
   "metadata": {},
   "outputs": [
    {
     "name": "stdout",
     "output_type": "stream",
     "text": [
      "[1, 2, 3, 'sam', 'Raish', 432, 'jailer']\n"
     ]
    }
   ],
   "source": [
    "def f_find_list(input_list):\n",
    "    l = []\n",
    "    for i in input_list:\n",
    "        if isinstance(i,list):\n",
    "            l.extend(i)\n",
    "    return l\n",
    "input_list = [[1,2,3],['sam','Raish'], 45,[432,'jailer'],43,'sam']\n",
    "print(f_find_list(input_list))"
   ]
  },
  {
   "cell_type": "code",
   "execution_count": null,
   "metadata": {},
   "outputs": [],
   "source": [
    "# 25. One List Sort with Numerical Value"
   ]
  },
  {
   "cell_type": "code",
   "execution_count": 7,
   "metadata": {},
   "outputs": [
    {
     "name": "stdout",
     "output_type": "stream",
     "text": [
      "['Zaid30', 'mukesh50', 'Nishan99', 'Monu100', 'Sam200']\n"
     ]
    }
   ],
   "source": [
    "def f_sort_list(inp_list):\n",
    "    l = []\n",
    "    for i in inp_list:\n",
    "        c = ''\n",
    "        for j in i:\n",
    "            if j.isdigit():\n",
    "                c = c+j\n",
    "        l.append((int(c),i))\n",
    "    l.sort(key = lambda x: x[0])\n",
    "    return [i[1] for i in l]\n",
    "lst = ['Sam200', 'Monu100', 'Zaid30', 'mukesh50', 'Nishan99']\n",
    "\n",
    "print(f_sort_list(lst))"
   ]
  },
  {
   "cell_type": "code",
   "execution_count": 9,
   "metadata": {},
   "outputs": [
    {
     "name": "stdout",
     "output_type": "stream",
     "text": [
      "['Zaid30', 'mukesh50', 'Nishan99', 'Monu100', 'Sam200']\n"
     ]
    }
   ],
   "source": [
    "import re\n",
    "def f_sort_list(inp_list):\n",
    "    l = []\n",
    "    for i in inp_list:\n",
    "        l.append((int(re.search(r'[0-9]*$',i).group()),i))\n",
    "    l.sort(key = lambda x: x[0])\n",
    "    return [i[1] for i in l]\n",
    "lst = ['Sam200', 'Monu100', 'Zaid30', 'mukesh50', 'Nishan99']\n",
    "\n",
    "print(f_sort_list(lst))"
   ]
  },
  {
   "cell_type": "code",
   "execution_count": 13,
   "metadata": {},
   "outputs": [
    {
     "data": {
      "text/plain": [
       "['01-Jan-2020', '21-Mar-2022', '11-Jun-2023', '12-Dec-2020']"
      ]
     },
     "execution_count": 13,
     "metadata": {},
     "output_type": "execute_result"
    }
   ],
   "source": [
    "def f_replace_month(lst_dates):\n",
    "    dict_month = {'01':'Jan','02':'Feb','03':'Mar','06':'Jun','12':'Dec'}\n",
    "    l=[]\n",
    "    for i in lst_dates:\n",
    "        month_number = i.split('-')\n",
    "        month_name = dict_month[month_number[1]]\n",
    "        l.append(month_number[0]+'-'+month_name+'-'+month_number[2])\n",
    "    return l\n",
    "lst_dates = ['01-01-2020','21-03-2022','11-06-2023','12-12-2020']\n",
    "f_replace_month(lst_dates)"
   ]
  },
  {
   "cell_type": "code",
   "execution_count": 15,
   "metadata": {},
   "outputs": [
    {
     "name": "stdout",
     "output_type": "stream",
     "text": [
      "{1: 3, 2: 3, 3: 2, 4: 1, 5: 1, 7: 1}\n"
     ]
    }
   ],
   "source": [
    "# 28. Flatten a list and count occurrences in Python\n",
    "def f_get_count(input_list):\n",
    "    dict = {}\n",
    "    for i in input_list:\n",
    "        for j in i:\n",
    "            if j in dict:\n",
    "                dict[j] += 1\n",
    "            else:\n",
    "                dict[j] = 1\n",
    "    return dict\n",
    "input_list = [[1,2],[3,4],[2,3],[5,1],[7,1,2]]\n",
    "print(f_get_count(input_list))"
   ]
  },
  {
   "cell_type": "code",
   "execution_count": 22,
   "metadata": {},
   "outputs": [
    {
     "name": "stdout",
     "output_type": "stream",
     "text": [
      "{1: 3, 2: 3, 3: 2, 4: 1, 5: 1, 7: 1}\n"
     ]
    }
   ],
   "source": [
    "def f_get_count_1(input_list):\n",
    "    dict = {}\n",
    "    l = []\n",
    "    for i in input_list:\n",
    "        l.extend(i)\n",
    "    for j in l:\n",
    "        if j in dict:\n",
    "            dict[j] += 1\n",
    "        else:\n",
    "            dict[j] = 1\n",
    "    return dict\n",
    "input_list = [[1,2],[3,4],[2,3],[5,1],[7,1,2]]\n",
    "print(f_get_count_1(input_list))"
   ]
  },
  {
   "cell_type": "code",
   "execution_count": 25,
   "metadata": {},
   "outputs": [
    {
     "name": "stdout",
     "output_type": "stream",
     "text": [
      "{1: 3, 2: 3, 3: 2, 4: 1, 5: 1, 7: 1}\n"
     ]
    }
   ],
   "source": [
    "from itertools import chain\n",
    "def f_get_count(input_l):\n",
    "    dict = {}\n",
    "    for j in (list(chain.from_iterable(input_l))):\n",
    "        if j in dict:\n",
    "            dict[j] += 1\n",
    "        else:\n",
    "            dict[j] = 1\n",
    "    return dict\n",
    "input_l = [[1,2],[3,4],[2,3],[5,1],[7,1,2]]\n",
    "print(f_get_count(input_l))"
   ]
  }
 ],
 "metadata": {
  "kernelspec": {
   "display_name": "Python 3",
   "language": "python",
   "name": "python3"
  },
  "language_info": {
   "codemirror_mode": {
    "name": "ipython",
    "version": 3
   },
   "file_extension": ".py",
   "mimetype": "text/x-python",
   "name": "python",
   "nbconvert_exporter": "python",
   "pygments_lexer": "ipython3",
   "version": "3.11.3"
  }
 },
 "nbformat": 4,
 "nbformat_minor": 2
}
