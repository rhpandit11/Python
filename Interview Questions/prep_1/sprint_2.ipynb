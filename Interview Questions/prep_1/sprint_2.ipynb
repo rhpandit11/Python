{
 "cells": [
  {
   "cell_type": "code",
   "execution_count": null,
   "metadata": {},
   "outputs": [],
   "source": [
    "# 19. Find if given number is divisible by each of its digits"
   ]
  },
  {
   "cell_type": "code",
   "execution_count": 4,
   "metadata": {},
   "outputs": [
    {
     "name": "stdout",
     "output_type": "stream",
     "text": [
      "3\n"
     ]
    }
   ],
   "source": [
    "def f_divisable(num):\n",
    "    try:\n",
    "        c = 0\n",
    "        for i in str(num):\n",
    "            if num%int(i)==0:\n",
    "                c += 1\n",
    "        return c\n",
    "    except ZeroDivisionError:\n",
    "        return len(str(num))\n",
    "print(f_divisable(124))"
   ]
  },
  {
   "cell_type": "code",
   "execution_count": null,
   "metadata": {},
   "outputs": [],
   "source": [
    "# 20. Find the unique words from the give input string"
   ]
  },
  {
   "cell_type": "code",
   "execution_count": 10,
   "metadata": {},
   "outputs": [
    {
     "name": "stdout",
     "output_type": "stream",
     "text": [
      "{'geekcoders': 2, 'hello': 1}\n"
     ]
    }
   ],
   "source": [
    "str1 = 'geekcoders geekcoders hello'\n",
    "def f_unique(input_string):\n",
    "    dict = {}\n",
    "    for i in input_string.split(' '):\n",
    "        if i not in dict:\n",
    "            dict[i] = 1\n",
    "        else:\n",
    "            dict[i] += 1\n",
    "    return dict\n",
    "print(f_unique(str1))"
   ]
  },
  {
   "cell_type": "code",
   "execution_count": 11,
   "metadata": {},
   "outputs": [
    {
     "name": "stdout",
     "output_type": "stream",
     "text": [
      "['hello']\n"
     ]
    }
   ],
   "source": [
    "str1 = 'geekcoders geekcoders hello'\n",
    "def f_unique(input_string):\n",
    "    dict = {}\n",
    "    for i in input_string.split(' '):\n",
    "        if i not in dict:\n",
    "            dict[i] = 1\n",
    "        else:\n",
    "            dict[i] += 1\n",
    "\n",
    "    l = []\n",
    "    l = [k for k,v in dict.items() if (v==1)]\n",
    "    return l\n",
    "print(f_unique(str1))"
   ]
  },
  {
   "cell_type": "code",
   "execution_count": 13,
   "metadata": {},
   "outputs": [
    {
     "name": "stdout",
     "output_type": "stream",
     "text": [
      "Counter({'geekcoders': 2, 'hello': 1})\n",
      "['hello']\n"
     ]
    }
   ],
   "source": [
    "from collections import Counter\n",
    "str1 = 'geekcoders geekcoders hello'\n",
    "def f_unique(input_string):\n",
    "    dict = Counter(input_string.split())\n",
    "    print(dict)\n",
    "    l = [k for k,v in dict.items() if v==1]\n",
    "    return l\n",
    "print(f_unique(str1))"
   ]
  },
  {
   "cell_type": "code",
   "execution_count": 15,
   "metadata": {},
   "outputs": [
    {
     "name": "stdout",
     "output_type": "stream",
     "text": [
      "[150, 200, 300]\n"
     ]
    }
   ],
   "source": [
    "# 21. Find the key from Map with K, V pair where V is greater than 100\n",
    "\n",
    "my_map = {\n",
    "    'a' : 150,\n",
    "    'b' : 75,\n",
    "    'c' : 200,\n",
    "    'd' : 50,\n",
    "    'e' : 300\n",
    "}\n",
    "def f_get_value(my_map: dict, value:int):\n",
    "    l = []\n",
    "    for k,v in my_map.items():\n",
    "        if v>value:\n",
    "            l.append(v)\n",
    "    return l\n",
    "print(f_get_value(my_map,100))"
   ]
  },
  {
   "cell_type": "code",
   "execution_count": 18,
   "metadata": {},
   "outputs": [
    {
     "name": "stdout",
     "output_type": "stream",
     "text": [
      "[150, 200, 300]\n"
     ]
    }
   ],
   "source": [
    "def f_get_value(my_map: dict, value:int):\n",
    "    return [v for k,v in my_map.items() if v>value]\n",
    "print(f_get_value(my_map,100))"
   ]
  },
  {
   "cell_type": "code",
   "execution_count": 19,
   "metadata": {},
   "outputs": [
    {
     "name": "stdout",
     "output_type": "stream",
     "text": [
      "{'a': 150, 'c': 200, 'e': 300}\n"
     ]
    }
   ],
   "source": [
    "def f_get_value(my_map: dict, value:int):\n",
    "    return dict(filter(lambda x:x[1]>value,my_map.items()))\n",
    "print(f_get_value(my_map,100))"
   ]
  },
  {
   "cell_type": "code",
   "execution_count": null,
   "metadata": {},
   "outputs": [],
   "source": [
    "# 22. Python to insert a string in the middle of a given string"
   ]
  },
  {
   "cell_type": "code",
   "execution_count": 20,
   "metadata": {},
   "outputs": [
    {
     "name": "stdout",
     "output_type": "stream",
     "text": [
      "City:Kolkata-State:WestBengal\n"
     ]
    }
   ],
   "source": [
    "str_place = 'City:Kolkata-WestBengal'\n",
    "def f_add_str(input_string):\n",
    "    return input_string.replace('-','-State:')\n",
    "print(f_add_str(str_place))"
   ]
  },
  {
   "cell_type": "code",
   "execution_count": 22,
   "metadata": {},
   "outputs": [
    {
     "name": "stdout",
     "output_type": "stream",
     "text": [
      "City:Kolkata-State:WestBengal\n"
     ]
    }
   ],
   "source": [
    "def f_add_str(input_string):\n",
    "    f_index = input_string.find('WestBengal')\n",
    "    output_str = input_string[:f_index] + \"State:\" + input_string[f_index:]\n",
    "    return output_str\n",
    "print(f_add_str(str_place))"
   ]
  },
  {
   "cell_type": "code",
   "execution_count": null,
   "metadata": {},
   "outputs": [],
   "source": [
    "# 23. Python program to find even numbers that come before odd numbers"
   ]
  },
  {
   "cell_type": "code",
   "execution_count": 27,
   "metadata": {},
   "outputs": [
    {
     "name": "stdout",
     "output_type": "stream",
     "text": [
      "[2, 4, 14]\n"
     ]
    }
   ],
   "source": [
    "input_list = [1,2,3,4,5,6,7.10,12,14,17,19,20]\n",
    "\n",
    "def f_get_even(input_list:list):\n",
    "    output_list = []\n",
    "    for i in range(len(input_list)-1):\n",
    "        if input_list[i]%2==0 and input_list[i+1]%2 == 1:\n",
    "            output_list.append(input_list[i])\n",
    "    return output_list\n",
    "            \n",
    "print(f_get_even(input_list))"
   ]
  },
  {
   "cell_type": "code",
   "execution_count": 28,
   "metadata": {},
   "outputs": [
    {
     "name": "stdout",
     "output_type": "stream",
     "text": [
      "[2, 4, 14]\n"
     ]
    }
   ],
   "source": [
    "def f_get_even(input_list:list):\n",
    "\n",
    "    return [input_list[i] for i in range(len(input_list)-1)\n",
    "        if input_list[i]%2==0 and input_list[i+1]%2 == 1]\n",
    "            \n",
    "print(f_get_even(input_list))"
   ]
  },
  {
   "cell_type": "code",
   "execution_count": null,
   "metadata": {},
   "outputs": [],
   "source": [
    "# 24. Print elements in nested list in Python "
   ]
  },
  {
   "cell_type": "code",
   "execution_count": 2,
   "metadata": {},
   "outputs": [
    {
     "name": "stdout",
     "output_type": "stream",
     "text": [
      "['sam', 'Raish', 432, 'jailer']\n"
     ]
    }
   ],
   "source": [
    "def f_find_list(input_list):\n",
    "    l = []\n",
    "    for i in input_list:\n",
    "        if type(i) == list:\n",
    "            l.extend(i)\n",
    "    return l\n",
    "input_list = [1,2,3,['sam','Raish'], 45,[432,'jailer'],43,'sam']\n",
    "print(f_find_list(input_list))"
   ]
  },
  {
   "cell_type": "code",
   "execution_count": 5,
   "metadata": {},
   "outputs": [
    {
     "name": "stdout",
     "output_type": "stream",
     "text": [
      "[1, 2, 3, 'sam', 'Raish', 432, 'jailer']\n"
     ]
    }
   ],
   "source": [
    "def f_find_list(input_list):\n",
    "    l = []\n",
    "    for i in input_list:\n",
    "        if isinstance(i,list):\n",
    "            l.extend(i)\n",
    "    return l\n",
    "input_list = [[1,2,3],['sam','Raish'], 45,[432,'jailer'],43,'sam']\n",
    "print(f_find_list(input_list))"
   ]
  },
  {
   "cell_type": "code",
   "execution_count": null,
   "metadata": {},
   "outputs": [],
   "source": [
    "# 25. One List Sort with Numerical Value"
   ]
  },
  {
   "cell_type": "code",
   "execution_count": 7,
   "metadata": {},
   "outputs": [
    {
     "name": "stdout",
     "output_type": "stream",
     "text": [
      "['Zaid30', 'mukesh50', 'Nishan99', 'Monu100', 'Sam200']\n"
     ]
    }
   ],
   "source": [
    "def f_sort_list(inp_list):\n",
    "    l = []\n",
    "    for i in inp_list:\n",
    "        c = ''\n",
    "        for j in i:\n",
    "            if j.isdigit():\n",
    "                c = c+j\n",
    "        l.append((int(c),i))\n",
    "    l.sort(key = lambda x: x[0])\n",
    "    return [i[1] for i in l]\n",
    "lst = ['Sam200', 'Monu100', 'Zaid30', 'mukesh50', 'Nishan99']\n",
    "\n",
    "print(f_sort_list(lst))"
   ]
  },
  {
   "cell_type": "code",
   "execution_count": 9,
   "metadata": {},
   "outputs": [
    {
     "name": "stdout",
     "output_type": "stream",
     "text": [
      "['Zaid30', 'mukesh50', 'Nishan99', 'Monu100', 'Sam200']\n"
     ]
    }
   ],
   "source": [
    "import re\n",
    "def f_sort_list(inp_list):\n",
    "    l = []\n",
    "    for i in inp_list:\n",
    "        l.append((int(re.search(r'[0-9]*$',i).group()),i))\n",
    "    l.sort(key = lambda x: x[0])\n",
    "    return [i[1] for i in l]\n",
    "lst = ['Sam200', 'Monu100', 'Zaid30', 'mukesh50', 'Nishan99']\n",
    "\n",
    "print(f_sort_list(lst))"
   ]
  },
  {
   "cell_type": "code",
   "execution_count": 13,
   "metadata": {},
   "outputs": [
    {
     "data": {
      "text/plain": [
       "['01-Jan-2020', '21-Mar-2022', '11-Jun-2023', '12-Dec-2020']"
      ]
     },
     "execution_count": 13,
     "metadata": {},
     "output_type": "execute_result"
    }
   ],
   "source": [
    "def f_replace_month(lst_dates):\n",
    "    dict_month = {'01':'Jan','02':'Feb','03':'Mar','06':'Jun','12':'Dec'}\n",
    "    l=[]\n",
    "    for i in lst_dates:\n",
    "        month_number = i.split('-')\n",
    "        month_name = dict_month[month_number[1]]\n",
    "        l.append(month_number[0]+'-'+month_name+'-'+month_number[2])\n",
    "    return l\n",
    "lst_dates = ['01-01-2020','21-03-2022','11-06-2023','12-12-2020']\n",
    "f_replace_month(lst_dates)"
   ]
  },
  {
   "cell_type": "code",
   "execution_count": 15,
   "metadata": {},
   "outputs": [
    {
     "name": "stdout",
     "output_type": "stream",
     "text": [
      "{1: 3, 2: 3, 3: 2, 4: 1, 5: 1, 7: 1}\n"
     ]
    }
   ],
   "source": [
    "# 28. Flatten a list and count occurrences in Python\n",
    "def f_get_count(input_list):\n",
    "    dict = {}\n",
    "    for i in input_list:\n",
    "        for j in i:\n",
    "            if j in dict:\n",
    "                dict[j] += 1\n",
    "            else:\n",
    "                dict[j] = 1\n",
    "    return dict\n",
    "input_list = [[1,2],[3,4],[2,3],[5,1],[7,1,2]]\n",
    "print(f_get_count(input_list))"
   ]
  },
  {
   "cell_type": "code",
   "execution_count": 22,
   "metadata": {},
   "outputs": [
    {
     "name": "stdout",
     "output_type": "stream",
     "text": [
      "{1: 3, 2: 3, 3: 2, 4: 1, 5: 1, 7: 1}\n"
     ]
    }
   ],
   "source": [
    "def f_get_count_1(input_list):\n",
    "    dict = {}\n",
    "    l = []\n",
    "    for i in input_list:\n",
    "        l.extend(i)\n",
    "    for j in l:\n",
    "        if j in dict:\n",
    "            dict[j] += 1\n",
    "        else:\n",
    "            dict[j] = 1\n",
    "    return dict\n",
    "input_list = [[1,2],[3,4],[2,3],[5,1],[7,1,2]]\n",
    "print(f_get_count_1(input_list))"
   ]
  },
  {
   "cell_type": "code",
   "execution_count": 25,
   "metadata": {},
   "outputs": [
    {
     "name": "stdout",
     "output_type": "stream",
     "text": [
      "{1: 3, 2: 3, 3: 2, 4: 1, 5: 1, 7: 1}\n"
     ]
    }
   ],
   "source": [
    "from itertools import chain\n",
    "def f_get_count(input_l):\n",
    "    dict = {}\n",
    "    for j in (list(chain.from_iterable(input_l))):\n",
    "        if j in dict:\n",
    "            dict[j] += 1\n",
    "        else:\n",
    "            dict[j] = 1\n",
    "    return dict\n",
    "input_l = [[1,2],[3,4],[2,3],[5,1],[7,1,2]]\n",
    "print(f_get_count(input_l))"
   ]
  },
  {
   "cell_type": "code",
   "execution_count": null,
   "metadata": {},
   "outputs": [],
   "source": [
    "#29 Find out common letters between two string\n",
    "#Find out all letters between two string using python\n",
    "# Find out letters which is present in one string but not present in second and vice versa"
   ]
  },
  {
   "cell_type": "code",
   "execution_count": 2,
   "metadata": {},
   "outputs": [
    {
     "name": "stdout",
     "output_type": "stream",
     "text": [
      "Common letters:  {'s', 'r', 'g'}\n",
      "All letters:  {'s', 'a', 'j', 't', 'i', 'p', ' ', 'e', 'o', 'k', 'g', 'd', 'c', 'r'}\n",
      "present in first string but not in second string:  {'a', 'j', 't', 'i', 'p', ' '}\n",
      "present in second string but not in first string:  {'o', 'e', 'k', 'd', 'c'}\n"
     ]
    }
   ],
   "source": [
    "def f_common_alpha(input1,input2):\n",
    "    input1_set = set(input1)\n",
    "    input2_set = set(input2)\n",
    "    print(\"Common letters: \",input1_set&input2_set)\n",
    "    print(\"All letters: \",input1_set|input2_set)\n",
    "    print(\"present in first string but not in second string: \",input1_set-input2_set)\n",
    "    print(\"present in second string but not in first string: \",input2_set-input1_set)\n",
    "    \n",
    "Input1 = 'sagar prajapati'\n",
    "input2 = 'geekcoders'\n",
    "f_common_alpha(Input1,input2)"
   ]
  },
  {
   "cell_type": "code",
   "execution_count": 3,
   "metadata": {},
   "outputs": [
    {
     "name": "stdout",
     "output_type": "stream",
     "text": [
      "{'b': 4, 'c': 3, 'a': 2, 'd': 1}\n"
     ]
    }
   ],
   "source": [
    "d = {}\n",
    "input = 'bbbbcccaad'\n",
    "for i in input:\n",
    "    if i in d:\n",
    "        d[i] += 1\n",
    "    else:\n",
    "        d[i] = 1\n",
    "        \n",
    "print(d)"
   ]
  },
  {
   "cell_type": "code",
   "execution_count": 4,
   "metadata": {},
   "outputs": [
    {
     "name": "stdout",
     "output_type": "stream",
     "text": [
      "[4, 3, 2, 1]\n"
     ]
    }
   ],
   "source": [
    "def f_count_each_element(input):\n",
    "    counter = 1\n",
    "    l = []\n",
    "    for i in range(1,len(input)):\n",
    "        if input[i] == input[i-1]:\n",
    "            counter += 1\n",
    "        else:\n",
    "            l.append(counter)\n",
    "            counter =1\n",
    "    l.append(counter)\n",
    "    \n",
    "    return l\n",
    "input = 'bbbbcccaad'\n",
    "print(f_count_each_element(input))"
   ]
  },
  {
   "cell_type": "code",
   "execution_count": 15,
   "metadata": {},
   "outputs": [
    {
     "name": "stdout",
     "output_type": "stream",
     "text": [
      "[1, 3, 2, 4]\n"
     ]
    }
   ],
   "source": [
    "def f_count_each_element_1(input):\n",
    "    l = []\n",
    "    input_set = set(input)\n",
    "    for i in input_set:\n",
    "        l.append(input.count(i))\n",
    "    return l\n",
    "input = 'bbbbcccaad'\n",
    "print(f_count_each_element_1(input))"
   ]
  },
  {
   "cell_type": "code",
   "execution_count": 16,
   "metadata": {},
   "outputs": [
    {
     "name": "stdout",
     "output_type": "stream",
     "text": [
      "[1, 3, 2, 4]\n"
     ]
    }
   ],
   "source": [
    "def f_count_each_element_1(input):\n",
    "    return [input.count(i) for i in set(input)]\n",
    "input = 'bbbbcccaad'\n",
    "print(f_count_each_element_1(input))"
   ]
  },
  {
   "cell_type": "code",
   "execution_count": 20,
   "metadata": {},
   "outputs": [
    {
     "name": "stdout",
     "output_type": "stream",
     "text": [
      "[('sagar', 90)]\n"
     ]
    }
   ],
   "source": [
    "# 31 highest marks\n",
    "\n",
    "def f_get_highest_score(input_list:list)->list:\n",
    "    if len(input_list) == 0:\n",
    "        return []\n",
    "    max_marks = max(marks for name,marks in input_list)\n",
    "    return [(name,marks) for name,marks in input_list if marks==max_marks]\n",
    "student = [('David',46), ('same',56), ('sagar',90)]\n",
    "print(f_get_highest_score(student))"
   ]
  },
  {
   "cell_type": "code",
   "execution_count": 6,
   "metadata": {},
   "outputs": [
    {
     "name": "stdout",
     "output_type": "stream",
     "text": [
      "[1, 2, 7, 9, 15, 12, 9, 18, 10]\n"
     ]
    }
   ],
   "source": [
    "#32\n",
    "input_list = [1,2,[7,9,[15,[12,9]],18,10]]\n",
    "def f_flaten_list(input_list):\n",
    "    l = []\n",
    "    for i in input_list:\n",
    "        if type(i) is list:\n",
    "            l.extend(f_flaten_list(i))\n",
    "        else:\n",
    "            l.append(i)\n",
    "    return l\n",
    "print(f_flaten_list(input_list))"
   ]
  },
  {
   "cell_type": "code",
   "execution_count": 9,
   "metadata": {},
   "outputs": [
    {
     "name": "stdout",
     "output_type": "stream",
     "text": [
      "[1, 2, 7, 9, 15, 12, 9, 18, 10]\n"
     ]
    }
   ],
   "source": [
    "output_list=[]\n",
    "\n",
    "def flatten(list2):\n",
    "    for i in list2:\n",
    "        if type(i)==int:\n",
    "            output_list.append(i)\n",
    "        else:\n",
    "            flatten(i)\n",
    "    return output_list\n",
    "list2 = [1,2,[7,9,[15,[12,9]],18,10]]\n",
    "print(flatten(list2))"
   ]
  },
  {
   "cell_type": "code",
   "execution_count": null,
   "metadata": {},
   "outputs": [],
   "source": [
    "#33 find the items greater than itself after its index in python list"
   ]
  },
  {
   "cell_type": "code",
   "execution_count": 1,
   "metadata": {},
   "outputs": [
    {
     "name": "stdout",
     "output_type": "stream",
     "text": [
      "99 0 []\n",
      "28 3 [55, 76, 99]\n",
      "12 5 [55, 13, 15, 76, 99]\n",
      "55 2 [76, 99]\n",
      "13 3 [15, 76, 99]\n",
      "15 2 [76, 99]\n",
      "76 1 [99]\n",
      "99 0 []\n"
     ]
    }
   ],
   "source": [
    "input = [99,28,12,55,13,15,76,99]\n",
    "\n",
    "for i in input:\n",
    "    count = 0\n",
    "    output_list = []\n",
    "    for j in range(input.index(i),len(input)):\n",
    "        if (input[j]>i):\n",
    "            output_list.append(input[j])\n",
    "            count += 1\n",
    "    print(i,count,output_list)"
   ]
  },
  {
   "cell_type": "code",
   "execution_count": 5,
   "metadata": {},
   "outputs": [
    {
     "ename": "IndexError",
     "evalue": "string index out of range",
     "output_type": "error",
     "traceback": [
      "\u001b[1;31m---------------------------------------------------------------------------\u001b[0m",
      "\u001b[1;31mIndexError\u001b[0m                                Traceback (most recent call last)",
      "Cell \u001b[1;32mIn[5], line 7\u001b[0m\n\u001b[0;32m      5\u001b[0m     domain \u001b[38;5;241m=\u001b[39m \u001b[38;5;28minput\u001b[39m\u001b[38;5;241m.\u001b[39msplit(\u001b[38;5;124m'\u001b[39m\u001b[38;5;124m@\u001b[39m\u001b[38;5;124m'\u001b[39m[\u001b[38;5;241m1\u001b[39m])\n\u001b[0;32m      6\u001b[0m     \u001b[38;5;28;01mreturn\u001b[39;00m initial[\u001b[38;5;241m0\u001b[39m] \u001b[38;5;241m+\u001b[39m (\u001b[38;5;28mlen\u001b[39m(initial)\u001b[38;5;241m-\u001b[39m\u001b[38;5;241m2\u001b[39m)\u001b[38;5;241m*\u001b[39m\u001b[38;5;124m'\u001b[39m\u001b[38;5;124m*\u001b[39m\u001b[38;5;124m'\u001b[39m\u001b[38;5;241m+\u001b[39minitial[\u001b[38;5;241m-\u001b[39m\u001b[38;5;241m1\u001b[39m]\u001b[38;5;241m+\u001b[39m\u001b[38;5;124m'\u001b[39m\u001b[38;5;124m@\u001b[39m\u001b[38;5;124m'\u001b[39m\u001b[38;5;241m+\u001b[39mdomain\n\u001b[1;32m----> 7\u001b[0m \u001b[38;5;28mprint\u001b[39m(\u001b[43mf_hide_email\u001b[49m\u001b[43m(\u001b[49m\u001b[38;5;28;43minput\u001b[39;49m\u001b[43m)\u001b[49m)\n",
      "Cell \u001b[1;32mIn[5], line 5\u001b[0m, in \u001b[0;36mf_hide_email\u001b[1;34m(input)\u001b[0m\n\u001b[0;32m      3\u001b[0m \u001b[38;5;28;01mdef\u001b[39;00m \u001b[38;5;21mf_hide_email\u001b[39m(\u001b[38;5;28minput\u001b[39m):\n\u001b[0;32m      4\u001b[0m     initial \u001b[38;5;241m=\u001b[39m \u001b[38;5;28minput\u001b[39m\u001b[38;5;241m.\u001b[39msplit(\u001b[38;5;124m'\u001b[39m\u001b[38;5;124m@\u001b[39m\u001b[38;5;124m'\u001b[39m)[\u001b[38;5;241m0\u001b[39m]\n\u001b[1;32m----> 5\u001b[0m     domain \u001b[38;5;241m=\u001b[39m \u001b[38;5;28minput\u001b[39m\u001b[38;5;241m.\u001b[39msplit(\u001b[38;5;124;43m'\u001b[39;49m\u001b[38;5;124;43m@\u001b[39;49m\u001b[38;5;124;43m'\u001b[39;49m\u001b[43m[\u001b[49m\u001b[38;5;241;43m1\u001b[39;49m\u001b[43m]\u001b[49m)\n\u001b[0;32m      6\u001b[0m     \u001b[38;5;28;01mreturn\u001b[39;00m initial[\u001b[38;5;241m0\u001b[39m] \u001b[38;5;241m+\u001b[39m (\u001b[38;5;28mlen\u001b[39m(initial)\u001b[38;5;241m-\u001b[39m\u001b[38;5;241m2\u001b[39m)\u001b[38;5;241m*\u001b[39m\u001b[38;5;124m'\u001b[39m\u001b[38;5;124m*\u001b[39m\u001b[38;5;124m'\u001b[39m\u001b[38;5;241m+\u001b[39minitial[\u001b[38;5;241m-\u001b[39m\u001b[38;5;241m1\u001b[39m]\u001b[38;5;241m+\u001b[39m\u001b[38;5;124m'\u001b[39m\u001b[38;5;124m@\u001b[39m\u001b[38;5;124m'\u001b[39m\u001b[38;5;241m+\u001b[39mdomain\n",
      "\u001b[1;31mIndexError\u001b[0m: string index out of range"
     ]
    }
   ],
   "source": [
    "#34 \n",
    "input = 'geekcoders@gmail.com'\n",
    "def f_hide_email(input):\n",
    "    initial = input.split('@')[0]\n",
    "    domain = input.split('@'[1])\n",
    "    return initial[0] + (len(initial)-2)*'*'+initial[-1]+'@'+domain\n",
    "print(f_hide_email(input))"
   ]
  },
  {
   "cell_type": "code",
   "execution_count": 6,
   "metadata": {},
   "outputs": [
    {
     "name": "stdout",
     "output_type": "stream",
     "text": [
      "Yes\n"
     ]
    }
   ],
   "source": [
    "#35 string is anagram or not\n",
    "def f_string_anagram(str1,str2):\n",
    "    if sorted(str1) == sorted(str2):\n",
    "        return 'Yes'\n",
    "    else:\n",
    "        return 'No'\n",
    "str1 = 'abc'\n",
    "str2 = 'bca'\n",
    "print(f_string_anagram(str1,str2))"
   ]
  },
  {
   "cell_type": "code",
   "execution_count": 4,
   "metadata": {},
   "outputs": [
    {
     "name": "stdout",
     "output_type": "stream",
     "text": [
      "1024\n"
     ]
    }
   ],
   "source": [
    "#36 Write a program to find the square of the largest element in an array\n",
    "def f_find_largest(arr):\n",
    "    largest = arr[0]\n",
    "    for i in arr:\n",
    "        if i > largest:\n",
    "            largest = i\n",
    "    return largest**2\n",
    "arr = [10, 5, 8, 20, 3,9,6,32,26]\n",
    "print(f_find_largest(arr))"
   ]
  },
  {
   "cell_type": "code",
   "execution_count": 5,
   "metadata": {},
   "outputs": [
    {
     "name": "stdout",
     "output_type": "stream",
     "text": [
      "{8: 1, 45: 1, 25: 3, 6: 1, 11: 1, 29: 1, 42: 2, 14: 1}\n"
     ]
    }
   ],
   "source": [
    "#37 Write a program to find the number of times a number exists in a list. return in descending order of number of \n",
    "# occurrences a number exists\n",
    "def f_find_occur(l):\n",
    "    d = {}\n",
    "    for i in l:\n",
    "        if i in d:\n",
    "            d[i] += 1\n",
    "        else:\n",
    "            d[i] = 1\n",
    "    return d\n",
    "l = [ 8,45,25,6, 11, 29, 42, 25, 14,42,25]\n",
    "print(f_find_occur(l))"
   ]
  }
 ],
 "metadata": {
  "kernelspec": {
   "display_name": "Python 3",
   "language": "python",
   "name": "python3"
  },
  "language_info": {
   "codemirror_mode": {
    "name": "ipython",
    "version": 3
   },
   "file_extension": ".py",
   "mimetype": "text/x-python",
   "name": "python",
   "nbconvert_exporter": "python",
   "pygments_lexer": "ipython3",
   "version": "3.11.3"
  }
 },
 "nbformat": 4,
 "nbformat_minor": 2
}
