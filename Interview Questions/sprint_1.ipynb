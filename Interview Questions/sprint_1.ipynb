{
 "cells": [
  {
   "cell_type": "code",
   "execution_count": null,
   "metadata": {},
   "outputs": [],
   "source": [
    "# 1. CHECK IF SUM OF ANY TWO NUMBERS IS ZERO OR NOT"
   ]
  },
  {
   "cell_type": "code",
   "execution_count": 3,
   "metadata": {},
   "outputs": [
    {
     "name": "stdout",
     "output_type": "stream",
     "text": [
      "True\n"
     ]
    }
   ],
   "source": [
    "def sum_check(l):\n",
    "    if len(l)<2:\n",
    "        return False\n",
    "    l1 = set(l)\n",
    "    for i in l:\n",
    "        if -i in l1:\n",
    "            return True\n",
    "    return False\n",
    "l = [1,2,3,4,5,-1,-2,2,5,4]\n",
    "print(sum_check(l))\n",
    "    "
   ]
  },
  {
   "cell_type": "code",
   "execution_count": null,
   "metadata": {},
   "outputs": [],
   "source": [
    "# 2. FIND A NON - NEGATIVE INTEGER THAT IS NOT IN THE ARRAY"
   ]
  },
  {
   "cell_type": "code",
   "execution_count": 6,
   "metadata": {},
   "outputs": [
    {
     "data": {
      "text/plain": [
       "6"
      ]
     },
     "execution_count": 6,
     "metadata": {},
     "output_type": "execute_result"
    }
   ],
   "source": [
    "l = [0,1,2,3,4,5,7,8,9]\n",
    "def find_missing_number(l):\n",
    "    list_dict = {}\n",
    "    for i in l:\n",
    "        list_dict[i] = True\n",
    "    \n",
    "    for i in range(len(l)+1):\n",
    "        if not list_dict.get(i):\n",
    "            return i\n",
    "    return None\n",
    "find_missing_number(l)"
   ]
  },
  {
   "cell_type": "code",
   "execution_count": null,
   "metadata": {},
   "outputs": [],
   "source": [
    "# 3. CHECK IF A STRING IS PALINDROME OR NOT"
   ]
  },
  {
   "cell_type": "code",
   "execution_count": 12,
   "metadata": {},
   "outputs": [
    {
     "name": "stdout",
     "output_type": "stream",
     "text": [
      "True\n"
     ]
    }
   ],
   "source": [
    "def is_palindrome(str):\n",
    "    len_str = len(str)\n",
    "    c = 0\n",
    "    for i in range(len_str):\n",
    "        if(str[i]==str[len_str-i-1]):\n",
    "            continue\n",
    "        else :\n",
    "            c = 1\n",
    "            break\n",
    "    return c == 0\n",
    "print(is_palindrome('abba'))"
   ]
  },
  {
   "cell_type": "code",
   "execution_count": 13,
   "metadata": {},
   "outputs": [
    {
     "data": {
      "text/plain": [
       "'palindorm'"
      ]
     },
     "execution_count": 13,
     "metadata": {},
     "output_type": "execute_result"
    }
   ],
   "source": [
    "def is_palindrome(str):\n",
    "    s1 = str[::-1]\n",
    "    if str == s1:\n",
    "        return 'palindorm'\n",
    "    return 'not'\n",
    "str = input()\n",
    "is_palindrome(str)"
   ]
  },
  {
   "cell_type": "code",
   "execution_count": null,
   "metadata": {},
   "outputs": [],
   "source": [
    "# 4. SWAPPING OF TWO NUMBER"
   ]
  },
  {
   "cell_type": "code",
   "execution_count": 14,
   "metadata": {},
   "outputs": [
    {
     "name": "stdout",
     "output_type": "stream",
     "text": [
      "(6, 5)\n"
     ]
    }
   ],
   "source": [
    "def swap_number(a,b):\n",
    "    c = a\n",
    "    a = b\n",
    "    b = c\n",
    "    return a,b\n",
    "print(swap_number(5,6))"
   ]
  },
  {
   "cell_type": "code",
   "execution_count": 18,
   "metadata": {},
   "outputs": [
    {
     "name": "stdout",
     "output_type": "stream",
     "text": [
      "(6, 5)\n"
     ]
    }
   ],
   "source": [
    "def swap_number(a,b):\n",
    "    a,b = b,a\n",
    "    return a,b\n",
    "print(swap_number(5,6))"
   ]
  },
  {
   "cell_type": "code",
   "execution_count": null,
   "metadata": {},
   "outputs": [],
   "source": [
    "# 5. RECURSION: FACTORIAL OF A GIVEN NUMBER"
   ]
  },
  {
   "cell_type": "code",
   "execution_count": 20,
   "metadata": {},
   "outputs": [
    {
     "name": "stdout",
     "output_type": "stream",
     "text": [
      "5 5\n",
      "4 20\n",
      "3 60\n",
      "2 120\n",
      "1 120\n",
      "120\n"
     ]
    }
   ],
   "source": [
    "def fact_1(n):\n",
    "    fact = 1\n",
    "    for i in range(n,0,-1):\n",
    "        fact*=i\n",
    "        print(i,fact)\n",
    "    return fact\n",
    "print(fact_1(5))\n",
    "    "
   ]
  },
  {
   "cell_type": "code",
   "execution_count": 22,
   "metadata": {},
   "outputs": [
    {
     "data": {
      "text/plain": [
       "40320"
      ]
     },
     "execution_count": 22,
     "metadata": {},
     "output_type": "execute_result"
    }
   ],
   "source": [
    "def fact(x):\n",
    "    if x<1:\n",
    "        return 1\n",
    "    else:\n",
    "        return fact(x-1)*x\n",
    "fact(8)"
   ]
  },
  {
   "cell_type": "code",
   "execution_count": null,
   "metadata": {},
   "outputs": [],
   "source": [
    "# 6. RECURSION: COUNT OF ELEMENTS IN A LIST"
   ]
  },
  {
   "cell_type": "code",
   "execution_count": 24,
   "metadata": {},
   "outputs": [
    {
     "data": {
      "text/plain": [
       "9"
      ]
     },
     "execution_count": 24,
     "metadata": {},
     "output_type": "execute_result"
    }
   ],
   "source": [
    "l = [1,2,3,4,5,6,7,8,9]\n",
    "def count_l(l):\n",
    "    if not l :\n",
    "        return 0\n",
    "    return 1 + count_l(l[1:])\n",
    "count_l(l)"
   ]
  },
  {
   "cell_type": "code",
   "execution_count": null,
   "metadata": {},
   "outputs": [],
   "source": [
    "# 7. RECURSION: Repeat Each character N times\n"
   ]
  },
  {
   "cell_type": "code",
   "execution_count": 25,
   "metadata": {},
   "outputs": [
    {
     "name": "stdout",
     "output_type": "stream",
     "text": [
      "HHHeeellllllooo\n"
     ]
    }
   ],
   "source": [
    "s = 'Hello'\n",
    "s1 = ''\n",
    "for i in s:\n",
    "    s1 = s1+i*3\n",
    "print(s1)"
   ]
  },
  {
   "cell_type": "code",
   "execution_count": 26,
   "metadata": {},
   "outputs": [
    {
     "name": "stdout",
     "output_type": "stream",
     "text": [
      "RRRaaahhhuuulll\n"
     ]
    }
   ],
   "source": [
    "def multi_str(s,n):\n",
    "    if len(s) == 0:\n",
    "        return ''\n",
    "    return s[0]*n+multi_str(s[1:],n)\n",
    "print(multi_str('Rahul',3))"
   ]
  },
  {
   "cell_type": "code",
   "execution_count": null,
   "metadata": {},
   "outputs": [],
   "source": [
    "# 8 REVERSE ORDER OF WORDS"
   ]
  },
  {
   "cell_type": "code",
   "execution_count": 1,
   "metadata": {},
   "outputs": [
    {
     "data": {
      "text/plain": [
       "'me is This'"
      ]
     },
     "execution_count": 1,
     "metadata": {},
     "output_type": "execute_result"
    }
   ],
   "source": [
    "senetence = 'This is me'\n",
    "def words_reverse(senetence):\n",
    "    list_words = []\n",
    "    lst_sentence = senetence.split(' ')\n",
    "    while (len(lst_sentence))>0:\n",
    "        word = lst_sentence.pop()\n",
    "        list_words.append(word)\n",
    "    return ' '.join(list_words)\n",
    "words_reverse(senetence)"
   ]
  },
  {
   "cell_type": "code",
   "execution_count": null,
   "metadata": {},
   "outputs": [],
   "source": [
    "# 9. FIND K MOST FREQUENT ELEMENT OF AN ARRAY\n",
    "# input array = [1,1,1,2,2,3]\n",
    "#output = [1,2]\n",
    "# k =2"
   ]
  },
  {
   "cell_type": "code",
   "execution_count": 2,
   "metadata": {},
   "outputs": [
    {
     "name": "stdout",
     "output_type": "stream",
     "text": [
      "[1, 2]\n"
     ]
    }
   ],
   "source": [
    "def k_most_element(input_array,k):\n",
    "    base_dict = dict()\n",
    "    final_set = set()\n",
    "    for i in input_array:\n",
    "        if i in base_dict:\n",
    "            base_dict[i] += 1\n",
    "            if base_dict[i] >= k:\n",
    "                final_set.add(i)\n",
    "        else:\n",
    "            base_dict[i] = 1\n",
    "    return list(final_set)\n",
    "print(k_most_element([1,1,1,2,2,3],2))"
   ]
  },
  {
   "cell_type": "code",
   "execution_count": null,
   "metadata": {},
   "outputs": [],
   "source": [
    "# 10. Avoid Multiple IF-Else Condition using Dictionary "
   ]
  },
  {
   "cell_type": "code",
   "execution_count": 4,
   "metadata": {},
   "outputs": [
    {
     "name": "stdout",
     "output_type": "stream",
     "text": [
      "13\n",
      "-1\n",
      "42\n",
      "0.8571428571428571\n"
     ]
    }
   ],
   "source": [
    "def add(a,b):\n",
    "    return a+b\n",
    "def sub(a,b):\n",
    "    return a-b\n",
    "def multiply(a,b):\n",
    "    return a*b\n",
    "def division(a,b):\n",
    "    return a/b\n",
    "\n",
    "dict_calculator = {\n",
    "    'add'      : add,\n",
    "    'sub'      : sub,\n",
    "    'multiply' : multiply,\n",
    "    'division' : division\n",
    "}\n",
    "\n",
    "print(dict_calculator['add'](6,7))\n",
    "print(dict_calculator['sub'](6,7))   \n",
    "print(dict_calculator['multiply'](6,7))\n",
    "print(dict_calculator['division'](6,7))"
   ]
  },
  {
   "cell_type": "code",
   "execution_count": null,
   "metadata": {},
   "outputs": [],
   "source": [
    "# 11. CHECK IF THE LIST IS SORTED OR NOT"
   ]
  },
  {
   "cell_type": "code",
   "execution_count": 28,
   "metadata": {},
   "outputs": [
    {
     "name": "stdout",
     "output_type": "stream",
     "text": [
      "True\n"
     ]
    }
   ],
   "source": [
    "def check_list_sorted(list):\n",
    "    k = 0\n",
    "    for i in range(len(list)-1):\n",
    "        if (list[i] <= list[i+1]):\n",
    "            pass\n",
    "        else:\n",
    "            k = 1\n",
    "            break\n",
    "    return k == 0\n",
    "print(check_list_sorted([1,3,8,9,10]))\n"
   ]
  },
  {
   "cell_type": "code",
   "execution_count": 38,
   "metadata": {},
   "outputs": [
    {
     "name": "stdout",
     "output_type": "stream",
     "text": [
      "False\n"
     ]
    }
   ],
   "source": [
    "def check_list_sorted(list):\n",
    "    return all((list[i] <= list[i+1]) for i in range(len(list)-1))\n",
    "print(check_list_sorted([1,11,8,9,10]))"
   ]
  },
  {
   "cell_type": "code",
   "execution_count": null,
   "metadata": {},
   "outputs": [],
   "source": [
    "# 12. Count the Frequency of Elements in a List"
   ]
  },
  {
   "cell_type": "code",
   "execution_count": 39,
   "metadata": {},
   "outputs": [
    {
     "name": "stdout",
     "output_type": "stream",
     "text": [
      "{1: 2, 2: 2, 3: 2}\n"
     ]
    }
   ],
   "source": [
    "def counter(input_list):\n",
    "    freq = {}\n",
    "    for i in input_list:\n",
    "        freq[i] = freq.get(i,0) +1\n",
    "    return freq\n",
    "#sorted\n",
    "print(counter([1,2,3,3,2,1]))"
   ]
  },
  {
   "cell_type": "code",
   "execution_count": 41,
   "metadata": {},
   "outputs": [
    {
     "name": "stdout",
     "output_type": "stream",
     "text": [
      "HellO GeekS\n"
     ]
    }
   ],
   "source": [
    "# 13. Convert Each Word to the Upper Case of Sentence in Python\n",
    "input_str = 'Hello Geeks'\n",
    "lst_str = input_str.split(' ')\n",
    "\n",
    "def convert_char(s):\n",
    "    return s[0].upper()+s[1:-1]+s[-1].upper()\n",
    "l = [convert_char(i) for i in lst_str]\n",
    "print(' '.join(l))"
   ]
  },
  {
   "cell_type": "code",
   "execution_count": 8,
   "metadata": {},
   "outputs": [
    {
     "name": "stdout",
     "output_type": "stream",
     "text": [
      "[30, 5, 7]\n",
      "[30, 5, 7]\n"
     ]
    }
   ],
   "source": [
    "# 14. Create a new list with only numerical values from each element without using loop\n",
    "\n",
    "lst = [\"30 Student\", \"5 Student\", \"7 Student\"]\n",
    "l = [int(i.split()[0]) for i in lst]\n",
    "print(l)\n",
    "\n",
    "l1 = list(map(lambda i: int(i.split()[0]),lst))\n",
    "print(l1)"
   ]
  },
  {
   "cell_type": "code",
   "execution_count": 9,
   "metadata": {},
   "outputs": [
    {
     "name": "stdout",
     "output_type": "stream",
     "text": [
      "5x1 = 5\n",
      "5x2 = 10\n",
      "5x3 = 15\n",
      "5x4 = 20\n",
      "5x5 = 25\n",
      "5x6 = 30\n",
      "5x7 = 35\n",
      "5x8 = 40\n",
      "5x9 = 45\n",
      "5x10 = 50\n"
     ]
    }
   ],
   "source": [
    "# 15. write a method that takes a number as parameter and generates multiplication table for that number.\n",
    "def f_multiplication(n,x):\n",
    "    for i in range(1,x+1):\n",
    "        print(\"{}x{}\".format(n,i),\"=\",i*n)\n",
    "f_multiplication(5,10)"
   ]
  },
  {
   "cell_type": "code",
   "execution_count": null,
   "metadata": {},
   "outputs": [],
   "source": [
    "# 16. Find whether a number is a Narcissistic number or not\n",
    "#1634 = 1^4 + 6^4 + 3^4 + 4^4\n",
    "# An n-digit number that is the sum of the nth powers of its digits is called an n-Narcissistic number"
   ]
  },
  {
   "cell_type": "code",
   "execution_count": 10,
   "metadata": {},
   "outputs": [
    {
     "name": "stdout",
     "output_type": "stream",
     "text": [
      "Yes\n"
     ]
    }
   ],
   "source": [
    "import math\n",
    "def f_narcisis(number):\n",
    "    s = 0\n",
    "    number_str = str(number)\n",
    "    for i in number_str:\n",
    "        s+=math.pow(int(i),len(number_str))\n",
    "    if s == number:\n",
    "        return \"Yes\"\n",
    "    else:\n",
    "        return \"no\"\n",
    "print(f_narcisis(1634))"
   ]
  },
  {
   "cell_type": "code",
   "execution_count": 19,
   "metadata": {},
   "outputs": [
    {
     "name": "stdout",
     "output_type": "stream",
     "text": [
      "Yes\n"
     ]
    }
   ],
   "source": [
    "def f_narcisis(number):\n",
    "    number_str = str(number)\n",
    "    return \"Yes\" if sum([math.pow(int(i),len(number_str)) for i in number_str]) == number else 'No'\n",
    "print(f_narcisis(1634))"
   ]
  },
  {
   "cell_type": "code",
   "execution_count": null,
   "metadata": {},
   "outputs": [],
   "source": [
    "# 17. count lower chars and capital chars in a sentence"
   ]
  },
  {
   "cell_type": "code",
   "execution_count": 22,
   "metadata": {},
   "outputs": [
    {
     "name": "stdout",
     "output_type": "stream",
     "text": [
      "(3, 10)\n"
     ]
    }
   ],
   "source": [
    "def f_countchars(input_str):\n",
    "    cnt_lower,cnt_upper = 0,0\n",
    "    for i in input_str:\n",
    "        if i.islower():\n",
    "            cnt_lower += 1\n",
    "        elif i.isupper():\n",
    "            cnt_upper += 1\n",
    "    return cnt_upper,cnt_lower\n",
    "input_str = \"Hello This is Me\"\n",
    "print(f_countchars(input_str)) "
   ]
  },
  {
   "cell_type": "code",
   "execution_count": 23,
   "metadata": {},
   "outputs": [
    {
     "name": "stdout",
     "output_type": "stream",
     "text": [
      "{'small': 10, 'capital': 3}\n"
     ]
    }
   ],
   "source": [
    "def f_count_chas(input_str):\n",
    "    dict = {}\n",
    "    dict[\"small\"] = len(list(filter(lambda input_str: input_str.islower(),input_str)))\n",
    "    dict[\"capital\"] = len(list(filter(lambda input_str: input_str.isupper(),input_str)))\n",
    "    return dict\n",
    "print(f_count_chas(\"Hello This is Me\"))"
   ]
  },
  {
   "cell_type": "code",
   "execution_count": null,
   "metadata": {},
   "outputs": [],
   "source": [
    "#18 get the seccond smallest number from array"
   ]
  },
  {
   "cell_type": "code",
   "execution_count": 24,
   "metadata": {},
   "outputs": [
    {
     "name": "stdout",
     "output_type": "stream",
     "text": [
      "2\n"
     ]
    }
   ],
   "source": [
    "nums = [5,2,3,2,3,4,9,1,5]\n",
    "min_select = min(nums)\n",
    "dict = {}\n",
    "for i in nums:\n",
    "    if i!=min_select:\n",
    "        dict[i] = i - min_select\n",
    "print(min(dict))"
   ]
  },
  {
   "cell_type": "code",
   "execution_count": 25,
   "metadata": {},
   "outputs": [
    {
     "name": "stdout",
     "output_type": "stream",
     "text": [
      "5\n"
     ]
    }
   ],
   "source": [
    "nums = [5,2,3,2,3,4,9,1,5]\n",
    "max_select = max(nums)\n",
    "dict = {}\n",
    "for i in nums:\n",
    "    if i!=max_select:\n",
    "        dict[i] = i - max_select\n",
    "print(max(dict))"
   ]
  }
 ],
 "metadata": {
  "kernelspec": {
   "display_name": "Python 3",
   "language": "python",
   "name": "python3"
  },
  "language_info": {
   "codemirror_mode": {
    "name": "ipython",
    "version": 3
   },
   "file_extension": ".py",
   "mimetype": "text/x-python",
   "name": "python",
   "nbconvert_exporter": "python",
   "pygments_lexer": "ipython3",
   "version": "3.11.3"
  }
 },
 "nbformat": 4,
 "nbformat_minor": 2
}
