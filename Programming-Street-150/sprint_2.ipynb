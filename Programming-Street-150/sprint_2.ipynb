{
 "cells": [
  {
   "cell_type": "code",
   "execution_count": 7,
   "metadata": {},
   "outputs": [
    {
     "name": "stdout",
     "output_type": "stream",
     "text": [
      "6\n"
     ]
    }
   ],
   "source": [
    "#1. Write a program to repeatedly sum the digits of a number until the result is zero.\n",
    "\n",
    "def sum_digit(num):\n",
    "    \n",
    "    while num >= 10:\n",
    "        num = sum(int(digit) for digit in str(num))\n",
    "    return num\n",
    "num = 123\n",
    "print(sum_digit(num))"
   ]
  },
  {
   "cell_type": "code",
   "execution_count": 12,
   "metadata": {},
   "outputs": [
    {
     "name": "stdout",
     "output_type": "stream",
     "text": [
      "2 x 1 = 2\t3 x 1 = 3\t4 x 1 = 4\t\n",
      "2 x 2 = 4\t3 x 2 = 6\t4 x 2 = 8\t\n",
      "2 x 3 = 6\t3 x 3 = 9\t4 x 3 = 12\t\n",
      "2 x 4 = 8\t3 x 4 = 12\t4 x 4 = 16\t\n"
     ]
    }
   ],
   "source": [
    "#2. Write a program to generate multiplication tables for numbers within a specified range.\n",
    "\n",
    "def table_result(start,end):\n",
    "    for i in range(1,end+1):\n",
    "        for num in range(start,end+1):\n",
    "            print(f'{num} x {i} = {num*i}', end = '\\t')\n",
    "        print()\n",
    "table_result(2,4)"
   ]
  },
  {
   "cell_type": "code",
   "execution_count": 3,
   "metadata": {},
   "outputs": [
    {
     "name": "stdout",
     "output_type": "stream",
     "text": [
      "2.083333333333333\n"
     ]
    }
   ],
   "source": [
    "#3. Write a program to calculate the sum of the series 1 + 1/2 + 1/3 + ... + 1/n up to the nth term.\n",
    "\n",
    "def sum_of_series(n):\n",
    "    result = 0\n",
    "    for i in range(1,n+1):\n",
    "        result += 1/i\n",
    "    return result\n",
    "n = 4\n",
    "print(sum_of_series(n))"
   ]
  },
  {
   "cell_type": "code",
   "execution_count": 11,
   "metadata": {},
   "outputs": [
    {
     "name": "stdout",
     "output_type": "stream",
     "text": [
      "[(1, 4), (2, 3)]\n"
     ]
    }
   ],
   "source": [
    "#4. Write a program to find all pairs of elements in an array whose sum equals a specified target.\n",
    "\n",
    "def find_all_pairs(list,target):\n",
    "    pairs = []\n",
    "    for i in range(len(list)):\n",
    "        for j in range(i+1,len(list)):\n",
    "            if list[i]+list[j] == target:\n",
    "                    pairs.append((list[i],list[j]))\n",
    "    return pairs\n",
    "    \n",
    "list = [1, 2, 3, 4, 5] \n",
    "target = 5\n",
    "print(find_all_pairs(list,target))"
   ]
  },
  {
   "cell_type": "code",
   "execution_count": 13,
   "metadata": {},
   "outputs": [
    {
     "name": "stdout",
     "output_type": "stream",
     "text": [
      "    *\n",
      "   ***\n",
      "  *****\n",
      " *******\n",
      "*********\n",
      " *******\n",
      "  *****\n",
      "   ***\n",
      "    *\n"
     ]
    }
   ],
   "source": [
    "#5. Write a program to create a diamond pattern with stars of a given size.\n",
    "\n",
    "def print_diamond(size):\n",
    "    for i in range(size):\n",
    "        print(' '*(size-i-1),end='')\n",
    "        print('*'*(2*i+1))\n",
    "    for i in range(size-2,-1,-1):\n",
    "        print(' ' * (size - i - 1), end='')\n",
    "        print('*' * (2 * i + 1))\n",
    "size = 5\n",
    "print_diamond(size)\n",
    "\n",
    "         "
   ]
  }
 ],
 "metadata": {
  "kernelspec": {
   "display_name": "Python 3",
   "language": "python",
   "name": "python3"
  },
  "language_info": {
   "codemirror_mode": {
    "name": "ipython",
    "version": 3
   },
   "file_extension": ".py",
   "mimetype": "text/x-python",
   "name": "python",
   "nbconvert_exporter": "python",
   "pygments_lexer": "ipython3",
   "version": "3.11.3"
  }
 },
 "nbformat": 4,
 "nbformat_minor": 2
}
