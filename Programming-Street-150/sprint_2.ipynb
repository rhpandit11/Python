{
 "cells": [
  {
   "cell_type": "code",
   "execution_count": 7,
   "metadata": {},
   "outputs": [
    {
     "name": "stdout",
     "output_type": "stream",
     "text": [
      "6\n"
     ]
    }
   ],
   "source": [
    "#1. Write a program to repeatedly sum the digits of a number until the result is zero.\n",
    "\n",
    "def sum_digit(num):\n",
    "    \n",
    "    while num >= 10:\n",
    "        num = sum(int(digit) for digit in str(num))\n",
    "    return num\n",
    "num = 123\n",
    "print(sum_digit(num))"
   ]
  },
  {
   "cell_type": "code",
   "execution_count": 12,
   "metadata": {},
   "outputs": [
    {
     "name": "stdout",
     "output_type": "stream",
     "text": [
      "2 x 1 = 2\t3 x 1 = 3\t4 x 1 = 4\t\n",
      "2 x 2 = 4\t3 x 2 = 6\t4 x 2 = 8\t\n",
      "2 x 3 = 6\t3 x 3 = 9\t4 x 3 = 12\t\n",
      "2 x 4 = 8\t3 x 4 = 12\t4 x 4 = 16\t\n"
     ]
    }
   ],
   "source": [
    "#2. Write a program to generate multiplication tables for numbers within a specified range.\n",
    "\n",
    "def table_result(start,end):\n",
    "    for i in range(1,end+1):\n",
    "        for num in range(start,end+1):\n",
    "            print(f'{num} x {i} = {num*i}', end = '\\t')\n",
    "        print()\n",
    "table_result(2,4)"
   ]
  },
  {
   "cell_type": "code",
   "execution_count": null,
   "metadata": {},
   "outputs": [],
   "source": []
  }
 ],
 "metadata": {
  "kernelspec": {
   "display_name": "Python 3",
   "language": "python",
   "name": "python3"
  },
  "language_info": {
   "codemirror_mode": {
    "name": "ipython",
    "version": 3
   },
   "file_extension": ".py",
   "mimetype": "text/x-python",
   "name": "python",
   "nbconvert_exporter": "python",
   "pygments_lexer": "ipython3",
   "version": "3.11.3"
  }
 },
 "nbformat": 4,
 "nbformat_minor": 2
}
