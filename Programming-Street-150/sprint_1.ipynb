{
 "cells": [
  {
   "cell_type": "code",
   "execution_count": 2,
   "metadata": {},
   "outputs": [
    {
     "name": "stdout",
     "output_type": "stream",
     "text": [
      "Even\n"
     ]
    }
   ],
   "source": [
    "#1. Write a program to check whether a number is even or odd.\n",
    "def num_check(num):\n",
    "    if num%2 == 0:\n",
    "        return 'Even'\n",
    "    return 'Odd'\n",
    "number = int(input())\n",
    "print(num_check(number))"
   ]
  },
  {
   "cell_type": "code",
   "execution_count": 10,
   "metadata": {},
   "outputs": [
    {
     "name": "stdout",
     "output_type": "stream",
     "text": [
      "Prime\n"
     ]
    }
   ],
   "source": [
    "#2. Write a program to determine if a number is prime.\n",
    "def prime_check(num):\n",
    "    if num < 2:\n",
    "        return 'Not Prime'\n",
    "    for i in range(2, int(num // 2)+1):\n",
    "        if num%i == 0:\n",
    "            return 'Not Prime'\n",
    "    return 'Prime'\n",
    "number = 7\n",
    "print(prime_check(number))"
   ]
  },
  {
   "cell_type": "code",
   "execution_count": 12,
   "metadata": {},
   "outputs": [
    {
     "name": "stdout",
     "output_type": "stream",
     "text": [
      "Leap Year\n"
     ]
    }
   ],
   "source": [
    "#3. Write a program to check if a given year is a leap year.\n",
    "\n",
    "def is_leap_year(year):\n",
    "    if (year%4 == 0 and year%100 != 0) or (year%400 == 0):\n",
    "        return 'Leap Year'\n",
    "    else:\n",
    "        return 'Not a Leap Year'\n",
    "    \n",
    "year = 2020\n",
    "print(is_leap_year(year))"
   ]
  },
  {
   "cell_type": "code",
   "execution_count": 14,
   "metadata": {},
   "outputs": [
    {
     "name": "stdout",
     "output_type": "stream",
     "text": [
      "Armstrong Number\n"
     ]
    }
   ],
   "source": [
    "#4. Write a program to check if a number is an Armstrong number.\n",
    "\n",
    "def is_armstrong_number(num):\n",
    "    digits = str(num)\n",
    "    num_digits = len(digits)\n",
    "    armstrong_sum = sum(int(digit) ** num_digits for digit in digits)\n",
    "    \n",
    "    if armstrong_sum == num:\n",
    "        return 'Armstrong Number'\n",
    "    return 'Not an Armstrong Number'\n",
    "\n",
    "number = 153\n",
    "print(is_armstrong_number(number))"
   ]
  },
  {
   "cell_type": "code",
   "execution_count": 3,
   "metadata": {},
   "outputs": [
    {
     "name": "stdout",
     "output_type": "stream",
     "text": [
      "[0, 1, 1, 2, 3, 5, 8]\n"
     ]
    }
   ],
   "source": [
    "#5. Write a program to generate the Fibonacci series up to a given number.\n",
    "\n",
    "def fibonacci(n):\n",
    "    fibonacci_series = []\n",
    "    a,b = 0,1\n",
    "    while a <= n:\n",
    "        fibonacci_series.append(a)\n",
    "        a,b = b,a+b\n",
    "    return fibonacci_series\n",
    "n = 10\n",
    "print(fibonacci(n))"
   ]
  },
  {
   "cell_type": "code",
   "execution_count": 4,
   "metadata": {},
   "outputs": [
    {
     "name": "stdout",
     "output_type": "stream",
     "text": [
      "Palindrome\n"
     ]
    }
   ],
   "source": [
    "#6. Write a program to check if a string or number is a palindrome.\n",
    "\n",
    "def palindrome_check(s):\n",
    "    \n",
    "    if s == s[::-1]:\n",
    "        return 'Palindrome'\n",
    "    return 'Not'\n",
    "s = 'radar'\n",
    "print(palindrome_check(s))"
   ]
  },
  {
   "cell_type": "code",
   "execution_count": 5,
   "metadata": {},
   "outputs": [
    {
     "name": "stdout",
     "output_type": "stream",
     "text": [
      "    *\n",
      "   ***\n",
      "  *****\n",
      " *******\n",
      "*********\n"
     ]
    }
   ],
   "source": [
    "#7. Write a program to create different star patterns (e.g., pyramid, diamond).\n",
    "\n",
    "def print_pyramid(height):\n",
    "    \n",
    "    for i in range(height):\n",
    "        print(' '*(height-i-1) + '*'*(2*i+1))\n",
    "        \n",
    "pattern_type = \"pyramid\"\n",
    "height = 5\n",
    "if pattern_type.lower() == \"pyramid\":\n",
    "    print_pyramid(height)\n",
    "else:\n",
    "    print(\"Unsupported pattern type. Please choose 'pyramid'.\")\n",
    "        "
   ]
  },
  {
   "cell_type": "code",
   "execution_count": 6,
   "metadata": {},
   "outputs": [
    {
     "name": "stdout",
     "output_type": "stream",
     "text": [
      "120\n"
     ]
    }
   ],
   "source": [
    "#8. Write a program to compute the factorial of a given number.\n",
    "\n",
    "def fact(num):\n",
    "    if num <= 0:\n",
    "        return 1\n",
    "    return fact(num-1)*num\n",
    "num = 5\n",
    "print(fact(num))\n",
    "    "
   ]
  },
  {
   "cell_type": "code",
   "execution_count": 7,
   "metadata": {},
   "outputs": [
    {
     "name": "stdout",
     "output_type": "stream",
     "text": [
      "120\n"
     ]
    }
   ],
   "source": [
    "#8. Write a program to compute the factorial of a given number.(without using recursion)\n",
    "\n",
    "def factorial(num):\n",
    "    result = 1\n",
    "    for i in range(1,num+1):\n",
    "        result *= i\n",
    "    return result\n",
    "\n",
    "num = 5\n",
    "print(factorial(num))"
   ]
  },
  {
   "cell_type": "code",
   "execution_count": 21,
   "metadata": {},
   "outputs": [
    {
     "name": "stdout",
     "output_type": "stream",
     "text": [
      "10\n"
     ]
    }
   ],
   "source": [
    "#9. Write a program to calculate the sum of digits of a number.\n",
    "\n",
    "def calc_sum(num):\n",
    "    \n",
    "    result = 0\n",
    "    \n",
    "    for i in str(num):\n",
    "        result  += int(i)\n",
    "    return result\n",
    "\n",
    "print(calc_sum(1234))\n"
   ]
  },
  {
   "cell_type": "code",
   "execution_count": 1,
   "metadata": {},
   "outputs": [
    {
     "name": "stdout",
     "output_type": "stream",
     "text": [
      "18 12\n",
      "12 6\n",
      "6 0\n",
      "6\n"
     ]
    }
   ],
   "source": [
    "#10. Write a program to find the GCD of two numbers.\n",
    "\n",
    "def find_gcd(a,b):\n",
    "    while b:\n",
    "        a,b = b,a%b\n",
    "    return a\n",
    "\n",
    "a = 48\n",
    "b = 18\n",
    "print(find_gcd(a,b))"
   ]
  },
  {
   "cell_type": "code",
   "execution_count": 3,
   "metadata": {},
   "outputs": [
    {
     "name": "stdout",
     "output_type": "stream",
     "text": [
      "60\n"
     ]
    }
   ],
   "source": [
    "#11. Write a program to find the LCM of two numbers.\n",
    "\n",
    "def find_lcm(a,b):\n",
    "    \n",
    "    if a > b:\n",
    "        greater  = a\n",
    "    else:\n",
    "        greater = b\n",
    "    \n",
    "    while True:\n",
    "        if greater % a == 0 and greater % b == 0:\n",
    "            lcm = greater\n",
    "            break\n",
    "        greater += 1\n",
    "    return lcm\n",
    "\n",
    "a = 12\n",
    "b = 15\n",
    "\n",
    "print(find_lcm(a,b))\n",
    "    \n",
    "    "
   ]
  },
  {
   "cell_type": "code",
   "execution_count": 7,
   "metadata": {},
   "outputs": [
    {
     "name": "stdout",
     "output_type": "stream",
     "text": [
      "Vowels:3,Consonants:7\n"
     ]
    }
   ],
   "source": [
    "#12. Counting Vowels and Consonants in a String\n",
    "\n",
    "def counting_str(string):\n",
    "        \n",
    "    vowels = 'aeiouAEIOU'\n",
    "    constants = 'bcdfghjklmnpqrstvwxyzBCDFGHJKLMNPQRSTVWXYZ'\n",
    "    \n",
    "    vcnt = 0\n",
    "    ccnt = 0\n",
    "    \n",
    "    for i in string:\n",
    "        if i in vowels:\n",
    "            vcnt += 1\n",
    "        elif i in constants:\n",
    "            ccnt += 1\n",
    "    return f'Vowels:{vcnt},Consonants:{ccnt}'\n",
    "\n",
    "string = \"hello world\"\n",
    "print(counting_str(string))"
   ]
  },
  {
   "cell_type": "code",
   "execution_count": 9,
   "metadata": {},
   "outputs": [
    {
     "name": "stdout",
     "output_type": "stream",
     "text": [
      "gnimmargorp\n"
     ]
    }
   ],
   "source": [
    "#13. Write a program to reverse a given string.\n",
    "\n",
    "def rev_string(string):\n",
    "    \n",
    "    return string[::-1]\n",
    "\n",
    "string = \"programming\"\n",
    "print(rev_string(string))"
   ]
  },
  {
   "cell_type": "code",
   "execution_count": 14,
   "metadata": {},
   "outputs": [
    {
     "name": "stdout",
     "output_type": "stream",
     "text": [
      "gnimmargorp\n"
     ]
    }
   ],
   "source": [
    "#13. Write a program to reverse a given string. (method 2)\n",
    "\n",
    "def reverse_string(string):\n",
    "    reverse_str = ''\n",
    "    for char in string:\n",
    "        reverse_str = char + reverse_str\n",
    "    return reverse_str\n",
    "\n",
    "string = \"programming\"\n",
    "print(reverse_string(string))"
   ]
  },
  {
   "cell_type": "code",
   "execution_count": 15,
   "metadata": {},
   "outputs": [
    {
     "name": "stdout",
     "output_type": "stream",
     "text": [
      "gnimmargorp\n"
     ]
    }
   ],
   "source": [
    "#13. Write a program to reverse a given string. (using recusrion)\n",
    "\n",
    "def recurse_reverse(string):\n",
    "    if len(string) == 0:\n",
    "        return string\n",
    "    return recurse_reverse(string[1:]) + string[0]\n",
    "\n",
    "string = \"programming\"\n",
    "print(recurse_reverse(string))"
   ]
  },
  {
   "cell_type": "code",
   "execution_count": 16,
   "metadata": {},
   "outputs": [
    {
     "name": "stdout",
     "output_type": "stream",
     "text": [
      "Largest: 8, Smallest: 1\n"
     ]
    }
   ],
   "source": [
    "#14. Write a program to find the largest and smallest numbers in an array.\n",
    "\n",
    "def find_large_small(list):\n",
    "    max_list = max(list)\n",
    "    min_list = min(list)\n",
    "    return f'Largest: {max_list}, Smallest: {min_list}'\n",
    "\n",
    "list = [4, 7, 1, 8, 5]\n",
    "print(find_large_small(list))"
   ]
  },
  {
   "cell_type": "code",
   "execution_count": 22,
   "metadata": {},
   "outputs": [
    {
     "name": "stdout",
     "output_type": "stream",
     "text": [
      "[1, 1, 3, 4, 5, 9]\n"
     ]
    }
   ],
   "source": [
    "#15. Write a program to sort an array of numbers in ascending order.\n",
    "\n",
    "def sort_list(list):\n",
    "    list.sort()\n",
    "    return list\n",
    "list = [3, 1, 4, 1, 5, 9]\n",
    "print(sort_list(list))"
   ]
  },
  {
   "cell_type": "code",
   "execution_count": 1,
   "metadata": {},
   "outputs": [
    {
     "name": "stdout",
     "output_type": "stream",
     "text": [
      "15\n"
     ]
    }
   ],
   "source": [
    "# 16. Write a program to find the sum of elements in an array.\n",
    "\n",
    "def sum_elements(list):\n",
    "    result = 0\n",
    "    \n",
    "    for i in list:\n",
    "        result += i\n",
    "    return result\n",
    "\n",
    "list = [1, 2, 3, 4, 5]\n",
    "print(sum_elements(list))"
   ]
  },
  {
   "cell_type": "code",
   "execution_count": 2,
   "metadata": {},
   "outputs": [
    {
     "name": "stdout",
     "output_type": "stream",
     "text": [
      "[1, 2, 3, 4, 5, 6, 7, 8, 9, 153, 370, 371, 407]\n"
     ]
    }
   ],
   "source": [
    "#17. Write a program to find all Armstrong numbers within a given range.\n",
    "\n",
    "def is_armstrong(num):\n",
    "    digits = str(num)\n",
    "    num_digits = len(digits)\n",
    "    sum_of_powers = sum(int(digit) ** num_digits for digit in digits)\n",
    "    return num == sum_of_powers\n",
    "\n",
    "def find_armstrong_num(start,end):\n",
    "    armstrong_num = []\n",
    "    for i in range(start,end+1):\n",
    "        if is_armstrong(i):\n",
    "            armstrong_num.append(i)\n",
    "    return armstrong_num\n",
    "start = 1\n",
    "end = 500\n",
    "print(find_armstrong_num(start,end))"
   ]
  },
  {
   "cell_type": "code",
   "execution_count": 8,
   "metadata": {},
   "outputs": [
    {
     "name": "stdout",
     "output_type": "stream",
     "text": [
      "4 x 1 = 4\n",
      "4 x 2 = 8\n",
      "4 x 3 = 12\n",
      "4 x 4 = 16\n",
      "4 x 5 = 20\n"
     ]
    }
   ],
   "source": [
    "#18. Write a program to generate multiplication tables for a given number.\n",
    "\n",
    "def gen_mul(num):\n",
    "    for i in range(1,num+2):\n",
    "        print(f'{num} x {i} = {num*i}')\n",
    "num = 4\n",
    "gen_mul(num)"
   ]
  },
  {
   "cell_type": "code",
   "execution_count": 20,
   "metadata": {},
   "outputs": [
    {
     "name": "stdout",
     "output_type": "stream",
     "text": [
      "[11, 13, 17, 19, 23, 29]\n"
     ]
    }
   ],
   "source": [
    "#19. Write a program to find all prime numbers within a given range.\n",
    "\n",
    "def prime_check(num):\n",
    "    if num < 2:\n",
    "        return False\n",
    "    for i in range(2, int(num // 2)+1):\n",
    "        if num%i == 0:\n",
    "            return False\n",
    "    return 'Prime'\n",
    "    \n",
    "def prime_range(start,end):\n",
    "    prime_number = []\n",
    "    for i in range(start,end+1):\n",
    "        if prime_check(i):\n",
    "            prime_number.append(i)\n",
    "    return prime_number\n",
    "start = 10\n",
    "end = 30\n",
    "print(prime_range(start,end))"
   ]
  },
  {
   "cell_type": "code",
   "execution_count": 25,
   "metadata": {},
   "outputs": [
    {
     "name": "stdout",
     "output_type": "stream",
     "text": [
      "28 is a perfect number.\n"
     ]
    }
   ],
   "source": [
    "#20. Write a program to determine if a number is a perfect number.\n",
    "\n",
    "def is_perfet_num(num):\n",
    "    if num < 2:\n",
    "        return False\n",
    "    divisor_sum = 0\n",
    "    for i in range(1,num//2+1):\n",
    "        if num%i == 0:\n",
    "            divisor_sum += i\n",
    "    return divisor_sum == num\n",
    "\n",
    "num = 28\n",
    "\n",
    "if is_perfet_num(num):\n",
    "    print(f\"{num} is a perfect number.\")\n",
    "else:\n",
    "    print(f\"{num} is not a perfect number.\")"
   ]
  },
  {
   "cell_type": "code",
   "execution_count": 2,
   "metadata": {},
   "outputs": [
    {
     "name": "stdout",
     "output_type": "stream",
     "text": [
      "30\n"
     ]
    }
   ],
   "source": [
    "#21 Write a program to find the sum of all even numbers within a given range.\n",
    "\n",
    "def sum_range(list):\n",
    "    start = list[0]\n",
    "    end  = list[1]\n",
    "    result = 0\n",
    "    for i in range(start,end+1):\n",
    "        if i%2 == 0:\n",
    "            result = i + result\n",
    "    return result\n",
    "list = [1,10]\n",
    "print(sum_range(list))"
   ]
  },
  {
   "cell_type": "code",
   "execution_count": 3,
   "metadata": {},
   "outputs": [
    {
     "name": "stdout",
     "output_type": "stream",
     "text": [
      "25\n"
     ]
    }
   ],
   "source": [
    "#22 Write a program to find the sum of all odd numbers within a given range.\n",
    "\n",
    "\n",
    "def sum_range_odd(list):\n",
    "    start = list[0]\n",
    "    end  = list[1]\n",
    "    result = 0\n",
    "    for i in range(start,end+1):\n",
    "        if i%2 != 0:\n",
    "            result = i + result\n",
    "    return result\n",
    "list = [1,10]\n",
    "print(sum_range_odd(list))"
   ]
  },
  {
   "cell_type": "code",
   "execution_count": 25,
   "metadata": {},
   "outputs": [
    {
     "name": "stdout",
     "output_type": "stream",
     "text": [
      "5\n"
     ]
    }
   ],
   "source": [
    "#23 Write a program to find the Fibonacci number at a specific position.\n",
    "def fibo_position(position):\n",
    "    \n",
    "    if position <= 0:\n",
    "        return 'Position must be a positive number'\n",
    "    elif position == 1:\n",
    "        return 0\n",
    "    elif position == 2:\n",
    "        return 1\n",
    "    \n",
    "    a,b = 0,1\n",
    "    for _ in range(2,position+1):\n",
    "        a,b = b,a+b\n",
    "    return b\n",
    "position = 5\n",
    "print(fibo_position(position))"
   ]
  },
  {
   "cell_type": "code",
   "execution_count": 16,
   "metadata": {},
   "outputs": [
    {
     "name": "stdout",
     "output_type": "stream",
     "text": [
      "[2, 3, 5, 7, 11, 13, 17, 19]\n"
     ]
    }
   ],
   "source": [
    "#24 Write a program to print all prime numbers less than a given number.\n",
    "\n",
    "def is_prime(num):\n",
    "    if num <= 1:\n",
    "        return False\n",
    "    if num == 2:\n",
    "        return True\n",
    "    if num%2 == 0:\n",
    "        return False\n",
    "    for i in range(3, (num//2)+1):\n",
    "        if num%i == 0:\n",
    "            return False\n",
    "    return True\n",
    "\n",
    "def prime_check(number):\n",
    "    prime_nums = []\n",
    "    for i in range(2,number):\n",
    "        if is_prime(i):\n",
    "            prime_nums.append(i)\n",
    "    return prime_nums\n",
    "\n",
    "number = 20\n",
    "print(prime_check(number))\n",
    "\n",
    "        "
   ]
  },
  {
   "cell_type": "code",
   "execution_count": 17,
   "metadata": {},
   "outputs": [
    {
     "name": "stdout",
     "output_type": "stream",
     "text": [
      "5\n"
     ]
    }
   ],
   "source": [
    "#25 Write a program to count the number of digits in a given number.\n",
    "\n",
    "def count_check(digits):\n",
    "    return len(str(digits))\n",
    "digits = 12345\n",
    "print(count_check(digits))"
   ]
  },
  {
   "cell_type": "code",
   "execution_count": 19,
   "metadata": {},
   "outputs": [
    {
     "name": "stdout",
     "output_type": "stream",
     "text": [
      "Narcissistic Number\n"
     ]
    }
   ],
   "source": [
    "#26 Write a program to check if a number is a narcissistic number (where the sum of its digits raised to the power of the number of digits equals the number itself).\n",
    "\n",
    "def is_narcicst(number):\n",
    "    num_digit = str(number)\n",
    "    digit = len(str(number))\n",
    "    \n",
    "    sum_of_power = sum(int(num) ** digit for num in num_digit)\n",
    "    return sum_of_power == number\n",
    "number = 153\n",
    "if is_narcicst(number):\n",
    "    print(\"Narcissistic Number\")\n",
    "else:\n",
    "    print(\"Not a Narcissistic Number\")\n",
    "    "
   ]
  },
  {
   "cell_type": "code",
   "execution_count": 23,
   "metadata": {},
   "outputs": [
    {
     "name": "stdout",
     "output_type": "stream",
     "text": [
      "1\n",
      "2 3\n",
      "4 5 6\n"
     ]
    }
   ],
   "source": [
    "#27 Write a program to generate number patterns (e.g., sequential numbers in a matrix).\n",
    "\n",
    "def generate_num_pattern(rows):\n",
    "    number = 1\n",
    "    for i in range(1,rows+1):\n",
    "        row = []\n",
    "        for j in range(i):\n",
    "            row.append(number)\n",
    "            number += 1\n",
    "        print(\" \".join(map(str,row)))\n",
    "    \n",
    "rows = 3\n",
    "generate_num_pattern(rows)"
   ]
  },
  {
   "cell_type": "code",
   "execution_count": 3,
   "metadata": {},
   "outputs": [
    {
     "name": "stdout",
     "output_type": "stream",
     "text": [
      "6\n"
     ]
    }
   ],
   "source": [
    "#28 Write a program to find the sum of the digits of the factorial of a given number.\n",
    "\n",
    "def fact(number):\n",
    "    fact = 1\n",
    "    for i in range(number,0,-1):\n",
    "        fact = i*fact\n",
    "    result = 0\n",
    "    for i in str(fact):\n",
    "        result = int(i) + result\n",
    "    return result\n",
    "number = 4\n",
    "print(fact(number))"
   ]
  },
  {
   "cell_type": "code",
   "execution_count": 14,
   "metadata": {},
   "outputs": [
    {
     "name": "stdout",
     "output_type": "stream",
     "text": [
      "3\n"
     ]
    }
   ],
   "source": [
    "#30 Write a program to find missing numbers in a sequence from 1 to n.\n",
    "def missing_n(sequence):\n",
    "    d = {}\n",
    "    for i in sequence:\n",
    "        d[i] = True\n",
    "    for i in range(1,len(sequence)+1):\n",
    "        if not d.get(i):\n",
    "            return i\n",
    "        \n",
    "sequence = [0,1, 2, 4, 5]\n",
    "print(missing_n(sequence))"
   ]
  }
 ],
 "metadata": {
  "kernelspec": {
   "display_name": "Python 3",
   "language": "python",
   "name": "python3"
  },
  "language_info": {
   "codemirror_mode": {
    "name": "ipython",
    "version": 3
   },
   "file_extension": ".py",
   "mimetype": "text/x-python",
   "name": "python",
   "nbconvert_exporter": "python",
   "pygments_lexer": "ipython3",
   "version": "3.11.3"
  }
 },
 "nbformat": 4,
 "nbformat_minor": 2
}
