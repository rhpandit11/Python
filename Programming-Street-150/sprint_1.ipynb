{
 "cells": [
  {
   "cell_type": "code",
   "execution_count": 2,
   "metadata": {},
   "outputs": [
    {
     "name": "stdout",
     "output_type": "stream",
     "text": [
      "Even\n"
     ]
    }
   ],
   "source": [
    "#1. Write a program to check whether a number is even or odd.\n",
    "def num_check(num):\n",
    "    if num%2 == 0:\n",
    "        return 'Even'\n",
    "    return 'Odd'\n",
    "number = int(input())\n",
    "print(num_check(number))"
   ]
  },
  {
   "cell_type": "code",
   "execution_count": 10,
   "metadata": {},
   "outputs": [
    {
     "name": "stdout",
     "output_type": "stream",
     "text": [
      "Prime\n"
     ]
    }
   ],
   "source": [
    "#2. Write a program to determine if a number is prime.\n",
    "def prime_check(num):\n",
    "    if num < 2:\n",
    "        return 'Not Prime'\n",
    "    for i in range(2, int(num // 2)+1):\n",
    "        if num%i == 0:\n",
    "            return 'Not Prime'\n",
    "    return 'Prime'\n",
    "number = 7\n",
    "print(prime_check(number))"
   ]
  },
  {
   "cell_type": "code",
   "execution_count": 12,
   "metadata": {},
   "outputs": [
    {
     "name": "stdout",
     "output_type": "stream",
     "text": [
      "Leap Year\n"
     ]
    }
   ],
   "source": [
    "#3. Write a program to check if a given year is a leap year.\n",
    "\n",
    "def is_leap_year(year):\n",
    "    if (year%4 == 0 and year%100 != 0) or (year%400 == 0):\n",
    "        return 'Leap Year'\n",
    "    else:\n",
    "        return 'Not a Leap Year'\n",
    "    \n",
    "year = 2020\n",
    "print(is_leap_year(year))"
   ]
  },
  {
   "cell_type": "code",
   "execution_count": 14,
   "metadata": {},
   "outputs": [
    {
     "name": "stdout",
     "output_type": "stream",
     "text": [
      "Armstrong Number\n"
     ]
    }
   ],
   "source": [
    "#4. Write a program to check if a number is an Armstrong number.\n",
    "\n",
    "def is_armstrong_number(num):\n",
    "    digits = str(num)\n",
    "    num_digits = len(digits)\n",
    "    armstrong_sum = sum(int(digit) ** num_digits for digit in digits)\n",
    "    \n",
    "    if armstrong_sum == num:\n",
    "        return 'Armstrong Number'\n",
    "    return 'Not an Armstrong Number'\n",
    "\n",
    "number = 153\n",
    "print(is_armstrong_number(number))"
   ]
  },
  {
   "cell_type": "code",
   "execution_count": 3,
   "metadata": {},
   "outputs": [
    {
     "name": "stdout",
     "output_type": "stream",
     "text": [
      "[0, 1, 1, 2, 3, 5, 8]\n"
     ]
    }
   ],
   "source": [
    "#5. Write a program to generate the Fibonacci series up to a given number.\n",
    "\n",
    "def fibonacci(n):\n",
    "    fibonacci_series = []\n",
    "    a,b = 0,1\n",
    "    while a <= n:\n",
    "        fibonacci_series.append(a)\n",
    "        a,b = b,a+b\n",
    "    return fibonacci_series\n",
    "n = 10\n",
    "print(fibonacci(n))"
   ]
  },
  {
   "cell_type": "code",
   "execution_count": 4,
   "metadata": {},
   "outputs": [
    {
     "name": "stdout",
     "output_type": "stream",
     "text": [
      "Palindrome\n"
     ]
    }
   ],
   "source": [
    "#6. Write a program to check if a string or number is a palindrome.\n",
    "\n",
    "def palindrome_check(s):\n",
    "    \n",
    "    if s == s[::-1]:\n",
    "        return 'Palindrome'\n",
    "    return 'Not'\n",
    "s = 'radar'\n",
    "print(palindrome_check(s))"
   ]
  },
  {
   "cell_type": "code",
   "execution_count": 5,
   "metadata": {},
   "outputs": [
    {
     "name": "stdout",
     "output_type": "stream",
     "text": [
      "    *\n",
      "   ***\n",
      "  *****\n",
      " *******\n",
      "*********\n"
     ]
    }
   ],
   "source": [
    "#7. Write a program to create different star patterns (e.g., pyramid, diamond).\n",
    "\n",
    "def print_pyramid(height):\n",
    "    \n",
    "    for i in range(height):\n",
    "        print(' '*(height-i-1) + '*'*(2*i+1))\n",
    "        \n",
    "pattern_type = \"pyramid\"\n",
    "height = 5\n",
    "if pattern_type.lower() == \"pyramid\":\n",
    "    print_pyramid(height)\n",
    "else:\n",
    "    print(\"Unsupported pattern type. Please choose 'pyramid'.\")\n",
    "        "
   ]
  },
  {
   "cell_type": "code",
   "execution_count": 6,
   "metadata": {},
   "outputs": [
    {
     "name": "stdout",
     "output_type": "stream",
     "text": [
      "120\n"
     ]
    }
   ],
   "source": [
    "#8. Write a program to compute the factorial of a given number.\n",
    "\n",
    "def fact(num):\n",
    "    if num <= 0:\n",
    "        return 1\n",
    "    return fact(num-1)*num\n",
    "num = 5\n",
    "print(fact(num))\n",
    "    "
   ]
  },
  {
   "cell_type": "code",
   "execution_count": 7,
   "metadata": {},
   "outputs": [
    {
     "name": "stdout",
     "output_type": "stream",
     "text": [
      "120\n"
     ]
    }
   ],
   "source": [
    "#8. Write a program to compute the factorial of a given number.(without using recursion)\n",
    "\n",
    "def factorial(num):\n",
    "    result = 1\n",
    "    for i in range(1,num+1):\n",
    "        result *= i\n",
    "    return result\n",
    "\n",
    "num = 5\n",
    "print(factorial(num))"
   ]
  },
  {
   "cell_type": "code",
   "execution_count": 21,
   "metadata": {},
   "outputs": [
    {
     "name": "stdout",
     "output_type": "stream",
     "text": [
      "10\n"
     ]
    }
   ],
   "source": [
    "#9. Write a program to calculate the sum of digits of a number.\n",
    "\n",
    "def calc_sum(num):\n",
    "    \n",
    "    result = 0\n",
    "    \n",
    "    for i in str(num):\n",
    "        result  += int(i)\n",
    "    return result\n",
    "\n",
    "print(calc_sum(1234))\n"
   ]
  },
  {
   "cell_type": "code",
   "execution_count": 1,
   "metadata": {},
   "outputs": [
    {
     "name": "stdout",
     "output_type": "stream",
     "text": [
      "18 12\n",
      "12 6\n",
      "6 0\n",
      "6\n"
     ]
    }
   ],
   "source": [
    "#10. Write a program to find the GCD of two numbers.\n",
    "\n",
    "def find_gcd(a,b):\n",
    "    while b:\n",
    "        a,b = b,a%b\n",
    "    return a\n",
    "\n",
    "a = 48\n",
    "b = 18\n",
    "print(find_gcd(a,b))"
   ]
  },
  {
   "cell_type": "code",
   "execution_count": 3,
   "metadata": {},
   "outputs": [
    {
     "name": "stdout",
     "output_type": "stream",
     "text": [
      "60\n"
     ]
    }
   ],
   "source": [
    "#11. Write a program to find the LCM of two numbers.\n",
    "\n",
    "def find_lcm(a,b):\n",
    "    \n",
    "    if a > b:\n",
    "        greater  = a\n",
    "    else:\n",
    "        greater = b\n",
    "    \n",
    "    while True:\n",
    "        if greater % a == 0 and greater % b == 0:\n",
    "            lcm = greater\n",
    "            break\n",
    "        greater += 1\n",
    "    return lcm\n",
    "\n",
    "a = 12\n",
    "b = 15\n",
    "\n",
    "print(find_lcm(a,b))\n",
    "    \n",
    "    "
   ]
  },
  {
   "cell_type": "code",
   "execution_count": 7,
   "metadata": {},
   "outputs": [
    {
     "name": "stdout",
     "output_type": "stream",
     "text": [
      "Vowels:3,Consonants:7\n"
     ]
    }
   ],
   "source": [
    "#12. Counting Vowels and Consonants in a String\n",
    "\n",
    "def counting_str(string):\n",
    "        \n",
    "    vowels = 'aeiouAEIOU'\n",
    "    constants = 'bcdfghjklmnpqrstvwxyzBCDFGHJKLMNPQRSTVWXYZ'\n",
    "    \n",
    "    vcnt = 0\n",
    "    ccnt = 0\n",
    "    \n",
    "    for i in string:\n",
    "        if i in vowels:\n",
    "            vcnt += 1\n",
    "        elif i in constants:\n",
    "            ccnt += 1\n",
    "    return f'Vowels:{vcnt},Consonants:{ccnt}'\n",
    "\n",
    "string = \"hello world\"\n",
    "print(counting_str(string))"
   ]
  },
  {
   "cell_type": "code",
   "execution_count": 9,
   "metadata": {},
   "outputs": [
    {
     "name": "stdout",
     "output_type": "stream",
     "text": [
      "gnimmargorp\n"
     ]
    }
   ],
   "source": [
    "#13. Write a program to reverse a given string.\n",
    "\n",
    "def rev_string(string):\n",
    "    \n",
    "    return string[::-1]\n",
    "\n",
    "string = \"programming\"\n",
    "print(rev_string(string))"
   ]
  },
  {
   "cell_type": "code",
   "execution_count": 14,
   "metadata": {},
   "outputs": [
    {
     "name": "stdout",
     "output_type": "stream",
     "text": [
      "gnimmargorp\n"
     ]
    }
   ],
   "source": [
    "#13. Write a program to reverse a given string. (method 2)\n",
    "\n",
    "def reverse_string(string):\n",
    "    reverse_str = ''\n",
    "    for char in string:\n",
    "        reverse_str = char + reverse_str\n",
    "    return reverse_str\n",
    "\n",
    "string = \"programming\"\n",
    "print(reverse_string(string))"
   ]
  },
  {
   "cell_type": "code",
   "execution_count": 15,
   "metadata": {},
   "outputs": [
    {
     "name": "stdout",
     "output_type": "stream",
     "text": [
      "gnimmargorp\n"
     ]
    }
   ],
   "source": [
    "#13. Write a program to reverse a given string. (using recusrion)\n",
    "\n",
    "def recurse_reverse(string):\n",
    "    if len(string) == 0:\n",
    "        return string\n",
    "    return recurse_reverse(string[1:]) + string[0]\n",
    "\n",
    "string = \"programming\"\n",
    "print(recurse_reverse(string))"
   ]
  },
  {
   "cell_type": "code",
   "execution_count": 16,
   "metadata": {},
   "outputs": [
    {
     "name": "stdout",
     "output_type": "stream",
     "text": [
      "Largest: 8, Smallest: 1\n"
     ]
    }
   ],
   "source": [
    "#14. Write a program to find the largest and smallest numbers in an array.\n",
    "\n",
    "def find_large_small(list):\n",
    "    max_list = max(list)\n",
    "    min_list = min(list)\n",
    "    return f'Largest: {max_list}, Smallest: {min_list}'\n",
    "\n",
    "list = [4, 7, 1, 8, 5]\n",
    "print(find_large_small(list))"
   ]
  },
  {
   "cell_type": "code",
   "execution_count": 22,
   "metadata": {},
   "outputs": [
    {
     "name": "stdout",
     "output_type": "stream",
     "text": [
      "[1, 1, 3, 4, 5, 9]\n"
     ]
    }
   ],
   "source": [
    "#15. Write a program to sort an array of numbers in ascending order.\n",
    "\n",
    "def sort_list(list):\n",
    "    list.sort()\n",
    "    return list\n",
    "list = [3, 1, 4, 1, 5, 9]\n",
    "print(sort_list(list))"
   ]
  },
  {
   "cell_type": "code",
   "execution_count": 1,
   "metadata": {},
   "outputs": [
    {
     "name": "stdout",
     "output_type": "stream",
     "text": [
      "15\n"
     ]
    }
   ],
   "source": [
    "# 16. Write a program to find the sum of elements in an array.\n",
    "\n",
    "def sum_elements(list):\n",
    "    result = 0\n",
    "    \n",
    "    for i in list:\n",
    "        result += i\n",
    "    return result\n",
    "\n",
    "list = [1, 2, 3, 4, 5]\n",
    "print(sum_elements(list))"
   ]
  },
  {
   "cell_type": "code",
   "execution_count": 2,
   "metadata": {},
   "outputs": [
    {
     "name": "stdout",
     "output_type": "stream",
     "text": [
      "[1, 2, 3, 4, 5, 6, 7, 8, 9, 153, 370, 371, 407]\n"
     ]
    }
   ],
   "source": [
    "#17. Write a program to find all Armstrong numbers within a given range.\n",
    "\n",
    "def is_armstrong(num):\n",
    "    digits = str(num)\n",
    "    num_digits = len(digits)\n",
    "    sum_of_powers = sum(int(digit) ** num_digits for digit in digits)\n",
    "    return num == sum_of_powers\n",
    "\n",
    "def find_armstrong_num(start,end):\n",
    "    armstrong_num = []\n",
    "    for i in range(start,end+1):\n",
    "        if is_armstrong(i):\n",
    "            armstrong_num.append(i)\n",
    "    return armstrong_num\n",
    "start = 1\n",
    "end = 500\n",
    "print(find_armstrong_num(start,end))"
   ]
  },
  {
   "cell_type": "code",
   "execution_count": 8,
   "metadata": {},
   "outputs": [
    {
     "name": "stdout",
     "output_type": "stream",
     "text": [
      "4 x 1 = 4\n",
      "4 x 2 = 8\n",
      "4 x 3 = 12\n",
      "4 x 4 = 16\n",
      "4 x 5 = 20\n"
     ]
    }
   ],
   "source": [
    "#18. Write a program to generate multiplication tables for a given number.\n",
    "\n",
    "def gen_mul(num):\n",
    "    for i in range(1,num+2):\n",
    "        print(f'{num} x {i} = {num*i}')\n",
    "num = 4\n",
    "gen_mul(num)"
   ]
  },
  {
   "cell_type": "code",
   "execution_count": 20,
   "metadata": {},
   "outputs": [
    {
     "name": "stdout",
     "output_type": "stream",
     "text": [
      "[11, 13, 17, 19, 23, 29]\n"
     ]
    }
   ],
   "source": [
    "#19. Write a program to find all prime numbers within a given range.\n",
    "\n",
    "def prime_check(num):\n",
    "    if num < 2:\n",
    "        return False\n",
    "    for i in range(2, int(num // 2)+1):\n",
    "        if num%i == 0:\n",
    "            return False\n",
    "    return 'Prime'\n",
    "    \n",
    "def prime_range(start,end):\n",
    "    prime_number = []\n",
    "    for i in range(start,end+1):\n",
    "        if prime_check(i):\n",
    "            prime_number.append(i)\n",
    "    return prime_number\n",
    "start = 10\n",
    "end = 30\n",
    "print(prime_range(start,end))"
   ]
  },
  {
   "cell_type": "code",
   "execution_count": 25,
   "metadata": {},
   "outputs": [
    {
     "name": "stdout",
     "output_type": "stream",
     "text": [
      "28 is a perfect number.\n"
     ]
    }
   ],
   "source": [
    "#20. Write a program to determine if a number is a perfect number.\n",
    "\n",
    "def is_perfet_num(num):\n",
    "    if num < 2:\n",
    "        return False\n",
    "    divisor_sum = 0\n",
    "    for i in range(1,num//2+1):\n",
    "        if num%i == 0:\n",
    "            divisor_sum += i\n",
    "    return divisor_sum == num\n",
    "\n",
    "num = 28\n",
    "\n",
    "if is_perfet_num(num):\n",
    "    print(f\"{num} is a perfect number.\")\n",
    "else:\n",
    "    print(f\"{num} is not a perfect number.\")"
   ]
  },
  {
   "cell_type": "code",
   "execution_count": 2,
   "metadata": {},
   "outputs": [
    {
     "name": "stdout",
     "output_type": "stream",
     "text": [
      "30\n"
     ]
    }
   ],
   "source": [
    "#21 Write a program to find the sum of all even numbers within a given range.\n",
    "\n",
    "def sum_range(list):\n",
    "    start = list[0]\n",
    "    end  = list[1]\n",
    "    result = 0\n",
    "    for i in range(start,end+1):\n",
    "        if i%2 == 0:\n",
    "            result = i + result\n",
    "    return result\n",
    "list = [1,10]\n",
    "print(sum_range(list))"
   ]
  },
  {
   "cell_type": "code",
   "execution_count": 3,
   "metadata": {},
   "outputs": [
    {
     "name": "stdout",
     "output_type": "stream",
     "text": [
      "25\n"
     ]
    }
   ],
   "source": [
    "#22 Write a program to find the sum of all odd numbers within a given range.\n",
    "\n",
    "\n",
    "def sum_range_odd(list):\n",
    "    start = list[0]\n",
    "    end  = list[1]\n",
    "    result = 0\n",
    "    for i in range(start,end+1):\n",
    "        if i%2 != 0:\n",
    "            result = i + result\n",
    "    return result\n",
    "list = [1,10]\n",
    "print(sum_range_odd(list))"
   ]
  },
  {
   "cell_type": "code",
   "execution_count": 25,
   "metadata": {},
   "outputs": [
    {
     "name": "stdout",
     "output_type": "stream",
     "text": [
      "5\n"
     ]
    }
   ],
   "source": [
    "#23 Write a program to find the Fibonacci number at a specific position.\n",
    "def fibo_position(position):\n",
    "    \n",
    "    if position <= 0:\n",
    "        return 'Position must be a positive number'\n",
    "    elif position == 1:\n",
    "        return 0\n",
    "    elif position == 2:\n",
    "        return 1\n",
    "    \n",
    "    a,b = 0,1\n",
    "    for _ in range(2,position+1):\n",
    "        a,b = b,a+b\n",
    "    return b\n",
    "position = 5\n",
    "print(fibo_position(position))"
   ]
  },
  {
   "cell_type": "code",
   "execution_count": 16,
   "metadata": {},
   "outputs": [
    {
     "name": "stdout",
     "output_type": "stream",
     "text": [
      "[2, 3, 5, 7, 11, 13, 17, 19]\n"
     ]
    }
   ],
   "source": [
    "#24 Write a program to print all prime numbers less than a given number.\n",
    "\n",
    "def is_prime(num):\n",
    "    if num <= 1:\n",
    "        return False\n",
    "    if num == 2:\n",
    "        return True\n",
    "    if num%2 == 0:\n",
    "        return False\n",
    "    for i in range(3, (num//2)+1):\n",
    "        if num%i == 0:\n",
    "            return False\n",
    "    return True\n",
    "\n",
    "def prime_check(number):\n",
    "    prime_nums = []\n",
    "    for i in range(2,number):\n",
    "        if is_prime(i):\n",
    "            prime_nums.append(i)\n",
    "    return prime_nums\n",
    "\n",
    "number = 20\n",
    "print(prime_check(number))\n",
    "\n",
    "        "
   ]
  },
  {
   "cell_type": "code",
   "execution_count": 17,
   "metadata": {},
   "outputs": [
    {
     "name": "stdout",
     "output_type": "stream",
     "text": [
      "5\n"
     ]
    }
   ],
   "source": [
    "#25 Write a program to count the number of digits in a given number.\n",
    "\n",
    "def count_check(digits):\n",
    "    return len(str(digits))\n",
    "digits = 12345\n",
    "print(count_check(digits))"
   ]
  },
  {
   "cell_type": "code",
   "execution_count": 19,
   "metadata": {},
   "outputs": [
    {
     "name": "stdout",
     "output_type": "stream",
     "text": [
      "Narcissistic Number\n"
     ]
    }
   ],
   "source": [
    "#26 Write a program to check if a number is a narcissistic number (where the sum of its digits raised to the power of the number of digits equals the number itself).\n",
    "\n",
    "def is_narcicst(number):\n",
    "    num_digit = str(number)\n",
    "    digit = len(str(number))\n",
    "    \n",
    "    sum_of_power = sum(int(num) ** digit for num in num_digit)\n",
    "    return sum_of_power == number\n",
    "number = 153\n",
    "if is_narcicst(number):\n",
    "    print(\"Narcissistic Number\")\n",
    "else:\n",
    "    print(\"Not a Narcissistic Number\")\n",
    "    "
   ]
  },
  {
   "cell_type": "code",
   "execution_count": 23,
   "metadata": {},
   "outputs": [
    {
     "name": "stdout",
     "output_type": "stream",
     "text": [
      "1\n",
      "2 3\n",
      "4 5 6\n"
     ]
    }
   ],
   "source": [
    "#27 Write a program to generate number patterns (e.g., sequential numbers in a matrix).\n",
    "\n",
    "def generate_num_pattern(rows):\n",
    "    number = 1\n",
    "    for i in range(1,rows+1):\n",
    "        row = []\n",
    "        for j in range(i):\n",
    "            row.append(number)\n",
    "            number += 1\n",
    "        print(\" \".join(map(str,row)))\n",
    "    \n",
    "rows = 3\n",
    "generate_num_pattern(rows)"
   ]
  },
  {
   "cell_type": "code",
   "execution_count": 3,
   "metadata": {},
   "outputs": [
    {
     "name": "stdout",
     "output_type": "stream",
     "text": [
      "6\n"
     ]
    }
   ],
   "source": [
    "#28 Write a program to find the sum of the digits of the factorial of a given number.\n",
    "\n",
    "def fact(number):\n",
    "    fact = 1\n",
    "    for i in range(number,0,-1):\n",
    "        fact = i*fact\n",
    "    result = 0\n",
    "    for i in str(fact):\n",
    "        result = int(i) + result\n",
    "    return result\n",
    "number = 4\n",
    "print(fact(number))"
   ]
  },
  {
   "cell_type": "code",
   "execution_count": 14,
   "metadata": {},
   "outputs": [
    {
     "name": "stdout",
     "output_type": "stream",
     "text": [
      "3\n"
     ]
    }
   ],
   "source": [
    "#30 Write a program to find missing numbers in a sequence from 1 to n.\n",
    "def missing_n(sequence):\n",
    "    d = {}\n",
    "    for i in sequence:\n",
    "        d[i] = True\n",
    "    for i in range(1,len(sequence)+1):\n",
    "        if not d.get(i):\n",
    "            return i\n",
    "        \n",
    "sequence = [0,1, 2, 4, 5]\n",
    "print(missing_n(sequence))"
   ]
  },
  {
   "cell_type": "code",
   "execution_count": 4,
   "metadata": {},
   "outputs": [
    {
     "name": "stdout",
     "output_type": "stream",
     "text": [
      "1\n",
      "1 1\n",
      "1 2 2\n",
      "1 3 4 3\n"
     ]
    }
   ],
   "source": [
    "#31. Write a program to generate Pascal's Triangle up to a given number of rows.\n",
    "def generate_pascal_triangle(rows):\n",
    "    triangle = []\n",
    "    for i in range(rows):\n",
    "        row = [1]\n",
    "        if i > 0:\n",
    "            for j in range(1,i):\n",
    "                row.append(triangle[i-1][j-1] + triangle[i-1][j])\n",
    "            row.append(i)\n",
    "        triangle.append(row)\n",
    "    return triangle\n",
    "\n",
    "rows = 4\n",
    "pascal_triangle = generate_pascal_triangle(rows)\n",
    "for row in pascal_triangle:\n",
    "    print(' '.join(map(str,row)))"
   ]
  },
  {
   "cell_type": "code",
   "execution_count": 1,
   "metadata": {},
   "outputs": [
    {
     "name": "stdout",
     "output_type": "stream",
     "text": [
      "3\n"
     ]
    }
   ],
   "source": [
    "#32 Write a program to find the median of an array of numbers.\n",
    "from statistics import *\n",
    "def find_meading(list):\n",
    "    return median(list)\n",
    "array = [3, 1, 2, 4, 5]\n",
    "print(find_meading(array))"
   ]
  },
  {
   "cell_type": "code",
   "execution_count": 2,
   "metadata": {},
   "outputs": [
    {
     "name": "stdout",
     "output_type": "stream",
     "text": [
      "8\n"
     ]
    }
   ],
   "source": [
    "#33. Write a program to calculate the power of a number.\n",
    "\n",
    "def power(base,exponent):\n",
    "    return base ** exponent\n",
    "base = 2\n",
    "exponent = 3\n",
    "print(power(base,exponent))"
   ]
  },
  {
   "cell_type": "code",
   "execution_count": 5,
   "metadata": {},
   "outputs": [
    {
     "name": "stdout",
     "output_type": "stream",
     "text": [
      "3\n"
     ]
    }
   ],
   "source": [
    "#33. Write a program to calculate the power of a number.\n",
    "\n",
    "def find_med(arr):\n",
    "    arr.sort()\n",
    "    n = len(arr)\n",
    "    if n%2 !=  0:\n",
    "        median = arr[n//2]\n",
    "    else:\n",
    "        median = (arr[(n//2)-1] + arr[n//2]) / 2\n",
    "    return median\n",
    "\n",
    "numbers = [3, 1, 2, 4, 5]\n",
    "print(find_med(numbers))"
   ]
  },
  {
   "cell_type": "code",
   "execution_count": 3,
   "metadata": {},
   "outputs": [
    {
     "name": "stdout",
     "output_type": "stream",
     "text": [
      "anagram\n"
     ]
    }
   ],
   "source": [
    "#34. Write a program to check if two strings are anagrams.\n",
    "\n",
    "def anagram_check(str1,str2):\n",
    "    str1 = sorted(str1)\n",
    "    str2 = sorted(str2)\n",
    "    if len(str1) == len(str2) and str1 == str2:\n",
    "        return 'anagram'\n",
    "    return 'not anagram'\n",
    "str1 = \"listen\"\n",
    "str2 = \"silent\"\n",
    "print(anagram_check(str1,str2))"
   ]
  },
  {
   "cell_type": "code",
   "execution_count": 3,
   "metadata": {},
   "outputs": [
    {
     "name": "stdout",
     "output_type": "stream",
     "text": [
      "17\n"
     ]
    }
   ],
   "source": [
    "#35 Write a program to calculate the sum of all prime numbers within a given range.\n",
    "\n",
    "def is_prime(num):\n",
    "    if num < 2:\n",
    "        return False\n",
    "    for i in range(2,(num//2)+1):\n",
    "        if num%i == 0:\n",
    "            return False\n",
    "    return True\n",
    "\n",
    "def range_prime(start,end):\n",
    "    result = sum(int(digit) for digit in range(start,end) if is_prime(digit))\n",
    "    return result\n",
    "start = 1\n",
    "end = 10\n",
    "print(range_prime(start,end))"
   ]
  },
  {
   "cell_type": "code",
   "execution_count": 1,
   "metadata": {},
   "outputs": [
    {
     "name": "stdout",
     "output_type": "stream",
     "text": [
      "10\n"
     ]
    }
   ],
   "source": [
    "#36. Write a program to find the N-th triangular number.\n",
    "\n",
    "def nth_triangle_number(n):\n",
    "    \n",
    "    return (n*(n+1))//2\n",
    "\n",
    "n = 4\n",
    "print(nth_triangle_number(n))"
   ]
  },
  {
   "cell_type": "code",
   "execution_count": 4,
   "metadata": {},
   "outputs": [
    {
     "name": "stdout",
     "output_type": "stream",
     "text": [
      "True\n"
     ]
    }
   ],
   "source": [
    "#37. Write a program to determine if a number is a perfect square.\n",
    "import math\n",
    "def is_perfect_square(num):\n",
    "    \n",
    "    sqrt_num = math.isqrt(num)\n",
    "    return sqrt_num * sqrt_num == num\n",
    "num = 16\n",
    "print(is_perfect_square(num))"
   ]
  },
  {
   "cell_type": "code",
   "execution_count": 14,
   "metadata": {},
   "outputs": [
    {
     "name": "stdout",
     "output_type": "stream",
     "text": [
      "14\n"
     ]
    }
   ],
   "source": [
    "#38. Write a program to find the sum of the squares of the digits of a number.\n",
    "\n",
    "def find_sum_square(num):\n",
    "    \n",
    "    digit = str(num)\n",
    "    result = 0\n",
    "    for i in digit:\n",
    "        result += int(i)*int(i)\n",
    "    return result\n",
    "num = 123\n",
    "print(find_sum_square(num))"
   ]
  },
  {
   "cell_type": "code",
   "execution_count": 16,
   "metadata": {},
   "outputs": [
    {
     "name": "stdout",
     "output_type": "stream",
     "text": [
      "123\n",
      "456\n",
      "789\n"
     ]
    }
   ],
   "source": [
    "#39. Write a program to generate a square matrix of a given size and fill it with sequential numbers.\n",
    "\n",
    "def generate_matrix(size):\n",
    "    \n",
    "    matrix = [[0 for i in range(size)] for i in range(size)]\n",
    "    num = 1\n",
    "    \n",
    "    for i in range(size):\n",
    "        for j in range(size):\n",
    "            matrix[i][j] = num\n",
    "            num += 1\n",
    "    \n",
    "    for row in matrix:\n",
    "        print(''.join(str(x) for x in row))\n",
    "        \n",
    "size = 3\n",
    "generate_matrix(size)"
   ]
  },
  {
   "cell_type": "code",
   "execution_count": 21,
   "metadata": {},
   "outputs": [
    {
     "name": "stdout",
     "output_type": "stream",
     "text": [
      "2\n"
     ]
    }
   ],
   "source": [
    "#40. Write a program to keep summing the digits of a number until a single digit is obtained.\n",
    "\n",
    "def sum_of_digit(n):\n",
    "    while n >= 10:\n",
    "        n = sum(int(digit) for digit in str(n))\n",
    "    return n\n",
    "\n",
    "n = 9875\n",
    "print(sum_of_digit(n))"
   ]
  },
  {
   "cell_type": "code",
   "execution_count": 41,
   "metadata": {},
   "outputs": [
    {
     "name": "stdout",
     "output_type": "stream",
     "text": [
      "3\n"
     ]
    }
   ],
   "source": [
    "#41. Write a program to count the occurrences of a specific digit in a number.\n",
    "\n",
    "def specific_digit_count(number,digit):\n",
    "    d = {}\n",
    "    for i in str(number):\n",
    "        if int(i) in d:\n",
    "            d[int(i)] += 1\n",
    "        else:\n",
    "            d[int(i)] = 1\n",
    "    for k,v in d.items():\n",
    "        if k == digit:\n",
    "            return v\n",
    "number = 122333\n",
    "digit = 3\n",
    "print(specific_digit_count(number,digit))"
   ]
  },
  {
   "cell_type": "code",
   "execution_count": 43,
   "metadata": {},
   "outputs": [
    {
     "name": "stdout",
     "output_type": "stream",
     "text": [
      "3\n"
     ]
    }
   ],
   "source": [
    "def specific_digit_count(number, digit):\n",
    "    return str(number).count(str(digit))\n",
    "\n",
    "number = 122333\n",
    "digit = 3\n",
    "print(specific_digit_count(number, digit))"
   ]
  },
  {
   "cell_type": "code",
   "execution_count": 51,
   "metadata": {},
   "outputs": [
    {
     "name": "stdout",
     "output_type": "stream",
     "text": [
      "[0, 1, 1, 2, 3, 5]\n"
     ]
    }
   ],
   "source": [
    "#42. Write a recursive program to generate the Fibonacci sequence up to a given number.\n",
    "\n",
    "def fibonacci(n):\n",
    "    if n <= 1:\n",
    "        return n \n",
    "    return fibonacci(n-1) + fibonacci(n-2)\n",
    "\n",
    "def generate_fibonacci_series(limit):\n",
    "    result = []\n",
    "    i = 0\n",
    "    while True:\n",
    "        fib_num = fibonacci(i)\n",
    "        if fib_num > limit:\n",
    "            break\n",
    "        result.append(fib_num)\n",
    "        i += 1\n",
    "    return result\n",
    "limit = 5\n",
    "print(generate_fibonacci_series(limit))    "
   ]
  },
  {
   "cell_type": "code",
   "execution_count": 2,
   "metadata": {},
   "outputs": [
    {
     "name": "stdout",
     "output_type": "stream",
     "text": [
      "[1, 2, 3, 4, 6, 12]\n"
     ]
    }
   ],
   "source": [
    "#43. Write a program to find all divisors of a given number.\n",
    "\n",
    "def all_divisors(n):\n",
    "    divisiors = []\n",
    "    for i in range(1,n+1):\n",
    "        if n%i == 0:\n",
    "            divisiors.append(i)\n",
    "    return divisiors\n",
    "print(all_divisors(12))\n",
    "            "
   ]
  },
  {
   "cell_type": "code",
   "execution_count": 3,
   "metadata": {},
   "outputs": [
    {
     "name": "stdout",
     "output_type": "stream",
     "text": [
      "3.0\n"
     ]
    }
   ],
   "source": [
    "#44. Write a program to calculate the average of numbers in an array.\n",
    "\n",
    "def avg(list):\n",
    "    return sum(list)/len(list)\n",
    "list = [1, 2, 3, 4, 5]\n",
    "print(avg(list))"
   ]
  },
  {
   "cell_type": "code",
   "execution_count": 30,
   "metadata": {},
   "outputs": [
    {
     "name": "stdout",
     "output_type": "stream",
     "text": [
      "4\n"
     ]
    }
   ],
   "source": [
    "#45. Write a program to find the mode (most frequent number) in an array.\n",
    "\n",
    "def find_mode_k(list):\n",
    "    d = {}\n",
    "    for i in list:\n",
    "        if i in d:\n",
    "            d[i] += 1\n",
    "        else:\n",
    "            d[i] = 1\n",
    "    most_num = 0\n",
    "    mode = None\n",
    "    for k,v in d.items():\n",
    "        if v > most_num:\n",
    "            most_num = v\n",
    "            mode = k\n",
    "    return mode\n",
    "list = [1, 2, 2, 3, 4, 4, 4]\n",
    "print(find_mode_k(list))"
   ]
  },
  {
   "cell_type": "code",
   "execution_count": 31,
   "metadata": {},
   "outputs": [
    {
     "name": "stdout",
     "output_type": "stream",
     "text": [
      "5\n"
     ]
    }
   ],
   "source": [
    "#46. Write a program to determine the length of a string without using built-in functions.\n",
    "\n",
    "def string_count(string):\n",
    "    result = 0\n",
    "    for i in string:\n",
    "        result += 1\n",
    "    return result\n",
    "string = 'Hello'\n",
    "print(string_count(string))"
   ]
  },
  {
   "cell_type": "code",
   "execution_count": 33,
   "metadata": {},
   "outputs": [
    {
     "name": "stdout",
     "output_type": "stream",
     "text": [
      "1\n",
      "12\n",
      "123\n",
      "1234\n"
     ]
    }
   ],
   "source": [
    "#47. Write a program to generate a pyramid of numbers (e.g., 1, 12, 123, etc.).\n",
    "\n",
    "def generate_pyramid(rows):\n",
    "    \n",
    "    for i in range(1,rows+1):\n",
    "        row = ''.join(str(num) for num in range(1,i+1))\n",
    "        print(row)\n",
    "    \n",
    "rows = 4\n",
    "generate_pyramid(rows)"
   ]
  },
  {
   "cell_type": "code",
   "execution_count": null,
   "metadata": {},
   "outputs": [],
   "source": [
    "#48.  Write a program to find the sum of the prime factors of a given number.\n",
    "\n",
    "def sum_of_prime_factors(n):\n",
    "    \n",
    "    def is_prime(num):\n",
    "        if num <= 1:\n",
    "            return False\n",
    "        if num <= 3:\n",
    "            return True\n",
    "        if num % 2 == 0 or num % 3 == 0:\n",
    "            return False\n",
    "        "
   ]
  },
  {
   "cell_type": "code",
   "execution_count": 43,
   "metadata": {},
   "outputs": [
    {
     "name": "stdout",
     "output_type": "stream",
     "text": [
      "45\n"
     ]
    }
   ],
   "source": [
    "#49. Write a program to find the second largest number in an array.\n",
    "\n",
    "def second_num(list):\n",
    "    max_num = max(list)\n",
    "    d = {}\n",
    "    for i in list:\n",
    "        if max_num > i:\n",
    "            d[i] = i - max_num\n",
    "    return max(d)\n",
    "array = [10, 20, 4, 45, 99]\n",
    "print(second_num(array))"
   ]
  }
 ],
 "metadata": {
  "kernelspec": {
   "display_name": "Python 3",
   "language": "python",
   "name": "python3"
  },
  "language_info": {
   "codemirror_mode": {
    "name": "ipython",
    "version": 3
   },
   "file_extension": ".py",
   "mimetype": "text/x-python",
   "name": "python",
   "nbconvert_exporter": "python",
   "pygments_lexer": "ipython3",
   "version": "3.11.3"
  }
 },
 "nbformat": 4,
 "nbformat_minor": 2
}
