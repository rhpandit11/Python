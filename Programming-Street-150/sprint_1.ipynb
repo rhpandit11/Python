{
 "cells": [
  {
   "cell_type": "code",
   "execution_count": 2,
   "metadata": {},
   "outputs": [
    {
     "name": "stdout",
     "output_type": "stream",
     "text": [
      "Even\n"
     ]
    }
   ],
   "source": [
    "#1. Write a program to check whether a number is even or odd.\n",
    "def num_check(num):\n",
    "    if num%2 == 0:\n",
    "        return 'Even'\n",
    "    return 'Odd'\n",
    "number = int(input())\n",
    "print(num_check(number))"
   ]
  },
  {
   "cell_type": "code",
   "execution_count": 10,
   "metadata": {},
   "outputs": [
    {
     "name": "stdout",
     "output_type": "stream",
     "text": [
      "Prime\n"
     ]
    }
   ],
   "source": [
    "#2. Write a program to determine if a number is prime.\n",
    "def prime_check(num):\n",
    "    if num < 2:\n",
    "        return 'Not Prime'\n",
    "    for i in range(2, int(num // 2)+1):\n",
    "        if num%i == 0:\n",
    "            return 'Not Prime'\n",
    "    return 'Prime'\n",
    "number = 7\n",
    "print(prime_check(number))"
   ]
  },
  {
   "cell_type": "code",
   "execution_count": 12,
   "metadata": {},
   "outputs": [
    {
     "name": "stdout",
     "output_type": "stream",
     "text": [
      "Leap Year\n"
     ]
    }
   ],
   "source": [
    "#3. Write a program to check if a given year is a leap year.\n",
    "\n",
    "def is_leap_year(year):\n",
    "    if (year%4 == 0 and year%100 != 0) or (year%400 == 0):\n",
    "        return 'Leap Year'\n",
    "    else:\n",
    "        return 'Not a Leap Year'\n",
    "    \n",
    "year = 2020\n",
    "print(is_leap_year(year))"
   ]
  },
  {
   "cell_type": "code",
   "execution_count": 14,
   "metadata": {},
   "outputs": [
    {
     "name": "stdout",
     "output_type": "stream",
     "text": [
      "Armstrong Number\n"
     ]
    }
   ],
   "source": [
    "#4. Write a program to check if a number is an Armstrong number.\n",
    "\n",
    "def is_armstrong_number(num):\n",
    "    digits = str(num)\n",
    "    num_digits = len(digits)\n",
    "    armstrong_sum = sum(int(digit) ** num_digits for digit in digits)\n",
    "    \n",
    "    if armstrong_sum == num:\n",
    "        return 'Armstrong Number'\n",
    "    return 'Not an Armstrong Number'\n",
    "\n",
    "number = 153\n",
    "print(is_armstrong_number(number))"
   ]
  },
  {
   "cell_type": "code",
   "execution_count": 3,
   "metadata": {},
   "outputs": [
    {
     "name": "stdout",
     "output_type": "stream",
     "text": [
      "[0, 1, 1, 2, 3, 5, 8]\n"
     ]
    }
   ],
   "source": [
    "#5. Write a program to generate the Fibonacci series up to a given number.\n",
    "\n",
    "def fibonacci(n):\n",
    "    fibonacci_series = []\n",
    "    a,b = 0,1\n",
    "    while a <= n:\n",
    "        fibonacci_series.append(a)\n",
    "        a,b = b,a+b\n",
    "    return fibonacci_series\n",
    "n = 10\n",
    "print(fibonacci(n))"
   ]
  },
  {
   "cell_type": "code",
   "execution_count": 4,
   "metadata": {},
   "outputs": [
    {
     "name": "stdout",
     "output_type": "stream",
     "text": [
      "Palindrome\n"
     ]
    }
   ],
   "source": [
    "#6. Write a program to check if a string or number is a palindrome.\n",
    "\n",
    "def palindrome_check(s):\n",
    "    \n",
    "    if s == s[::-1]:\n",
    "        return 'Palindrome'\n",
    "    return 'Not'\n",
    "s = 'radar'\n",
    "print(palindrome_check(s))"
   ]
  },
  {
   "cell_type": "code",
   "execution_count": 5,
   "metadata": {},
   "outputs": [
    {
     "name": "stdout",
     "output_type": "stream",
     "text": [
      "    *\n",
      "   ***\n",
      "  *****\n",
      " *******\n",
      "*********\n"
     ]
    }
   ],
   "source": [
    "#7. Write a program to create different star patterns (e.g., pyramid, diamond).\n",
    "\n",
    "def print_pyramid(height):\n",
    "    \n",
    "    for i in range(height):\n",
    "        print(' '*(height-i-1) + '*'*(2*i+1))\n",
    "        \n",
    "pattern_type = \"pyramid\"\n",
    "height = 5\n",
    "if pattern_type.lower() == \"pyramid\":\n",
    "    print_pyramid(height)\n",
    "else:\n",
    "    print(\"Unsupported pattern type. Please choose 'pyramid'.\")\n",
    "        "
   ]
  },
  {
   "cell_type": "code",
   "execution_count": 6,
   "metadata": {},
   "outputs": [
    {
     "name": "stdout",
     "output_type": "stream",
     "text": [
      "120\n"
     ]
    }
   ],
   "source": [
    "#8. Write a program to compute the factorial of a given number.\n",
    "\n",
    "def fact(num):\n",
    "    if num <= 0:\n",
    "        return 1\n",
    "    return fact(num-1)*num\n",
    "num = 5\n",
    "print(fact(num))\n",
    "    "
   ]
  },
  {
   "cell_type": "code",
   "execution_count": 7,
   "metadata": {},
   "outputs": [
    {
     "name": "stdout",
     "output_type": "stream",
     "text": [
      "120\n"
     ]
    }
   ],
   "source": [
    "#8. Write a program to compute the factorial of a given number.(without using recursion)\n",
    "\n",
    "def factorial(num):\n",
    "    result = 1\n",
    "    for i in range(1,num+1):\n",
    "        result *= i\n",
    "    return result\n",
    "\n",
    "num = 5\n",
    "print(factorial(num))"
   ]
  },
  {
   "cell_type": "code",
   "execution_count": 21,
   "metadata": {},
   "outputs": [
    {
     "name": "stdout",
     "output_type": "stream",
     "text": [
      "10\n"
     ]
    }
   ],
   "source": [
    "#9. Write a program to calculate the sum of digits of a number.\n",
    "\n",
    "def calc_sum(num):\n",
    "    \n",
    "    result = 0\n",
    "    \n",
    "    for i in str(num):\n",
    "        result  += int(i)\n",
    "    return result\n",
    "\n",
    "print(calc_sum(1234))\n"
   ]
  },
  {
   "cell_type": "code",
   "execution_count": 1,
   "metadata": {},
   "outputs": [
    {
     "name": "stdout",
     "output_type": "stream",
     "text": [
      "6\n"
     ]
    }
   ],
   "source": [
    "#10. Write a program to find the GCD of two numbers.\n",
    "\n",
    "def find_gcd(a,b):\n",
    "    while b:\n",
    "        a,b = b,a%b\n",
    "    return a\n",
    "\n",
    "a = 48\n",
    "b = 18\n",
    "print(find_gcd(a,b))"
   ]
  }
 ],
 "metadata": {
  "kernelspec": {
   "display_name": "Python 3",
   "language": "python",
   "name": "python3"
  },
  "language_info": {
   "codemirror_mode": {
    "name": "ipython",
    "version": 3
   },
   "file_extension": ".py",
   "mimetype": "text/x-python",
   "name": "python",
   "nbconvert_exporter": "python",
   "pygments_lexer": "ipython3",
   "version": "3.11.3"
  }
 },
 "nbformat": 4,
 "nbformat_minor": 2
}
